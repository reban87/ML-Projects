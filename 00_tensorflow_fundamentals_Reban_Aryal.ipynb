{
  "nbformat": 4,
  "nbformat_minor": 0,
  "metadata": {
    "colab": {
      "name": "00_tensorflow_fundamentals.ipynb",
      "provenance": [],
      "collapsed_sections": [
        "EB7HGmirTsOD",
        "O28fwTa_V0cO",
        "Bp84ixkoWvsA",
        "5IQgg4z6a5NG",
        "0MvxBT1uskCb",
        "R9oU1OOJtluL",
        "7Xt9xqJHvTCL",
        "odChXgEz1duY",
        "UCHybE8S9nRt"
      ],
      "include_colab_link": true
    },
    "kernelspec": {
      "name": "python3",
      "display_name": "Python 3"
    },
    "language_info": {
      "name": "python"
    }
  },
  "cells": [
    {
      "cell_type": "markdown",
      "metadata": {
        "id": "view-in-github",
        "colab_type": "text"
      },
      "source": [
        "<a href=\"https://colab.research.google.com/github/reban87/ML-Projects/blob/main/00_tensorflow_fundamentals_Reban_Aryal.ipynb\" target=\"_parent\"><img src=\"https://colab.research.google.com/assets/colab-badge.svg\" alt=\"Open In Colab\"/></a>"
      ]
    },
    {
      "cell_type": "markdown",
      "metadata": {
        "id": "7fAdyijRMu0v"
      },
      "source": [
        "# In this notebook, we are going to cover some of the most fundamental concepts of tensors using Tensorflow."
      ]
    },
    {
      "cell_type": "code",
      "metadata": {
        "id": "jnFksG1CMn6-"
      },
      "source": [
        ""
      ],
      "execution_count": null,
      "outputs": []
    },
    {
      "cell_type": "markdown",
      "metadata": {
        "id": "PjDwKbxXM5se"
      },
      "source": [
        "we are going to cover:\n",
        "* Introduction to tensor\n",
        "*Getting information from tensors\n",
        "*Manipulating tensors\n",
        "*Tensor and Numpy\n",
        "* using @tf.function (a way to speed your regular python functions)\n",
        "*using GPUs with Tensorflow \n",
        "*Exercise to try for yourself\n"
      ]
    },
    {
      "cell_type": "markdown",
      "metadata": {
        "id": "EoAghXV-N2Xx"
      },
      "source": [
        "## Introduction to Tensor\n"
      ]
    },
    {
      "cell_type": "code",
      "metadata": {
        "colab": {
          "base_uri": "https://localhost:8080/"
        },
        "id": "2bgmEQMAN6AD",
        "outputId": "41c1cef5-6546-477b-f412-1e1481ae5e95"
      },
      "source": [
        "# Import Tensorflow\n",
        "import tensorflow as tf\n",
        "print(tf.__version__)"
      ],
      "execution_count": null,
      "outputs": [
        {
          "output_type": "stream",
          "text": [
            "2.4.1\n"
          ],
          "name": "stdout"
        }
      ]
    },
    {
      "cell_type": "markdown",
      "metadata": {
        "id": "ssUagou8ODhO"
      },
      "source": [
        "## Creating tensors with tf.constants ()"
      ]
    },
    {
      "cell_type": "code",
      "metadata": {
        "colab": {
          "base_uri": "https://localhost:8080/"
        },
        "id": "4Jc4q7tCOhxW",
        "outputId": "012a8153-32c9-4a3c-c2da-9d63b3861b3f"
      },
      "source": [
        "scalar =tf.constant(7)\n",
        "scalar"
      ],
      "execution_count": null,
      "outputs": [
        {
          "output_type": "execute_result",
          "data": {
            "text/plain": [
              "<tf.Tensor: shape=(), dtype=int32, numpy=7>"
            ]
          },
          "metadata": {
            "tags": []
          },
          "execution_count": 2
        }
      ]
    },
    {
      "cell_type": "code",
      "metadata": {
        "colab": {
          "base_uri": "https://localhost:8080/"
        },
        "id": "-SZJcaYQOu7V",
        "outputId": "f03341ff-615a-49ab-e71c-0f55ce5a8b60"
      },
      "source": [
        "# check the number of dimension of a tens (ndim stands for number of dimensions)\n",
        "scalar.ndim"
      ],
      "execution_count": null,
      "outputs": [
        {
          "output_type": "execute_result",
          "data": {
            "text/plain": [
              "0"
            ]
          },
          "metadata": {
            "tags": []
          },
          "execution_count": 3
        }
      ]
    },
    {
      "cell_type": "code",
      "metadata": {
        "colab": {
          "base_uri": "https://localhost:8080/"
        },
        "id": "aqP4Nqp0PKGN",
        "outputId": "d9903996-f1dc-412d-f6ba-d1ad44b47c4b"
      },
      "source": [
        "#create a vector \n",
        "vector=tf.constant([10,10])\n",
        "vector"
      ],
      "execution_count": null,
      "outputs": [
        {
          "output_type": "execute_result",
          "data": {
            "text/plain": [
              "<tf.Tensor: shape=(2,), dtype=int32, numpy=array([10, 10], dtype=int32)>"
            ]
          },
          "metadata": {
            "tags": []
          },
          "execution_count": 4
        }
      ]
    },
    {
      "cell_type": "code",
      "metadata": {
        "colab": {
          "base_uri": "https://localhost:8080/"
        },
        "id": "vG2ym0cxPTIe",
        "outputId": "f21a0dc1-9e95-49ae-e7b7-da5dd7771aa8"
      },
      "source": [
        "#check the diimension of vector\n",
        "vector.ndim"
      ],
      "execution_count": null,
      "outputs": [
        {
          "output_type": "execute_result",
          "data": {
            "text/plain": [
              "1"
            ]
          },
          "metadata": {
            "tags": []
          },
          "execution_count": 5
        }
      ]
    },
    {
      "cell_type": "code",
      "metadata": {
        "colab": {
          "base_uri": "https://localhost:8080/"
        },
        "id": "2ZPinIUPPcNN",
        "outputId": "0f9a956e-352a-4c58-a756-40b6148c0da2"
      },
      "source": [
        "# create a matrix (has more than one dimension)\n",
        "matrix=tf.constant([[10,7],\n",
        "                   [7,10]])\n",
        "matrix"
      ],
      "execution_count": null,
      "outputs": [
        {
          "output_type": "execute_result",
          "data": {
            "text/plain": [
              "<tf.Tensor: shape=(2, 2), dtype=int32, numpy=\n",
              "array([[10,  7],\n",
              "       [ 7, 10]], dtype=int32)>"
            ]
          },
          "metadata": {
            "tags": []
          },
          "execution_count": 6
        }
      ]
    },
    {
      "cell_type": "code",
      "metadata": {
        "colab": {
          "base_uri": "https://localhost:8080/"
        },
        "id": "bdhw1xXFPqp9",
        "outputId": "0b40e017-6119-462e-b57a-a73984580184"
      },
      "source": [
        "#check the dimension of matrix\n",
        "matrix.ndim"
      ],
      "execution_count": null,
      "outputs": [
        {
          "output_type": "execute_result",
          "data": {
            "text/plain": [
              "2"
            ]
          },
          "metadata": {
            "tags": []
          },
          "execution_count": 7
        }
      ]
    },
    {
      "cell_type": "code",
      "metadata": {
        "colab": {
          "base_uri": "https://localhost:8080/"
        },
        "id": "hTfqHIaQPy1f",
        "outputId": "d0d8d0bf-04be-47f4-9e61-15fbecaf2584"
      },
      "source": [
        "#create another matrix\n",
        "another_matrix =tf.constant([[10.,7.],\n",
        "                             [3.,2.],\n",
        "                            [8.,9.]],dtype=tf.float16)# speicify the data type with dtype parameter\n",
        "another_matrix"
      ],
      "execution_count": null,
      "outputs": [
        {
          "output_type": "execute_result",
          "data": {
            "text/plain": [
              "<tf.Tensor: shape=(3, 2), dtype=float16, numpy=\n",
              "array([[10.,  7.],\n",
              "       [ 3.,  2.],\n",
              "       [ 8.,  9.]], dtype=float16)>"
            ]
          },
          "metadata": {
            "tags": []
          },
          "execution_count": 8
        }
      ]
    },
    {
      "cell_type": "code",
      "metadata": {
        "colab": {
          "base_uri": "https://localhost:8080/"
        },
        "id": "DcN6ztcqQTdl",
        "outputId": "f2e6319e-8828-41c8-ed9e-8b1083527586"
      },
      "source": [
        "#the number of dimension of another matrix\n",
        "another_matrix.ndim"
      ],
      "execution_count": null,
      "outputs": [
        {
          "output_type": "execute_result",
          "data": {
            "text/plain": [
              "2"
            ]
          },
          "metadata": {
            "tags": []
          },
          "execution_count": 9
        }
      ]
    },
    {
      "cell_type": "code",
      "metadata": {
        "colab": {
          "base_uri": "https://localhost:8080/"
        },
        "id": "sL2UvG6sRNqK",
        "outputId": "30ac197e-6eac-42c2-f8ea-b6fddca1b6ce"
      },
      "source": [
        "#lets create a tensor\n",
        "tensor=tf.constant([[[1,2,3],\n",
        "                     [4,5,6],\n",
        "                     [7,8,9],\n",
        "                     [10,11,12],\n",
        "                     [13,14,15]]])\n",
        "tensor"
      ],
      "execution_count": null,
      "outputs": [
        {
          "output_type": "execute_result",
          "data": {
            "text/plain": [
              "<tf.Tensor: shape=(1, 5, 3), dtype=int32, numpy=\n",
              "array([[[ 1,  2,  3],\n",
              "        [ 4,  5,  6],\n",
              "        [ 7,  8,  9],\n",
              "        [10, 11, 12],\n",
              "        [13, 14, 15]]], dtype=int32)>"
            ]
          },
          "metadata": {
            "tags": []
          },
          "execution_count": 10
        }
      ]
    },
    {
      "cell_type": "code",
      "metadata": {
        "colab": {
          "base_uri": "https://localhost:8080/"
        },
        "id": "SiJDoKKSRsTI",
        "outputId": "445acc68-37d1-45c0-948c-21b882a4b1cf"
      },
      "source": [
        "#the number of dimension of tensor\n",
        "tensor.ndim"
      ],
      "execution_count": null,
      "outputs": [
        {
          "output_type": "execute_result",
          "data": {
            "text/plain": [
              "3"
            ]
          },
          "metadata": {
            "tags": []
          },
          "execution_count": 11
        }
      ]
    },
    {
      "cell_type": "markdown",
      "metadata": {
        "id": "aUDLwUkcRzav"
      },
      "source": [
        "# what we have created so far\n",
        "\n",
        "* Scalar: a single number\n",
        "* Vector: a number with direction (e.g wind speed and direction)\n",
        "*Matrix: 2-dimensional array of numbers\n",
        "*Tensor: an n- dimensional array of numbers (where n can be any number, a 0- dimensional tensor is scalar, a 1-dimensional tensor is vector)"
      ]
    },
    {
      "cell_type": "markdown",
      "metadata": {
        "id": "EB7HGmirTsOD"
      },
      "source": [
        "### Creating Tensors with tf.variables"
      ]
    },
    {
      "cell_type": "code",
      "metadata": {
        "colab": {
          "base_uri": "https://localhost:8080/"
        },
        "id": "yboamd-3UYLE",
        "outputId": "cb01c485-6185-49b7-b85e-d2a2ed9c7a0a"
      },
      "source": [
        "#create the same tensor with tf.variable() as above\n",
        "changeable_tensor=tf.Variable([10,7])\n",
        "unchangeable_tensor=tf.constant([10,7])\n",
        "changeable_tensor,unchangeable_tensor"
      ],
      "execution_count": null,
      "outputs": [
        {
          "output_type": "execute_result",
          "data": {
            "text/plain": [
              "(<tf.Variable 'Variable:0' shape=(2,) dtype=int32, numpy=array([10,  7], dtype=int32)>,\n",
              " <tf.Tensor: shape=(2,), dtype=int32, numpy=array([10,  7], dtype=int32)>)"
            ]
          },
          "metadata": {
            "tags": []
          },
          "execution_count": 12
        }
      ]
    },
    {
      "cell_type": "code",
      "metadata": {
        "colab": {
          "base_uri": "https://localhost:8080/"
        },
        "id": "7BReTVNVVELY",
        "outputId": "1c5c5963-9c77-49a4-ecc4-e9152360d6c5"
      },
      "source": [
        "#how about we try .assign()\n",
        "changeable_tensor[0].assign(7)\n",
        "changeable_tensor"
      ],
      "execution_count": null,
      "outputs": [
        {
          "output_type": "execute_result",
          "data": {
            "text/plain": [
              "<tf.Variable 'Variable:0' shape=(2,) dtype=int32, numpy=array([7, 7], dtype=int32)>"
            ]
          },
          "metadata": {
            "tags": []
          },
          "execution_count": 13
        }
      ]
    },
    {
      "cell_type": "code",
      "metadata": {
        "colab": {
          "base_uri": "https://localhost:8080/",
          "height": 220
        },
        "id": "WZrVKg1CVmIG",
        "outputId": "e7e2054f-aaad-4579-c2d2-ca10f50e76ae"
      },
      "source": [
        "#lets try to change unchangeable tensor\n",
        "#unchangeable_tensor[0]=7 # doesnt take assignment operation hence we got error...\n",
        "unchangeable_tensor[0].assign(7)\n",
        "unchangeable_tensor"
      ],
      "execution_count": null,
      "outputs": [
        {
          "output_type": "error",
          "ename": "AttributeError",
          "evalue": "ignored",
          "traceback": [
            "\u001b[0;31m---------------------------------------------------------------------------\u001b[0m",
            "\u001b[0;31mAttributeError\u001b[0m                            Traceback (most recent call last)",
            "\u001b[0;32m<ipython-input-14-f181da53446f>\u001b[0m in \u001b[0;36m<module>\u001b[0;34m()\u001b[0m\n\u001b[1;32m      1\u001b[0m \u001b[0;31m#lets try to change unchangeable tensor\u001b[0m\u001b[0;34m\u001b[0m\u001b[0;34m\u001b[0m\u001b[0;34m\u001b[0m\u001b[0m\n\u001b[1;32m      2\u001b[0m \u001b[0;31m#unchangeable_tensor[0]=7 # doesnt take assignment operation hence we got error...\u001b[0m\u001b[0;34m\u001b[0m\u001b[0;34m\u001b[0m\u001b[0;34m\u001b[0m\u001b[0m\n\u001b[0;32m----> 3\u001b[0;31m \u001b[0munchangeable_tensor\u001b[0m\u001b[0;34m[\u001b[0m\u001b[0;36m0\u001b[0m\u001b[0;34m]\u001b[0m\u001b[0;34m.\u001b[0m\u001b[0massign\u001b[0m\u001b[0;34m(\u001b[0m\u001b[0;36m7\u001b[0m\u001b[0;34m)\u001b[0m\u001b[0;34m\u001b[0m\u001b[0;34m\u001b[0m\u001b[0m\n\u001b[0m\u001b[1;32m      4\u001b[0m \u001b[0munchangeable_tensor\u001b[0m\u001b[0;34m\u001b[0m\u001b[0;34m\u001b[0m\u001b[0m\n",
            "\u001b[0;31mAttributeError\u001b[0m: 'tensorflow.python.framework.ops.EagerTensor' object has no attribute 'assign'"
          ]
        }
      ]
    },
    {
      "cell_type": "markdown",
      "metadata": {
        "id": "O28fwTa_V0cO"
      },
      "source": [
        "#### what we got from the above error is that, we can not update the constant tensors. Only Variable tensor can be updated."
      ]
    },
    {
      "cell_type": "markdown",
      "metadata": {
        "id": "Bp84ixkoWvsA"
      },
      "source": [
        "### creating random tensors \n",
        "Random tensors are tensors of some arbitary size which contain random numbers"
      ]
    },
    {
      "cell_type": "code",
      "metadata": {
        "id": "Pweu_YPXW5i5"
      },
      "source": [
        "# create two random ( but the same) tensor\n",
        "random_1 = tf.random.Generator.from_seed(42) #sets seed for reproducibility\n",
        "random_1=random_1.normal(shape=(3,2))\n",
        "random_1"
      ],
      "execution_count": null,
      "outputs": []
    },
    {
      "cell_type": "code",
      "metadata": {
        "id": "PbQ_vH8UYbSo"
      },
      "source": [
        "random_2=tf.random.Generator.from_seed(42)\n",
        "random_2=random_2.normal(shape=(3,2))\n",
        "random_2"
      ],
      "execution_count": null,
      "outputs": []
    },
    {
      "cell_type": "code",
      "metadata": {
        "id": "4FhRXpnvaq1j"
      },
      "source": [
        "#are random_1 and random_2 equal?\n",
        "\n",
        "random_1, random_2, random_1==random_2"
      ],
      "execution_count": null,
      "outputs": []
    },
    {
      "cell_type": "markdown",
      "metadata": {
        "id": "5IQgg4z6a5NG"
      },
      "source": [
        "### Shuffle the order of elements in a Tensor"
      ]
    },
    {
      "cell_type": "code",
      "metadata": {
        "id": "0ft9G3Cgod-9"
      },
      "source": [
        "# Shuffle a Tensor (Valuable when you want to shuffle your data so that the inherent order doesnt affect learning) Eg.while traning 10000 pizza\n",
        " image and 500 pasta image, if we shuffle then it would be good while training.\n",
        "not_shuffled=tf.constant([[10,7],\n",
        "                          [3,4],\n",
        "                          [2,5]])\n",
        "not_shuffled.ndim"
      ],
      "execution_count": null,
      "outputs": []
    },
    {
      "cell_type": "code",
      "metadata": {
        "id": "gpp3jbIYpKbV",
        "colab": {
          "base_uri": "https://localhost:8080/",
          "height": 183
        },
        "outputId": "e1cf7e24-9f02-4e64-8aca-a9a14afbefda"
      },
      "source": [
        "#shuffle our non shuffle tensor\n",
        "tf.random.shuffle(not_shuffled)"
      ],
      "execution_count": null,
      "outputs": [
        {
          "output_type": "error",
          "ename": "NameError",
          "evalue": "ignored",
          "traceback": [
            "\u001b[0;31m---------------------------------------------------------------------------\u001b[0m",
            "\u001b[0;31mNameError\u001b[0m                                 Traceback (most recent call last)",
            "\u001b[0;32m<ipython-input-1-42b63a7a716a>\u001b[0m in \u001b[0;36m<module>\u001b[0;34m()\u001b[0m\n\u001b[1;32m      1\u001b[0m \u001b[0;31m#shuffle our non shuffle tensor\u001b[0m\u001b[0;34m\u001b[0m\u001b[0;34m\u001b[0m\u001b[0;34m\u001b[0m\u001b[0m\n\u001b[0;32m----> 2\u001b[0;31m \u001b[0mtf\u001b[0m\u001b[0;34m.\u001b[0m\u001b[0mrandom\u001b[0m\u001b[0;34m.\u001b[0m\u001b[0mshuffle\u001b[0m\u001b[0;34m(\u001b[0m\u001b[0mnot_shuffled\u001b[0m\u001b[0;34m)\u001b[0m\u001b[0;34m\u001b[0m\u001b[0;34m\u001b[0m\u001b[0m\n\u001b[0m",
            "\u001b[0;31mNameError\u001b[0m: name 'tf' is not defined"
          ]
        }
      ]
    },
    {
      "cell_type": "code",
      "metadata": {
        "id": "Tot4of0fpvhQ"
      },
      "source": [
        "tf.random.shuffle(not_shuffled)"
      ],
      "execution_count": null,
      "outputs": []
    },
    {
      "cell_type": "code",
      "metadata": {
        "id": "VxgA3jBBqEmL"
      },
      "source": [
        "\n",
        "\n",
        "\n",
        "\n",
        "\n",
        "\n",
        "\n",
        "\n",
        "\n",
        "\n",
        "\n",
        "# create some more shuffled tensors\n",
        "shuffle=tf.constant([[1,2,3],\n",
        "                     [3,4,5],\n",
        "                     [5,6,7],\n",
        "                     [7,8,9]])\n",
        "shuffle"
      ],
      "execution_count": null,
      "outputs": []
    },
    {
      "cell_type": "code",
      "metadata": {
        "id": "eKUSOXYYrI1y",
        "colab": {
          "base_uri": "https://localhost:8080/",
          "height": 167
        },
        "outputId": "8626d4c1-d859-4788-fd16-e221b517bcb4"
      },
      "source": [
        "shuffle.ndim"
      ],
      "execution_count": null,
      "outputs": [
        {
          "output_type": "error",
          "ename": "NameError",
          "evalue": "ignored",
          "traceback": [
            "\u001b[0;31m---------------------------------------------------------------------------\u001b[0m",
            "\u001b[0;31mNameError\u001b[0m                                 Traceback (most recent call last)",
            "\u001b[0;32m<ipython-input-15-112019a7c4b0>\u001b[0m in \u001b[0;36m<module>\u001b[0;34m()\u001b[0m\n\u001b[0;32m----> 1\u001b[0;31m \u001b[0mshuffle\u001b[0m\u001b[0;34m.\u001b[0m\u001b[0mndim\u001b[0m\u001b[0;34m\u001b[0m\u001b[0;34m\u001b[0m\u001b[0m\n\u001b[0m",
            "\u001b[0;31mNameError\u001b[0m: name 'shuffle' is not defined"
          ]
        }
      ]
    },
    {
      "cell_type": "code",
      "metadata": {
        "id": "_1qD4nu_rLHb",
        "colab": {
          "base_uri": "https://localhost:8080/",
          "height": 167
        },
        "outputId": "16cda397-9af4-4bd0-be0b-4787aa885139"
      },
      "source": [
        "tf.random.shuffle(shuffle)"
      ],
      "execution_count": null,
      "outputs": [
        {
          "output_type": "error",
          "ename": "NameError",
          "evalue": "ignored",
          "traceback": [
            "\u001b[0;31m---------------------------------------------------------------------------\u001b[0m",
            "\u001b[0;31mNameError\u001b[0m                                 Traceback (most recent call last)",
            "\u001b[0;32m<ipython-input-16-9df4f76fc4f7>\u001b[0m in \u001b[0;36m<module>\u001b[0;34m()\u001b[0m\n\u001b[0;32m----> 1\u001b[0;31m \u001b[0mtf\u001b[0m\u001b[0;34m.\u001b[0m\u001b[0mrandom\u001b[0m\u001b[0;34m.\u001b[0m\u001b[0mshuffle\u001b[0m\u001b[0;34m(\u001b[0m\u001b[0mshuffle\u001b[0m\u001b[0;34m)\u001b[0m\u001b[0;34m\u001b[0m\u001b[0;34m\u001b[0m\u001b[0m\n\u001b[0m",
            "\u001b[0;31mNameError\u001b[0m: name 'shuffle' is not defined"
          ]
        }
      ]
    },
    {
      "cell_type": "code",
      "metadata": {
        "id": "Md1Q2c7ArThK"
      },
      "source": [
        "#what if i set the value of seed\n",
        "tf.random.set_seed(42) # global level random seed\n",
        "tf.random.shuffle(shuffle,seed=42) #operation level random seed"
      ],
      "execution_count": null,
      "outputs": []
    },
    {
      "cell_type": "code",
      "metadata": {
        "id": "bRP_eMIfrn5s"
      },
      "source": [
        "# Note: what we just realize is, if we want our shuffled tensors to be in the same order, we have got to use the global level random seed \n",
        "as well as the operation level random seed:"
      ],
      "execution_count": null,
      "outputs": []
    },
    {
      "cell_type": "markdown",
      "metadata": {
        "id": "0MvxBT1uskCb"
      },
      "source": [
        "### Otherways to make Tensor"
      ]
    },
    {
      "cell_type": "code",
      "metadata": {
        "id": "gjebEvsLtSLn",
        "colab": {
          "base_uri": "https://localhost:8080/"
        },
        "outputId": "9405469c-11c3-448e-cd8d-f98057d175f5"
      },
      "source": [
        "tf.ones([10,7])"
      ],
      "execution_count": null,
      "outputs": [
        {
          "output_type": "execute_result",
          "data": {
            "text/plain": [
              "<tf.Tensor: shape=(10, 7), dtype=float32, numpy=\n",
              "array([[1., 1., 1., 1., 1., 1., 1.],\n",
              "       [1., 1., 1., 1., 1., 1., 1.],\n",
              "       [1., 1., 1., 1., 1., 1., 1.],\n",
              "       [1., 1., 1., 1., 1., 1., 1.],\n",
              "       [1., 1., 1., 1., 1., 1., 1.],\n",
              "       [1., 1., 1., 1., 1., 1., 1.],\n",
              "       [1., 1., 1., 1., 1., 1., 1.],\n",
              "       [1., 1., 1., 1., 1., 1., 1.],\n",
              "       [1., 1., 1., 1., 1., 1., 1.],\n",
              "       [1., 1., 1., 1., 1., 1., 1.]], dtype=float32)>"
            ]
          },
          "metadata": {
            "tags": []
          },
          "execution_count": 17
        }
      ]
    },
    {
      "cell_type": "code",
      "metadata": {
        "id": "BdpC6_HUtciW",
        "colab": {
          "base_uri": "https://localhost:8080/"
        },
        "outputId": "1bca3287-d3dc-4e0e-b60f-56e504160919"
      },
      "source": [
        "# create a tensor of all zeroes\n",
        "tf.zeros(shape=(3,4))"
      ],
      "execution_count": null,
      "outputs": [
        {
          "output_type": "execute_result",
          "data": {
            "text/plain": [
              "<tf.Tensor: shape=(3, 4), dtype=float32, numpy=\n",
              "array([[0., 0., 0., 0.],\n",
              "       [0., 0., 0., 0.],\n",
              "       [0., 0., 0., 0.]], dtype=float32)>"
            ]
          },
          "metadata": {
            "tags": []
          },
          "execution_count": 18
        }
      ]
    },
    {
      "cell_type": "markdown",
      "metadata": {
        "id": "R9oU1OOJtluL"
      },
      "source": [
        "### Turn Numpy arrays into Tensor\n",
        "The main differnce between Numpy arrays and Tensorflow tesnsors is that tensors can be run on a GPU (much faster for numerical computing)"
      ]
    },
    {
      "cell_type": "code",
      "metadata": {
        "id": "DYMLA5EIuFKF",
        "colab": {
          "base_uri": "https://localhost:8080/"
        },
        "outputId": "5829a46c-0f63-40d7-9665-c573bd8d2fc7"
      },
      "source": [
        "# You can also turn Numpy arrays into Tensors\n",
        "import numpy as np\n",
        "numpy_A = np.arange(1,25,dtype=np.int32)\n",
        "numpy_A\n",
        "#X=tf.constant(some_matrix) #capital  for matrix of tensor\n",
        "#y= tf.constant(vector) #non capital for vector\n"
      ],
      "execution_count": null,
      "outputs": [
        {
          "output_type": "execute_result",
          "data": {
            "text/plain": [
              "array([ 1,  2,  3,  4,  5,  6,  7,  8,  9, 10, 11, 12, 13, 14, 15, 16, 17,\n",
              "       18, 19, 20, 21, 22, 23, 24], dtype=int32)"
            ]
          },
          "metadata": {
            "tags": []
          },
          "execution_count": 19
        }
      ]
    },
    {
      "cell_type": "code",
      "metadata": {
        "id": "q5p-fcInvMRn",
        "colab": {
          "base_uri": "https://localhost:8080/"
        },
        "outputId": "f8ec864f-726a-4270-d6bd-d31bb3c1c8d4"
      },
      "source": [
        "A=tf.constant(numpy_A,shape=(2,3,4))\n",
        "B=tf.constant(numpy_A)\n",
        "A,B"
      ],
      "execution_count": null,
      "outputs": [
        {
          "output_type": "execute_result",
          "data": {
            "text/plain": [
              "(<tf.Tensor: shape=(2, 3, 4), dtype=int32, numpy=\n",
              " array([[[ 1,  2,  3,  4],\n",
              "         [ 5,  6,  7,  8],\n",
              "         [ 9, 10, 11, 12]],\n",
              " \n",
              "        [[13, 14, 15, 16],\n",
              "         [17, 18, 19, 20],\n",
              "         [21, 22, 23, 24]]], dtype=int32)>,\n",
              " <tf.Tensor: shape=(24,), dtype=int32, numpy=\n",
              " array([ 1,  2,  3,  4,  5,  6,  7,  8,  9, 10, 11, 12, 13, 14, 15, 16, 17,\n",
              "        18, 19, 20, 21, 22, 23, 24], dtype=int32)>)"
            ]
          },
          "metadata": {
            "tags": []
          },
          "execution_count": 20
        }
      ]
    },
    {
      "cell_type": "markdown",
      "metadata": {
        "id": "7Xt9xqJHvTCL"
      },
      "source": [
        "### Getting information from tensors (tensor attributes)\n",
        "When dealing with the tensor, you probably want to be aware of the following attributes\n",
        "* Shape\n",
        "* size\n",
        "* Axis or dimension\n",
        "* Rank"
      ]
    },
    {
      "cell_type": "code",
      "metadata": {
        "id": "tdpNZOahymlI",
        "colab": {
          "base_uri": "https://localhost:8080/"
        },
        "outputId": "5d5c1cfa-3c16-47be-8139-31664cd1ebea"
      },
      "source": [
        "#create a rank 4 tensor( 4 dimension)\n",
        "rank_4_tensor=tf.zeros(shape=(2,3,4,5))\n",
        "rank_4_tensor"
      ],
      "execution_count": null,
      "outputs": [
        {
          "output_type": "execute_result",
          "data": {
            "text/plain": [
              "<tf.Tensor: shape=(2, 3, 4, 5), dtype=float32, numpy=\n",
              "array([[[[0., 0., 0., 0., 0.],\n",
              "         [0., 0., 0., 0., 0.],\n",
              "         [0., 0., 0., 0., 0.],\n",
              "         [0., 0., 0., 0., 0.]],\n",
              "\n",
              "        [[0., 0., 0., 0., 0.],\n",
              "         [0., 0., 0., 0., 0.],\n",
              "         [0., 0., 0., 0., 0.],\n",
              "         [0., 0., 0., 0., 0.]],\n",
              "\n",
              "        [[0., 0., 0., 0., 0.],\n",
              "         [0., 0., 0., 0., 0.],\n",
              "         [0., 0., 0., 0., 0.],\n",
              "         [0., 0., 0., 0., 0.]]],\n",
              "\n",
              "\n",
              "       [[[0., 0., 0., 0., 0.],\n",
              "         [0., 0., 0., 0., 0.],\n",
              "         [0., 0., 0., 0., 0.],\n",
              "         [0., 0., 0., 0., 0.]],\n",
              "\n",
              "        [[0., 0., 0., 0., 0.],\n",
              "         [0., 0., 0., 0., 0.],\n",
              "         [0., 0., 0., 0., 0.],\n",
              "         [0., 0., 0., 0., 0.]],\n",
              "\n",
              "        [[0., 0., 0., 0., 0.],\n",
              "         [0., 0., 0., 0., 0.],\n",
              "         [0., 0., 0., 0., 0.],\n",
              "         [0., 0., 0., 0., 0.]]]], dtype=float32)>"
            ]
          },
          "metadata": {
            "tags": []
          },
          "execution_count": 21
        }
      ]
    },
    {
      "cell_type": "code",
      "metadata": {
        "id": "EZRhsMYIz6RU",
        "colab": {
          "base_uri": "https://localhost:8080/"
        },
        "outputId": "171319c1-2605-4f71-fd4a-5192972762db"
      },
      "source": [
        "rank_4_tensor[0]"
      ],
      "execution_count": null,
      "outputs": [
        {
          "output_type": "execute_result",
          "data": {
            "text/plain": [
              "<tf.Tensor: shape=(3, 4, 5), dtype=float32, numpy=\n",
              "array([[[0., 0., 0., 0., 0.],\n",
              "        [0., 0., 0., 0., 0.],\n",
              "        [0., 0., 0., 0., 0.],\n",
              "        [0., 0., 0., 0., 0.]],\n",
              "\n",
              "       [[0., 0., 0., 0., 0.],\n",
              "        [0., 0., 0., 0., 0.],\n",
              "        [0., 0., 0., 0., 0.],\n",
              "        [0., 0., 0., 0., 0.]],\n",
              "\n",
              "       [[0., 0., 0., 0., 0.],\n",
              "        [0., 0., 0., 0., 0.],\n",
              "        [0., 0., 0., 0., 0.],\n",
              "        [0., 0., 0., 0., 0.]]], dtype=float32)>"
            ]
          },
          "metadata": {
            "tags": []
          },
          "execution_count": 22
        }
      ]
    },
    {
      "cell_type": "code",
      "metadata": {
        "id": "s3WP1MXE0gxm",
        "colab": {
          "base_uri": "https://localhost:8080/"
        },
        "outputId": "39a6cf4e-8c71-4f75-90bf-a2db6d93dbdd"
      },
      "source": [
        "rank_4_tensor.shape, rank_4_tensor.ndim, tf.size(rank_4_tensor)"
      ],
      "execution_count": null,
      "outputs": [
        {
          "output_type": "execute_result",
          "data": {
            "text/plain": [
              "(TensorShape([2, 3, 4, 5]), 4, <tf.Tensor: shape=(), dtype=int32, numpy=120>)"
            ]
          },
          "metadata": {
            "tags": []
          },
          "execution_count": 23
        }
      ]
    },
    {
      "cell_type": "code",
      "metadata": {
        "id": "VCjEN1aS0yml",
        "colab": {
          "base_uri": "https://localhost:8080/"
        },
        "outputId": "e3e02b32-5f82-48f8-99f9-13a4d5c1f077"
      },
      "source": [
        "2*3*4*5"
      ],
      "execution_count": null,
      "outputs": [
        {
          "output_type": "execute_result",
          "data": {
            "text/plain": [
              "120"
            ]
          },
          "metadata": {
            "tags": []
          },
          "execution_count": 24
        }
      ]
    },
    {
      "cell_type": "code",
      "metadata": {
        "id": "qA1brhW207B8",
        "colab": {
          "base_uri": "https://localhost:8080/"
        },
        "outputId": "bf0eb866-954a-4474-8de5-6f977452e4e8"
      },
      "source": [
        "# get various attributes of our tensors\n",
        "print(\"Datatype of every element:\",rank_4_tensor.dtype)\n",
        "print(\"Number of dimension(rank)\",rank_4_tensor.ndim)\n",
        "print(\"Shape of tensor:\",rank_4_tensor.shape)\n",
        "print(\"Element along the zero axis:\",rank_4_tensor.shape[0])\n",
        "print(\"Element along the last axis\",rank_4_tensor.shape[-1])\n",
        "print(\"total number of elements in our tensor\",tf.size(rank_4_tensor))\n",
        "print(\"total number of elements in our tensor\",tf.size(rank_4_tensor).numpy())"
      ],
      "execution_count": null,
      "outputs": [
        {
          "output_type": "stream",
          "text": [
            "Datatype of every element: <dtype: 'float32'>\n",
            "Number of dimension(rank) 4\n",
            "Shape of tensor: (2, 3, 4, 5)\n",
            "Element along the zero axis: 2\n",
            "Element along the last axis 5\n",
            "total number of elements in our tensor tf.Tensor(120, shape=(), dtype=int32)\n",
            "total number of elements in our tensor 120\n"
          ],
          "name": "stdout"
        }
      ]
    },
    {
      "cell_type": "markdown",
      "metadata": {
        "id": "odChXgEz1duY"
      },
      "source": [
        " ### Indexing Tensors\n",
        " Tensors can be indexed just like Python lists."
      ]
    },
    {
      "cell_type": "code",
      "metadata": {
        "id": "H6tlZQWU402t",
        "colab": {
          "base_uri": "https://localhost:8080/"
        },
        "outputId": "3db41e12-ef47-4bff-fa3f-a55777bf0a97"
      },
      "source": [
        "#Get the first two elements of each dimension\n",
        "rank_4_tensor[:2,:2,:2,:2]"
      ],
      "execution_count": null,
      "outputs": [
        {
          "output_type": "execute_result",
          "data": {
            "text/plain": [
              "<tf.Tensor: shape=(2, 2, 2, 2), dtype=float32, numpy=\n",
              "array([[[[0., 0.],\n",
              "         [0., 0.]],\n",
              "\n",
              "        [[0., 0.],\n",
              "         [0., 0.]]],\n",
              "\n",
              "\n",
              "       [[[0., 0.],\n",
              "         [0., 0.]],\n",
              "\n",
              "        [[0., 0.],\n",
              "         [0., 0.]]]], dtype=float32)>"
            ]
          },
          "metadata": {
            "tags": []
          },
          "execution_count": 26
        }
      ]
    },
    {
      "cell_type": "code",
      "metadata": {
        "id": "KEwpvq3u5DrV",
        "colab": {
          "base_uri": "https://localhost:8080/"
        },
        "outputId": "f8998009-9883-4ada-e95a-4659616ec254"
      },
      "source": [
        "# get the first element from each dimension from each index except for the final one\n",
        "rank_4_tensor[:1,:1,:1,:1]"
      ],
      "execution_count": null,
      "outputs": [
        {
          "output_type": "execute_result",
          "data": {
            "text/plain": [
              "<tf.Tensor: shape=(1, 1, 1, 1), dtype=float32, numpy=array([[[[0.]]]], dtype=float32)>"
            ]
          },
          "metadata": {
            "tags": []
          },
          "execution_count": 27
        }
      ]
    },
    {
      "cell_type": "code",
      "metadata": {
        "id": "uHp3WmsM57s5",
        "colab": {
          "base_uri": "https://localhost:8080/"
        },
        "outputId": "eaac662f-33fb-4ce4-9da1-8a4afedb6e8d"
      },
      "source": [
        "rank_4_tensor[:1,:1,:1,:]"
      ],
      "execution_count": null,
      "outputs": [
        {
          "output_type": "execute_result",
          "data": {
            "text/plain": [
              "<tf.Tensor: shape=(1, 1, 1, 5), dtype=float32, numpy=array([[[[0., 0., 0., 0., 0.]]]], dtype=float32)>"
            ]
          },
          "metadata": {
            "tags": []
          },
          "execution_count": 28
        }
      ]
    },
    {
      "cell_type": "code",
      "metadata": {
        "id": "HHUxAReF5-c8",
        "colab": {
          "base_uri": "https://localhost:8080/"
        },
        "outputId": "8a6cfdab-5462-44f4-96a4-865c81c16e21"
      },
      "source": [
        "rank_4_tensor[:1,:1,:,:1]"
      ],
      "execution_count": null,
      "outputs": [
        {
          "output_type": "execute_result",
          "data": {
            "text/plain": [
              "<tf.Tensor: shape=(1, 1, 4, 1), dtype=float32, numpy=\n",
              "array([[[[0.],\n",
              "         [0.],\n",
              "         [0.],\n",
              "         [0.]]]], dtype=float32)>"
            ]
          },
          "metadata": {
            "tags": []
          },
          "execution_count": 29
        }
      ]
    },
    {
      "cell_type": "code",
      "metadata": {
        "id": "gAgTSHP46Cn1",
        "colab": {
          "base_uri": "https://localhost:8080/"
        },
        "outputId": "b07ca8bb-4093-4fa6-a75f-1e3e5a960589"
      },
      "source": [
        "rank_4_tensor[:1,:,:1,:1]"
      ],
      "execution_count": null,
      "outputs": [
        {
          "output_type": "execute_result",
          "data": {
            "text/plain": [
              "<tf.Tensor: shape=(1, 3, 1, 1), dtype=float32, numpy=\n",
              "array([[[[0.]],\n",
              "\n",
              "        [[0.]],\n",
              "\n",
              "        [[0.]]]], dtype=float32)>"
            ]
          },
          "metadata": {
            "tags": []
          },
          "execution_count": 30
        }
      ]
    },
    {
      "cell_type": "code",
      "metadata": {
        "id": "JKEAVr9f6FmF",
        "colab": {
          "base_uri": "https://localhost:8080/"
        },
        "outputId": "1c050837-1123-4226-bc54-1da2da46fd85"
      },
      "source": [
        "rank_4_tensor[:,:1,:1,:1]"
      ],
      "execution_count": null,
      "outputs": [
        {
          "output_type": "execute_result",
          "data": {
            "text/plain": [
              "<tf.Tensor: shape=(2, 1, 1, 1), dtype=float32, numpy=\n",
              "array([[[[0.]]],\n",
              "\n",
              "\n",
              "       [[[0.]]]], dtype=float32)>"
            ]
          },
          "metadata": {
            "tags": []
          },
          "execution_count": 31
        }
      ]
    },
    {
      "cell_type": "code",
      "metadata": {
        "id": "RgjeaASY6IXF",
        "colab": {
          "base_uri": "https://localhost:8080/"
        },
        "outputId": "6e2b68b7-edd7-48dd-a949-ef334be8e896"
      },
      "source": [
        "#create a rank 2 tensor (2 dimensions)\n",
        "rank_2_tensor= tf.constant([[1,2],\n",
        "                            [2,3]])\n",
        "rank_2_tensor.ndim, rank_2_tensor.shape"
      ],
      "execution_count": null,
      "outputs": [
        {
          "output_type": "execute_result",
          "data": {
            "text/plain": [
              "(2, TensorShape([2, 2]))"
            ]
          },
          "metadata": {
            "tags": []
          },
          "execution_count": 32
        }
      ]
    },
    {
      "cell_type": "code",
      "metadata": {
        "id": "bX-QIp4Y6_3C",
        "colab": {
          "base_uri": "https://localhost:8080/"
        },
        "outputId": "a8925bc9-3842-44bb-faaf-5b9956be6454"
      },
      "source": [
        "some_list=[1,2,3,4]\n",
        "some_list,some_list[-1]\n"
      ],
      "execution_count": null,
      "outputs": [
        {
          "output_type": "execute_result",
          "data": {
            "text/plain": [
              "([1, 2, 3, 4], 4)"
            ]
          },
          "metadata": {
            "tags": []
          },
          "execution_count": 33
        }
      ]
    },
    {
      "cell_type": "code",
      "metadata": {
        "id": "NlrnrVuY6gol",
        "colab": {
          "base_uri": "https://localhost:8080/"
        },
        "outputId": "504dd8de-c963-4290-a27f-065b65900d6f"
      },
      "source": [
        "#Get the last item of each row of our rank 2 tensor\n",
        "rank_2_tensor[:,-1]"
      ],
      "execution_count": null,
      "outputs": [
        {
          "output_type": "execute_result",
          "data": {
            "text/plain": [
              "<tf.Tensor: shape=(2,), dtype=int32, numpy=array([2, 3], dtype=int32)>"
            ]
          },
          "metadata": {
            "tags": []
          },
          "execution_count": 34
        }
      ]
    },
    {
      "cell_type": "code",
      "metadata": {
        "id": "hOpV5sg97PQZ",
        "colab": {
          "base_uri": "https://localhost:8080/"
        },
        "outputId": "b623674d-55b2-4f2e-afc4-e78f60039641"
      },
      "source": [
        "# Add in extra dimension to our rank 2 tensor\n",
        "rank_3_tensor=rank_2_tensor[...,tf.newaxis] # ... means hami sanga vayeko dimension : tensor ko \n",
        "rank_3_tensor\n"
      ],
      "execution_count": null,
      "outputs": [
        {
          "output_type": "execute_result",
          "data": {
            "text/plain": [
              "<tf.Tensor: shape=(2, 2, 1), dtype=int32, numpy=\n",
              "array([[[1],\n",
              "        [2]],\n",
              "\n",
              "       [[2],\n",
              "        [3]]], dtype=int32)>"
            ]
          },
          "metadata": {
            "tags": []
          },
          "execution_count": 35
        }
      ]
    },
    {
      "cell_type": "code",
      "metadata": {
        "id": "caUxx2cB8zQt",
        "colab": {
          "base_uri": "https://localhost:8080/"
        },
        "outputId": "78566885-1f18-492c-fab9-09ac6c013bb9"
      },
      "source": [
        "# Alternative to tf.newaxis\n",
        "tf.expand_dims(rank_2_tensor,axis=-1)  # \"-1\" means expand the final axis"
      ],
      "execution_count": null,
      "outputs": [
        {
          "output_type": "execute_result",
          "data": {
            "text/plain": [
              "<tf.Tensor: shape=(2, 2, 1), dtype=int32, numpy=\n",
              "array([[[1],\n",
              "        [2]],\n",
              "\n",
              "       [[2],\n",
              "        [3]]], dtype=int32)>"
            ]
          },
          "metadata": {
            "tags": []
          },
          "execution_count": 36
        }
      ]
    },
    {
      "cell_type": "code",
      "metadata": {
        "id": "40W15sVs9SJO",
        "colab": {
          "base_uri": "https://localhost:8080/"
        },
        "outputId": "df316850-22da-45eb-b47f-41d6a8d51ec8"
      },
      "source": [
        "tf.expand_dims(rank_2_tensor,axis=0)"
      ],
      "execution_count": null,
      "outputs": [
        {
          "output_type": "execute_result",
          "data": {
            "text/plain": [
              "<tf.Tensor: shape=(1, 2, 2), dtype=int32, numpy=\n",
              "array([[[1, 2],\n",
              "        [2, 3]]], dtype=int32)>"
            ]
          },
          "metadata": {
            "tags": []
          },
          "execution_count": 37
        }
      ]
    },
    {
      "cell_type": "code",
      "metadata": {
        "id": "La_mp9r89hHo",
        "colab": {
          "base_uri": "https://localhost:8080/"
        },
        "outputId": "43cdcba6-05dd-4be4-823c-698678fcecea"
      },
      "source": [
        "rank_2_tensor"
      ],
      "execution_count": null,
      "outputs": [
        {
          "output_type": "execute_result",
          "data": {
            "text/plain": [
              "<tf.Tensor: shape=(2, 2), dtype=int32, numpy=\n",
              "array([[1, 2],\n",
              "       [2, 3]], dtype=int32)>"
            ]
          },
          "metadata": {
            "tags": []
          },
          "execution_count": 38
        }
      ]
    },
    {
      "cell_type": "markdown",
      "metadata": {
        "id": "UCHybE8S9nRt"
      },
      "source": [
        "### Manipulating the tensors (tensor operations)\n",
        "* Basic Operations'+.,'-','/','*'"
      ]
    },
    {
      "cell_type": "code",
      "metadata": {
        "id": "BHGIzKboaSoq",
        "colab": {
          "base_uri": "https://localhost:8080/"
        },
        "outputId": "23161c9f-8d9c-43a1-843b-f4168943013e"
      },
      "source": [
        "#you can add values to a tensor using the addition operator\n",
        "tensor=tf.constant([[10,7],\n",
        "                    [3,4]])\n",
        "tensor + 10"
      ],
      "execution_count": null,
      "outputs": [
        {
          "output_type": "execute_result",
          "data": {
            "text/plain": [
              "<tf.Tensor: shape=(2, 2), dtype=int32, numpy=\n",
              "array([[20, 17],\n",
              "       [13, 14]], dtype=int32)>"
            ]
          },
          "metadata": {
            "tags": []
          },
          "execution_count": 39
        }
      ]
    },
    {
      "cell_type": "code",
      "metadata": {
        "id": "GrXlUK4nbOaP"
      },
      "source": [
        "#Original Tensor is not changed"
      ],
      "execution_count": null,
      "outputs": []
    },
    {
      "cell_type": "code",
      "metadata": {
        "id": "9bHKIB46bA6j",
        "colab": {
          "base_uri": "https://localhost:8080/"
        },
        "outputId": "f60aabb2-0ae9-4b1a-d9ca-c7e510de8b53"
      },
      "source": [
        "\n",
        "tensor"
      ],
      "execution_count": null,
      "outputs": [
        {
          "output_type": "execute_result",
          "data": {
            "text/plain": [
              "<tf.Tensor: shape=(2, 2), dtype=int32, numpy=\n",
              "array([[10,  7],\n",
              "       [ 3,  4]], dtype=int32)>"
            ]
          },
          "metadata": {
            "tags": []
          },
          "execution_count": 41
        }
      ]
    },
    {
      "cell_type": "code",
      "metadata": {
        "id": "a5R7rNM5bMfI",
        "colab": {
          "base_uri": "https://localhost:8080/"
        },
        "outputId": "c532b883-feea-4ade-d457-232174b3ea15"
      },
      "source": [
        "#multiplication\n",
        "tensor*10"
      ],
      "execution_count": null,
      "outputs": [
        {
          "output_type": "execute_result",
          "data": {
            "text/plain": [
              "<tf.Tensor: shape=(2, 2), dtype=int32, numpy=\n",
              "array([[100,  70],\n",
              "       [ 30,  40]], dtype=int32)>"
            ]
          },
          "metadata": {
            "tags": []
          },
          "execution_count": 42
        }
      ]
    },
    {
      "cell_type": "code",
      "metadata": {
        "id": "HF3rviZZbWlr"
      },
      "source": [
        "import tensorflow as tf\n"
      ],
      "execution_count": null,
      "outputs": []
    },
    {
      "cell_type": "code",
      "metadata": {
        "id": "cYjXi6nhqOf2",
        "colab": {
          "base_uri": "https://localhost:8080/"
        },
        "outputId": "5c82ed5b-fb85-4bcc-b4c3-7e25929e6342"
      },
      "source": [
        "#Substraction\n",
        "tensor -10"
      ],
      "execution_count": null,
      "outputs": [
        {
          "output_type": "execute_result",
          "data": {
            "text/plain": [
              "<tf.Tensor: shape=(2, 2), dtype=int32, numpy=\n",
              "array([[ 0, -3],\n",
              "       [-7, -6]], dtype=int32)>"
            ]
          },
          "metadata": {
            "tags": []
          },
          "execution_count": 44
        }
      ]
    },
    {
      "cell_type": "code",
      "metadata": {
        "id": "1qLON2r9qS8K",
        "colab": {
          "base_uri": "https://localhost:8080/"
        },
        "outputId": "f0554bfc-531d-44cd-8665-ee381c17f7dc"
      },
      "source": [
        "#we can use tensorflow built-in function as well\n",
        "tf.multiply(tensor,3)"
      ],
      "execution_count": null,
      "outputs": [
        {
          "output_type": "execute_result",
          "data": {
            "text/plain": [
              "<tf.Tensor: shape=(2, 2), dtype=int32, numpy=\n",
              "array([[30, 21],\n",
              "       [ 9, 12]], dtype=int32)>"
            ]
          },
          "metadata": {
            "tags": []
          },
          "execution_count": 45
        }
      ]
    },
    {
      "cell_type": "code",
      "metadata": {
        "id": "waUuAgGUqv9M",
        "colab": {
          "base_uri": "https://localhost:8080/"
        },
        "outputId": "e5fa1732-cfd7-485a-caf3-8c6746fb7abe"
      },
      "source": [
        "tensor"
      ],
      "execution_count": null,
      "outputs": [
        {
          "output_type": "execute_result",
          "data": {
            "text/plain": [
              "<tf.Tensor: shape=(2, 2), dtype=int32, numpy=\n",
              "array([[10,  7],\n",
              "       [ 3,  4]], dtype=int32)>"
            ]
          },
          "metadata": {
            "tags": []
          },
          "execution_count": 46
        }
      ]
    },
    {
      "cell_type": "markdown",
      "metadata": {
        "id": "HGu-D1wAqxQ7"
      },
      "source": [
        "### Matrix Multiplication\n",
        "In machine learning matrix multiplication is one of the most common tensors operations"
      ]
    },
    {
      "cell_type": "code",
      "metadata": {
        "id": "fyFct0kypyGq"
      },
      "source": [
        "#Matrix multiplication in tensorflow\n",
        "import tensorflow as tf"
      ],
      "execution_count": null,
      "outputs": []
    },
    {
      "cell_type": "code",
      "metadata": {
        "id": "rt1cMxwNqeQz",
        "colab": {
          "base_uri": "https://localhost:8080/"
        },
        "outputId": "54142c59-0ae8-4d1a-9fa0-64198ed6f9fa"
      },
      "source": [
        "tensor=tf.constant([[10,7],\n",
        "                    [4,3]])\n",
        "tensor"
      ],
      "execution_count": null,
      "outputs": [
        {
          "output_type": "execute_result",
          "data": {
            "text/plain": [
              "<tf.Tensor: shape=(2, 2), dtype=int32, numpy=\n",
              "array([[10,  7],\n",
              "       [ 4,  3]], dtype=int32)>"
            ]
          },
          "metadata": {
            "tags": []
          },
          "execution_count": 48
        }
      ]
    },
    {
      "cell_type": "code",
      "metadata": {
        "id": "d95m_TzWqssZ",
        "colab": {
          "base_uri": "https://localhost:8080/"
        },
        "outputId": "e8814a77-eccc-49ae-f92c-360746c1b1a7"
      },
      "source": [
        "tf.matmul(tensor,tensor)"
      ],
      "execution_count": null,
      "outputs": [
        {
          "output_type": "execute_result",
          "data": {
            "text/plain": [
              "<tf.Tensor: shape=(2, 2), dtype=int32, numpy=\n",
              "array([[128,  91],\n",
              "       [ 52,  37]], dtype=int32)>"
            ]
          },
          "metadata": {
            "tags": []
          },
          "execution_count": 49
        }
      ]
    },
    {
      "cell_type": "code",
      "metadata": {
        "id": "R0w8x0XqrC6h",
        "colab": {
          "base_uri": "https://localhost:8080/"
        },
        "outputId": "1d750d83-cb66-4ebf-e93a-53c0edec33df"
      },
      "source": [
        "# create a tensor with different shape\n",
        "Mat_A=tf.constant([[1,2,5],\n",
        "                   [7,2,1],\n",
        "                   [3,3,3]])\n",
        "Mat_b=tf.constant([[3,5],\n",
        "                   [6,7],\n",
        "                   [1,8]])\n",
        "Mat_A,Mat_b"
      ],
      "execution_count": null,
      "outputs": [
        {
          "output_type": "execute_result",
          "data": {
            "text/plain": [
              "(<tf.Tensor: shape=(3, 3), dtype=int32, numpy=\n",
              " array([[1, 2, 5],\n",
              "        [7, 2, 1],\n",
              "        [3, 3, 3]], dtype=int32)>,\n",
              " <tf.Tensor: shape=(3, 2), dtype=int32, numpy=\n",
              " array([[3, 5],\n",
              "        [6, 7],\n",
              "        [1, 8]], dtype=int32)>)"
            ]
          },
          "metadata": {
            "tags": []
          },
          "execution_count": 50
        }
      ]
    },
    {
      "cell_type": "code",
      "metadata": {
        "id": "S8b8zZayrsZi",
        "colab": {
          "base_uri": "https://localhost:8080/"
        },
        "outputId": "6cac7999-f905-4b74-d617-540021922f05"
      },
      "source": [
        "tf.matmul(Mat_A,Mat_b)"
      ],
      "execution_count": null,
      "outputs": [
        {
          "output_type": "execute_result",
          "data": {
            "text/plain": [
              "<tf.Tensor: shape=(3, 2), dtype=int32, numpy=\n",
              "array([[20, 59],\n",
              "       [34, 57],\n",
              "       [30, 60]], dtype=int32)>"
            ]
          },
          "metadata": {
            "tags": []
          },
          "execution_count": 51
        }
      ]
    },
    {
      "cell_type": "code",
      "metadata": {
        "id": "C8X50LvqryIh",
        "colab": {
          "base_uri": "https://localhost:8080/"
        },
        "outputId": "bbe3c7a6-0fa8-426a-e416-08eca8f83d5b"
      },
      "source": [
        "# Matrix multiplication with python operator \"@\"\n",
        "Mat_A @ Mat_b"
      ],
      "execution_count": null,
      "outputs": [
        {
          "output_type": "execute_result",
          "data": {
            "text/plain": [
              "<tf.Tensor: shape=(3, 2), dtype=int32, numpy=\n",
              "array([[20, 59],\n",
              "       [34, 57],\n",
              "       [30, 60]], dtype=int32)>"
            ]
          },
          "metadata": {
            "tags": []
          },
          "execution_count": 52
        }
      ]
    },
    {
      "cell_type": "code",
      "metadata": {
        "id": "Avo170RtsM6i"
      },
      "source": [
        "#we can reshape the matrix easily as follows:"
      ],
      "execution_count": null,
      "outputs": []
    },
    {
      "cell_type": "code",
      "metadata": {
        "id": "VLMM-ikgxt-l",
        "colab": {
          "base_uri": "https://localhost:8080/"
        },
        "outputId": "be656a8d-ea02-4713-87bb-c18bc2cbf472"
      },
      "source": [
        "tf.reshape(Mat_A,shape=(3,3))\n",
        "Mat_A"
      ],
      "execution_count": null,
      "outputs": [
        {
          "output_type": "execute_result",
          "data": {
            "text/plain": [
              "<tf.Tensor: shape=(3, 3), dtype=int32, numpy=\n",
              "array([[1, 2, 5],\n",
              "       [7, 2, 1],\n",
              "       [3, 3, 3]], dtype=int32)>"
            ]
          },
          "metadata": {
            "tags": []
          },
          "execution_count": 54
        }
      ]
    },
    {
      "cell_type": "code",
      "metadata": {
        "id": "fcIAE2J6x6cD",
        "colab": {
          "base_uri": "https://localhost:8080/"
        },
        "outputId": "14d13ef5-9b8f-4ade-ab6e-1c00b7a32fa0"
      },
      "source": [
        "# Try multiplication using transpose \n",
        "tf.matmul(tf.transpose(Mat_A),Mat_b)"
      ],
      "execution_count": null,
      "outputs": [
        {
          "output_type": "execute_result",
          "data": {
            "text/plain": [
              "<tf.Tensor: shape=(3, 2), dtype=int32, numpy=\n",
              "array([[48, 78],\n",
              "       [21, 48],\n",
              "       [24, 56]], dtype=int32)>"
            ]
          },
          "metadata": {
            "tags": []
          },
          "execution_count": 55
        }
      ]
    },
    {
      "cell_type": "markdown",
      "metadata": {
        "id": "ccaWbbg8yxWr"
      },
      "source": [
        "**The dot product**\n",
        "Matrix multiplcation is also referred to as the dot product.\n",
        "you can perform matrix multliplication using\n",
        "* `tf.matmul()`\n",
        "* `tf.tensordot()`\n",
        "* @"
      ]
    },
    {
      "cell_type": "code",
      "metadata": {
        "id": "QdtXg_YVzMsq",
        "colab": {
          "base_uri": "https://localhost:8080/"
        },
        "outputId": "6bcca6a0-b9ec-4477-f6db-c4efd80801a7"
      },
      "source": [
        "# Perform the dot product on X and Y (requires X or Y to be transposed)\n",
        "X=tf.constant([[1,2],\n",
        "               [3,4],\n",
        "               [5,6]])\n",
        "Y=tf.constant([[7,8],\n",
        "               [9,10],\n",
        "               [11,12]])\n",
        "X,Y"
      ],
      "execution_count": null,
      "outputs": [
        {
          "output_type": "execute_result",
          "data": {
            "text/plain": [
              "(<tf.Tensor: shape=(3, 2), dtype=int32, numpy=\n",
              " array([[1, 2],\n",
              "        [3, 4],\n",
              "        [5, 6]], dtype=int32)>, <tf.Tensor: shape=(3, 2), dtype=int32, numpy=\n",
              " array([[ 7,  8],\n",
              "        [ 9, 10],\n",
              "        [11, 12]], dtype=int32)>)"
            ]
          },
          "metadata": {
            "tags": []
          },
          "execution_count": 56
        }
      ]
    },
    {
      "cell_type": "code",
      "metadata": {
        "id": "i8NQI3MU0V7f",
        "colab": {
          "base_uri": "https://localhost:8080/"
        },
        "outputId": "f99c4c32-9cd0-44dd-d9a2-81e7f9ba3314"
      },
      "source": [
        "tf.tensordot(tf.transpose(X),Y,axes=1)"
      ],
      "execution_count": null,
      "outputs": [
        {
          "output_type": "execute_result",
          "data": {
            "text/plain": [
              "<tf.Tensor: shape=(2, 2), dtype=int32, numpy=\n",
              "array([[ 89,  98],\n",
              "       [116, 128]], dtype=int32)>"
            ]
          },
          "metadata": {
            "tags": []
          },
          "execution_count": 57
        }
      ]
    },
    {
      "cell_type": "code",
      "metadata": {
        "id": "_8ZOGHSc0nDy",
        "colab": {
          "base_uri": "https://localhost:8080/"
        },
        "outputId": "3104b330-f9e9-4c5d-acca-24ae72745891"
      },
      "source": [
        "# perform matrix multiplication between X and Y (transpose)\n",
        "tf.matmul(X,tf.transpose(Y))"
      ],
      "execution_count": null,
      "outputs": [
        {
          "output_type": "execute_result",
          "data": {
            "text/plain": [
              "<tf.Tensor: shape=(3, 3), dtype=int32, numpy=\n",
              "array([[ 23,  29,  35],\n",
              "       [ 53,  67,  81],\n",
              "       [ 83, 105, 127]], dtype=int32)>"
            ]
          },
          "metadata": {
            "tags": []
          },
          "execution_count": 58
        }
      ]
    },
    {
      "cell_type": "code",
      "metadata": {
        "id": "-BC-a5z41Czy",
        "colab": {
          "base_uri": "https://localhost:8080/"
        },
        "outputId": "31eeefb7-536b-4ad1-a6ca-054224f1a738"
      },
      "source": [
        "# perform matrix multiplication between X and Y (reshape)\n",
        "tf.matmul(X,tf.reshape(Y,shape=(2,3)))"
      ],
      "execution_count": null,
      "outputs": [
        {
          "output_type": "execute_result",
          "data": {
            "text/plain": [
              "<tf.Tensor: shape=(3, 3), dtype=int32, numpy=\n",
              "array([[ 27,  30,  33],\n",
              "       [ 61,  68,  75],\n",
              "       [ 95, 106, 117]], dtype=int32)>"
            ]
          },
          "metadata": {
            "tags": []
          },
          "execution_count": 59
        }
      ]
    },
    {
      "cell_type": "code",
      "metadata": {
        "id": "xB1Z0ZZh1XbT",
        "colab": {
          "base_uri": "https://localhost:8080/"
        },
        "outputId": "a9d60c21-1e7f-4fa6-b546-43b972006e5d"
      },
      "source": [
        "# check the values of Y, reshape Y and transpose Y\n",
        "print(\"Normal Y:\")\n",
        "print(Y,\"\\n\") # \"\\n\" is  for new line\n",
        "print(\"Y reshaped to (2,3):\")\n",
        "print(tf.reshape(Y,shape=(2,3)),\"\\n\")\n",
        "print(\"Y transposed\")\n",
        "print(tf.transpose(Y))"
      ],
      "execution_count": null,
      "outputs": [
        {
          "output_type": "stream",
          "text": [
            "Normal Y:\n",
            "tf.Tensor(\n",
            "[[ 7  8]\n",
            " [ 9 10]\n",
            " [11 12]], shape=(3, 2), dtype=int32) \n",
            "\n",
            "Y reshaped to (2,3):\n",
            "tf.Tensor(\n",
            "[[ 7  8  9]\n",
            " [10 11 12]], shape=(2, 3), dtype=int32) \n",
            "\n",
            "Y transposed\n",
            "tf.Tensor(\n",
            "[[ 7  9 11]\n",
            " [ 8 10 12]], shape=(2, 3), dtype=int32)\n"
          ],
          "name": "stdout"
        }
      ]
    },
    {
      "cell_type": "markdown",
      "metadata": {
        "id": "q9IgEOW61vWx"
      },
      "source": [
        " Generally, when performing matrix multiplication on two tensors and one of the axes doesn't line up, you will tranpose (rather than reshape) of the tensors to get satisfy the matrix multliplication rule."
      ]
    },
    {
      "cell_type": "markdown",
      "metadata": {
        "id": "QKDfaNUX4Mud"
      },
      "source": [
        "### Changing the data type of a tensor"
      ]
    },
    {
      "cell_type": "code",
      "metadata": {
        "id": "V11JBn6_4G0k",
        "colab": {
          "base_uri": "https://localhost:8080/",
          "height": 35
        },
        "outputId": "d854ceef-9be9-4fb2-944b-be7c3c80f233"
      },
      "source": [
        "# to check the version of tensorflow\n",
        "tf.__version__"
      ],
      "execution_count": null,
      "outputs": [
        {
          "output_type": "execute_result",
          "data": {
            "application/vnd.google.colaboratory.intrinsic+json": {
              "type": "string"
            },
            "text/plain": [
              "'2.4.1'"
            ]
          },
          "metadata": {
            "tags": []
          },
          "execution_count": 61
        }
      ]
    },
    {
      "cell_type": "code",
      "metadata": {
        "id": "R2bxzMmr3GjG",
        "colab": {
          "base_uri": "https://localhost:8080/"
        },
        "outputId": "63c1fb20-8cf6-4db8-8159-500b5cc39113"
      },
      "source": [
        "# Create a new tensor with new datatype (float 32)-\n",
        "import tensorflow as tf\n",
        "B=tf.constant([1.5,2.7,3.8])\n",
        "B.dtype"
      ],
      "execution_count": null,
      "outputs": [
        {
          "output_type": "execute_result",
          "data": {
            "text/plain": [
              "tf.float32"
            ]
          },
          "metadata": {
            "tags": []
          },
          "execution_count": 62
        }
      ]
    },
    {
      "cell_type": "code",
      "metadata": {
        "id": "quBuVT713wO5",
        "colab": {
          "base_uri": "https://localhost:8080/"
        },
        "outputId": "2e0bf165-1a83-423f-bea8-42b798440eb6"
      },
      "source": [
        "C=tf.constant([1,8,5])\n",
        "C.dtype"
      ],
      "execution_count": null,
      "outputs": [
        {
          "output_type": "execute_result",
          "data": {
            "text/plain": [
              "tf.int32"
            ]
          },
          "metadata": {
            "tags": []
          },
          "execution_count": 63
        }
      ]
    },
    {
      "cell_type": "code",
      "metadata": {
        "id": "duz1E6Mp4XNc",
        "colab": {
          "base_uri": "https://localhost:8080/"
        },
        "outputId": "aa262a08-5670-476e-82e0-fb0d12826689"
      },
      "source": [
        "# Change from float 32 to float 16 (reduce precision)\n",
        "D=tf.cast(B,dtype=tf.float16)\n",
        "D,D.dtype"
      ],
      "execution_count": null,
      "outputs": [
        {
          "output_type": "execute_result",
          "data": {
            "text/plain": [
              "(<tf.Tensor: shape=(3,), dtype=float16, numpy=array([1.5, 2.7, 3.8], dtype=float16)>,\n",
              " tf.float16)"
            ]
          },
          "metadata": {
            "tags": []
          },
          "execution_count": 64
        }
      ]
    },
    {
      "cell_type": "code",
      "metadata": {
        "id": "bdSWIhmK5Gte",
        "colab": {
          "base_uri": "https://localhost:8080/"
        },
        "outputId": "e1cb8ca0-810b-47cc-e4b3-dd054b32e59e"
      },
      "source": [
        "# Change from int 32 to float 32\n",
        "E=tf.cast(C,dtype=tf.int32)\n",
        "E,E.dtype"
      ],
      "execution_count": null,
      "outputs": [
        {
          "output_type": "execute_result",
          "data": {
            "text/plain": [
              "(<tf.Tensor: shape=(3,), dtype=int32, numpy=array([1, 8, 5], dtype=int32)>,\n",
              " tf.int32)"
            ]
          },
          "metadata": {
            "tags": []
          },
          "execution_count": 65
        }
      ]
    },
    {
      "cell_type": "code",
      "metadata": {
        "id": "7L8Ihn2D5fmr",
        "colab": {
          "base_uri": "https://localhost:8080/"
        },
        "outputId": "8bca57cf-d534-4574-fa25-5d983b52a273"
      },
      "source": [
        "#change from float 32 to float 16 again\n",
        "F=tf.cast(E,dtype=tf.float16)\n",
        "F,F.dtype"
      ],
      "execution_count": null,
      "outputs": [
        {
          "output_type": "execute_result",
          "data": {
            "text/plain": [
              "(<tf.Tensor: shape=(3,), dtype=float16, numpy=array([1., 8., 5.], dtype=float16)>,\n",
              " tf.float16)"
            ]
          },
          "metadata": {
            "tags": []
          },
          "execution_count": 66
        }
      ]
    },
    {
      "cell_type": "markdown",
      "metadata": {
        "id": "iEbu64jC5sbk"
      },
      "source": [
        "### Aggregating tensors\n",
        "Aggregating tensors  = condesing them from multiple values down to a smaller amount of values"
      ]
    },
    {
      "cell_type": "code",
      "metadata": {
        "id": "fSrp2nCa54-c",
        "colab": {
          "base_uri": "https://localhost:8080/"
        },
        "outputId": "d50044c9-0792-41d2-d25c-217600710ec4"
      },
      "source": [
        "# Get the absolute values\n",
        "D=tf.constant([-7,-10])\n",
        "D"
      ],
      "execution_count": null,
      "outputs": [
        {
          "output_type": "execute_result",
          "data": {
            "text/plain": [
              "<tf.Tensor: shape=(2,), dtype=int32, numpy=array([ -7, -10], dtype=int32)>"
            ]
          },
          "metadata": {
            "tags": []
          },
          "execution_count": 67
        }
      ]
    },
    {
      "cell_type": "code",
      "metadata": {
        "id": "U46TX6KJ60n_",
        "colab": {
          "base_uri": "https://localhost:8080/"
        },
        "outputId": "56a63ecb-b8f1-4da1-978f-12b1c1e61a75"
      },
      "source": [
        "#get the absolute values\n",
        "tf.abs(D)"
      ],
      "execution_count": null,
      "outputs": [
        {
          "output_type": "execute_result",
          "data": {
            "text/plain": [
              "<tf.Tensor: shape=(2,), dtype=int32, numpy=array([ 7, 10], dtype=int32)>"
            ]
          },
          "metadata": {
            "tags": []
          },
          "execution_count": 68
        }
      ]
    },
    {
      "cell_type": "markdown",
      "metadata": {
        "id": "xav0lBWt64xT"
      },
      "source": [
        "Let's go through the following forms of aggregation\n",
        "* Get the minimum\n",
        "* Get the maximum\n",
        "* Get the mean of a tensor\n",
        "* Get the sum of a tensor"
      ]
    },
    {
      "cell_type": "code",
      "metadata": {
        "id": "uCjsH42c7KFL",
        "colab": {
          "base_uri": "https://localhost:8080/"
        },
        "outputId": "62b3e218-d1f3-43b0-b309-05fec87449a7"
      },
      "source": [
        "# Create a random tensor with values between 0 and 100 of size 50\n",
        "import numpy as np\n",
        "E=tf.constant(np.random.randint(0,100,size=50)) # random number generation starting from 0 to 100 and only 50 wota numbers\n",
        "E"
      ],
      "execution_count": null,
      "outputs": [
        {
          "output_type": "execute_result",
          "data": {
            "text/plain": [
              "<tf.Tensor: shape=(50,), dtype=int64, numpy=\n",
              "array([94, 80, 61, 17, 34, 79, 59, 69, 78, 14, 50, 31, 91, 66, 59, 56, 64,\n",
              "       40,  0, 39, 98, 26, 48, 49, 36, 14, 81, 86,  0, 86, 40, 11, 87, 44,\n",
              "       18, 44, 61, 97, 43, 58, 80, 58, 96, 65, 82, 73, 51, 33, 76, 47])>"
            ]
          },
          "metadata": {
            "tags": []
          },
          "execution_count": 69
        }
      ]
    },
    {
      "cell_type": "code",
      "metadata": {
        "id": "mbVjKERI7lsP",
        "colab": {
          "base_uri": "https://localhost:8080/"
        },
        "outputId": "4e2b8098-d597-41ce-b955-5501eb20fc40"
      },
      "source": [
        "tf.size(E),E.shape,E.ndim"
      ],
      "execution_count": null,
      "outputs": [
        {
          "output_type": "execute_result",
          "data": {
            "text/plain": [
              "(<tf.Tensor: shape=(), dtype=int32, numpy=50>, TensorShape([50]), 1)"
            ]
          },
          "metadata": {
            "tags": []
          },
          "execution_count": 70
        }
      ]
    },
    {
      "cell_type": "code",
      "metadata": {
        "id": "dOe3QEHi8BL_",
        "colab": {
          "base_uri": "https://localhost:8080/"
        },
        "outputId": "00e88c38-2e65-4b0a-bd57-dc7546b8ddb4"
      },
      "source": [
        "# Find the minimum\n",
        "tf.reduce_min(E)"
      ],
      "execution_count": null,
      "outputs": [
        {
          "output_type": "execute_result",
          "data": {
            "text/plain": [
              "<tf.Tensor: shape=(), dtype=int64, numpy=0>"
            ]
          },
          "metadata": {
            "tags": []
          },
          "execution_count": 71
        }
      ]
    },
    {
      "cell_type": "code",
      "metadata": {
        "id": "ou0gKtzo8S5L",
        "colab": {
          "base_uri": "https://localhost:8080/"
        },
        "outputId": "25fa60fe-a1fc-4a9f-b5e0-0ecc2a572036"
      },
      "source": [
        "# Find the maximum\n",
        "tf.reduce_max(E)"
      ],
      "execution_count": null,
      "outputs": [
        {
          "output_type": "execute_result",
          "data": {
            "text/plain": [
              "<tf.Tensor: shape=(), dtype=int64, numpy=98>"
            ]
          },
          "metadata": {
            "tags": []
          },
          "execution_count": 72
        }
      ]
    },
    {
      "cell_type": "code",
      "metadata": {
        "id": "a6SyUR2K8fIU",
        "colab": {
          "base_uri": "https://localhost:8080/"
        },
        "outputId": "1139eded-f718-4f3b-a537-50c06293b8cb"
      },
      "source": [
        "# Find the mean\n",
        "tf.reduce_mean(E)"
      ],
      "execution_count": null,
      "outputs": [
        {
          "output_type": "execute_result",
          "data": {
            "text/plain": [
              "<tf.Tensor: shape=(), dtype=int64, numpy=55>"
            ]
          },
          "metadata": {
            "tags": []
          },
          "execution_count": 73
        }
      ]
    },
    {
      "cell_type": "code",
      "metadata": {
        "id": "AysM6v0N8ju9",
        "colab": {
          "base_uri": "https://localhost:8080/"
        },
        "outputId": "3a985585-fcd5-40a5-c8db-06801bed82ca"
      },
      "source": [
        "# Find the sum\n",
        "tf.reduce_sum(E)"
      ],
      "execution_count": null,
      "outputs": [
        {
          "output_type": "execute_result",
          "data": {
            "text/plain": [
              "<tf.Tensor: shape=(), dtype=int64, numpy=2769>"
            ]
          },
          "metadata": {
            "tags": []
          },
          "execution_count": 74
        }
      ]
    },
    {
      "cell_type": "code",
      "metadata": {
        "id": "vZFIX1As8pa0",
        "colab": {
          "base_uri": "https://localhost:8080/",
          "height": 185
        },
        "outputId": "75359e73-0041-4075-d25f-ade9b2e842ed"
      },
      "source": [
        "# Let's try to find variance and standard deviation of tensor `E`\n",
        "V=tf.reduce_variance(E) # won't work..."
      ],
      "execution_count": null,
      "outputs": [
        {
          "output_type": "error",
          "ename": "AttributeError",
          "evalue": "ignored",
          "traceback": [
            "\u001b[0;31m---------------------------------------------------------------------------\u001b[0m",
            "\u001b[0;31mAttributeError\u001b[0m                            Traceback (most recent call last)",
            "\u001b[0;32m<ipython-input-75-d1ceb4191ca4>\u001b[0m in \u001b[0;36m<module>\u001b[0;34m()\u001b[0m\n\u001b[1;32m      1\u001b[0m \u001b[0;31m# Let's try to find variance and standard deviation of tensor `E`\u001b[0m\u001b[0;34m\u001b[0m\u001b[0;34m\u001b[0m\u001b[0;34m\u001b[0m\u001b[0m\n\u001b[0;32m----> 2\u001b[0;31m \u001b[0mV\u001b[0m\u001b[0;34m=\u001b[0m\u001b[0mtf\u001b[0m\u001b[0;34m.\u001b[0m\u001b[0mreduce_variance\u001b[0m\u001b[0;34m(\u001b[0m\u001b[0mE\u001b[0m\u001b[0;34m)\u001b[0m \u001b[0;31m# won't work...\u001b[0m\u001b[0;34m\u001b[0m\u001b[0;34m\u001b[0m\u001b[0m\n\u001b[0m",
            "\u001b[0;31mAttributeError\u001b[0m: module 'tensorflow' has no attribute 'reduce_variance'"
          ]
        }
      ]
    },
    {
      "cell_type": "code",
      "metadata": {
        "id": "bzkolUd69SEB",
        "colab": {
          "base_uri": "https://localhost:8080/"
        },
        "outputId": "e2722403-c135-4e2e-a5be-e6a74f090426"
      },
      "source": [
        "# To find variance of our tensor, we need to access to tensorflow_probability\n",
        "import tensorflow_probability as tfp\n",
        "V=tfp.stats.variance(E)\n",
        "V"
      ],
      "execution_count": null,
      "outputs": [
        {
          "output_type": "execute_result",
          "data": {
            "text/plain": [
              "<tf.Tensor: shape=(), dtype=int64, numpy=686>"
            ]
          },
          "metadata": {
            "tags": []
          },
          "execution_count": 76
        }
      ]
    },
    {
      "cell_type": "code",
      "metadata": {
        "id": "k1AtiA3r96Sc",
        "colab": {
          "base_uri": "https://localhost:8080/",
          "height": 185
        },
        "outputId": "1307cd03-326c-4b5a-d34e-8c5d8549737a"
      },
      "source": [
        "# Find the standard deviation\n",
        "tf.reduce_std(E)"
      ],
      "execution_count": null,
      "outputs": [
        {
          "output_type": "error",
          "ename": "AttributeError",
          "evalue": "ignored",
          "traceback": [
            "\u001b[0;31m---------------------------------------------------------------------------\u001b[0m",
            "\u001b[0;31mAttributeError\u001b[0m                            Traceback (most recent call last)",
            "\u001b[0;32m<ipython-input-77-439dba9272e7>\u001b[0m in \u001b[0;36m<module>\u001b[0;34m()\u001b[0m\n\u001b[1;32m      1\u001b[0m \u001b[0;31m# Find the standard deviation\u001b[0m\u001b[0;34m\u001b[0m\u001b[0;34m\u001b[0m\u001b[0;34m\u001b[0m\u001b[0m\n\u001b[0;32m----> 2\u001b[0;31m \u001b[0mtf\u001b[0m\u001b[0;34m.\u001b[0m\u001b[0mreduce_std\u001b[0m\u001b[0;34m(\u001b[0m\u001b[0mE\u001b[0m\u001b[0;34m)\u001b[0m\u001b[0;34m\u001b[0m\u001b[0;34m\u001b[0m\u001b[0m\n\u001b[0m",
            "\u001b[0;31mAttributeError\u001b[0m: module 'tensorflow' has no attribute 'reduce_std'"
          ]
        }
      ]
    },
    {
      "cell_type": "code",
      "metadata": {
        "id": "WusqDHjh-Zqs",
        "colab": {
          "base_uri": "https://localhost:8080/"
        },
        "outputId": "c99cb32c-fd94-46b4-bde8-530ba4d42338"
      },
      "source": [
        "tf.math.reduce_std(tf.cast(E,dtype=tf.float32)) # to perform sd, the data type of tensor must be float 32 type..."
      ],
      "execution_count": null,
      "outputs": [
        {
          "output_type": "execute_result",
          "data": {
            "text/plain": [
              "<tf.Tensor: shape=(), dtype=float32, numpy=26.20755>"
            ]
          },
          "metadata": {
            "tags": []
          },
          "execution_count": 78
        }
      ]
    },
    {
      "cell_type": "code",
      "metadata": {
        "id": "YxmmCZylALto",
        "colab": {
          "base_uri": "https://localhost:8080/"
        },
        "outputId": "20ca819b-99da-405a-c454-fba8484759ae"
      },
      "source": [
        "# Find the variance of our E tensor using math function\n",
        "tf.math.reduce_variance(tf.cast(E,dtype=tf.float32))"
      ],
      "execution_count": null,
      "outputs": [
        {
          "output_type": "execute_result",
          "data": {
            "text/plain": [
              "<tf.Tensor: shape=(), dtype=float32, numpy=686.83563>"
            ]
          },
          "metadata": {
            "tags": []
          },
          "execution_count": 79
        }
      ]
    },
    {
      "cell_type": "markdown",
      "metadata": {
        "id": "vqQT2n0h-7E8"
      },
      "source": [
        "### Find the positional maximum and minimum\n"
      ]
    },
    {
      "cell_type": "code",
      "metadata": {
        "id": "_B9C26iT_lu0",
        "colab": {
          "base_uri": "https://localhost:8080/"
        },
        "outputId": "0bde680b-54dd-4ab4-fa65-13055617fa18"
      },
      "source": [
        " # create a new tensor for finding positional minimum and maximum\n",
        "\n",
        " F=tf.random.uniform(shape=[50]) # each time i run this code, it will give me random 50 tensors.so to make each time the same tensor.i can use seed.\n",
        " F"
      ],
      "execution_count": null,
      "outputs": [
        {
          "output_type": "execute_result",
          "data": {
            "text/plain": [
              "<tf.Tensor: shape=(50,), dtype=float32, numpy=\n",
              "array([0.2516998 , 0.9432062 , 0.01650476, 0.759115  , 0.9228071 ,\n",
              "       0.57696545, 0.20745087, 0.33838582, 0.59246635, 0.813874  ,\n",
              "       0.63977313, 0.41405106, 0.87057996, 0.46453464, 0.21241212,\n",
              "       0.62557113, 0.62481534, 0.53842366, 0.76679444, 0.901351  ,\n",
              "       0.10553956, 0.9258158 , 0.9957814 , 0.02517951, 0.8763112 ,\n",
              "       0.01629639, 0.41777682, 0.33349085, 0.32761598, 0.3976878 ,\n",
              "       0.69472957, 0.32698786, 0.7813107 , 0.8325342 , 0.78116965,\n",
              "       0.43672287, 0.43912613, 0.93828106, 0.610718  , 0.93006635,\n",
              "       0.0066365 , 0.4045235 , 0.41968405, 0.7955533 , 0.38195062,\n",
              "       0.66066206, 0.77940905, 0.28091836, 0.01046789, 0.59208393],\n",
              "      dtype=float32)>"
            ]
          },
          "metadata": {
            "tags": []
          },
          "execution_count": 80
        }
      ]
    },
    {
      "cell_type": "code",
      "metadata": {
        "id": "BNvpEfaSBlZN",
        "colab": {
          "base_uri": "https://localhost:8080/"
        },
        "outputId": "e824f8fe-30db-4ced-b7c7-55dd99513b2e"
      },
      "source": [
        "# each time i run the code,  i will get the same tensors\n",
        "tf.random.set_seed(42)\n",
        "F=tf.random.uniform(shape=[50])\n",
        "F"
      ],
      "execution_count": null,
      "outputs": [
        {
          "output_type": "execute_result",
          "data": {
            "text/plain": [
              "<tf.Tensor: shape=(50,), dtype=float32, numpy=\n",
              "array([0.6645621 , 0.44100678, 0.3528825 , 0.46448255, 0.03366041,\n",
              "       0.68467236, 0.74011743, 0.8724445 , 0.22632635, 0.22319686,\n",
              "       0.3103881 , 0.7223358 , 0.13318717, 0.5480639 , 0.5746088 ,\n",
              "       0.8996835 , 0.00946367, 0.5212307 , 0.6345445 , 0.1993283 ,\n",
              "       0.72942245, 0.54583454, 0.10756552, 0.6767061 , 0.6602763 ,\n",
              "       0.33695042, 0.60141766, 0.21062577, 0.8527372 , 0.44062173,\n",
              "       0.9485276 , 0.23752594, 0.81179297, 0.5263394 , 0.494308  ,\n",
              "       0.21612847, 0.8457197 , 0.8718841 , 0.3083862 , 0.6868038 ,\n",
              "       0.23764038, 0.7817228 , 0.9671384 , 0.06870162, 0.79873943,\n",
              "       0.66028714, 0.5871513 , 0.16461694, 0.7381023 , 0.32054043],\n",
              "      dtype=float32)>"
            ]
          },
          "metadata": {
            "tags": []
          },
          "execution_count": 81
        }
      ]
    },
    {
      "cell_type": "code",
      "metadata": {
        "id": "EXAI0hY6CLks",
        "colab": {
          "base_uri": "https://localhost:8080/"
        },
        "outputId": "8254a8ba-e514-4971-ed0e-071309b462aa"
      },
      "source": [
        "# find the positional maximum\n",
        "tf.argmax(F)"
      ],
      "execution_count": null,
      "outputs": [
        {
          "output_type": "execute_result",
          "data": {
            "text/plain": [
              "<tf.Tensor: shape=(), dtype=int64, numpy=42>"
            ]
          },
          "metadata": {
            "tags": []
          },
          "execution_count": 82
        }
      ]
    },
    {
      "cell_type": "code",
      "metadata": {
        "id": "0e4I1uNrCjyM",
        "colab": {
          "base_uri": "https://localhost:8080/"
        },
        "outputId": "69ccdb7f-3871-4caa-e1d4-d912750c0df8"
      },
      "source": [
        "# index on our largest value position\n",
        "F[tf.argmax(F)]"
      ],
      "execution_count": null,
      "outputs": [
        {
          "output_type": "execute_result",
          "data": {
            "text/plain": [
              "<tf.Tensor: shape=(), dtype=float32, numpy=0.9671384>"
            ]
          },
          "metadata": {
            "tags": []
          },
          "execution_count": 83
        }
      ]
    },
    {
      "cell_type": "code",
      "metadata": {
        "id": "c7TP1ohKCteM",
        "colab": {
          "base_uri": "https://localhost:8080/"
        },
        "outputId": "8b9b3638-b185-4afd-da7d-1417a3022d0c"
      },
      "source": [
        "# Find the max value of F\n",
        "tf.reduce_max(F)"
      ],
      "execution_count": null,
      "outputs": [
        {
          "output_type": "execute_result",
          "data": {
            "text/plain": [
              "<tf.Tensor: shape=(), dtype=float32, numpy=0.9671384>"
            ]
          },
          "metadata": {
            "tags": []
          },
          "execution_count": 84
        }
      ]
    },
    {
      "cell_type": "code",
      "metadata": {
        "id": "C5PHodYcC4_k",
        "colab": {
          "base_uri": "https://localhost:8080/"
        },
        "outputId": "107869ea-ac41-408a-fbc0-6fb924c6577f"
      },
      "source": [
        "# check for the equality\n",
        "F[tf.argmax(F)]==tf.reduce_max(F)"
      ],
      "execution_count": null,
      "outputs": [
        {
          "output_type": "execute_result",
          "data": {
            "text/plain": [
              "<tf.Tensor: shape=(), dtype=bool, numpy=True>"
            ]
          },
          "metadata": {
            "tags": []
          },
          "execution_count": 85
        }
      ]
    },
    {
      "cell_type": "code",
      "metadata": {
        "id": "vnIc-l6RDM5t",
        "colab": {
          "base_uri": "https://localhost:8080/"
        },
        "outputId": "c0de8d31-4809-45a0-9d75-95627674422e"
      },
      "source": [
        "#find the positional minimum\n",
        "tf.argmin(F) # it gives us the position of index"
      ],
      "execution_count": null,
      "outputs": [
        {
          "output_type": "execute_result",
          "data": {
            "text/plain": [
              "<tf.Tensor: shape=(), dtype=int64, numpy=16>"
            ]
          },
          "metadata": {
            "tags": []
          },
          "execution_count": 86
        }
      ]
    },
    {
      "cell_type": "code",
      "metadata": {
        "id": "nlZUtcXoDgrs",
        "colab": {
          "base_uri": "https://localhost:8080/"
        },
        "outputId": "9f286a91-772a-44ad-a957-9dbeafff4aea"
      },
      "source": [
        "# to find the value at index 16 just above\n",
        "F[tf.argmin(F)]"
      ],
      "execution_count": null,
      "outputs": [
        {
          "output_type": "execute_result",
          "data": {
            "text/plain": [
              "<tf.Tensor: shape=(), dtype=float32, numpy=0.009463668>"
            ]
          },
          "metadata": {
            "tags": []
          },
          "execution_count": 87
        }
      ]
    },
    {
      "cell_type": "code",
      "metadata": {
        "id": "lW1S-AHfDsqN",
        "colab": {
          "base_uri": "https://localhost:8080/"
        },
        "outputId": "5db6811b-a6b2-4f21-f406-eabd6d1e60a2"
      },
      "source": [
        "# Let's check for equality\n",
        "F[tf.argmin(F)]== tf.reduce_min(F)"
      ],
      "execution_count": null,
      "outputs": [
        {
          "output_type": "execute_result",
          "data": {
            "text/plain": [
              "<tf.Tensor: shape=(), dtype=bool, numpy=True>"
            ]
          },
          "metadata": {
            "tags": []
          },
          "execution_count": 88
        }
      ]
    },
    {
      "cell_type": "markdown",
      "metadata": {
        "id": "KuByPF1rD3fX"
      },
      "source": [
        "### squeezing a tensor ( removing all the single dimensions)"
      ]
    },
    {
      "cell_type": "code",
      "metadata": {
        "colab": {
          "base_uri": "https://localhost:8080/"
        },
        "id": "bD8tN9N6tmfv",
        "outputId": "11c5085f-6bab-4e6d-b199-e68f44a46df3"
      },
      "source": [
        "# create a tensor to get started\n",
        "tf.random.set_seed(42)\n",
        "G=tf.constant(tf.random.uniform(shape=[50]),shape=(1,1,1,1,50))\n",
        "G"
      ],
      "execution_count": null,
      "outputs": [
        {
          "output_type": "execute_result",
          "data": {
            "text/plain": [
              "<tf.Tensor: shape=(1, 1, 1, 1, 50), dtype=float32, numpy=\n",
              "array([[[[[0.6645621 , 0.44100678, 0.3528825 , 0.46448255, 0.03366041,\n",
              "           0.68467236, 0.74011743, 0.8724445 , 0.22632635, 0.22319686,\n",
              "           0.3103881 , 0.7223358 , 0.13318717, 0.5480639 , 0.5746088 ,\n",
              "           0.8996835 , 0.00946367, 0.5212307 , 0.6345445 , 0.1993283 ,\n",
              "           0.72942245, 0.54583454, 0.10756552, 0.6767061 , 0.6602763 ,\n",
              "           0.33695042, 0.60141766, 0.21062577, 0.8527372 , 0.44062173,\n",
              "           0.9485276 , 0.23752594, 0.81179297, 0.5263394 , 0.494308  ,\n",
              "           0.21612847, 0.8457197 , 0.8718841 , 0.3083862 , 0.6868038 ,\n",
              "           0.23764038, 0.7817228 , 0.9671384 , 0.06870162, 0.79873943,\n",
              "           0.66028714, 0.5871513 , 0.16461694, 0.7381023 , 0.32054043]]]]],\n",
              "      dtype=float32)>"
            ]
          },
          "metadata": {
            "tags": []
          },
          "execution_count": 89
        }
      ]
    },
    {
      "cell_type": "code",
      "metadata": {
        "colab": {
          "base_uri": "https://localhost:8080/"
        },
        "id": "1NJy1w9xuEI4",
        "outputId": "7b291db7-9d30-47dc-f0af-d0e43d118d98"
      },
      "source": [
        "G.shape"
      ],
      "execution_count": null,
      "outputs": [
        {
          "output_type": "execute_result",
          "data": {
            "text/plain": [
              "TensorShape([1, 1, 1, 1, 50])"
            ]
          },
          "metadata": {
            "tags": []
          },
          "execution_count": 90
        }
      ]
    },
    {
      "cell_type": "code",
      "metadata": {
        "id": "sjFrWnYuuXkW"
      },
      "source": [
        "G_squeezed=tf.squeeze(G) # squeeze removes the dimensions of 1 from the tensors...."
      ],
      "execution_count": null,
      "outputs": []
    },
    {
      "cell_type": "code",
      "metadata": {
        "colab": {
          "base_uri": "https://localhost:8080/"
        },
        "id": "UnzX9hb8uctd",
        "outputId": "44f73285-9af8-4cf8-a1da-477060654061"
      },
      "source": [
        "G_squeezed,G_squeezed.shape"
      ],
      "execution_count": null,
      "outputs": [
        {
          "output_type": "execute_result",
          "data": {
            "text/plain": [
              "(<tf.Tensor: shape=(50,), dtype=float32, numpy=\n",
              " array([0.6645621 , 0.44100678, 0.3528825 , 0.46448255, 0.03366041,\n",
              "        0.68467236, 0.74011743, 0.8724445 , 0.22632635, 0.22319686,\n",
              "        0.3103881 , 0.7223358 , 0.13318717, 0.5480639 , 0.5746088 ,\n",
              "        0.8996835 , 0.00946367, 0.5212307 , 0.6345445 , 0.1993283 ,\n",
              "        0.72942245, 0.54583454, 0.10756552, 0.6767061 , 0.6602763 ,\n",
              "        0.33695042, 0.60141766, 0.21062577, 0.8527372 , 0.44062173,\n",
              "        0.9485276 , 0.23752594, 0.81179297, 0.5263394 , 0.494308  ,\n",
              "        0.21612847, 0.8457197 , 0.8718841 , 0.3083862 , 0.6868038 ,\n",
              "        0.23764038, 0.7817228 , 0.9671384 , 0.06870162, 0.79873943,\n",
              "        0.66028714, 0.5871513 , 0.16461694, 0.7381023 , 0.32054043],\n",
              "       dtype=float32)>, TensorShape([50]))"
            ]
          },
          "metadata": {
            "tags": []
          },
          "execution_count": 92
        }
      ]
    },
    {
      "cell_type": "markdown",
      "metadata": {
        "id": "gOsAr2DuurfF"
      },
      "source": [
        "### One-hot encoding"
      ]
    },
    {
      "cell_type": "code",
      "metadata": {
        "colab": {
          "base_uri": "https://localhost:8080/"
        },
        "id": "0TSI-yavu6hf",
        "outputId": "dec9cc86-a50b-4f26-f078-a50c7705ec87"
      },
      "source": [
        "# Create a list of indices\n",
        "some_list=[0,1,2,3] #could be red,green,blue, purple\n",
        "\n",
        "#One hot encoding our list of indices\n",
        "tf.one_hot(some_list,depth=4)"
      ],
      "execution_count": null,
      "outputs": [
        {
          "output_type": "execute_result",
          "data": {
            "text/plain": [
              "<tf.Tensor: shape=(4, 4), dtype=float32, numpy=\n",
              "array([[1., 0., 0., 0.],\n",
              "       [0., 1., 0., 0.],\n",
              "       [0., 0., 1., 0.],\n",
              "       [0., 0., 0., 1.]], dtype=float32)>"
            ]
          },
          "metadata": {
            "tags": []
          },
          "execution_count": 93
        }
      ]
    },
    {
      "cell_type": "markdown",
      "metadata": {
        "id": "OvzYnLnLvb1l"
      },
      "source": [
        "The result above shows that the element of list is encoded in logic format. 1st element is 1,0,0,0 and 2nd element is 0,1,0,0 and so on..."
      ]
    },
    {
      "cell_type": "code",
      "metadata": {
        "colab": {
          "base_uri": "https://localhost:8080/"
        },
        "id": "7hw8XEOqwMXu",
        "outputId": "cd693f82-e7bf-4b62-891e-ff97ec311026"
      },
      "source": [
        "# specify custom values for one hot encoding\n",
        "tf.one_hot(some_list,depth=4,on_value=\"Yes\",off_value=\"No\")"
      ],
      "execution_count": null,
      "outputs": [
        {
          "output_type": "execute_result",
          "data": {
            "text/plain": [
              "<tf.Tensor: shape=(4, 4), dtype=string, numpy=\n",
              "array([[b'Yes', b'No', b'No', b'No'],\n",
              "       [b'No', b'Yes', b'No', b'No'],\n",
              "       [b'No', b'No', b'Yes', b'No'],\n",
              "       [b'No', b'No', b'No', b'Yes']], dtype=object)>"
            ]
          },
          "metadata": {
            "tags": []
          },
          "execution_count": 94
        }
      ]
    },
    {
      "cell_type": "markdown",
      "metadata": {
        "id": "BsRGx9yTwg5Z"
      },
      "source": [
        "### squaring, log and square root"
      ]
    },
    {
      "cell_type": "code",
      "metadata": {
        "colab": {
          "base_uri": "https://localhost:8080/"
        },
        "id": "CadlJ_e5xfkC",
        "outputId": "940a3a12-9a26-44f7-f53e-917425f5f345"
      },
      "source": [
        "# create  a new tensor\n",
        "H=tf.range(1,10)\n",
        "H"
      ],
      "execution_count": null,
      "outputs": [
        {
          "output_type": "execute_result",
          "data": {
            "text/plain": [
              "<tf.Tensor: shape=(9,), dtype=int32, numpy=array([1, 2, 3, 4, 5, 6, 7, 8, 9], dtype=int32)>"
            ]
          },
          "metadata": {
            "tags": []
          },
          "execution_count": 95
        }
      ]
    },
    {
      "cell_type": "code",
      "metadata": {
        "colab": {
          "base_uri": "https://localhost:8080/"
        },
        "id": "Ob0_032Dxlj2",
        "outputId": "fb1e3149-4800-43fd-bb0b-e6c950685f0a"
      },
      "source": [
        "#square it\n",
        "tf.square(H)"
      ],
      "execution_count": null,
      "outputs": [
        {
          "output_type": "execute_result",
          "data": {
            "text/plain": [
              "<tf.Tensor: shape=(9,), dtype=int32, numpy=array([ 1,  4,  9, 16, 25, 36, 49, 64, 81], dtype=int32)>"
            ]
          },
          "metadata": {
            "tags": []
          },
          "execution_count": 96
        }
      ]
    },
    {
      "cell_type": "code",
      "metadata": {
        "colab": {
          "base_uri": "https://localhost:8080/",
          "height": 262
        },
        "id": "ub1j7C24yKfD",
        "outputId": "30d202c6-f838-451f-af5f-d61bc117de0d"
      },
      "source": [
        "#square_root ( will create an error method requires non- int type)\n",
        "tf.sqrt(H)"
      ],
      "execution_count": null,
      "outputs": [
        {
          "output_type": "error",
          "ename": "InvalidArgumentError",
          "evalue": "ignored",
          "traceback": [
            "\u001b[0;31m---------------------------------------------------------------------------\u001b[0m",
            "\u001b[0;31mInvalidArgumentError\u001b[0m                      Traceback (most recent call last)",
            "\u001b[0;32m<ipython-input-97-32a8a586448b>\u001b[0m in \u001b[0;36m<module>\u001b[0;34m()\u001b[0m\n\u001b[1;32m      1\u001b[0m \u001b[0;31m#square_root ( will create an error method requires non- int type)\u001b[0m\u001b[0;34m\u001b[0m\u001b[0;34m\u001b[0m\u001b[0;34m\u001b[0m\u001b[0m\n\u001b[0;32m----> 2\u001b[0;31m \u001b[0mtf\u001b[0m\u001b[0;34m.\u001b[0m\u001b[0msqrt\u001b[0m\u001b[0;34m(\u001b[0m\u001b[0mH\u001b[0m\u001b[0;34m)\u001b[0m\u001b[0;34m\u001b[0m\u001b[0;34m\u001b[0m\u001b[0m\n\u001b[0m",
            "\u001b[0;32m/usr/local/lib/python3.7/dist-packages/tensorflow/python/util/dispatch.py\u001b[0m in \u001b[0;36mwrapper\u001b[0;34m(*args, **kwargs)\u001b[0m\n\u001b[1;32m    199\u001b[0m     \u001b[0;34m\"\"\"Call target, and fall back on dispatchers if there is a TypeError.\"\"\"\u001b[0m\u001b[0;34m\u001b[0m\u001b[0;34m\u001b[0m\u001b[0m\n\u001b[1;32m    200\u001b[0m     \u001b[0;32mtry\u001b[0m\u001b[0;34m:\u001b[0m\u001b[0;34m\u001b[0m\u001b[0;34m\u001b[0m\u001b[0m\n\u001b[0;32m--> 201\u001b[0;31m       \u001b[0;32mreturn\u001b[0m \u001b[0mtarget\u001b[0m\u001b[0;34m(\u001b[0m\u001b[0;34m*\u001b[0m\u001b[0margs\u001b[0m\u001b[0;34m,\u001b[0m \u001b[0;34m**\u001b[0m\u001b[0mkwargs\u001b[0m\u001b[0;34m)\u001b[0m\u001b[0;34m\u001b[0m\u001b[0;34m\u001b[0m\u001b[0m\n\u001b[0m\u001b[1;32m    202\u001b[0m     \u001b[0;32mexcept\u001b[0m \u001b[0;34m(\u001b[0m\u001b[0mTypeError\u001b[0m\u001b[0;34m,\u001b[0m \u001b[0mValueError\u001b[0m\u001b[0;34m)\u001b[0m\u001b[0;34m:\u001b[0m\u001b[0;34m\u001b[0m\u001b[0;34m\u001b[0m\u001b[0m\n\u001b[1;32m    203\u001b[0m       \u001b[0;31m# Note: convert_to_eager_tensor currently raises a ValueError, not a\u001b[0m\u001b[0;34m\u001b[0m\u001b[0;34m\u001b[0m\u001b[0;34m\u001b[0m\u001b[0m\n",
            "\u001b[0;32m/usr/local/lib/python3.7/dist-packages/tensorflow/python/ops/math_ops.py\u001b[0m in \u001b[0;36msqrt\u001b[0;34m(x, name)\u001b[0m\n\u001b[1;32m   4901\u001b[0m     \u001b[0mA\u001b[0m\u001b[0;31m \u001b[0m\u001b[0;31m`\u001b[0m\u001b[0mtf\u001b[0m\u001b[0;34m.\u001b[0m\u001b[0mTensor\u001b[0m\u001b[0;31m`\u001b[0m \u001b[0mof\u001b[0m \u001b[0msame\u001b[0m \u001b[0msize\u001b[0m\u001b[0;34m,\u001b[0m \u001b[0mtype\u001b[0m \u001b[0;32mand\u001b[0m \u001b[0msparsity\u001b[0m \u001b[0;32mas\u001b[0m\u001b[0;31m \u001b[0m\u001b[0;31m`\u001b[0m\u001b[0mx\u001b[0m\u001b[0;31m`\u001b[0m\u001b[0;34m.\u001b[0m\u001b[0;34m\u001b[0m\u001b[0;34m\u001b[0m\u001b[0m\n\u001b[1;32m   4902\u001b[0m   \"\"\"\n\u001b[0;32m-> 4903\u001b[0;31m   \u001b[0;32mreturn\u001b[0m \u001b[0mgen_math_ops\u001b[0m\u001b[0;34m.\u001b[0m\u001b[0msqrt\u001b[0m\u001b[0;34m(\u001b[0m\u001b[0mx\u001b[0m\u001b[0;34m,\u001b[0m \u001b[0mname\u001b[0m\u001b[0;34m)\u001b[0m\u001b[0;34m\u001b[0m\u001b[0;34m\u001b[0m\u001b[0m\n\u001b[0m\u001b[1;32m   4904\u001b[0m \u001b[0;34m\u001b[0m\u001b[0m\n\u001b[1;32m   4905\u001b[0m \u001b[0;34m\u001b[0m\u001b[0m\n",
            "\u001b[0;32m/usr/local/lib/python3.7/dist-packages/tensorflow/python/ops/gen_math_ops.py\u001b[0m in \u001b[0;36msqrt\u001b[0;34m(x, name)\u001b[0m\n\u001b[1;32m  10035\u001b[0m       \u001b[0;32mreturn\u001b[0m \u001b[0m_result\u001b[0m\u001b[0;34m\u001b[0m\u001b[0;34m\u001b[0m\u001b[0m\n\u001b[1;32m  10036\u001b[0m     \u001b[0;32mexcept\u001b[0m \u001b[0m_core\u001b[0m\u001b[0;34m.\u001b[0m\u001b[0m_NotOkStatusException\u001b[0m \u001b[0;32mas\u001b[0m \u001b[0me\u001b[0m\u001b[0;34m:\u001b[0m\u001b[0;34m\u001b[0m\u001b[0;34m\u001b[0m\u001b[0m\n\u001b[0;32m> 10037\u001b[0;31m       \u001b[0m_ops\u001b[0m\u001b[0;34m.\u001b[0m\u001b[0mraise_from_not_ok_status\u001b[0m\u001b[0;34m(\u001b[0m\u001b[0me\u001b[0m\u001b[0;34m,\u001b[0m \u001b[0mname\u001b[0m\u001b[0;34m)\u001b[0m\u001b[0;34m\u001b[0m\u001b[0;34m\u001b[0m\u001b[0m\n\u001b[0m\u001b[1;32m  10038\u001b[0m     \u001b[0;32mexcept\u001b[0m \u001b[0m_core\u001b[0m\u001b[0;34m.\u001b[0m\u001b[0m_FallbackException\u001b[0m\u001b[0;34m:\u001b[0m\u001b[0;34m\u001b[0m\u001b[0;34m\u001b[0m\u001b[0m\n\u001b[1;32m  10039\u001b[0m       \u001b[0;32mpass\u001b[0m\u001b[0;34m\u001b[0m\u001b[0;34m\u001b[0m\u001b[0m\n",
            "\u001b[0;32m/usr/local/lib/python3.7/dist-packages/tensorflow/python/framework/ops.py\u001b[0m in \u001b[0;36mraise_from_not_ok_status\u001b[0;34m(e, name)\u001b[0m\n\u001b[1;32m   6860\u001b[0m   \u001b[0mmessage\u001b[0m \u001b[0;34m=\u001b[0m \u001b[0me\u001b[0m\u001b[0;34m.\u001b[0m\u001b[0mmessage\u001b[0m \u001b[0;34m+\u001b[0m \u001b[0;34m(\u001b[0m\u001b[0;34m\" name: \"\u001b[0m \u001b[0;34m+\u001b[0m \u001b[0mname\u001b[0m \u001b[0;32mif\u001b[0m \u001b[0mname\u001b[0m \u001b[0;32mis\u001b[0m \u001b[0;32mnot\u001b[0m \u001b[0;32mNone\u001b[0m \u001b[0;32melse\u001b[0m \u001b[0;34m\"\"\u001b[0m\u001b[0;34m)\u001b[0m\u001b[0;34m\u001b[0m\u001b[0;34m\u001b[0m\u001b[0m\n\u001b[1;32m   6861\u001b[0m   \u001b[0;31m# pylint: disable=protected-access\u001b[0m\u001b[0;34m\u001b[0m\u001b[0;34m\u001b[0m\u001b[0;34m\u001b[0m\u001b[0m\n\u001b[0;32m-> 6862\u001b[0;31m   \u001b[0msix\u001b[0m\u001b[0;34m.\u001b[0m\u001b[0mraise_from\u001b[0m\u001b[0;34m(\u001b[0m\u001b[0mcore\u001b[0m\u001b[0;34m.\u001b[0m\u001b[0m_status_to_exception\u001b[0m\u001b[0;34m(\u001b[0m\u001b[0me\u001b[0m\u001b[0;34m.\u001b[0m\u001b[0mcode\u001b[0m\u001b[0;34m,\u001b[0m \u001b[0mmessage\u001b[0m\u001b[0;34m)\u001b[0m\u001b[0;34m,\u001b[0m \u001b[0;32mNone\u001b[0m\u001b[0;34m)\u001b[0m\u001b[0;34m\u001b[0m\u001b[0;34m\u001b[0m\u001b[0m\n\u001b[0m\u001b[1;32m   6863\u001b[0m   \u001b[0;31m# pylint: enable=protected-access\u001b[0m\u001b[0;34m\u001b[0m\u001b[0;34m\u001b[0m\u001b[0;34m\u001b[0m\u001b[0m\n\u001b[1;32m   6864\u001b[0m \u001b[0;34m\u001b[0m\u001b[0m\n",
            "\u001b[0;32m/usr/local/lib/python3.7/dist-packages/six.py\u001b[0m in \u001b[0;36mraise_from\u001b[0;34m(value, from_value)\u001b[0m\n",
            "\u001b[0;31mInvalidArgumentError\u001b[0m: Value for attr 'T' of int32 is not in the list of allowed values: bfloat16, half, float, double, complex64, complex128\n\t; NodeDef: {{node Sqrt}}; Op<name=Sqrt; signature=x:T -> y:T; attr=T:type,allowed=[DT_BFLOAT16, DT_HALF, DT_FLOAT, DT_DOUBLE, DT_COMPLEX64, DT_COMPLEX128]> [Op:Sqrt]"
          ]
        }
      ]
    },
    {
      "cell_type": "code",
      "metadata": {
        "colab": {
          "base_uri": "https://localhost:8080/"
        },
        "id": "zeLdIrU-xpkO",
        "outputId": "373c9f7d-b7ac-4160-c0dd-6fc3fc64408b"
      },
      "source": [
        "#square_root\n",
        "tf.sqrt(tf.cast(H,dtype=tf.float32))"
      ],
      "execution_count": null,
      "outputs": [
        {
          "output_type": "execute_result",
          "data": {
            "text/plain": [
              "<tf.Tensor: shape=(9,), dtype=float32, numpy=\n",
              "array([0.99999994, 1.4142134 , 1.7320508 , 1.9999999 , 2.236068  ,\n",
              "       2.4494896 , 2.6457512 , 2.8284268 , 3.        ], dtype=float32)>"
            ]
          },
          "metadata": {
            "tags": []
          },
          "execution_count": 98
        }
      ]
    },
    {
      "cell_type": "code",
      "metadata": {
        "colab": {
          "base_uri": "https://localhost:8080/"
        },
        "id": "QqP3cUfnxzl-",
        "outputId": "64a5056a-1001-42b5-e49d-9566f5ab23dd"
      },
      "source": [
        "#Find the log\n",
        "tf.math.log(tf.cast(H,dtype=tf.float32))"
      ],
      "execution_count": null,
      "outputs": [
        {
          "output_type": "execute_result",
          "data": {
            "text/plain": [
              "<tf.Tensor: shape=(9,), dtype=float32, numpy=\n",
              "array([0.       , 0.6931472, 1.0986123, 1.3862944, 1.609438 , 1.7917595,\n",
              "       1.9459102, 2.0794415, 2.1972246], dtype=float32)>"
            ]
          },
          "metadata": {
            "tags": []
          },
          "execution_count": 99
        }
      ]
    },
    {
      "cell_type": "markdown",
      "metadata": {
        "id": "pSat9NoNybKu"
      },
      "source": [
        "### tensors and Numpy\n",
        "Tensorflow interacts beautifully with NumPy arrays."
      ]
    },
    {
      "cell_type": "code",
      "metadata": {
        "colab": {
          "base_uri": "https://localhost:8080/"
        },
        "id": "0q6SjqWfzBUC",
        "outputId": "782396e8-f624-48f2-d2e6-da5673c70b78"
      },
      "source": [
        "# Create tensor directly from NumPy\n",
        "import numpy as np\n",
        "J=tf.constant(np.array([3.,7.,100]))\n",
        "J"
      ],
      "execution_count": null,
      "outputs": [
        {
          "output_type": "execute_result",
          "data": {
            "text/plain": [
              "<tf.Tensor: shape=(3,), dtype=float64, numpy=array([  3.,   7., 100.])>"
            ]
          },
          "metadata": {
            "tags": []
          },
          "execution_count": 100
        }
      ]
    },
    {
      "cell_type": "code",
      "metadata": {
        "colab": {
          "base_uri": "https://localhost:8080/"
        },
        "id": "UONgXgcyzWqv",
        "outputId": "7805f546-71b4-46f8-9da9-60147d4e3f5a"
      },
      "source": [
        "#convery our tensor back to a NumPy array\n",
        "np.array(J), type(np.array(J))"
      ],
      "execution_count": null,
      "outputs": [
        {
          "output_type": "execute_result",
          "data": {
            "text/plain": [
              "(array([  3.,   7., 100.]), numpy.ndarray)"
            ]
          },
          "metadata": {
            "tags": []
          },
          "execution_count": 101
        }
      ]
    },
    {
      "cell_type": "code",
      "metadata": {
        "colab": {
          "base_uri": "https://localhost:8080/"
        },
        "id": "gO9s1lpQzru-",
        "outputId": "ffbd59ed-dc56-4c1c-b683-c8e6344dbae0"
      },
      "source": [
        "# Convert tensor J to a NumPy array\n",
        "J.numpy(), type(J.numpy())"
      ],
      "execution_count": null,
      "outputs": [
        {
          "output_type": "execute_result",
          "data": {
            "text/plain": [
              "(array([  3.,   7., 100.]), numpy.ndarray)"
            ]
          },
          "metadata": {
            "tags": []
          },
          "execution_count": 102
        }
      ]
    },
    {
      "cell_type": "code",
      "metadata": {
        "colab": {
          "base_uri": "https://localhost:8080/"
        },
        "id": "uJ_P-BINz6QG",
        "outputId": "99103b18-1fe1-41b8-d327-2453c58188c5"
      },
      "source": [
        "#the default type are slightly different\n",
        "numpy_j=tf.constant(np.array([1.,3.,5,]))\n",
        "tensor_j=tf.constant([3.,7.,10,])\n",
        "\n",
        "#check the data types of both\n",
        "numpy_j.dtype, tensor_j.dtype"
      ],
      "execution_count": null,
      "outputs": [
        {
          "output_type": "execute_result",
          "data": {
            "text/plain": [
              "(tf.float64, tf.float32)"
            ]
          },
          "metadata": {
            "tags": []
          },
          "execution_count": 103
        }
      ]
    },
    {
      "cell_type": "code",
      "metadata": {
        "id": "wo5pJ9Hr1OM2"
      },
      "source": [
        ""
      ],
      "execution_count": null,
      "outputs": []
    }
  ]
}