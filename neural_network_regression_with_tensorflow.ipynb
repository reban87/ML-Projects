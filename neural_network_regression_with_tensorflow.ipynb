{
  "nbformat": 4,
  "nbformat_minor": 0,
  "metadata": {
    "colab": {
      "name": "01_neural_network_regression_with_tensorflow.ipynb",
      "provenance": [],
      "mount_file_id": "1khHXgYhVUzNgk-Q7tah2mefso1jbpUuw",
      "authorship_tag": "ABX9TyP5rS5akJjr8huxAo8NQqYM",
      "include_colab_link": true
    },
    "kernelspec": {
      "name": "python3",
      "display_name": "Python 3"
    },
    "language_info": {
      "name": "python"
    }
  },
  "cells": [
    {
      "cell_type": "markdown",
      "metadata": {
        "id": "view-in-github",
        "colab_type": "text"
      },
      "source": [
        "<a href=\"https://colab.research.google.com/github/reban87/ML-Projects/blob/main/neural_network_regression_with_tensorflow.ipynb\" target=\"_parent\"><img src=\"https://colab.research.google.com/assets/colab-badge.svg\" alt=\"Open In Colab\"/></a>"
      ]
    },
    {
      "cell_type": "markdown",
      "metadata": {
        "id": "axiJn2-vungI"
      },
      "source": [
        "### Introduction to Regression with Neural Network in Tensorflow\n",
        "\n",
        "There are many defination for a regression problem but in our case, we are going to simplify it:predicting a numerical variable based\n",
        "on some other combinations of variables, even shorter.. predicting a number."
      ]
    },
    {
      "cell_type": "code",
      "metadata": {
        "id": "1zuY2aZNvbKy",
        "colab": {
          "base_uri": "https://localhost:8080/"
        },
        "outputId": "5c0b78e9-908c-4923-e9d8-6ed478021267"
      },
      "source": [
        "# Import Tensorflow\n",
        "import tensorflow as tf\n",
        "print(tf.__version__)"
      ],
      "execution_count": null,
      "outputs": [
        {
          "output_type": "stream",
          "text": [
            "2.4.1\n"
          ],
          "name": "stdout"
        }
      ]
    },
    {
      "cell_type": "markdown",
      "metadata": {
        "id": "W1RLyXK9kuqH"
      },
      "source": [
        "### Creating data to view and Fit"
      ]
    },
    {
      "cell_type": "code",
      "metadata": {
        "colab": {
          "base_uri": "https://localhost:8080/",
          "height": 301
        },
        "id": "2rDkRS_JlXZa",
        "outputId": "f9ce753d-965c-44f5-8d61-1050582c7668"
      },
      "source": [
        "import numpy as np\n",
        "import matplotlib.pyplot as plt\n",
        "\n",
        "#create  features\n",
        "X=np.array([-7.0,-4.0,-1.0,2.0,5.0,8.0,11.0,14.0])\n",
        "\n",
        "#create lebels\n",
        "y=np.array([3.0,6.0,9.0,12.0,15.0,18.0,21.0,24.0])\n",
        "\n",
        "#Visualize\n",
        "plt.scatter(X,y)\n",
        "plt.xlabel(\"X\")\n",
        "plt.ylabel(\"Y\")\n",
        "plt.legend('upper right')"
      ],
      "execution_count": null,
      "outputs": [
        {
          "output_type": "execute_result",
          "data": {
            "text/plain": [
              "<matplotlib.legend.Legend at 0x7f5c7639a6d0>"
            ]
          },
          "metadata": {
            "tags": []
          },
          "execution_count": 2
        },
        {
          "output_type": "display_data",
          "data": {
            "image/png": "[encoded data removed]",
            "text/plain": [
              "<Figure size 432x288 with 1 Axes>"
            ]
          },
          "metadata": {
            "tags": [],
            "needs_background": "light"
          }
        }
      ]
    },
    {
      "cell_type": "code",
      "metadata": {
        "colab": {
          "base_uri": "https://localhost:8080/"
        },
        "id": "bLrTGEW6mH2D",
        "outputId": "a048fa88-2d35-497b-97e1-9451581c3be2"
      },
      "source": [
        "y== X+10"
      ],
      "execution_count": null,
      "outputs": [
        {
          "output_type": "execute_result",
          "data": {
            "text/plain": [
              "array([ True,  True,  True,  True,  True,  True,  True,  True])"
            ]
          },
          "metadata": {
            "tags": []
          },
          "execution_count": 3
        }
      ]
    },
    {
      "cell_type": "markdown",
      "metadata": {
        "id": "CkZo0_-YmtYX"
      },
      "source": [
        "### Input and output shapes"
      ]
    },
    {
      "cell_type": "code",
      "metadata": {
        "colab": {
          "base_uri": "https://localhost:8080/"
        },
        "id": "ATTfxAUfm4EK",
        "outputId": "f450e842-df86-4f13-8f67-da6c80caf936"
      },
      "source": [
        "#Create a demo tensor for housing price prediction problem.\n",
        "house_info=tf.constant([\"bedroom\",\"bathroom\",\"garage\"])\n",
        "house_price=tf.constant([939700])#price of house from the slide\n",
        "house_info, house_price\n"
      ],
      "execution_count": null,
      "outputs": [
        {
          "output_type": "execute_result",
          "data": {
            "text/plain": [
              "(<tf.Tensor: shape=(3,), dtype=string, numpy=array([b'bedroom', b'bathroom', b'garage'], dtype=object)>,\n",
              " <tf.Tensor: shape=(1,), dtype=int32, numpy=array([939700], dtype=int32)>)"
            ]
          },
          "metadata": {
            "tags": []
          },
          "execution_count": 4
        }
      ]
    },
    {
      "cell_type": "code",
      "metadata": {
        "colab": {
          "base_uri": "https://localhost:8080/"
        },
        "id": "6nC76HF2pgdv",
        "outputId": "3500cd4a-0133-407d-8f6a-0de2f9b7fd08"
      },
      "source": [
        "input_shape=X.shape\n",
        "output_shape=y.shape\n",
        "input_shape,output_shape"
      ],
      "execution_count": null,
      "outputs": [
        {
          "output_type": "execute_result",
          "data": {
            "text/plain": [
              "((8,), (8,))"
            ]
          },
          "metadata": {
            "tags": []
          },
          "execution_count": 5
        }
      ]
    },
    {
      "cell_type": "code",
      "metadata": {
        "colab": {
          "base_uri": "https://localhost:8080/"
        },
        "id": "I9_29oLVp_ak",
        "outputId": "5806d108-5f2e-4cf9-9e8a-09b6f3f82d06"
      },
      "source": [
        "X[0],y[0]"
      ],
      "execution_count": null,
      "outputs": [
        {
          "output_type": "execute_result",
          "data": {
            "text/plain": [
              "(-7.0, 3.0)"
            ]
          },
          "metadata": {
            "tags": []
          },
          "execution_count": 6
        }
      ]
    },
    {
      "cell_type": "code",
      "metadata": {
        "colab": {
          "base_uri": "https://localhost:8080/"
        },
        "id": "M56kHeYeqKDt",
        "outputId": "2de84124-c932-4e0a-e526-346a2a15ff29"
      },
      "source": [
        "X[1],y[1]"
      ],
      "execution_count": null,
      "outputs": [
        {
          "output_type": "execute_result",
          "data": {
            "text/plain": [
              "(-4.0, 6.0)"
            ]
          },
          "metadata": {
            "tags": []
          },
          "execution_count": 7
        }
      ]
    },
    {
      "cell_type": "code",
      "metadata": {
        "colab": {
          "base_uri": "https://localhost:8080/"
        },
        "id": "6cq3ZcfQqP39",
        "outputId": "47ed636a-ced5-4dd3-f2f0-2a0fed051c41"
      },
      "source": [
        "X[0].ndim"
      ],
      "execution_count": null,
      "outputs": [
        {
          "output_type": "execute_result",
          "data": {
            "text/plain": [
              "0"
            ]
          },
          "metadata": {
            "tags": []
          },
          "execution_count": 8
        }
      ]
    },
    {
      "cell_type": "code",
      "metadata": {
        "colab": {
          "base_uri": "https://localhost:8080/"
        },
        "id": "2zDCJ5d4qf5t",
        "outputId": "dc333834-cbad-4308-dee4-3887c5f9a322"
      },
      "source": [
        "#Turn our NumPy arrays into tensors\n",
        "X=tf.cast(tf.constant(X),dtype=tf.float32)\n",
        "y=tf.cast(tf.constant(y),dtype=tf.float32)\n",
        "X,y"
      ],
      "execution_count": null,
      "outputs": [
        {
          "output_type": "execute_result",
          "data": {
            "text/plain": [
              "(<tf.Tensor: shape=(8,), dtype=float32, numpy=array([-7., -4., -1.,  2.,  5.,  8., 11., 14.], dtype=float32)>,\n",
              " <tf.Tensor: shape=(8,), dtype=float32, numpy=array([ 3.,  6.,  9., 12., 15., 18., 21., 24.], dtype=float32)>)"
            ]
          },
          "metadata": {
            "tags": []
          },
          "execution_count": 9
        }
      ]
    },
    {
      "cell_type": "code",
      "metadata": {
        "colab": {
          "base_uri": "https://localhost:8080/"
        },
        "id": "TedywNcuq1pO",
        "outputId": "e7220754-500c-4ef0-9631-1dd9d4f3131a"
      },
      "source": [
        "input_shape=X[0].shape\n",
        "output_shape=y[0].shape\n",
        "input_shape,output_shape"
      ],
      "execution_count": null,
      "outputs": [
        {
          "output_type": "execute_result",
          "data": {
            "text/plain": [
              "(TensorShape([]), TensorShape([]))"
            ]
          },
          "metadata": {
            "tags": []
          },
          "execution_count": 10
        }
      ]
    },
    {
      "cell_type": "code",
      "metadata": {
        "colab": {
          "base_uri": "https://localhost:8080/",
          "height": 286
        },
        "id": "LMKZEpbyrK80",
        "outputId": "895ba514-12a5-458b-c225-34a90c5e24b9"
      },
      "source": [
        "plt.scatter(X,y)"
      ],
      "execution_count": null,
      "outputs": [
        {
          "output_type": "execute_result",
          "data": {
            "text/plain": [
              "<matplotlib.collections.PathCollection at 0x7f5c762bcb90>"
            ]
          },
          "metadata": {
            "tags": []
          },
          "execution_count": 11
        },
        {
          "output_type": "display_data",
          "data": {
            "image/png": "[encoded data removed]",
            "text/plain": [
              "<Figure size 432x288 with 1 Axes>"
            ]
          },
          "metadata": {
            "tags": [],
            "needs_background": "light"
          }
        }
      ]
    },
    {
      "cell_type": "markdown",
      "metadata": {
        "id": "Btxp7n-5rV91"
      },
      "source": [
        "### Steps in modeling with Tensorflow\n",
        "1. Creating a model- define the input and output layers, as well as the hidden layers of a deep learning model\n",
        "2. Compiling a model - define the loss function (in other words, the function which tells our model how wrong it is) and the optimizer (tells our model how to improve the patterns its learning) and evaluation metrices ( what we can use to interpret the performance of our model)\n",
        "3. Fitting the model- letting a model try to find patterns between X and y."
      ]
    },
    {
      "cell_type": "code",
      "metadata": {
        "colab": {
          "base_uri": "https://localhost:8080/"
        },
        "id": "KCIXezzkrvIE",
        "outputId": "a282a822-66fb-4c28-c307-896ade84d332"
      },
      "source": [
        "# set a random seed\n",
        "tf.random.set_seed(42)\n",
        "\n",
        "#1. Creating a model using the Sequential API\n",
        "model=tf.keras.Sequential([\n",
        "      tf.keras.layers.Dense(1) #kati wota hidden layer rakhne vanne kura dense le vancha\n",
        "])\n",
        "\n",
        "#2. Compile the model\n",
        "model.compile(loss=tf.keras.losses.mae, #mae is short form of mean absolute error\n",
        "             optimizer=tf.keras.optimizers.SGD(), # SGD is short for Schocastic  gradient descent\n",
        "             metrics=[\"mae\"])\n",
        "\n",
        "#3. Fit the model\n",
        "model.fit(X,y, epochs=5)"
      ],
      "execution_count": null,
      "outputs": [
        {
          "output_type": "stream",
          "text": [
            "Epoch 1/5\n",
            "1/1 [==============================] - 1s 523ms/step - loss: 11.5048 - mae: 11.5048\n",
            "Epoch 2/5\n",
            "1/1 [==============================] - 0s 14ms/step - loss: 11.3723 - mae: 11.3723\n",
            "Epoch 3/5\n",
            "1/1 [==============================] - 0s 6ms/step - loss: 11.2398 - mae: 11.2398\n",
            "Epoch 4/5\n",
            "1/1 [==============================] - 0s 6ms/step - loss: 11.1073 - mae: 11.1073\n",
            "Epoch 5/5\n",
            "1/1 [==============================] - 0s 7ms/step - loss: 10.9748 - mae: 10.9748\n"
          ],
          "name": "stdout"
        },
        {
          "output_type": "execute_result",
          "data": {
            "text/plain": [
              "<tensorflow.python.keras.callbacks.History at 0x7f5c72ed1310>"
            ]
          },
          "metadata": {
            "tags": []
          },
          "execution_count": 12
        }
      ]
    },
    {
      "cell_type": "code",
      "metadata": {
        "colab": {
          "base_uri": "https://localhost:8080/"
        },
        "id": "rkXM7g-jsxc5",
        "outputId": "c515de9c-56b9-48e3-8dbe-47f73e3a8691"
      },
      "source": [
        "# Check X and y\n",
        "X,y"
      ],
      "execution_count": null,
      "outputs": [
        {
          "output_type": "execute_result",
          "data": {
            "text/plain": [
              "(<tf.Tensor: shape=(8,), dtype=float32, numpy=array([-7., -4., -1.,  2.,  5.,  8., 11., 14.], dtype=float32)>,\n",
              " <tf.Tensor: shape=(8,), dtype=float32, numpy=array([ 3.,  6.,  9., 12., 15., 18., 21., 24.], dtype=float32)>)"
            ]
          },
          "metadata": {
            "tags": []
          },
          "execution_count": 13
        }
      ]
    },
    {
      "cell_type": "markdown",
      "metadata": {
        "id": "cISwCpHE28WB"
      },
      "source": [
        ""
      ]
    },
    {
      "cell_type": "code",
      "metadata": {
        "colab": {
          "base_uri": "https://localhost:8080/"
        },
        "id": "bEjA0jSCwlvP",
        "outputId": "67771a2a-964b-453a-92ee-6901239f9040"
      },
      "source": [
        "# Try and make a prediction using our model\n",
        "y_pred=model.predict([17.0])\n",
        "y_pred # we were expecting to get the values to be 27 but it is showing around 12...."
      ],
      "execution_count": null,
      "outputs": [
        {
          "output_type": "execute_result",
          "data": {
            "text/plain": [
              "array([[12.716021]], dtype=float32)"
            ]
          },
          "metadata": {
            "tags": []
          },
          "execution_count": 8
        }
      ]
    },
    {
      "cell_type": "code",
      "metadata": {
        "id": "WjF-GW5y28up"
      },
      "source": [
        ""
      ],
      "execution_count": null,
      "outputs": []
    },
    {
      "cell_type": "code",
      "metadata": {
        "colab": {
          "base_uri": "https://localhost:8080/"
        },
        "id": "LhNyUgJRwwK0",
        "outputId": "4f23932d-d24b-4e31-f8fb-7af03fc44538"
      },
      "source": [
        "y_pred+11"
      ],
      "execution_count": null,
      "outputs": [
        {
          "output_type": "execute_result",
          "data": {
            "text/plain": [
              "array([[23.71602]], dtype=float32)"
            ]
          },
          "metadata": {
            "tags": []
          },
          "execution_count": 38
        }
      ]
    },
    {
      "cell_type": "markdown",
      "metadata": {
        "id": "WKUY8N_r2793"
      },
      "source": [
        ""
      ]
    },
    {
      "cell_type": "markdown",
      "metadata": {
        "id": "nDnVtZWRxCqT"
      },
      "source": [
        "### Improving our model\n",
        "\n",
        "We can improve our model, by altering the steps we took to create a model.\n",
        "\n",
        "1. **Creating a model** -Here we might add more layers, increase the number of hidden units ( all called neurons) within each of the hidden layers, change the activation function of each layer.\n",
        "\n",
        "2. **Compiling model** - Here we might change the optimization function of perhaps the **learning rate**  of the optimization function.\n",
        "\n",
        "3. **Fitting a model** -here we might fit a model for more **epochs** (leave it training for longer) or on more data (give the model more examples to learn from)"
      ]
    },
    {
      "cell_type": "code",
      "metadata": {
        "colab": {
          "base_uri": "https://localhost:8080/"
        },
        "id": "qI669I1szNnq",
        "outputId": "2e8fa18d-fa99-4b16-b010-a4b4d80b2d72"
      },
      "source": [
        "# Let's rebuild our model\n",
        "#1. Create the model\n",
        "model=tf.keras.Sequential([\n",
        "      tf.keras.layers.Dense(1)\n",
        "])\n",
        "\n",
        "#2. Compile the model\n",
        "model.compile(loss=tf.keras.losses.mae,\n",
        "              optimizer=tf.keras.optimizers.SGD(),\n",
        "              metrics=[\"mae\"])\n",
        "\n",
        "#3. Fit the model (This time we will traing longer)\n",
        "model.fit(X,y, epochs=100)"
      ],
      "execution_count": null,
      "outputs": [
        {
          "output_type": "stream",
          "text": [
            "Epoch 1/100\n",
            "1/1 [==============================] - 0s 294ms/step - loss: 10.5736 - mae: 10.5736\n",
            "Epoch 2/100\n",
            "1/1 [==============================] - 0s 9ms/step - loss: 10.4411 - mae: 10.4411\n",
            "Epoch 3/100\n",
            "1/1 [==============================] - 0s 3ms/step - loss: 10.3086 - mae: 10.3086\n",
            "Epoch 4/100\n",
            "1/1 [==============================] - 0s 4ms/step - loss: 10.1761 - mae: 10.1761\n",
            "Epoch 5/100\n",
            "1/1 [==============================] - 0s 7ms/step - loss: 10.0436 - mae: 10.0436\n",
            "Epoch 6/100\n",
            "1/1 [==============================] - 0s 5ms/step - loss: 9.9111 - mae: 9.9111\n",
            "Epoch 7/100\n",
            "1/1 [==============================] - 0s 5ms/step - loss: 9.7786 - mae: 9.7786\n",
            "Epoch 8/100\n",
            "1/1 [==============================] - 0s 7ms/step - loss: 9.6461 - mae: 9.6461\n",
            "Epoch 9/100\n",
            "1/1 [==============================] - 0s 6ms/step - loss: 9.5136 - mae: 9.5136\n",
            "Epoch 10/100\n",
            "1/1 [==============================] - 0s 4ms/step - loss: 9.3811 - mae: 9.3811\n",
            "Epoch 11/100\n",
            "1/1 [==============================] - 0s 5ms/step - loss: 9.2486 - mae: 9.2486\n",
            "Epoch 12/100\n",
            "1/1 [==============================] - 0s 8ms/step - loss: 9.1161 - mae: 9.1161\n",
            "Epoch 13/100\n",
            "1/1 [==============================] - 0s 7ms/step - loss: 8.9836 - mae: 8.9836\n",
            "Epoch 14/100\n",
            "1/1 [==============================] - 0s 4ms/step - loss: 8.8511 - mae: 8.8511\n",
            "Epoch 15/100\n",
            "1/1 [==============================] - 0s 4ms/step - loss: 8.7186 - mae: 8.7186\n",
            "Epoch 16/100\n",
            "1/1 [==============================] - 0s 6ms/step - loss: 8.5861 - mae: 8.5861\n",
            "Epoch 17/100\n",
            "1/1 [==============================] - 0s 7ms/step - loss: 8.4536 - mae: 8.4536\n",
            "Epoch 18/100\n",
            "1/1 [==============================] - 0s 5ms/step - loss: 8.3211 - mae: 8.3211\n",
            "Epoch 19/100\n",
            "1/1 [==============================] - 0s 6ms/step - loss: 8.1886 - mae: 8.1886\n",
            "Epoch 20/100\n",
            "1/1 [==============================] - 0s 7ms/step - loss: 8.0561 - mae: 8.0561\n",
            "Epoch 21/100\n",
            "1/1 [==============================] - 0s 7ms/step - loss: 7.9236 - mae: 7.9236\n",
            "Epoch 22/100\n",
            "1/1 [==============================] - 0s 5ms/step - loss: 7.7911 - mae: 7.7911\n",
            "Epoch 23/100\n",
            "1/1 [==============================] - 0s 6ms/step - loss: 7.6586 - mae: 7.6586\n",
            "Epoch 24/100\n",
            "1/1 [==============================] - 0s 6ms/step - loss: 7.5261 - mae: 7.5261\n",
            "Epoch 25/100\n",
            "1/1 [==============================] - 0s 8ms/step - loss: 7.3936 - mae: 7.3936\n",
            "Epoch 26/100\n",
            "1/1 [==============================] - 0s 6ms/step - loss: 7.3125 - mae: 7.3125\n",
            "Epoch 27/100\n",
            "1/1 [==============================] - 0s 5ms/step - loss: 7.3069 - mae: 7.3069\n",
            "Epoch 28/100\n",
            "1/1 [==============================] - 0s 7ms/step - loss: 7.3012 - mae: 7.3012\n",
            "Epoch 29/100\n",
            "1/1 [==============================] - 0s 4ms/step - loss: 7.2956 - mae: 7.2956\n",
            "Epoch 30/100\n",
            "1/1 [==============================] - 0s 9ms/step - loss: 7.2900 - mae: 7.2900\n",
            "Epoch 31/100\n",
            "1/1 [==============================] - 0s 9ms/step - loss: 7.2844 - mae: 7.2844\n",
            "Epoch 32/100\n",
            "1/1 [==============================] - 0s 4ms/step - loss: 7.2787 - mae: 7.2787\n",
            "Epoch 33/100\n",
            "1/1 [==============================] - 0s 5ms/step - loss: 7.2731 - mae: 7.2731\n",
            "Epoch 34/100\n",
            "1/1 [==============================] - 0s 5ms/step - loss: 7.2675 - mae: 7.2675\n",
            "Epoch 35/100\n",
            "1/1 [==============================] - 0s 4ms/step - loss: 7.2619 - mae: 7.2619\n",
            "Epoch 36/100\n",
            "1/1 [==============================] - 0s 5ms/step - loss: 7.2562 - mae: 7.2562\n",
            "Epoch 37/100\n",
            "1/1 [==============================] - 0s 8ms/step - loss: 7.2506 - mae: 7.2506\n",
            "Epoch 38/100\n",
            "1/1 [==============================] - 0s 5ms/step - loss: 7.2450 - mae: 7.2450\n",
            "Epoch 39/100\n",
            "1/1 [==============================] - 0s 5ms/step - loss: 7.2394 - mae: 7.2394\n",
            "Epoch 40/100\n",
            "1/1 [==============================] - 0s 40ms/step - loss: 7.2337 - mae: 7.2337\n",
            "Epoch 41/100\n",
            "1/1 [==============================] - 0s 8ms/step - loss: 7.2281 - mae: 7.2281\n",
            "Epoch 42/100\n",
            "1/1 [==============================] - 0s 5ms/step - loss: 7.2225 - mae: 7.2225\n",
            "Epoch 43/100\n",
            "1/1 [==============================] - 0s 5ms/step - loss: 7.2169 - mae: 7.2169\n",
            "Epoch 44/100\n",
            "1/1 [==============================] - 0s 7ms/step - loss: 7.2112 - mae: 7.2112\n",
            "Epoch 45/100\n",
            "1/1 [==============================] - 0s 9ms/step - loss: 7.2056 - mae: 7.2056\n",
            "Epoch 46/100\n",
            "1/1 [==============================] - 0s 5ms/step - loss: 7.2000 - mae: 7.2000\n",
            "Epoch 47/100\n",
            "1/1 [==============================] - 0s 9ms/step - loss: 7.1944 - mae: 7.1944\n",
            "Epoch 48/100\n",
            "1/1 [==============================] - 0s 5ms/step - loss: 7.1887 - mae: 7.1887\n",
            "Epoch 49/100\n",
            "1/1 [==============================] - 0s 6ms/step - loss: 7.1831 - mae: 7.1831\n",
            "Epoch 50/100\n",
            "1/1 [==============================] - 0s 8ms/step - loss: 7.1775 - mae: 7.1775\n",
            "Epoch 51/100\n",
            "1/1 [==============================] - 0s 6ms/step - loss: 7.1719 - mae: 7.1719\n",
            "Epoch 52/100\n",
            "1/1 [==============================] - 0s 6ms/step - loss: 7.1663 - mae: 7.1663\n",
            "Epoch 53/100\n",
            "1/1 [==============================] - 0s 6ms/step - loss: 7.1606 - mae: 7.1606\n",
            "Epoch 54/100\n",
            "1/1 [==============================] - 0s 9ms/step - loss: 7.1550 - mae: 7.1550\n",
            "Epoch 55/100\n",
            "1/1 [==============================] - 0s 5ms/step - loss: 7.1494 - mae: 7.1494\n",
            "Epoch 56/100\n",
            "1/1 [==============================] - 0s 5ms/step - loss: 7.1438 - mae: 7.1438\n",
            "Epoch 57/100\n",
            "1/1 [==============================] - 0s 7ms/step - loss: 7.1381 - mae: 7.1381\n",
            "Epoch 58/100\n",
            "1/1 [==============================] - 0s 5ms/step - loss: 7.1325 - mae: 7.1325\n",
            "Epoch 59/100\n",
            "1/1 [==============================] - 0s 10ms/step - loss: 7.1269 - mae: 7.1269\n",
            "Epoch 60/100\n",
            "1/1 [==============================] - 0s 5ms/step - loss: 7.1213 - mae: 7.1213\n",
            "Epoch 61/100\n",
            "1/1 [==============================] - 0s 14ms/step - loss: 7.1156 - mae: 7.1156\n",
            "Epoch 62/100\n",
            "1/1 [==============================] - 0s 8ms/step - loss: 7.1100 - mae: 7.1100\n",
            "Epoch 63/100\n",
            "1/1 [==============================] - 0s 7ms/step - loss: 7.1044 - mae: 7.1044\n",
            "Epoch 64/100\n",
            "1/1 [==============================] - 0s 7ms/step - loss: 7.0988 - mae: 7.0988\n",
            "Epoch 65/100\n",
            "1/1 [==============================] - 0s 7ms/step - loss: 7.0931 - mae: 7.0931\n",
            "Epoch 66/100\n",
            "1/1 [==============================] - 0s 7ms/step - loss: 7.0875 - mae: 7.0875\n",
            "Epoch 67/100\n",
            "1/1 [==============================] - 0s 8ms/step - loss: 7.0819 - mae: 7.0819\n",
            "Epoch 68/100\n",
            "1/1 [==============================] - 0s 6ms/step - loss: 7.0763 - mae: 7.0763\n",
            "Epoch 69/100\n",
            "1/1 [==============================] - 0s 5ms/step - loss: 7.0706 - mae: 7.0706\n",
            "Epoch 70/100\n",
            "1/1 [==============================] - 0s 10ms/step - loss: 7.0650 - mae: 7.0650\n",
            "Epoch 71/100\n",
            "1/1 [==============================] - 0s 6ms/step - loss: 7.0594 - mae: 7.0594\n",
            "Epoch 72/100\n",
            "1/1 [==============================] - 0s 7ms/step - loss: 7.0538 - mae: 7.0538\n",
            "Epoch 73/100\n",
            "1/1 [==============================] - 0s 6ms/step - loss: 7.0481 - mae: 7.0481\n",
            "Epoch 74/100\n",
            "1/1 [==============================] - 0s 8ms/step - loss: 7.0425 - mae: 7.0425\n",
            "Epoch 75/100\n",
            "1/1 [==============================] - 0s 5ms/step - loss: 7.0369 - mae: 7.0369\n",
            "Epoch 76/100\n",
            "1/1 [==============================] - 0s 14ms/step - loss: 7.0312 - mae: 7.0312\n",
            "Epoch 77/100\n",
            "1/1 [==============================] - 0s 5ms/step - loss: 7.0256 - mae: 7.0256\n",
            "Epoch 78/100\n",
            "1/1 [==============================] - 0s 7ms/step - loss: 7.0200 - mae: 7.0200\n",
            "Epoch 79/100\n",
            "1/1 [==============================] - 0s 6ms/step - loss: 7.0144 - mae: 7.0144\n",
            "Epoch 80/100\n",
            "1/1 [==============================] - 0s 8ms/step - loss: 7.0087 - mae: 7.0087\n",
            "Epoch 81/100\n",
            "1/1 [==============================] - 0s 6ms/step - loss: 7.0031 - mae: 7.0031\n",
            "Epoch 82/100\n",
            "1/1 [==============================] - 0s 9ms/step - loss: 6.9975 - mae: 6.9975\n",
            "Epoch 83/100\n",
            "1/1 [==============================] - 0s 5ms/step - loss: 6.9919 - mae: 6.9919\n",
            "Epoch 84/100\n",
            "1/1 [==============================] - 0s 6ms/step - loss: 6.9862 - mae: 6.9862\n",
            "Epoch 85/100\n",
            "1/1 [==============================] - 0s 8ms/step - loss: 6.9806 - mae: 6.9806\n",
            "Epoch 86/100\n",
            "1/1 [==============================] - 0s 6ms/step - loss: 6.9750 - mae: 6.9750\n",
            "Epoch 87/100\n",
            "1/1 [==============================] - 0s 9ms/step - loss: 6.9694 - mae: 6.9694\n",
            "Epoch 88/100\n",
            "1/1 [==============================] - 0s 5ms/step - loss: 6.9637 - mae: 6.9637\n",
            "Epoch 89/100\n",
            "1/1 [==============================] - 0s 5ms/step - loss: 6.9581 - mae: 6.9581\n",
            "Epoch 90/100\n",
            "1/1 [==============================] - 0s 5ms/step - loss: 6.9525 - mae: 6.9525\n",
            "Epoch 91/100\n",
            "1/1 [==============================] - 0s 8ms/step - loss: 6.9469 - mae: 6.9469\n",
            "Epoch 92/100\n",
            "1/1 [==============================] - 0s 7ms/step - loss: 6.9413 - mae: 6.9413\n",
            "Epoch 93/100\n",
            "1/1 [==============================] - 0s 7ms/step - loss: 6.9356 - mae: 6.9356\n",
            "Epoch 94/100\n",
            "1/1 [==============================] - 0s 8ms/step - loss: 6.9300 - mae: 6.9300\n",
            "Epoch 95/100\n",
            "1/1 [==============================] - 0s 7ms/step - loss: 6.9244 - mae: 6.9244\n",
            "Epoch 96/100\n",
            "1/1 [==============================] - 0s 5ms/step - loss: 6.9188 - mae: 6.9188\n",
            "Epoch 97/100\n",
            "1/1 [==============================] - 0s 6ms/step - loss: 6.9131 - mae: 6.9131\n",
            "Epoch 98/100\n",
            "1/1 [==============================] - 0s 6ms/step - loss: 6.9075 - mae: 6.9075\n",
            "Epoch 99/100\n",
            "1/1 [==============================] - 0s 7ms/step - loss: 6.9019 - mae: 6.9019\n",
            "Epoch 100/100\n",
            "1/1 [==============================] - 0s 4ms/step - loss: 6.8963 - mae: 6.8963\n"
          ],
          "name": "stdout"
        },
        {
          "output_type": "execute_result",
          "data": {
            "text/plain": [
              "<tensorflow.python.keras.callbacks.History at 0x7f5c71baae50>"
            ]
          },
          "metadata": {
            "tags": []
          },
          "execution_count": 28
        }
      ]
    },
    {
      "cell_type": "code",
      "metadata": {
        "colab": {
          "base_uri": "https://localhost:8080/"
        },
        "id": "EVc2faFF5QJ7",
        "outputId": "a3072126-0446-48e4-9eec-6b2c235ac4c5"
      },
      "source": [
        "# Remind ourselves of the data\n",
        "X,y"
      ],
      "execution_count": null,
      "outputs": [
        {
          "output_type": "execute_result",
          "data": {
            "text/plain": [
              "(<tf.Tensor: shape=(8,), dtype=float32, numpy=array([-7., -4., -1.,  2.,  5.,  8., 11., 14.], dtype=float32)>,\n",
              " <tf.Tensor: shape=(8,), dtype=float32, numpy=array([ 3.,  6.,  9., 12., 15., 18., 21., 24.], dtype=float32)>)"
            ]
          },
          "metadata": {
            "tags": []
          },
          "execution_count": 37
        }
      ]
    },
    {
      "cell_type": "code",
      "metadata": {
        "colab": {
          "base_uri": "https://localhost:8080/"
        },
        "id": "eleccpVF5sRM",
        "outputId": "a0acb32b-4665-4b3c-958e-e38c64abbd53"
      },
      "source": [
        "# Let's see if our model prediction has improved...\n",
        "model.predict([17.0])"
      ],
      "execution_count": null,
      "outputs": [
        {
          "output_type": "execute_result",
          "data": {
            "text/plain": [
              "array([[28.559576]], dtype=float32)"
            ]
          },
          "metadata": {
            "tags": []
          },
          "execution_count": 38
        }
      ]
    },
    {
      "cell_type": "code",
      "metadata": {
        "colab": {
          "base_uri": "https://localhost:8080/"
        },
        "id": "pThp2H8Z51Ys",
        "outputId": "f03e8842-5109-411f-c6d7-0ff5adc34267"
      },
      "source": [
        "# Let;s again improve our model by updating some hyper parameters in the model\n",
        "\n",
        "# 1. Create a model\n",
        "model=tf.keras.Sequential([\n",
        "      tf.keras.layers.Dense(100),\n",
        "      tf.keras.layers.Dense(100),\n",
        "      tf.keras.layers.Dense(100),\n",
        "      tf.keras.layers.Dense(1)                     \n",
        "])\n",
        "\n",
        "#2. Compile the model\n",
        "model.compile(loss=tf.keras.losses.mae,\n",
        "              optimizer=tf.keras.optimizers.Adam(learning_rate=0.01),\n",
        "              metrics=[\"mae\"])\n",
        "\n",
        "#3. run the model\n",
        "model.fit(X,y, epochs=100)\n"
      ],
      "execution_count": null,
      "outputs": [
        {
          "output_type": "stream",
          "text": [
            "Epoch 1/100\n",
            "1/1 [==============================] - 1s 538ms/step - loss: 13.3155 - mae: 13.3155\n",
            "Epoch 2/100\n",
            "1/1 [==============================] - 0s 7ms/step - loss: 11.5805 - mae: 11.5805\n",
            "Epoch 3/100\n",
            "1/1 [==============================] - 0s 8ms/step - loss: 10.2449 - mae: 10.2449\n",
            "Epoch 4/100\n",
            "1/1 [==============================] - 0s 16ms/step - loss: 10.9818 - mae: 10.9818\n",
            "Epoch 5/100\n",
            "1/1 [==============================] - 0s 6ms/step - loss: 9.4176 - mae: 9.4176\n",
            "Epoch 6/100\n",
            "1/1 [==============================] - 0s 5ms/step - loss: 7.0347 - mae: 7.0347\n",
            "Epoch 7/100\n",
            "1/1 [==============================] - 0s 14ms/step - loss: 7.8120 - mae: 7.8120\n",
            "Epoch 8/100\n",
            "1/1 [==============================] - 0s 5ms/step - loss: 7.6566 - mae: 7.6566\n",
            "Epoch 9/100\n",
            "1/1 [==============================] - 0s 5ms/step - loss: 5.8639 - mae: 5.8639\n",
            "Epoch 10/100\n",
            "1/1 [==============================] - 0s 8ms/step - loss: 7.5575 - mae: 7.5575\n",
            "Epoch 11/100\n",
            "1/1 [==============================] - 0s 8ms/step - loss: 7.2497 - mae: 7.2497\n",
            "Epoch 12/100\n",
            "1/1 [==============================] - 0s 5ms/step - loss: 5.1561 - mae: 5.1561\n",
            "Epoch 13/100\n",
            "1/1 [==============================] - 0s 8ms/step - loss: 6.6936 - mae: 6.6936\n",
            "Epoch 14/100\n",
            "1/1 [==============================] - 0s 9ms/step - loss: 6.8623 - mae: 6.8623\n",
            "Epoch 15/100\n",
            "1/1 [==============================] - 0s 6ms/step - loss: 4.3682 - mae: 4.3682\n",
            "Epoch 16/100\n",
            "1/1 [==============================] - 0s 11ms/step - loss: 4.5571 - mae: 4.5571\n",
            "Epoch 17/100\n",
            "1/1 [==============================] - 0s 13ms/step - loss: 5.2715 - mae: 5.2715\n",
            "Epoch 18/100\n",
            "1/1 [==============================] - 0s 7ms/step - loss: 4.6501 - mae: 4.6501\n",
            "Epoch 19/100\n",
            "1/1 [==============================] - 0s 10ms/step - loss: 2.8020 - mae: 2.8020\n",
            "Epoch 20/100\n",
            "1/1 [==============================] - 0s 13ms/step - loss: 1.4526 - mae: 1.4526\n",
            "Epoch 21/100\n",
            "1/1 [==============================] - 0s 7ms/step - loss: 1.6065 - mae: 1.6065\n",
            "Epoch 22/100\n",
            "1/1 [==============================] - 0s 15ms/step - loss: 1.3845 - mae: 1.3845\n",
            "Epoch 23/100\n",
            "1/1 [==============================] - 0s 13ms/step - loss: 1.8116 - mae: 1.8116\n",
            "Epoch 24/100\n",
            "1/1 [==============================] - 0s 9ms/step - loss: 1.3992 - mae: 1.3992\n",
            "Epoch 25/100\n",
            "1/1 [==============================] - 0s 8ms/step - loss: 0.6894 - mae: 0.6894\n",
            "Epoch 26/100\n",
            "1/1 [==============================] - 0s 6ms/step - loss: 1.3947 - mae: 1.3947\n",
            "Epoch 27/100\n",
            "1/1 [==============================] - 0s 6ms/step - loss: 1.6876 - mae: 1.6876\n",
            "Epoch 28/100\n",
            "1/1 [==============================] - 0s 11ms/step - loss: 1.2010 - mae: 1.2010\n",
            "Epoch 29/100\n",
            "1/1 [==============================] - 0s 9ms/step - loss: 2.0616 - mae: 2.0616\n",
            "Epoch 30/100\n",
            "1/1 [==============================] - 0s 11ms/step - loss: 2.5021 - mae: 2.5021\n",
            "Epoch 31/100\n",
            "1/1 [==============================] - 0s 6ms/step - loss: 1.6463 - mae: 1.6463\n",
            "Epoch 32/100\n",
            "1/1 [==============================] - 0s 7ms/step - loss: 1.0510 - mae: 1.0510\n",
            "Epoch 33/100\n",
            "1/1 [==============================] - 0s 8ms/step - loss: 1.1455 - mae: 1.1455\n",
            "Epoch 34/100\n",
            "1/1 [==============================] - 0s 6ms/step - loss: 0.5757 - mae: 0.5757\n",
            "Epoch 35/100\n",
            "1/1 [==============================] - 0s 7ms/step - loss: 1.5589 - mae: 1.5589\n",
            "Epoch 36/100\n",
            "1/1 [==============================] - 0s 7ms/step - loss: 1.9580 - mae: 1.9580\n",
            "Epoch 37/100\n",
            "1/1 [==============================] - 0s 5ms/step - loss: 1.0610 - mae: 1.0610\n",
            "Epoch 38/100\n",
            "1/1 [==============================] - 0s 4ms/step - loss: 0.8635 - mae: 0.8635\n",
            "Epoch 39/100\n",
            "1/1 [==============================] - 0s 9ms/step - loss: 1.4182 - mae: 1.4182\n",
            "Epoch 40/100\n",
            "1/1 [==============================] - 0s 8ms/step - loss: 1.1688 - mae: 1.1688\n",
            "Epoch 41/100\n",
            "1/1 [==============================] - 0s 9ms/step - loss: 0.6046 - mae: 0.6046\n",
            "Epoch 42/100\n",
            "1/1 [==============================] - 0s 9ms/step - loss: 0.7898 - mae: 0.7898\n",
            "Epoch 43/100\n",
            "1/1 [==============================] - 0s 11ms/step - loss: 0.0945 - mae: 0.0945\n",
            "Epoch 44/100\n",
            "1/1 [==============================] - 0s 7ms/step - loss: 0.4589 - mae: 0.4589\n",
            "Epoch 45/100\n",
            "1/1 [==============================] - 0s 6ms/step - loss: 0.5593 - mae: 0.5593\n",
            "Epoch 46/100\n",
            "1/1 [==============================] - 0s 10ms/step - loss: 0.5962 - mae: 0.5962\n",
            "Epoch 47/100\n",
            "1/1 [==============================] - 0s 7ms/step - loss: 0.3046 - mae: 0.3046\n",
            "Epoch 48/100\n",
            "1/1 [==============================] - 0s 7ms/step - loss: 0.4278 - mae: 0.4278\n",
            "Epoch 49/100\n",
            "1/1 [==============================] - 0s 12ms/step - loss: 0.4787 - mae: 0.4787\n",
            "Epoch 50/100\n",
            "1/1 [==============================] - 0s 6ms/step - loss: 0.3714 - mae: 0.3714\n",
            "Epoch 51/100\n",
            "1/1 [==============================] - 0s 37ms/step - loss: 0.6404 - mae: 0.6404\n",
            "Epoch 52/100\n",
            "1/1 [==============================] - 0s 7ms/step - loss: 0.2010 - mae: 0.2010\n",
            "Epoch 53/100\n",
            "1/1 [==============================] - 0s 12ms/step - loss: 0.7703 - mae: 0.7703\n",
            "Epoch 54/100\n",
            "1/1 [==============================] - 0s 11ms/step - loss: 0.7004 - mae: 0.7004\n",
            "Epoch 55/100\n",
            "1/1 [==============================] - 0s 10ms/step - loss: 0.7649 - mae: 0.7649\n",
            "Epoch 56/100\n",
            "1/1 [==============================] - 0s 7ms/step - loss: 0.7187 - mae: 0.7187\n",
            "Epoch 57/100\n",
            "1/1 [==============================] - 0s 9ms/step - loss: 0.4815 - mae: 0.4815\n",
            "Epoch 58/100\n",
            "1/1 [==============================] - 0s 9ms/step - loss: 0.4451 - mae: 0.4451\n",
            "Epoch 59/100\n",
            "1/1 [==============================] - 0s 8ms/step - loss: 0.5430 - mae: 0.5430\n",
            "Epoch 60/100\n",
            "1/1 [==============================] - 0s 6ms/step - loss: 0.4545 - mae: 0.4545\n",
            "Epoch 61/100\n",
            "1/1 [==============================] - 0s 9ms/step - loss: 0.6839 - mae: 0.6839\n",
            "Epoch 62/100\n",
            "1/1 [==============================] - 0s 11ms/step - loss: 0.6463 - mae: 0.6463\n",
            "Epoch 63/100\n",
            "1/1 [==============================] - 0s 7ms/step - loss: 0.3231 - mae: 0.3231\n",
            "Epoch 64/100\n",
            "1/1 [==============================] - 0s 13ms/step - loss: 0.2642 - mae: 0.2642\n",
            "Epoch 65/100\n",
            "1/1 [==============================] - 0s 12ms/step - loss: 0.8545 - mae: 0.8545\n",
            "Epoch 66/100\n",
            "1/1 [==============================] - 0s 6ms/step - loss: 0.8025 - mae: 0.8025\n",
            "Epoch 67/100\n",
            "1/1 [==============================] - 0s 9ms/step - loss: 0.1431 - mae: 0.1431\n",
            "Epoch 68/100\n",
            "1/1 [==============================] - 0s 12ms/step - loss: 0.2561 - mae: 0.2561\n",
            "Epoch 69/100\n",
            "1/1 [==============================] - 0s 7ms/step - loss: 0.5084 - mae: 0.5084\n",
            "Epoch 70/100\n",
            "1/1 [==============================] - 0s 11ms/step - loss: 0.2711 - mae: 0.2711\n",
            "Epoch 71/100\n",
            "1/1 [==============================] - 0s 11ms/step - loss: 0.8934 - mae: 0.8934\n",
            "Epoch 72/100\n",
            "1/1 [==============================] - 0s 9ms/step - loss: 0.9337 - mae: 0.9337\n",
            "Epoch 73/100\n",
            "1/1 [==============================] - 0s 13ms/step - loss: 0.0948 - mae: 0.0948\n",
            "Epoch 74/100\n",
            "1/1 [==============================] - 0s 16ms/step - loss: 0.4919 - mae: 0.4919\n",
            "Epoch 75/100\n",
            "1/1 [==============================] - 0s 11ms/step - loss: 0.1578 - mae: 0.1578\n",
            "Epoch 76/100\n",
            "1/1 [==============================] - 0s 12ms/step - loss: 1.1539 - mae: 1.1539\n",
            "Epoch 77/100\n",
            "1/1 [==============================] - 0s 7ms/step - loss: 1.2655 - mae: 1.2655\n",
            "Epoch 78/100\n",
            "1/1 [==============================] - 0s 10ms/step - loss: 0.3874 - mae: 0.3874\n",
            "Epoch 79/100\n",
            "1/1 [==============================] - 0s 10ms/step - loss: 1.1937 - mae: 1.1937\n",
            "Epoch 80/100\n",
            "1/1 [==============================] - 0s 9ms/step - loss: 1.7590 - mae: 1.7590\n",
            "Epoch 81/100\n",
            "1/1 [==============================] - 0s 7ms/step - loss: 1.5627 - mae: 1.5627\n",
            "Epoch 82/100\n",
            "1/1 [==============================] - 0s 10ms/step - loss: 0.6526 - mae: 0.6526\n",
            "Epoch 83/100\n",
            "1/1 [==============================] - 0s 9ms/step - loss: 1.0799 - mae: 1.0799\n",
            "Epoch 84/100\n",
            "1/1 [==============================] - 0s 11ms/step - loss: 1.7477 - mae: 1.7477\n",
            "Epoch 85/100\n",
            "1/1 [==============================] - 0s 7ms/step - loss: 1.3213 - mae: 1.3213\n",
            "Epoch 86/100\n",
            "1/1 [==============================] - 0s 9ms/step - loss: 0.0241 - mae: 0.0241\n",
            "Epoch 87/100\n",
            "1/1 [==============================] - 0s 10ms/step - loss: 1.0518 - mae: 1.0518\n",
            "Epoch 88/100\n",
            "1/1 [==============================] - 0s 20ms/step - loss: 1.2747 - mae: 1.2747\n",
            "Epoch 89/100\n",
            "1/1 [==============================] - 0s 9ms/step - loss: 0.8209 - mae: 0.8209\n",
            "Epoch 90/100\n",
            "1/1 [==============================] - 0s 12ms/step - loss: 0.5893 - mae: 0.5893\n",
            "Epoch 91/100\n",
            "1/1 [==============================] - 0s 9ms/step - loss: 0.8531 - mae: 0.8531\n",
            "Epoch 92/100\n",
            "1/1 [==============================] - 0s 10ms/step - loss: 0.3188 - mae: 0.3188\n",
            "Epoch 93/100\n",
            "1/1 [==============================] - 0s 14ms/step - loss: 1.0633 - mae: 1.0633\n",
            "Epoch 94/100\n",
            "1/1 [==============================] - 0s 10ms/step - loss: 1.4217 - mae: 1.4217\n",
            "Epoch 95/100\n",
            "1/1 [==============================] - 0s 7ms/step - loss: 1.0460 - mae: 1.0460\n",
            "Epoch 96/100\n",
            "1/1 [==============================] - 0s 9ms/step - loss: 0.0785 - mae: 0.0785\n",
            "Epoch 97/100\n",
            "1/1 [==============================] - 0s 15ms/step - loss: 0.3642 - mae: 0.3642\n",
            "Epoch 98/100\n",
            "1/1 [==============================] - 0s 22ms/step - loss: 0.3525 - mae: 0.3525\n",
            "Epoch 99/100\n",
            "1/1 [==============================] - 0s 14ms/step - loss: 0.2193 - mae: 0.2193\n",
            "Epoch 100/100\n",
            "1/1 [==============================] - 0s 30ms/step - loss: 0.1132 - mae: 0.1132\n"
          ],
          "name": "stdout"
        },
        {
          "output_type": "execute_result",
          "data": {
            "text/plain": [
              "<tensorflow.python.keras.callbacks.History at 0x7f5c6bf58890>"
            ]
          },
          "metadata": {
            "tags": []
          },
          "execution_count": 31
        }
      ]
    },
    {
      "cell_type": "code",
      "metadata": {
        "colab": {
          "base_uri": "https://localhost:8080/"
        },
        "id": "DZ448bdp8NLR",
        "outputId": "6116f6d4-e45e-48fa-d491-fea5b04e26d5"
      },
      "source": [
        "model.predict([17.0])"
      ],
      "execution_count": null,
      "outputs": [
        {
          "output_type": "execute_result",
          "data": {
            "text/plain": [
              "array([[28.12068]], dtype=float32)"
            ]
          },
          "metadata": {
            "tags": []
          },
          "execution_count": 32
        }
      ]
    },
    {
      "cell_type": "code",
      "metadata": {
        "id": "zLdzrlTs8ln7",
        "colab": {
          "base_uri": "https://localhost:8080/"
        },
        "outputId": "96026c5c-c7a8-4c7a-b8eb-3f17f6719b50"
      },
      "source": [
        "#create a model to improve the accuracy\n",
        "\n",
        "#1. Create a model\n",
        "model=tf.keras.Sequential([\n",
        "      tf.keras.layers.Dense(100,activation=\"relu\"),\n",
        "      tf.keras.layers.Dense(100,activation=\"relu\"),\n",
        "      tf.keras.layers.Dense(100,activation=\"relu\"),\n",
        "      tf.keras.layers.Dense(1)                            \n",
        "])\n",
        "\n",
        "# 2. Compile the model\n",
        "model.compile(loss=tf.keras.losses.mae,\n",
        "              optimizer=tf.keras.optimizers.Adam(learning_rate=0.01),\n",
        "              metrics=[\"mae\"])\n",
        "\n",
        "#3. Fit the model\n",
        "model.fit(X,y,epochs=100)"
      ],
      "execution_count": null,
      "outputs": [
        {
          "output_type": "stream",
          "text": [
            "Epoch 1/100\n",
            "1/1 [==============================] - 1s 519ms/step - loss: 13.2765 - mae: 13.2765\n",
            "Epoch 2/100\n",
            "1/1 [==============================] - 0s 7ms/step - loss: 10.7183 - mae: 10.7183\n",
            "Epoch 3/100\n",
            "1/1 [==============================] - 0s 10ms/step - loss: 7.9477 - mae: 7.9477\n",
            "Epoch 4/100\n",
            "1/1 [==============================] - 0s 12ms/step - loss: 3.9929 - mae: 3.9929\n",
            "Epoch 5/100\n",
            "1/1 [==============================] - 0s 18ms/step - loss: 6.9687 - mae: 6.9687\n",
            "Epoch 6/100\n",
            "1/1 [==============================] - 0s 12ms/step - loss: 6.7324 - mae: 6.7324\n",
            "Epoch 7/100\n",
            "1/1 [==============================] - 0s 7ms/step - loss: 4.9316 - mae: 4.9316\n",
            "Epoch 8/100\n",
            "1/1 [==============================] - 0s 12ms/step - loss: 3.9070 - mae: 3.9070\n",
            "Epoch 9/100\n",
            "1/1 [==============================] - 0s 16ms/step - loss: 5.2007 - mae: 5.2007\n",
            "Epoch 10/100\n",
            "1/1 [==============================] - 0s 12ms/step - loss: 5.7855 - mae: 5.7855\n",
            "Epoch 11/100\n",
            "1/1 [==============================] - 0s 6ms/step - loss: 5.6035 - mae: 5.6035\n",
            "Epoch 12/100\n",
            "1/1 [==============================] - 0s 5ms/step - loss: 4.7529 - mae: 4.7529\n",
            "Epoch 13/100\n",
            "1/1 [==============================] - 0s 6ms/step - loss: 3.5974 - mae: 3.5974\n",
            "Epoch 14/100\n",
            "1/1 [==============================] - 0s 6ms/step - loss: 3.9803 - mae: 3.9803\n",
            "Epoch 15/100\n",
            "1/1 [==============================] - 0s 8ms/step - loss: 4.4636 - mae: 4.4636\n",
            "Epoch 16/100\n",
            "1/1 [==============================] - 0s 11ms/step - loss: 4.3823 - mae: 4.3823\n",
            "Epoch 17/100\n",
            "1/1 [==============================] - 0s 9ms/step - loss: 3.8975 - mae: 3.8975\n",
            "Epoch 18/100\n",
            "1/1 [==============================] - 0s 15ms/step - loss: 3.3785 - mae: 3.3785\n",
            "Epoch 19/100\n",
            "1/1 [==============================] - 0s 20ms/step - loss: 3.2902 - mae: 3.2902\n",
            "Epoch 20/100\n",
            "1/1 [==============================] - 0s 10ms/step - loss: 3.6108 - mae: 3.6108\n",
            "Epoch 21/100\n",
            "1/1 [==============================] - 0s 8ms/step - loss: 3.4132 - mae: 3.4132\n",
            "Epoch 22/100\n",
            "1/1 [==============================] - 0s 11ms/step - loss: 2.9321 - mae: 2.9321\n",
            "Epoch 23/100\n",
            "1/1 [==============================] - 0s 11ms/step - loss: 2.9510 - mae: 2.9510\n",
            "Epoch 24/100\n",
            "1/1 [==============================] - 0s 8ms/step - loss: 3.2204 - mae: 3.2204\n",
            "Epoch 25/100\n",
            "1/1 [==============================] - 0s 7ms/step - loss: 3.2295 - mae: 3.2295\n",
            "Epoch 26/100\n",
            "1/1 [==============================] - 0s 7ms/step - loss: 2.8103 - mae: 2.8103\n",
            "Epoch 27/100\n",
            "1/1 [==============================] - 0s 8ms/step - loss: 2.3032 - mae: 2.3032\n",
            "Epoch 28/100\n",
            "1/1 [==============================] - 0s 11ms/step - loss: 2.0273 - mae: 2.0273\n",
            "Epoch 29/100\n",
            "1/1 [==============================] - 0s 8ms/step - loss: 2.0634 - mae: 2.0634\n",
            "Epoch 30/100\n",
            "1/1 [==============================] - 0s 9ms/step - loss: 1.6283 - mae: 1.6283\n",
            "Epoch 31/100\n",
            "1/1 [==============================] - 0s 11ms/step - loss: 1.2140 - mae: 1.2140\n",
            "Epoch 32/100\n",
            "1/1 [==============================] - 0s 10ms/step - loss: 1.0875 - mae: 1.0875\n",
            "Epoch 33/100\n",
            "1/1 [==============================] - 0s 15ms/step - loss: 1.1423 - mae: 1.1423\n",
            "Epoch 34/100\n",
            "1/1 [==============================] - 0s 9ms/step - loss: 1.4525 - mae: 1.4525\n",
            "Epoch 35/100\n",
            "1/1 [==============================] - 0s 14ms/step - loss: 0.6815 - mae: 0.6815\n",
            "Epoch 36/100\n",
            "1/1 [==============================] - 0s 8ms/step - loss: 1.5566 - mae: 1.5566\n",
            "Epoch 37/100\n",
            "1/1 [==============================] - 0s 9ms/step - loss: 0.5887 - mae: 0.5887\n",
            "Epoch 38/100\n",
            "1/1 [==============================] - 0s 9ms/step - loss: 1.3947 - mae: 1.3947\n",
            "Epoch 39/100\n",
            "1/1 [==============================] - 0s 9ms/step - loss: 1.1842 - mae: 1.1842\n",
            "Epoch 40/100\n",
            "1/1 [==============================] - 0s 10ms/step - loss: 0.4760 - mae: 0.4760\n",
            "Epoch 41/100\n",
            "1/1 [==============================] - 0s 10ms/step - loss: 0.5247 - mae: 0.5247\n",
            "Epoch 42/100\n",
            "1/1 [==============================] - 0s 10ms/step - loss: 0.9555 - mae: 0.9555\n",
            "Epoch 43/100\n",
            "1/1 [==============================] - 0s 10ms/step - loss: 0.8822 - mae: 0.8822\n",
            "Epoch 44/100\n",
            "1/1 [==============================] - 0s 11ms/step - loss: 0.3075 - mae: 0.3075\n",
            "Epoch 45/100\n",
            "1/1 [==============================] - 0s 10ms/step - loss: 0.9846 - mae: 0.9846\n",
            "Epoch 46/100\n",
            "1/1 [==============================] - 0s 10ms/step - loss: 0.4830 - mae: 0.4830\n",
            "Epoch 47/100\n",
            "1/1 [==============================] - 0s 10ms/step - loss: 0.5205 - mae: 0.5205\n",
            "Epoch 48/100\n",
            "1/1 [==============================] - 0s 10ms/step - loss: 0.3936 - mae: 0.3936\n",
            "Epoch 49/100\n",
            "1/1 [==============================] - 0s 10ms/step - loss: 0.5561 - mae: 0.5561\n",
            "Epoch 50/100\n",
            "1/1 [==============================] - 0s 10ms/step - loss: 0.2199 - mae: 0.2199\n",
            "Epoch 51/100\n",
            "1/1 [==============================] - 0s 9ms/step - loss: 0.8843 - mae: 0.8843\n",
            "Epoch 52/100\n",
            "1/1 [==============================] - 0s 11ms/step - loss: 0.6078 - mae: 0.6078\n",
            "Epoch 53/100\n",
            "1/1 [==============================] - 0s 7ms/step - loss: 0.9055 - mae: 0.9055\n",
            "Epoch 54/100\n",
            "1/1 [==============================] - 0s 10ms/step - loss: 0.9173 - mae: 0.9173\n",
            "Epoch 55/100\n",
            "1/1 [==============================] - 0s 10ms/step - loss: 0.3793 - mae: 0.3793\n",
            "Epoch 56/100\n",
            "1/1 [==============================] - 0s 9ms/step - loss: 0.6565 - mae: 0.6565\n",
            "Epoch 57/100\n",
            "1/1 [==============================] - 0s 10ms/step - loss: 0.1445 - mae: 0.1445\n",
            "Epoch 58/100\n",
            "1/1 [==============================] - 0s 9ms/step - loss: 0.6280 - mae: 0.6280\n",
            "Epoch 59/100\n",
            "1/1 [==============================] - 0s 11ms/step - loss: 0.1415 - mae: 0.1415\n",
            "Epoch 60/100\n",
            "1/1 [==============================] - 0s 8ms/step - loss: 0.4134 - mae: 0.4134\n",
            "Epoch 61/100\n",
            "1/1 [==============================] - 0s 10ms/step - loss: 0.3765 - mae: 0.3765\n",
            "Epoch 62/100\n",
            "1/1 [==============================] - 0s 21ms/step - loss: 0.1489 - mae: 0.1489\n",
            "Epoch 63/100\n",
            "1/1 [==============================] - 0s 14ms/step - loss: 0.4965 - mae: 0.4965\n",
            "Epoch 64/100\n",
            "1/1 [==============================] - 0s 12ms/step - loss: 0.0713 - mae: 0.0713\n",
            "Epoch 65/100\n",
            "1/1 [==============================] - 0s 11ms/step - loss: 0.1729 - mae: 0.1729\n",
            "Epoch 66/100\n",
            "1/1 [==============================] - 0s 10ms/step - loss: 0.4075 - mae: 0.4075\n",
            "Epoch 67/100\n",
            "1/1 [==============================] - 0s 11ms/step - loss: 0.2108 - mae: 0.2108\n",
            "Epoch 68/100\n",
            "1/1 [==============================] - 0s 10ms/step - loss: 0.1078 - mae: 0.1078\n",
            "Epoch 69/100\n",
            "1/1 [==============================] - 0s 12ms/step - loss: 0.5501 - mae: 0.5501\n",
            "Epoch 70/100\n",
            "1/1 [==============================] - 0s 11ms/step - loss: 0.0983 - mae: 0.0983\n",
            "Epoch 71/100\n",
            "1/1 [==============================] - 0s 12ms/step - loss: 1.1407 - mae: 1.1407\n",
            "Epoch 72/100\n",
            "1/1 [==============================] - 0s 9ms/step - loss: 1.3687 - mae: 1.3687\n",
            "Epoch 73/100\n",
            "1/1 [==============================] - 0s 11ms/step - loss: 0.8966 - mae: 0.8966\n",
            "Epoch 74/100\n",
            "1/1 [==============================] - 0s 43ms/step - loss: 0.5529 - mae: 0.5529\n",
            "Epoch 75/100\n",
            "1/1 [==============================] - 0s 9ms/step - loss: 0.7354 - mae: 0.7354\n",
            "Epoch 76/100\n",
            "1/1 [==============================] - 0s 9ms/step - loss: 0.2097 - mae: 0.2097\n",
            "Epoch 77/100\n",
            "1/1 [==============================] - 0s 7ms/step - loss: 0.7034 - mae: 0.7034\n",
            "Epoch 78/100\n",
            "1/1 [==============================] - 0s 9ms/step - loss: 0.3789 - mae: 0.3789\n",
            "Epoch 79/100\n",
            "1/1 [==============================] - 0s 11ms/step - loss: 0.7317 - mae: 0.7317\n",
            "Epoch 80/100\n",
            "1/1 [==============================] - 0s 18ms/step - loss: 0.7708 - mae: 0.7708\n",
            "Epoch 81/100\n",
            "1/1 [==============================] - 0s 13ms/step - loss: 0.1859 - mae: 0.1859\n",
            "Epoch 82/100\n",
            "1/1 [==============================] - 0s 11ms/step - loss: 0.2448 - mae: 0.2448\n",
            "Epoch 83/100\n",
            "1/1 [==============================] - 0s 9ms/step - loss: 0.3550 - mae: 0.3550\n",
            "Epoch 84/100\n",
            "1/1 [==============================] - 0s 9ms/step - loss: 0.1584 - mae: 0.1584\n",
            "Epoch 85/100\n",
            "1/1 [==============================] - 0s 15ms/step - loss: 0.2053 - mae: 0.2053\n",
            "Epoch 86/100\n",
            "1/1 [==============================] - 0s 9ms/step - loss: 0.6443 - mae: 0.6443\n",
            "Epoch 87/100\n",
            "1/1 [==============================] - 0s 12ms/step - loss: 0.2675 - mae: 0.2675\n",
            "Epoch 88/100\n",
            "1/1 [==============================] - 0s 11ms/step - loss: 0.9173 - mae: 0.9173\n",
            "Epoch 89/100\n",
            "1/1 [==============================] - 0s 6ms/step - loss: 1.1655 - mae: 1.1655\n",
            "Epoch 90/100\n",
            "1/1 [==============================] - 0s 10ms/step - loss: 0.6310 - mae: 0.6310\n",
            "Epoch 91/100\n",
            "1/1 [==============================] - 0s 7ms/step - loss: 0.6946 - mae: 0.6946\n",
            "Epoch 92/100\n",
            "1/1 [==============================] - 0s 10ms/step - loss: 1.0076 - mae: 1.0076\n",
            "Epoch 93/100\n",
            "1/1 [==============================] - 0s 9ms/step - loss: 0.3562 - mae: 0.3562\n",
            "Epoch 94/100\n",
            "1/1 [==============================] - 0s 7ms/step - loss: 1.0229 - mae: 1.0229\n",
            "Epoch 95/100\n",
            "1/1 [==============================] - 0s 10ms/step - loss: 1.4689 - mae: 1.4689\n",
            "Epoch 96/100\n",
            "1/1 [==============================] - 0s 10ms/step - loss: 1.1716 - mae: 1.1716\n",
            "Epoch 97/100\n",
            "1/1 [==============================] - 0s 10ms/step - loss: 0.2116 - mae: 0.2116\n",
            "Epoch 98/100\n",
            "1/1 [==============================] - 0s 9ms/step - loss: 1.5359 - mae: 1.5359\n",
            "Epoch 99/100\n",
            "1/1 [==============================] - 0s 7ms/step - loss: 2.1864 - mae: 2.1864\n",
            "Epoch 100/100\n",
            "1/1 [==============================] - 0s 8ms/step - loss: 1.7797 - mae: 1.7797\n"
          ],
          "name": "stdout"
        },
        {
          "output_type": "execute_result",
          "data": {
            "text/plain": [
              "<tensorflow.python.keras.callbacks.History at 0x7f5c6ae43b50>"
            ]
          },
          "metadata": {
            "tags": []
          },
          "execution_count": 33
        }
      ]
    },
    {
      "cell_type": "code",
      "metadata": {
        "colab": {
          "base_uri": "https://localhost:8080/"
        },
        "id": "Y56bvVHkyDJM",
        "outputId": "57a27ee5-d215-40a9-a8c2-5817dd0e6db3"
      },
      "source": [
        "#predict the model\n",
        "model.predict([17.0])"
      ],
      "execution_count": null,
      "outputs": [
        {
          "output_type": "execute_result",
          "data": {
            "text/plain": [
              "array([[28.81386]], dtype=float32)"
            ]
          },
          "metadata": {
            "tags": []
          },
          "execution_count": 34
        }
      ]
    },
    {
      "cell_type": "code",
      "metadata": {
        "colab": {
          "base_uri": "https://localhost:8080/"
        },
        "id": "u6PiTQMHy28T",
        "outputId": "0e330c25-5516-4e3b-d143-22731e4bc3e6"
      },
      "source": [
        "# lets practise one more time to build a model\n",
        "\n",
        "#1. Create a model\n",
        "model=tf.keras.Sequential([\n",
        "      tf.keras.layers.Dense(100,activation=None),\n",
        "      tf.keras.layers.Dense(100,activation=None),\n",
        "      tf.keras.layers.Dense(100,activation=None),\n",
        "      tf.keras.layers.Dense(1)\n",
        "])\n",
        "\n",
        "#2. Compile the model\n",
        "\n",
        "model.compile(loss=tf.keras.losses.mae,\n",
        "              optimizer=tf.keras.optimizers.Adam(learning_rate=0.001),\n",
        "              metrics=[\"mae\"])\n",
        "\n",
        "#Fit the model\n",
        "model.fit(X,y,epochs=100)"
      ],
      "execution_count": null,
      "outputs": [
        {
          "output_type": "stream",
          "text": [
            "Epoch 1/100\n",
            "1/1 [==============================] - 1s 535ms/step - loss: 13.2610 - mae: 13.2610\n",
            "Epoch 2/100\n",
            "1/1 [==============================] - 0s 7ms/step - loss: 12.2215 - mae: 12.2215\n",
            "Epoch 3/100\n",
            "1/1 [==============================] - 0s 13ms/step - loss: 11.1711 - mae: 11.1711\n",
            "Epoch 4/100\n",
            "1/1 [==============================] - 0s 11ms/step - loss: 10.0918 - mae: 10.0918\n",
            "Epoch 5/100\n",
            "1/1 [==============================] - 0s 10ms/step - loss: 8.9663 - mae: 8.9663\n",
            "Epoch 6/100\n",
            "1/1 [==============================] - 0s 24ms/step - loss: 7.7779 - mae: 7.7779\n",
            "Epoch 7/100\n",
            "1/1 [==============================] - 0s 9ms/step - loss: 7.4538 - mae: 7.4538\n",
            "Epoch 8/100\n",
            "1/1 [==============================] - 0s 8ms/step - loss: 8.0386 - mae: 8.0386\n",
            "Epoch 9/100\n",
            "1/1 [==============================] - 0s 6ms/step - loss: 8.4350 - mae: 8.4350\n",
            "Epoch 10/100\n",
            "1/1 [==============================] - 0s 24ms/step - loss: 8.3426 - mae: 8.3426\n",
            "Epoch 11/100\n",
            "1/1 [==============================] - 0s 7ms/step - loss: 7.9764 - mae: 7.9764\n",
            "Epoch 12/100\n",
            "1/1 [==============================] - 0s 8ms/step - loss: 7.6148 - mae: 7.6148\n",
            "Epoch 13/100\n",
            "1/1 [==============================] - 0s 10ms/step - loss: 7.2009 - mae: 7.2009\n",
            "Epoch 14/100\n",
            "1/1 [==============================] - 0s 7ms/step - loss: 7.1751 - mae: 7.1751\n",
            "Epoch 15/100\n",
            "1/1 [==============================] - 0s 10ms/step - loss: 7.5194 - mae: 7.5194\n",
            "Epoch 16/100\n",
            "1/1 [==============================] - 0s 11ms/step - loss: 7.7552 - mae: 7.7552\n",
            "Epoch 17/100\n",
            "1/1 [==============================] - 0s 14ms/step - loss: 7.8150 - mae: 7.8150\n",
            "Epoch 18/100\n",
            "1/1 [==============================] - 0s 9ms/step - loss: 7.7309 - mae: 7.7309\n",
            "Epoch 19/100\n",
            "1/1 [==============================] - 0s 6ms/step - loss: 7.5235 - mae: 7.5235\n",
            "Epoch 20/100\n",
            "1/1 [==============================] - 0s 8ms/step - loss: 7.2054 - mae: 7.2054\n",
            "Epoch 21/100\n",
            "1/1 [==============================] - 0s 10ms/step - loss: 6.9897 - mae: 6.9897\n",
            "Epoch 22/100\n",
            "1/1 [==============================] - 0s 8ms/step - loss: 6.9496 - mae: 6.9496\n",
            "Epoch 23/100\n",
            "1/1 [==============================] - 0s 11ms/step - loss: 7.1232 - mae: 7.1232\n",
            "Epoch 24/100\n",
            "1/1 [==============================] - 0s 9ms/step - loss: 7.2456 - mae: 7.2456\n",
            "Epoch 25/100\n",
            "1/1 [==============================] - 0s 11ms/step - loss: 7.2719 - mae: 7.2719\n",
            "Epoch 26/100\n",
            "1/1 [==============================] - 0s 11ms/step - loss: 7.2124 - mae: 7.2124\n",
            "Epoch 27/100\n",
            "1/1 [==============================] - 0s 9ms/step - loss: 7.0787 - mae: 7.0787\n",
            "Epoch 28/100\n",
            "1/1 [==============================] - 0s 8ms/step - loss: 6.8830 - mae: 6.8830\n",
            "Epoch 29/100\n",
            "1/1 [==============================] - 0s 11ms/step - loss: 6.7593 - mae: 6.7593\n",
            "Epoch 30/100\n",
            "1/1 [==============================] - 0s 7ms/step - loss: 6.7440 - mae: 6.7440\n",
            "Epoch 31/100\n",
            "1/1 [==============================] - 0s 10ms/step - loss: 6.7460 - mae: 6.7460\n",
            "Epoch 32/100\n",
            "1/1 [==============================] - 0s 18ms/step - loss: 6.7918 - mae: 6.7918\n",
            "Epoch 33/100\n",
            "1/1 [==============================] - 0s 9ms/step - loss: 6.7001 - mae: 6.7001\n",
            "Epoch 34/100\n",
            "1/1 [==============================] - 0s 7ms/step - loss: 6.6296 - mae: 6.6296\n",
            "Epoch 35/100\n",
            "1/1 [==============================] - 0s 10ms/step - loss: 6.5885 - mae: 6.5885\n",
            "Epoch 36/100\n",
            "1/1 [==============================] - 0s 9ms/step - loss: 6.5466 - mae: 6.5466\n",
            "Epoch 37/100\n",
            "1/1 [==============================] - 0s 10ms/step - loss: 6.5408 - mae: 6.5408\n",
            "Epoch 38/100\n",
            "1/1 [==============================] - 0s 11ms/step - loss: 6.5459 - mae: 6.5459\n",
            "Epoch 39/100\n",
            "1/1 [==============================] - 0s 9ms/step - loss: 6.4776 - mae: 6.4776\n",
            "Epoch 40/100\n",
            "1/1 [==============================] - 0s 12ms/step - loss: 6.4135 - mae: 6.4135\n",
            "Epoch 41/100\n",
            "1/1 [==============================] - 0s 9ms/step - loss: 6.3876 - mae: 6.3876\n",
            "Epoch 42/100\n",
            "1/1 [==============================] - 0s 11ms/step - loss: 6.3595 - mae: 6.3595\n",
            "Epoch 43/100\n",
            "1/1 [==============================] - 0s 12ms/step - loss: 6.3294 - mae: 6.3294\n",
            "Epoch 44/100\n",
            "1/1 [==============================] - 0s 11ms/step - loss: 6.2972 - mae: 6.2972\n",
            "Epoch 45/100\n",
            "1/1 [==============================] - 0s 8ms/step - loss: 6.2629 - mae: 6.2629\n",
            "Epoch 46/100\n",
            "1/1 [==============================] - 0s 11ms/step - loss: 6.2264 - mae: 6.2264\n",
            "Epoch 47/100\n",
            "1/1 [==============================] - 0s 8ms/step - loss: 6.1876 - mae: 6.1876\n",
            "Epoch 48/100\n",
            "1/1 [==============================] - 0s 10ms/step - loss: 6.1464 - mae: 6.1464\n",
            "Epoch 49/100\n",
            "1/1 [==============================] - 0s 11ms/step - loss: 6.1028 - mae: 6.1028\n",
            "Epoch 50/100\n",
            "1/1 [==============================] - 0s 8ms/step - loss: 6.0566 - mae: 6.0566\n",
            "Epoch 51/100\n",
            "1/1 [==============================] - 0s 10ms/step - loss: 6.0077 - mae: 6.0077\n",
            "Epoch 52/100\n",
            "1/1 [==============================] - 0s 9ms/step - loss: 5.9560 - mae: 5.9560\n",
            "Epoch 53/100\n",
            "1/1 [==============================] - 0s 9ms/step - loss: 5.9012 - mae: 5.9012\n",
            "Epoch 54/100\n",
            "1/1 [==============================] - 0s 13ms/step - loss: 5.8432 - mae: 5.8432\n",
            "Epoch 55/100\n",
            "1/1 [==============================] - 0s 19ms/step - loss: 5.7817 - mae: 5.7817\n",
            "Epoch 56/100\n",
            "1/1 [==============================] - 0s 9ms/step - loss: 5.7166 - mae: 5.7166\n",
            "Epoch 57/100\n",
            "1/1 [==============================] - 0s 21ms/step - loss: 5.6476 - mae: 5.6476\n",
            "Epoch 58/100\n",
            "1/1 [==============================] - 0s 10ms/step - loss: 5.6200 - mae: 5.6200\n",
            "Epoch 59/100\n",
            "1/1 [==============================] - 0s 8ms/step - loss: 5.5238 - mae: 5.5238\n",
            "Epoch 60/100\n",
            "1/1 [==============================] - 0s 14ms/step - loss: 5.4592 - mae: 5.4592\n",
            "Epoch 61/100\n",
            "1/1 [==============================] - 0s 10ms/step - loss: 5.4004 - mae: 5.4004\n",
            "Epoch 62/100\n",
            "1/1 [==============================] - 0s 8ms/step - loss: 5.3351 - mae: 5.3351\n",
            "Epoch 63/100\n",
            "1/1 [==============================] - 0s 10ms/step - loss: 5.3081 - mae: 5.3081\n",
            "Epoch 64/100\n",
            "1/1 [==============================] - 0s 9ms/step - loss: 5.1667 - mae: 5.1667\n",
            "Epoch 65/100\n",
            "1/1 [==============================] - 0s 12ms/step - loss: 5.0638 - mae: 5.0638\n",
            "Epoch 66/100\n",
            "1/1 [==============================] - 0s 9ms/step - loss: 4.9538 - mae: 4.9538\n",
            "Epoch 67/100\n",
            "1/1 [==============================] - 0s 27ms/step - loss: 4.9509 - mae: 4.9509\n",
            "Epoch 68/100\n",
            "1/1 [==============================] - 0s 10ms/step - loss: 4.8371 - mae: 4.8371\n",
            "Epoch 69/100\n",
            "1/1 [==============================] - 0s 10ms/step - loss: 4.6374 - mae: 4.6374\n",
            "Epoch 70/100\n",
            "1/1 [==============================] - 0s 14ms/step - loss: 4.5329 - mae: 4.5329\n",
            "Epoch 71/100\n",
            "1/1 [==============================] - 0s 11ms/step - loss: 4.4172 - mae: 4.4172\n",
            "Epoch 72/100\n",
            "1/1 [==============================] - 0s 11ms/step - loss: 4.3399 - mae: 4.3399\n",
            "Epoch 73/100\n",
            "1/1 [==============================] - 0s 11ms/step - loss: 4.1268 - mae: 4.1268\n",
            "Epoch 74/100\n",
            "1/1 [==============================] - 0s 11ms/step - loss: 3.9948 - mae: 3.9948\n",
            "Epoch 75/100\n",
            "1/1 [==============================] - 0s 14ms/step - loss: 3.8376 - mae: 3.8376\n",
            "Epoch 76/100\n",
            "1/1 [==============================] - 0s 14ms/step - loss: 3.6367 - mae: 3.6367\n",
            "Epoch 77/100\n",
            "1/1 [==============================] - 0s 7ms/step - loss: 3.5043 - mae: 3.5043\n",
            "Epoch 78/100\n",
            "1/1 [==============================] - 0s 6ms/step - loss: 3.2551 - mae: 3.2551\n",
            "Epoch 79/100\n",
            "1/1 [==============================] - 0s 6ms/step - loss: 3.1029 - mae: 3.1029\n",
            "Epoch 80/100\n",
            "1/1 [==============================] - 0s 8ms/step - loss: 2.8436 - mae: 2.8436\n",
            "Epoch 81/100\n",
            "1/1 [==============================] - 0s 7ms/step - loss: 2.6338 - mae: 2.6338\n",
            "Epoch 82/100\n",
            "1/1 [==============================] - 0s 27ms/step - loss: 2.3314 - mae: 2.3314\n",
            "Epoch 83/100\n",
            "1/1 [==============================] - 0s 9ms/step - loss: 2.0729 - mae: 2.0729\n",
            "Epoch 84/100\n",
            "1/1 [==============================] - 0s 17ms/step - loss: 1.7663 - mae: 1.7663\n",
            "Epoch 85/100\n",
            "1/1 [==============================] - 0s 7ms/step - loss: 1.5445 - mae: 1.5445\n",
            "Epoch 86/100\n",
            "1/1 [==============================] - 0s 6ms/step - loss: 1.2654 - mae: 1.2654\n",
            "Epoch 87/100\n",
            "1/1 [==============================] - 0s 9ms/step - loss: 0.7663 - mae: 0.7663\n",
            "Epoch 88/100\n",
            "1/1 [==============================] - 0s 7ms/step - loss: 0.5477 - mae: 0.5477\n",
            "Epoch 89/100\n",
            "1/1 [==============================] - 0s 15ms/step - loss: 0.3863 - mae: 0.3863\n",
            "Epoch 90/100\n",
            "1/1 [==============================] - 0s 9ms/step - loss: 0.7583 - mae: 0.7583\n",
            "Epoch 91/100\n",
            "1/1 [==============================] - 0s 7ms/step - loss: 0.6835 - mae: 0.6835\n",
            "Epoch 92/100\n",
            "1/1 [==============================] - 0s 5ms/step - loss: 1.0864 - mae: 1.0864\n",
            "Epoch 93/100\n",
            "1/1 [==============================] - 0s 11ms/step - loss: 1.0330 - mae: 1.0330\n",
            "Epoch 94/100\n",
            "1/1 [==============================] - 0s 8ms/step - loss: 1.0437 - mae: 1.0437\n",
            "Epoch 95/100\n",
            "1/1 [==============================] - 0s 16ms/step - loss: 1.0159 - mae: 1.0159\n",
            "Epoch 96/100\n",
            "1/1 [==============================] - 0s 14ms/step - loss: 1.1632 - mae: 1.1632\n",
            "Epoch 97/100\n",
            "1/1 [==============================] - 0s 11ms/step - loss: 0.7987 - mae: 0.7987\n",
            "Epoch 98/100\n",
            "1/1 [==============================] - 0s 15ms/step - loss: 1.3697 - mae: 1.3697\n",
            "Epoch 99/100\n",
            "1/1 [==============================] - 0s 6ms/step - loss: 1.0957 - mae: 1.0957\n",
            "Epoch 100/100\n",
            "1/1 [==============================] - 0s 7ms/step - loss: 0.3715 - mae: 0.3715\n"
          ],
          "name": "stdout"
        },
        {
          "output_type": "execute_result",
          "data": {
            "text/plain": [
              "<tensorflow.python.keras.callbacks.History at 0x7f5c69499490>"
            ]
          },
          "metadata": {
            "tags": []
          },
          "execution_count": 35
        }
      ]
    },
    {
      "cell_type": "code",
      "metadata": {
        "colab": {
          "base_uri": "https://localhost:8080/"
        },
        "id": "yfzOpwcc0q-K",
        "outputId": "bd05ec54-c3ee-43b2-faa9-fddd00f54061"
      },
      "source": [
        "model.predict([17.0])"
      ],
      "execution_count": null,
      "outputs": [
        {
          "output_type": "execute_result",
          "data": {
            "text/plain": [
              "array([[28.559576]], dtype=float32)"
            ]
          },
          "metadata": {
            "tags": []
          },
          "execution_count": 36
        }
      ]
    },
    {
      "cell_type": "markdown",
      "metadata": {
        "id": "aOJu1QYa0xXX"
      },
      "source": [
        "### Evaluating a model\n",
        "\n",
        "In practise, a typical workflow you will go through when building a neural network is:\n",
        "````\n",
        "build a model -> fit it -> evualte it -> tweak a model -> fit it -> evaluate it -> tweak a model -> fit it -> evaluate it...\n",
        "\n",
        "````"
      ]
    },
    {
      "cell_type": "markdown",
      "metadata": {
        "id": "luy4swW21x1Q"
      },
      "source": [
        "When comes to evaluation... there are 3 words you should memorize\"\n",
        "> \"Visualize, Visualize, Visualize\"\n",
        "\n",
        "It's a good idea to Visualize:\n",
        "* The data - what data are we working with? What does it look like?\n",
        "* The model itself - What does our model look like?\n",
        "* The traning of a model - how does a model perform while it learns?\n",
        "* The predictions of the model - how do the predictions of a model line up against the ground truth (the original labels)"
      ]
    },
    {
      "cell_type": "code",
      "metadata": {
        "colab": {
          "base_uri": "https://localhost:8080/"
        },
        "id": "0zkKETU22pYp",
        "outputId": "8fd5598b-5db9-4462-ab72-b93151955680"
      },
      "source": [
        "# Make a bigger dataset\n",
        "X=tf.range(-100,100,4)\n",
        "X"
      ],
      "execution_count": null,
      "outputs": [
        {
          "output_type": "execute_result",
          "data": {
            "text/plain": [
              "<tf.Tensor: shape=(50,), dtype=int32, numpy=\n",
              "array([-100,  -96,  -92,  -88,  -84,  -80,  -76,  -72,  -68,  -64,  -60,\n",
              "        -56,  -52,  -48,  -44,  -40,  -36,  -32,  -28,  -24,  -20,  -16,\n",
              "        -12,   -8,   -4,    0,    4,    8,   12,   16,   20,   24,   28,\n",
              "         32,   36,   40,   44,   48,   52,   56,   60,   64,   68,   72,\n",
              "         76,   80,   84,   88,   92,   96], dtype=int32)>"
            ]
          },
          "metadata": {
            "tags": []
          },
          "execution_count": 39
        }
      ]
    },
    {
      "cell_type": "code",
      "metadata": {
        "colab": {
          "base_uri": "https://localhost:8080/"
        },
        "id": "MHEyxLRC26dy",
        "outputId": "d3d5e8e9-ba62-48ce-e59f-13f11288a2e5"
      },
      "source": [
        "# Make labels for the dataset\n",
        "y=X+10\n",
        "y"
      ],
      "execution_count": null,
      "outputs": [
        {
          "output_type": "execute_result",
          "data": {
            "text/plain": [
              "<tf.Tensor: shape=(50,), dtype=int32, numpy=\n",
              "array([-90, -86, -82, -78, -74, -70, -66, -62, -58, -54, -50, -46, -42,\n",
              "       -38, -34, -30, -26, -22, -18, -14, -10,  -6,  -2,   2,   6,  10,\n",
              "        14,  18,  22,  26,  30,  34,  38,  42,  46,  50,  54,  58,  62,\n",
              "        66,  70,  74,  78,  82,  86,  90,  94,  98, 102, 106], dtype=int32)>"
            ]
          },
          "metadata": {
            "tags": []
          },
          "execution_count": 40
        }
      ]
    },
    {
      "cell_type": "code",
      "metadata": {
        "colab": {
          "base_uri": "https://localhost:8080/",
          "height": 282
        },
        "id": "EwDfyodA3AM9",
        "outputId": "9454d278-9c2e-4c05-c0cc-8617c1c67dcb"
      },
      "source": [
        "# Visualize the data\n",
        "import matplotlib.pyplot as plt\n",
        "plt.scatter(X,y)"
      ],
      "execution_count": null,
      "outputs": [
        {
          "output_type": "execute_result",
          "data": {
            "text/plain": [
              "<matplotlib.collections.PathCollection at 0x7f5c6a549610>"
            ]
          },
          "metadata": {
            "tags": []
          },
          "execution_count": 41
        },
        {
          "output_type": "display_data",
          "data": {
            "image/png": "[encoded data removed]",
            "text/plain": [
              "<Figure size 432x288 with 1 Axes>"
            ]
          },
          "metadata": {
            "tags": [],
            "needs_background": "light"
          }
        }
      ]
    },
    {
      "cell_type": "markdown",
      "metadata": {
        "id": "iTCXTRz-3K02"
      },
      "source": [
        "### The 3 sets... \n",
        "\n",
        "* **Training set**- the model learns from this data, which is typically 70-80% of the total data you have available\n",
        "* **Validation set**- this model gets tuned on this data, which is typically 10-15% of the data available\n",
        "* **Test set**- the model gets evaluated on this data to test what is has learned, this is typically 10-15% of the total data available"
      ]
    },
    {
      "cell_type": "code",
      "metadata": {
        "colab": {
          "base_uri": "https://localhost:8080/"
        },
        "id": "SMTSdos94Mba",
        "outputId": "220a2e50-8567-4412-a91b-f2065137f8e8"
      },
      "source": [
        "# Check the length of how many samples we have\n",
        "len(X)"
      ],
      "execution_count": null,
      "outputs": [
        {
          "output_type": "execute_result",
          "data": {
            "text/plain": [
              "50"
            ]
          },
          "metadata": {
            "tags": []
          },
          "execution_count": 42
        }
      ]
    },
    {
      "cell_type": "code",
      "metadata": {
        "colab": {
          "base_uri": "https://localhost:8080/"
        },
        "id": "qE9Vu_R-4git",
        "outputId": "774e9ad9-4037-4ea4-9d8e-c578680b4fd0"
      },
      "source": [
        "# Split the data into train and test sets\n",
        "X_train= X[:40] # first 40 are training samples ( 80% of the data)\n",
        "y_train= y[:40]\n",
        "\n",
        "X_test= X[40:] # last 10 are testing samples (20% of the data)\n",
        "y_test=y[40:]\n",
        "\n",
        "len(X_train), len(y_train), len(X_test), len(y_test)"
      ],
      "execution_count": null,
      "outputs": [
        {
          "output_type": "execute_result",
          "data": {
            "text/plain": [
              "(40, 40, 10, 10)"
            ]
          },
          "metadata": {
            "tags": []
          },
          "execution_count": 43
        }
      ]
    },
    {
      "cell_type": "markdown",
      "metadata": {
        "id": "iCGs39zb5UOo"
      },
      "source": [
        "### Visualizing the data\n",
        "\n",
        "Now, we've got our data in training and test sets... let's visualize it again!"
      ]
    },
    {
      "cell_type": "code",
      "metadata": {
        "colab": {
          "base_uri": "https://localhost:8080/",
          "height": 446
        },
        "id": "G_evYhoC5rC8",
        "outputId": "4366c429-15b3-49fd-d525-3b09136b8e3b"
      },
      "source": [
        "plt.figure(figsize=(10,7))\n",
        "#plot training data in blue \n",
        "plt.scatter(X_train,y_train,c=\"b\", label=\"Training data\") # our model will learn on this\n",
        "#plot the test data in green\n",
        "plt.scatter(X_test,y_test,c=\"g\",label=\"Testing data\") # want our model to be able to predict this (given X, what's y?)\n",
        "#show a legend\n",
        "plt.legend()\n"
      ],
      "execution_count": null,
      "outputs": [
        {
          "output_type": "execute_result",
          "data": {
            "text/plain": [
              "<matplotlib.legend.Legend at 0x7f5c693c2890>"
            ]
          },
          "metadata": {
            "tags": []
          },
          "execution_count": 44
        },
        {
          "output_type": "display_data",
          "data": {
            "image/png": "[encoded data removed]",
            "text/plain": [
              "<Figure size 720x504 with 1 Axes>"
            ]
          },
          "metadata": {
            "tags": [],
            "needs_background": "light"
          }
        }
      ]
    },
    {
      "cell_type": "code",
      "metadata": {
        "id": "VP6qEAey6M9c"
      },
      "source": [
        "# Let's have a look at how to build a model in neural network for our data\n",
        "\n",
        "#1. Create model\n",
        "model=tf.keras.Sequential([\n",
        "      tf.keras.layers.Dense(1)                     \n",
        "])\n",
        "\n",
        "#2. Compile the model\n",
        "model.compile(loss=tf.keras.losses.mae,\n",
        "              optimizer=tf.keras.optimizers.SGD(),\n",
        "              metrics=[\"mae\"])\n",
        "\n",
        "#3. Fit the model\n",
        "#model.fit(X_train,y_train,epochs=100)"
      ],
      "execution_count": null,
      "outputs": []
    },
    {
      "cell_type": "markdown",
      "metadata": {
        "id": "oUs4y3CR7o1T"
      },
      "source": [
        "### Visualizing the model"
      ]
    },
    {
      "cell_type": "code",
      "metadata": {
        "colab": {
          "base_uri": "https://localhost:8080/",
          "height": 308
        },
        "id": "EKDI7OG97zNN",
        "outputId": "4f215e80-7286-45f2-807d-1e402f5277a9"
      },
      "source": [
        "model.summary() #it will cause an error telling us that no model has been built so far, so what can we do??"
      ],
      "execution_count": null,
      "outputs": [
        {
          "output_type": "error",
          "ename": "ValueError",
          "evalue": "ignored",
          "traceback": [
            "\u001b[0;31m---------------------------------------------------------------------------\u001b[0m",
            "\u001b[0;31mValueError\u001b[0m                                Traceback (most recent call last)",
            "\u001b[0;32m<ipython-input-31-6acd642f1d6f>\u001b[0m in \u001b[0;36m<module>\u001b[0;34m()\u001b[0m\n\u001b[0;32m----> 1\u001b[0;31m \u001b[0mmodel\u001b[0m\u001b[0;34m.\u001b[0m\u001b[0msummary\u001b[0m\u001b[0;34m(\u001b[0m\u001b[0;34m)\u001b[0m \u001b[0;31m#it will cause an error telling us that no model has been built so far, so what can we do??\u001b[0m\u001b[0;34m\u001b[0m\u001b[0;34m\u001b[0m\u001b[0m\n\u001b[0m",
            "\u001b[0;32m/usr/local/lib/python3.7/dist-packages/tensorflow/python/keras/engine/training.py\u001b[0m in \u001b[0;36msummary\u001b[0;34m(self, line_length, positions, print_fn)\u001b[0m\n\u001b[1;32m   2374\u001b[0m     \"\"\"\n\u001b[1;32m   2375\u001b[0m     \u001b[0;32mif\u001b[0m \u001b[0;32mnot\u001b[0m \u001b[0mself\u001b[0m\u001b[0;34m.\u001b[0m\u001b[0mbuilt\u001b[0m\u001b[0;34m:\u001b[0m\u001b[0;34m\u001b[0m\u001b[0;34m\u001b[0m\u001b[0m\n\u001b[0;32m-> 2376\u001b[0;31m       raise ValueError('This model has not yet been built. '\n\u001b[0m\u001b[1;32m   2377\u001b[0m                        \u001b[0;34m'Build the model first by calling `build()` or calling '\u001b[0m\u001b[0;34m\u001b[0m\u001b[0;34m\u001b[0m\u001b[0m\n\u001b[1;32m   2378\u001b[0m                        \u001b[0;34m'`fit()` with some data, or specify '\u001b[0m\u001b[0;34m\u001b[0m\u001b[0;34m\u001b[0m\u001b[0m\n",
            "\u001b[0;31mValueError\u001b[0m: This model has not yet been built. Build the model first by calling `build()` or calling `fit()` with some data, or specify an `input_shape` argument in the first layer(s) for automatic build."
          ]
        }
      ]
    },
    {
      "cell_type": "code",
      "metadata": {
        "colab": {
          "base_uri": "https://localhost:8080/"
        },
        "id": "nbhPKHOp8vXT",
        "outputId": "4c016f43-6f7b-4a3b-8a17-a2e7b90c5ee3"
      },
      "source": [
        "X[0],y[0] # input 1 ta variable bata output predict garne dekhiyo, hence we use shape 1 below"
      ],
      "execution_count": null,
      "outputs": [
        {
          "output_type": "execute_result",
          "data": {
            "text/plain": [
              "(<tf.Tensor: shape=(), dtype=int32, numpy=-100>,\n",
              " <tf.Tensor: shape=(), dtype=int32, numpy=-90>)"
            ]
          },
          "metadata": {
            "tags": []
          },
          "execution_count": 25
        }
      ]
    },
    {
      "cell_type": "code",
      "metadata": {
        "id": "sN1eSGB68eLq"
      },
      "source": [
        "# Let's create a model which builds automatically by defining the input_shape arguments\n",
        "tf.random.set_seed(42)\n",
        "\n",
        "#1. Create a model (same as above)\n",
        "model=tf.keras.Sequential([\n",
        "      tf.keras.layers.Dense(10,input_shape=[1],name=\"input_layers\"),\n",
        "      tf.keras.layers.Dense(1,name=\"output_layer\")\n",
        "      ],name=\"model_1\")\n",
        "\n",
        "#2. Compile the model\n",
        "model.compile(loss=tf.keras.losses.mae,\n",
        "              optimizer=tf.keras.optimizers.SGD(),\n",
        "              metrics=[\"mae\"])\n"
      ],
      "execution_count": null,
      "outputs": []
    },
    {
      "cell_type": "code",
      "metadata": {
        "colab": {
          "base_uri": "https://localhost:8080/"
        },
        "id": "363e-oi69w4N",
        "outputId": "b2369878-2fee-40c0-dee5-a18c88ec371a"
      },
      "source": [
        "model.summary()"
      ],
      "execution_count": null,
      "outputs": [
        {
          "output_type": "stream",
          "text": [
            "Model: \"model_1\"\n",
            "_________________________________________________________________\n",
            "Layer (type)                 Output Shape              Param #   \n",
            "=================================================================\n",
            "input_layers (Dense)         (None, 10)                20        \n",
            "_________________________________________________________________\n",
            "output_layer (Dense)         (None, 1)                 11        \n",
            "=================================================================\n",
            "Total params: 31\n",
            "Trainable params: 31\n",
            "Non-trainable params: 0\n",
            "_________________________________________________________________\n"
          ],
          "name": "stdout"
        }
      ]
    },
    {
      "cell_type": "markdown",
      "metadata": {
        "id": "GyKPW92J9yes"
      },
      "source": [
        "* Total params- total numbers of parameters in the model\n",
        "* Trainable params- these are the parameters (patterns) the model can update as it trains.\n",
        "* Non-trainable params- these parameters aren't updated during training (this is typical when you bring in already learn patterns or  parameters from other models during **transfer learning**)\n",
        "\n",
        "**Resource** For more in -depth overview of the trainable parameters within a layer, check  out MIT's introduction to deep learning video."
      ]
    },
    {
      "cell_type": "code",
      "metadata": {
        "colab": {
          "base_uri": "https://localhost:8080/"
        },
        "id": "BuozJvvs_ub9",
        "outputId": "4f87e01b-1933-4712-dc5e-5e1fb3e431f8"
      },
      "source": [
        "# Let's fit the model to our training data\n",
        "model.fit(X_train, y_train, epochs=100,verbose=0)"
      ],
      "execution_count": null,
      "outputs": [
        {
          "output_type": "execute_result",
          "data": {
            "text/plain": [
              "<tensorflow.python.keras.callbacks.History at 0x7f5c6826f850>"
            ]
          },
          "metadata": {
            "tags": []
          },
          "execution_count": 48
        }
      ]
    },
    {
      "cell_type": "code",
      "metadata": {
        "colab": {
          "base_uri": "https://localhost:8080/"
        },
        "id": "Jak6JN05AjVs",
        "outputId": "d7eb126b-46e9-40d3-b9e2-1e14cd50c148"
      },
      "source": [
        "# Get a summary of our model\n",
        "model.summary()"
      ],
      "execution_count": null,
      "outputs": [
        {
          "output_type": "stream",
          "text": [
            "Model: \"model_1\"\n",
            "_________________________________________________________________\n",
            "Layer (type)                 Output Shape              Param #   \n",
            "=================================================================\n",
            "input_layers (Dense)         (None, 10)                20        \n",
            "_________________________________________________________________\n",
            "output_layer (Dense)         (None, 1)                 11        \n",
            "=================================================================\n",
            "Total params: 31\n",
            "Trainable params: 31\n",
            "Non-trainable params: 0\n",
            "_________________________________________________________________\n"
          ],
          "name": "stdout"
        }
      ]
    },
    {
      "cell_type": "code",
      "metadata": {
        "colab": {
          "base_uri": "https://localhost:8080/",
          "height": 312
        },
        "id": "PEzOG6K6A0qQ",
        "outputId": "274f1318-48c1-4b02-9030-5f0670c476de"
      },
      "source": [
        "from tensorflow.keras.utils import plot_model\n",
        "plot_model(model=model, show_shapes=True)"
      ],
      "execution_count": null,
      "outputs": [
        {
          "output_type": "execute_result",
          "data": {
            "image/png": "[encoded data removed]",
            "text/plain": [
              "<IPython.core.display.Image object>"
            ]
          },
          "metadata": {
            "tags": []
          },
          "execution_count": 50
        }
      ]
    },
    {
      "cell_type": "markdown",
      "metadata": {
        "id": "mJJkxs0wBVWP"
      },
      "source": [
        "### Visualizing our model's predictions\n",
        "\n",
        "To visualize predictions, it's good idea to plot them against the ground truth labels.\n",
        "\n",
        "Often you'll see this in the form of `y_test` or `y_true` versus `y_pred` (ground truth vs your model)"
      ]
    },
    {
      "cell_type": "code",
      "metadata": {
        "colab": {
          "base_uri": "https://localhost:8080/"
        },
        "id": "IDAZF3J4Dasm",
        "outputId": "2a01a98f-26b7-4254-8772-34510b571f14"
      },
      "source": [
        "# Make some predictions\n",
        "\n",
        "y_pred=model.predict(X_test)\n",
        "y_pred"
      ],
      "execution_count": null,
      "outputs": [
        {
          "output_type": "stream",
          "text": [
            "WARNING:tensorflow:5 out of the last 6 calls to <function Model.make_predict_function.<locals>.predict_function at 0x7f5cb5908cb0> triggered tf.function retracing. Tracing is expensive and the excessive number of tracings could be due to (1) creating @tf.function repeatedly in a loop, (2) passing tensors with different shapes, (3) passing Python objects instead of tensors. For (1), please define your @tf.function outside of the loop. For (2), @tf.function has experimental_relax_shapes=True option that relaxes argument shapes that can avoid unnecessary retracing. For (3), please refer to https://www.tensorflow.org/guide/function#controlling_retracing and https://www.tensorflow.org/api_docs/python/tf/function for  more details.\n"
          ],
          "name": "stdout"
        },
        {
          "output_type": "execute_result",
          "data": {
            "text/plain": [
              "array([[ 70.55218 ],\n",
              "       [ 75.13991 ],\n",
              "       [ 79.72763 ],\n",
              "       [ 84.31535 ],\n",
              "       [ 88.903076],\n",
              "       [ 93.49081 ],\n",
              "       [ 98.07853 ],\n",
              "       [102.66625 ],\n",
              "       [107.253975],\n",
              "       [111.8417  ]], dtype=float32)"
            ]
          },
          "metadata": {
            "tags": []
          },
          "execution_count": 51
        }
      ]
    },
    {
      "cell_type": "code",
      "metadata": {
        "colab": {
          "base_uri": "https://localhost:8080/"
        },
        "id": "Ca2Nnc9yDpzX",
        "outputId": "c7c6eac7-8023-45fe-d505-dc22224c28ec"
      },
      "source": [
        "y_test"
      ],
      "execution_count": null,
      "outputs": [
        {
          "output_type": "execute_result",
          "data": {
            "text/plain": [
              "<tf.Tensor: shape=(10,), dtype=int32, numpy=array([ 70,  74,  78,  82,  86,  90,  94,  98, 102, 106], dtype=int32)>"
            ]
          },
          "metadata": {
            "tags": []
          },
          "execution_count": 52
        }
      ]
    },
    {
      "cell_type": "markdown",
      "metadata": {
        "id": "tmGMsVgMEpIl"
      },
      "source": [
        "**Note** If you feel like you're going to reuse some kind of functiuonality in the future, it's good idea to turn it into a function"
      ]
    },
    {
      "cell_type": "code",
      "metadata": {
        "id": "fIvS_akyEdNf"
      },
      "source": [
        "# Let's create a plotting function\n",
        "\n",
        "def plot_prediction(train_data=X_train,\n",
        "                    train_labels=y_train,\n",
        "                    test_data=X_test,\n",
        "                    test_labels=y_test,\n",
        "                    predictions=y_pred):\n",
        "  \"\"\"\n",
        "  Plots training data, test data and compares predictions to ground truth labels.\n",
        "  \"\"\"\n",
        "\n",
        "  plt.figure(figsize=(10,7))\n",
        "  #plot the training data in blue\n",
        "  plt.scatter(train_data,train_labels,c=\"b\",label=\"Training Data\")\n",
        "  #plot the testing data in green\n",
        "  plt.scatter(test_data,test_labels,c=\"g\",label=\"Testing Data\")\n",
        "  #plot the model's prediction in red\n",
        "  plt.scatter(test_data,predictions,c=\"r\",label=\"Prediction\")\n",
        "\n",
        "  #plot the legend\n",
        "  plt.legend();\n"
      ],
      "execution_count": null,
      "outputs": []
    },
    {
      "cell_type": "code",
      "metadata": {
        "colab": {
          "base_uri": "https://localhost:8080/",
          "height": 428
        },
        "id": "5EldP9mWGkVl",
        "outputId": "d9402fd0-461d-4123-aa83-12fff89d1371"
      },
      "source": [
        "plot_prediction(train_data=X_train,\n",
        "                train_labels=y_train,\n",
        "                test_data=X_test,\n",
        "                test_labels=y_test,\n",
        "                predictions=y_pred)"
      ],
      "execution_count": null,
      "outputs": [
        {
          "output_type": "display_data",
          "data": {
            "image/png": "[encoded data removed]",
            "text/plain": [
              "<Figure size 720x504 with 1 Axes>"
            ]
          },
          "metadata": {
            "tags": [],
            "needs_background": "light"
          }
        }
      ]
    },
    {
      "cell_type": "markdown",
      "metadata": {
        "id": "FGgZlz_rG0ud"
      },
      "source": [
        "### Evaluating our model's predictions with regression evaluation matrix\n",
        "\n",
        "Depending upon the problems you are working on, there will be different evaluation metrics to evaluate your model's performance.\n",
        "\n",
        "Since we're working on a regression, two of the main metrics:\n",
        "* **MAE** - mean absolute error, \"on average, how wrong is each of my model's predictions\"\n",
        "* **MSE** - mean square error,\" square the average errors\""
      ]
    },
    {
      "cell_type": "code",
      "metadata": {
        "colab": {
          "base_uri": "https://localhost:8080/"
        },
        "id": "AaDZ7Q0tIlJI",
        "outputId": "6206f328-6072-47c9-f42e-005110c5cbcc"
      },
      "source": [
        "# Evaluate the model on the test set\n",
        "model.evaluate(X_test,y_test)"
      ],
      "execution_count": null,
      "outputs": [
        {
          "output_type": "stream",
          "text": [
            "1/1 [==============================] - 0s 143ms/step - loss: 3.1969 - mae: 3.1969\n"
          ],
          "name": "stdout"
        },
        {
          "output_type": "execute_result",
          "data": {
            "text/plain": [
              "[3.1969451904296875, 3.1969451904296875]"
            ]
          },
          "metadata": {
            "tags": []
          },
          "execution_count": 62
        }
      ]
    },
    {
      "cell_type": "code",
      "metadata": {
        "colab": {
          "base_uri": "https://localhost:8080/"
        },
        "id": "mS8cJpH-KZb9",
        "outputId": "a1b98b79-4516-45b7-9035-e51dcd08940a"
      },
      "source": [
        "y_pred"
      ],
      "execution_count": null,
      "outputs": [
        {
          "output_type": "execute_result",
          "data": {
            "text/plain": [
              "array([[ 70.55218 ],\n",
              "       [ 75.13991 ],\n",
              "       [ 79.72763 ],\n",
              "       [ 84.31535 ],\n",
              "       [ 88.903076],\n",
              "       [ 93.49081 ],\n",
              "       [ 98.07853 ],\n",
              "       [102.66625 ],\n",
              "       [107.253975],\n",
              "       [111.8417  ]], dtype=float32)"
            ]
          },
          "metadata": {
            "tags": []
          },
          "execution_count": 63
        }
      ]
    },
    {
      "cell_type": "code",
      "metadata": {
        "colab": {
          "base_uri": "https://localhost:8080/"
        },
        "id": "gh4MtIZKKqcf",
        "outputId": "33c43627-e59c-482c-cbc1-a32b7277bfb5"
      },
      "source": [
        "# Calculate the mean absolute error\n",
        "mae=tf.metrics.mean_absolute_error(y_true=y_test,\n",
        "                                   y_pred=tf.constant(y_pred))\n",
        "mae"
      ],
      "execution_count": null,
      "outputs": [
        {
          "output_type": "execute_result",
          "data": {
            "text/plain": [
              "<tf.Tensor: shape=(10,), dtype=float32, numpy=\n",
              "array([17.558258 , 14.1160555, 11.708948 , 10.336929 , 10.       ,\n",
              "       10.698161 , 12.447118 , 15.333002 , 19.253975 , 23.841698 ],\n",
              "      dtype=float32)>"
            ]
          },
          "metadata": {
            "tags": []
          },
          "execution_count": 72
        }
      ]
    },
    {
      "cell_type": "code",
      "metadata": {
        "colab": {
          "base_uri": "https://localhost:8080/"
        },
        "id": "2hiU0FxjLlwk",
        "outputId": "5d43ff00-1a8a-4aa4-da90-39654712b69e"
      },
      "source": [
        "tf.constant(y_pred)"
      ],
      "execution_count": null,
      "outputs": [
        {
          "output_type": "execute_result",
          "data": {
            "text/plain": [
              "<tf.Tensor: shape=(10, 1), dtype=float32, numpy=\n",
              "array([[ 70.55218 ],\n",
              "       [ 75.13991 ],\n",
              "       [ 79.72763 ],\n",
              "       [ 84.31535 ],\n",
              "       [ 88.903076],\n",
              "       [ 93.49081 ],\n",
              "       [ 98.07853 ],\n",
              "       [102.66625 ],\n",
              "       [107.253975],\n",
              "       [111.8417  ]], dtype=float32)>"
            ]
          },
          "metadata": {
            "tags": []
          },
          "execution_count": 73
        }
      ]
    },
    {
      "cell_type": "code",
      "metadata": {
        "colab": {
          "base_uri": "https://localhost:8080/"
        },
        "id": "IsPKIOzXKlT8",
        "outputId": "38a19ef7-ec36-45d9-d58e-cbf9ee125a05"
      },
      "source": [
        "y_test"
      ],
      "execution_count": null,
      "outputs": [
        {
          "output_type": "execute_result",
          "data": {
            "text/plain": [
              "<tf.Tensor: shape=(10,), dtype=int32, numpy=array([ 70,  74,  78,  82,  86,  90,  94,  98, 102, 106], dtype=int32)>"
            ]
          },
          "metadata": {
            "tags": []
          },
          "execution_count": 64
        }
      ]
    },
    {
      "cell_type": "code",
      "metadata": {
        "colab": {
          "base_uri": "https://localhost:8080/"
        },
        "id": "IWvo0MYhKmyj",
        "outputId": "a8f41ee0-496e-43cc-f50a-bf4935b4685a"
      },
      "source": [
        "tf.squeeze(y_pred)"
      ],
      "execution_count": null,
      "outputs": [
        {
          "output_type": "execute_result",
          "data": {
            "text/plain": [
              "<tf.Tensor: shape=(10,), dtype=float32, numpy=\n",
              "array([ 70.55218 ,  75.13991 ,  79.72763 ,  84.31535 ,  88.903076,\n",
              "        93.49081 ,  98.07853 , 102.66625 , 107.253975, 111.8417  ],\n",
              "      dtype=float32)>"
            ]
          },
          "metadata": {
            "tags": []
          },
          "execution_count": 74
        }
      ]
    },
    {
      "cell_type": "code",
      "metadata": {
        "colab": {
          "base_uri": "https://localhost:8080/"
        },
        "id": "3zw2aQ_gMMGL",
        "outputId": "ddab033e-0281-43d2-b724-2d18ff6d25f9"
      },
      "source": [
        "# Calculate the mean absolute error\n",
        "mae=tf.metrics.mean_absolute_error(y_true=y_test,\n",
        "                                   y_pred=tf.squeeze(y_pred))\n",
        "mae"
      ],
      "execution_count": null,
      "outputs": [
        {
          "output_type": "execute_result",
          "data": {
            "text/plain": [
              "<tf.Tensor: shape=(), dtype=float32, numpy=3.1969407>"
            ]
          },
          "metadata": {
            "tags": []
          },
          "execution_count": 76
        }
      ]
    },
    {
      "cell_type": "code",
      "metadata": {
        "colab": {
          "base_uri": "https://localhost:8080/"
        },
        "id": "DtKJIdNuMdfz",
        "outputId": "685ebbdb-014e-4ae3-87f2-08996670cb87"
      },
      "source": [
        "# Calculate the mean square error\n",
        "mse=tf.metrics.mean_squared_error(y_true=y_test,\n",
        "                                  y_pred=tf.squeeze(y_pred))\n",
        "mse"
      ],
      "execution_count": null,
      "outputs": [
        {
          "output_type": "execute_result",
          "data": {
            "text/plain": [
              "<tf.Tensor: shape=(), dtype=float32, numpy=13.070143>"
            ]
          },
          "metadata": {
            "tags": []
          },
          "execution_count": 77
        }
      ]
    },
    {
      "cell_type": "code",
      "metadata": {
        "id": "4cYWjydhNByr"
      },
      "source": [
        "# Make some function to reuse MAE and MSE\n",
        "def mae(y_true,y_pred):\n",
        "  return tf.metrics.mean_absolute_error(y_true=y_true,\n",
        "                                        y_pred=tf.squeeze(y_pred))\n",
        "  \n",
        "def mse(y_true,y_pred):\n",
        "  return tf.metrics.mean_squared_error(y_true=y_true,\n",
        "                                       y_pred=tf.squeeze(y_pred))"
      ],
      "execution_count": null,
      "outputs": []
    },
    {
      "cell_type": "markdown",
      "metadata": {
        "id": "to10e7FSNzn5"
      },
      "source": [
        "### Running experiments to imprpove our model\n",
        "\n",
        "```\n",
        "Build a model -> fit it -> evaluate it -> tweak a model-> fit it ->evaluate it..\n",
        ".\n",
        "````\n",
        "\n",
        "1. Get more data- get more examples for your model to train on ( more opportunities to learn patterns or relationships between features and labels)\n",
        "2. Make your model larger(using a more complex model)- this might come in the form of more layers or more hidden units in each layers.\n",
        "3. Train for longer- give your model more of a chance to find the patterns in the data.\n",
        "\n",
        "Let's do 3 modellng experiments:\n",
        "\n",
        "1. `model_1` - same as the original model, 1 layer, trained for 100 epochs.\n",
        "2. `model_2` - 2 layers, trained for 100 epochs\n",
        "3. `model_3` - 2 layers, trained for 500 epochs\n",
        "\n",
        "**Build** `model_1`"
      ]
    },
    {
      "cell_type": "code",
      "metadata": {
        "colab": {
          "base_uri": "https://localhost:8080/"
        },
        "id": "xLJGZ8lwOTKp",
        "outputId": "3c6e9998-544a-41db-d818-477287c48d93"
      },
      "source": [
        "# Set random seed\n",
        "tf.random.set_seed(42)\n",
        "\n",
        "#1. Create a model\n",
        "model_1=tf.keras.Sequential([\n",
        "      tf.keras.layers.Dense(1)               \n",
        "])\n",
        "\n",
        "#2. Compile a model\n",
        "model_1.compile(loss=tf.keras.losses.mae,\n",
        "              optimizer=tf.keras.optimizers.SGD())\n",
        "\n",
        "#3. Fit a model\n",
        "model_1.fit(X_train,y_train,epochs=100)"
      ],
      "execution_count": null,
      "outputs": [
        {
          "output_type": "stream",
          "text": [
            "Epoch 1/100\n",
            "2/2 [==============================] - 0s 10ms/step - loss: 16.4124\n",
            "Epoch 2/100\n",
            "2/2 [==============================] - 0s 5ms/step - loss: 11.0829\n",
            "Epoch 3/100\n",
            "2/2 [==============================] - 0s 10ms/step - loss: 11.1242\n",
            "Epoch 4/100\n",
            "2/2 [==============================] - 0s 7ms/step - loss: 8.6945\n",
            "Epoch 5/100\n",
            "2/2 [==============================] - 0s 3ms/step - loss: 9.8003\n",
            "Epoch 6/100\n",
            "2/2 [==============================] - 0s 8ms/step - loss: 9.5263\n",
            "Epoch 7/100\n",
            "2/2 [==============================] - 0s 6ms/step - loss: 8.4102\n",
            "Epoch 8/100\n",
            "2/2 [==============================] - 0s 13ms/step - loss: 9.1449\n",
            "Epoch 9/100\n",
            "2/2 [==============================] - 0s 8ms/step - loss: 19.4932\n",
            "Epoch 10/100\n",
            "2/2 [==============================] - 0s 5ms/step - loss: 9.6061\n",
            "Epoch 11/100\n",
            "2/2 [==============================] - 0s 3ms/step - loss: 8.5992\n",
            "Epoch 12/100\n",
            "2/2 [==============================] - 0s 6ms/step - loss: 10.9324\n",
            "Epoch 13/100\n",
            "2/2 [==============================] - 0s 6ms/step - loss: 10.0574\n",
            "Epoch 14/100\n",
            "2/2 [==============================] - 0s 3ms/step - loss: 16.5679\n",
            "Epoch 15/100\n",
            "2/2 [==============================] - 0s 11ms/step - loss: 11.4537\n",
            "Epoch 16/100\n",
            "2/2 [==============================] - 0s 6ms/step - loss: 8.4056\n",
            "Epoch 17/100\n",
            "2/2 [==============================] - 0s 3ms/step - loss: 13.8417\n",
            "Epoch 18/100\n",
            "2/2 [==============================] - 0s 9ms/step - loss: 11.6621\n",
            "Epoch 19/100\n",
            "2/2 [==============================] - 0s 3ms/step - loss: 18.7623\n",
            "Epoch 20/100\n",
            "2/2 [==============================] - 0s 4ms/step - loss: 15.5702\n",
            "Epoch 21/100\n",
            "2/2 [==============================] - 0s 5ms/step - loss: 10.9959\n",
            "Epoch 22/100\n",
            "2/2 [==============================] - 0s 5ms/step - loss: 8.0023\n",
            "Epoch 23/100\n",
            "2/2 [==============================] - 0s 3ms/step - loss: 9.8593\n",
            "Epoch 24/100\n",
            "2/2 [==============================] - 0s 5ms/step - loss: 7.5796\n",
            "Epoch 25/100\n",
            "2/2 [==============================] - 0s 4ms/step - loss: 13.7226\n",
            "Epoch 26/100\n",
            "2/2 [==============================] - 0s 5ms/step - loss: 17.1740\n",
            "Epoch 27/100\n",
            "2/2 [==============================] - 0s 6ms/step - loss: 13.4233\n",
            "Epoch 28/100\n",
            "2/2 [==============================] - 0s 4ms/step - loss: 14.5473\n",
            "Epoch 29/100\n",
            "2/2 [==============================] - 0s 4ms/step - loss: 9.8753\n",
            "Epoch 30/100\n",
            "2/2 [==============================] - 0s 4ms/step - loss: 17.1187\n",
            "Epoch 31/100\n",
            "2/2 [==============================] - 0s 5ms/step - loss: 24.5949\n",
            "Epoch 32/100\n",
            "2/2 [==============================] - 0s 16ms/step - loss: 7.6765\n",
            "Epoch 33/100\n",
            "2/2 [==============================] - 0s 7ms/step - loss: 9.2971\n",
            "Epoch 34/100\n",
            "2/2 [==============================] - 0s 6ms/step - loss: 14.1703\n",
            "Epoch 35/100\n",
            "2/2 [==============================] - 0s 5ms/step - loss: 10.8635\n",
            "Epoch 36/100\n",
            "2/2 [==============================] - 0s 5ms/step - loss: 13.5689\n",
            "Epoch 37/100\n",
            "2/2 [==============================] - 0s 10ms/step - loss: 9.3448\n",
            "Epoch 38/100\n",
            "2/2 [==============================] - 0s 9ms/step - loss: 10.4804\n",
            "Epoch 39/100\n",
            "2/2 [==============================] - 0s 9ms/step - loss: 10.0178\n",
            "Epoch 40/100\n",
            "2/2 [==============================] - 0s 5ms/step - loss: 10.8005\n",
            "Epoch 41/100\n",
            "2/2 [==============================] - 0s 4ms/step - loss: 7.7789\n",
            "Epoch 42/100\n",
            "2/2 [==============================] - 0s 5ms/step - loss: 10.2844\n",
            "Epoch 43/100\n",
            "2/2 [==============================] - 0s 4ms/step - loss: 8.9628\n",
            "Epoch 44/100\n",
            "2/2 [==============================] - 0s 6ms/step - loss: 12.6243\n",
            "Epoch 45/100\n",
            "2/2 [==============================] - 0s 4ms/step - loss: 14.1236\n",
            "Epoch 46/100\n",
            "2/2 [==============================] - 0s 5ms/step - loss: 8.2681\n",
            "Epoch 47/100\n",
            "2/2 [==============================] - 0s 4ms/step - loss: 9.0126\n",
            "Epoch 48/100\n",
            "2/2 [==============================] - 0s 4ms/step - loss: 10.6882\n",
            "Epoch 49/100\n",
            "2/2 [==============================] - 0s 5ms/step - loss: 7.7431\n",
            "Epoch 50/100\n",
            "2/2 [==============================] - 0s 4ms/step - loss: 9.3950\n",
            "Epoch 51/100\n",
            "2/2 [==============================] - 0s 4ms/step - loss: 8.9267\n",
            "Epoch 52/100\n",
            "2/2 [==============================] - 0s 5ms/step - loss: 16.9818\n",
            "Epoch 53/100\n",
            "2/2 [==============================] - 0s 8ms/step - loss: 14.8677\n",
            "Epoch 54/100\n",
            "2/2 [==============================] - 0s 6ms/step - loss: 22.0413\n",
            "Epoch 55/100\n",
            "2/2 [==============================] - 0s 10ms/step - loss: 17.0640\n",
            "Epoch 56/100\n",
            "2/2 [==============================] - 0s 8ms/step - loss: 9.9520\n",
            "Epoch 57/100\n",
            "2/2 [==============================] - 0s 5ms/step - loss: 9.7522\n",
            "Epoch 58/100\n",
            "2/2 [==============================] - 0s 4ms/step - loss: 9.4378\n",
            "Epoch 59/100\n",
            "2/2 [==============================] - 0s 5ms/step - loss: 8.3373\n",
            "Epoch 60/100\n",
            "2/2 [==============================] - 0s 4ms/step - loss: 9.6425\n",
            "Epoch 61/100\n",
            "2/2 [==============================] - 0s 4ms/step - loss: 11.7590\n",
            "Epoch 62/100\n",
            "2/2 [==============================] - 0s 5ms/step - loss: 11.7187\n",
            "Epoch 63/100\n",
            "2/2 [==============================] - 0s 4ms/step - loss: 7.2316\n",
            "Epoch 64/100\n",
            "2/2 [==============================] - 0s 6ms/step - loss: 17.7848\n",
            "Epoch 65/100\n",
            "2/2 [==============================] - 0s 14ms/step - loss: 12.6255\n",
            "Epoch 66/100\n",
            "2/2 [==============================] - 0s 5ms/step - loss: 13.2840\n",
            "Epoch 67/100\n",
            "2/2 [==============================] - 0s 4ms/step - loss: 7.8471\n",
            "Epoch 68/100\n",
            "2/2 [==============================] - 0s 3ms/step - loss: 9.9708\n",
            "Epoch 69/100\n",
            "2/2 [==============================] - 0s 5ms/step - loss: 12.4903\n",
            "Epoch 70/100\n",
            "2/2 [==============================] - 0s 3ms/step - loss: 8.5001\n",
            "Epoch 71/100\n",
            "2/2 [==============================] - 0s 9ms/step - loss: 9.9996\n",
            "Epoch 72/100\n",
            "2/2 [==============================] - 0s 4ms/step - loss: 10.1797\n",
            "Epoch 73/100\n",
            "2/2 [==============================] - 0s 4ms/step - loss: 13.0024\n",
            "Epoch 74/100\n",
            "2/2 [==============================] - 0s 5ms/step - loss: 10.3812\n",
            "Epoch 75/100\n",
            "2/2 [==============================] - 0s 15ms/step - loss: 9.7621\n",
            "Epoch 76/100\n",
            "2/2 [==============================] - 0s 4ms/step - loss: 11.5186\n",
            "Epoch 77/100\n",
            "2/2 [==============================] - 0s 4ms/step - loss: 8.3070\n",
            "Epoch 78/100\n",
            "2/2 [==============================] - 0s 6ms/step - loss: 9.4436\n",
            "Epoch 79/100\n",
            "2/2 [==============================] - 0s 8ms/step - loss: 20.3897\n",
            "Epoch 80/100\n",
            "2/2 [==============================] - 0s 17ms/step - loss: 15.4751\n",
            "Epoch 81/100\n",
            "2/2 [==============================] - 0s 8ms/step - loss: 9.0208\n",
            "Epoch 82/100\n",
            "2/2 [==============================] - 0s 7ms/step - loss: 13.3869\n",
            "Epoch 83/100\n",
            "2/2 [==============================] - 0s 12ms/step - loss: 7.9649\n",
            "Epoch 84/100\n",
            "2/2 [==============================] - 0s 13ms/step - loss: 7.5702\n",
            "Epoch 85/100\n",
            "2/2 [==============================] - 0s 8ms/step - loss: 9.9706\n",
            "Epoch 86/100\n",
            "2/2 [==============================] - 0s 7ms/step - loss: 9.0533\n",
            "Epoch 87/100\n",
            "2/2 [==============================] - 0s 5ms/step - loss: 12.2670\n",
            "Epoch 88/100\n",
            "2/2 [==============================] - 0s 5ms/step - loss: 10.6052\n",
            "Epoch 89/100\n",
            "2/2 [==============================] - 0s 16ms/step - loss: 7.1986\n",
            "Epoch 90/100\n",
            "2/2 [==============================] - 0s 9ms/step - loss: 13.0379\n",
            "Epoch 91/100\n",
            "2/2 [==============================] - 0s 15ms/step - loss: 7.1968\n",
            "Epoch 92/100\n",
            "2/2 [==============================] - 0s 6ms/step - loss: 7.5386\n",
            "Epoch 93/100\n",
            "2/2 [==============================] - 0s 9ms/step - loss: 7.0932\n",
            "Epoch 94/100\n",
            "2/2 [==============================] - 0s 8ms/step - loss: 12.8860\n",
            "Epoch 95/100\n",
            "2/2 [==============================] - 0s 9ms/step - loss: 9.9620\n",
            "Epoch 96/100\n",
            "2/2 [==============================] - 0s 9ms/step - loss: 8.7739\n",
            "Epoch 97/100\n",
            "2/2 [==============================] - 0s 3ms/step - loss: 13.0861\n",
            "Epoch 98/100\n",
            "2/2 [==============================] - 0s 3ms/step - loss: 8.3848\n",
            "Epoch 99/100\n",
            "2/2 [==============================] - 0s 4ms/step - loss: 9.7828\n",
            "Epoch 100/100\n",
            "2/2 [==============================] - 0s 5ms/step - loss: 8.5252\n"
          ],
          "name": "stdout"
        },
        {
          "output_type": "execute_result",
          "data": {
            "text/plain": [
              "<tensorflow.python.keras.callbacks.History at 0x7f5c70b55450>"
            ]
          },
          "metadata": {
            "tags": []
          },
          "execution_count": 82
        }
      ]
    },
    {
      "cell_type": "code",
      "metadata": {
        "colab": {
          "base_uri": "https://localhost:8080/",
          "height": 428
        },
        "id": "M62tMAFKO-sD",
        "outputId": "041c0502-41b6-422a-b368-f206b88c0207"
      },
      "source": [
        "# Make and plot prediction for model_1\n",
        "y_preds_1=model_1.predict(X_test)\n",
        "plot_prediction(predictions=y_preds_1)\n"
      ],
      "execution_count": null,
      "outputs": [
        {
          "output_type": "display_data",
          "data": {
            "image/png": "[encoded data removed]",
            "text/plain": [
              "<Figure size 720x504 with 1 Axes>"
            ]
          },
          "metadata": {
            "tags": [],
            "needs_background": "light"
          }
        }
      ]
    },
    {
      "cell_type": "code",
      "metadata": {
        "colab": {
          "base_uri": "https://localhost:8080/"
        },
        "id": "APwhaxrrcsg8",
        "outputId": "5c5f7fad-d889-4c58-820e-58d5082671e1"
      },
      "source": [
        "# Calculate model_1 evaluation metrics\n",
        "mae_1=mae(y_test,(y_preds_1))\n",
        "mse_1=mse(y_test,(y_preds_1))\n",
        "mae_1,mse_1"
      ],
      "execution_count": null,
      "outputs": [
        {
          "output_type": "execute_result",
          "data": {
            "text/plain": [
              "(<tf.Tensor: shape=(), dtype=float32, numpy=18.745327>,\n",
              " <tf.Tensor: shape=(), dtype=float32, numpy=353.57336>)"
            ]
          },
          "metadata": {
            "tags": []
          },
          "execution_count": 91
        }
      ]
    },
    {
      "cell_type": "markdown",
      "metadata": {
        "id": "XcN5aCEQdYai"
      },
      "source": [
        "**Build `model_2`**\n",
        "* 2 dense layer, trained 100 epopchs"
      ]
    },
    {
      "cell_type": "code",
      "metadata": {
        "colab": {
          "base_uri": "https://localhost:8080/"
        },
        "id": "YTup0bCGebC7",
        "outputId": "b5b08aa9-47e7-433b-afc1-41abef7bc66c"
      },
      "source": [
        "# Create a random seed\n",
        "tf.random.set_seed(42)\n",
        "\n",
        "#1. Create a model_2\n",
        "model_2=tf.keras.Sequential([\n",
        "        tf.keras.layers.Dense(10),\n",
        "        tf.keras.layers.Dense(1)                     \n",
        "])\n",
        "#2. Compile the model\n",
        "model_2.compile(loss=tf.keras.losses.mae,\n",
        "                optimizer=tf.keras.optimizers.SGD(),\n",
        "                metrics=[\"mae\"])\n",
        "\n",
        "#3. Fit the model\n",
        "model_2.fit(X_train,y_train,epochs=100)"
      ],
      "execution_count": null,
      "outputs": [
        {
          "output_type": "stream",
          "text": [
            "Epoch 1/100\n",
            "2/2 [==============================] - 0s 7ms/step - loss: 26.8627 - mae: 26.8627\n",
            "Epoch 2/100\n",
            "2/2 [==============================] - 0s 8ms/step - loss: 24.4175 - mae: 24.4175\n",
            "Epoch 3/100\n",
            "2/2 [==============================] - 0s 4ms/step - loss: 31.5187 - mae: 31.5187\n",
            "Epoch 4/100\n",
            "2/2 [==============================] - 0s 4ms/step - loss: 27.8490 - mae: 27.8490\n",
            "Epoch 5/100\n",
            "2/2 [==============================] - 0s 3ms/step - loss: 14.6465 - mae: 14.6465\n",
            "Epoch 6/100\n",
            "2/2 [==============================] - 0s 3ms/step - loss: 11.9682 - mae: 11.9682\n",
            "Epoch 7/100\n",
            "2/2 [==============================] - 0s 3ms/step - loss: 11.0874 - mae: 11.0874\n",
            "Epoch 8/100\n",
            "2/2 [==============================] - 0s 4ms/step - loss: 11.3978 - mae: 11.3978\n",
            "Epoch 9/100\n",
            "2/2 [==============================] - 0s 4ms/step - loss: 42.4087 - mae: 42.4087\n",
            "Epoch 10/100\n",
            "2/2 [==============================] - 0s 3ms/step - loss: 28.3537 - mae: 28.3537\n",
            "Epoch 11/100\n",
            "2/2 [==============================] - 0s 4ms/step - loss: 9.6590 - mae: 9.6590\n",
            "Epoch 12/100\n",
            "2/2 [==============================] - 0s 4ms/step - loss: 25.8820 - mae: 25.8820\n",
            "Epoch 13/100\n",
            "2/2 [==============================] - 0s 4ms/step - loss: 16.7682 - mae: 16.7682\n",
            "Epoch 14/100\n",
            "2/2 [==============================] - 0s 3ms/step - loss: 26.6019 - mae: 26.6019\n",
            "Epoch 15/100\n",
            "2/2 [==============================] - 0s 3ms/step - loss: 17.7361 - mae: 17.7361\n",
            "Epoch 16/100\n",
            "2/2 [==============================] - 0s 6ms/step - loss: 7.4550 - mae: 7.4550\n",
            "Epoch 17/100\n",
            "2/2 [==============================] - 0s 3ms/step - loss: 10.6974 - mae: 10.6974\n",
            "Epoch 18/100\n",
            "2/2 [==============================] - 0s 3ms/step - loss: 20.7691 - mae: 20.7691\n",
            "Epoch 19/100\n",
            "2/2 [==============================] - 0s 8ms/step - loss: 9.6535 - mae: 9.6535\n",
            "Epoch 20/100\n",
            "2/2 [==============================] - 0s 3ms/step - loss: 18.4600 - mae: 18.4600\n",
            "Epoch 21/100\n",
            "2/2 [==============================] - 0s 4ms/step - loss: 16.2352 - mae: 16.2352\n",
            "Epoch 22/100\n",
            "2/2 [==============================] - 0s 3ms/step - loss: 14.5012 - mae: 14.5012\n",
            "Epoch 23/100\n",
            "2/2 [==============================] - 0s 4ms/step - loss: 8.6493 - mae: 8.6493\n",
            "Epoch 24/100\n",
            "2/2 [==============================] - 0s 10ms/step - loss: 10.4430 - mae: 10.4430\n",
            "Epoch 25/100\n",
            "2/2 [==============================] - 0s 3ms/step - loss: 12.8060 - mae: 12.8060\n",
            "Epoch 26/100\n",
            "2/2 [==============================] - 0s 4ms/step - loss: 26.8011 - mae: 26.8011\n",
            "Epoch 27/100\n",
            "2/2 [==============================] - 0s 10ms/step - loss: 12.0333 - mae: 12.0333\n",
            "Epoch 28/100\n",
            "2/2 [==============================] - 0s 4ms/step - loss: 23.4573 - mae: 23.4573\n",
            "Epoch 29/100\n",
            "2/2 [==============================] - 0s 8ms/step - loss: 9.1266 - mae: 9.1266\n",
            "Epoch 30/100\n",
            "2/2 [==============================] - 0s 4ms/step - loss: 31.1804 - mae: 31.1804\n",
            "Epoch 31/100\n",
            "2/2 [==============================] - 0s 4ms/step - loss: 56.8211 - mae: 56.8211\n",
            "Epoch 32/100\n",
            "2/2 [==============================] - 0s 12ms/step - loss: 12.2909 - mae: 12.2909\n",
            "Epoch 33/100\n",
            "2/2 [==============================] - 0s 5ms/step - loss: 15.3304 - mae: 15.3304\n",
            "Epoch 34/100\n",
            "2/2 [==============================] - 0s 6ms/step - loss: 12.8145 - mae: 12.8145\n",
            "Epoch 35/100\n",
            "2/2 [==============================] - 0s 9ms/step - loss: 9.4721 - mae: 9.4721\n",
            "Epoch 36/100\n",
            "2/2 [==============================] - 0s 12ms/step - loss: 16.6526 - mae: 16.6526\n",
            "Epoch 37/100\n",
            "2/2 [==============================] - 0s 6ms/step - loss: 10.4634 - mae: 10.4634\n",
            "Epoch 38/100\n",
            "2/2 [==============================] - 0s 4ms/step - loss: 18.7760 - mae: 18.7760\n",
            "Epoch 39/100\n",
            "2/2 [==============================] - 0s 4ms/step - loss: 20.1198 - mae: 20.1198\n",
            "Epoch 40/100\n",
            "2/2 [==============================] - 0s 5ms/step - loss: 21.4944 - mae: 21.4944\n",
            "Epoch 41/100\n",
            "2/2 [==============================] - 0s 3ms/step - loss: 14.5667 - mae: 14.5667\n",
            "Epoch 42/100\n",
            "2/2 [==============================] - 0s 5ms/step - loss: 12.2999 - mae: 12.2999\n",
            "Epoch 43/100\n",
            "2/2 [==============================] - 0s 5ms/step - loss: 11.1115 - mae: 11.1115\n",
            "Epoch 44/100\n",
            "2/2 [==============================] - 0s 4ms/step - loss: 23.5895 - mae: 23.5895\n",
            "Epoch 45/100\n",
            "2/2 [==============================] - 0s 8ms/step - loss: 9.9461 - mae: 9.9461\n",
            "Epoch 46/100\n",
            "2/2 [==============================] - 0s 4ms/step - loss: 12.0273 - mae: 12.0273\n",
            "Epoch 47/100\n",
            "2/2 [==============================] - 0s 18ms/step - loss: 9.0557 - mae: 9.0557\n",
            "Epoch 48/100\n",
            "2/2 [==============================] - 0s 5ms/step - loss: 17.8711 - mae: 17.8711\n",
            "Epoch 49/100\n",
            "2/2 [==============================] - 0s 10ms/step - loss: 9.5485 - mae: 9.5485\n",
            "Epoch 50/100\n",
            "2/2 [==============================] - 0s 7ms/step - loss: 13.7912 - mae: 13.7912\n",
            "Epoch 51/100\n",
            "2/2 [==============================] - 0s 10ms/step - loss: 11.2969 - mae: 11.2969\n",
            "Epoch 52/100\n",
            "2/2 [==============================] - 0s 4ms/step - loss: 32.1753 - mae: 32.1753\n",
            "Epoch 53/100\n",
            "2/2 [==============================] - 0s 4ms/step - loss: 14.1257 - mae: 14.1257\n",
            "Epoch 54/100\n",
            "2/2 [==============================] - 0s 7ms/step - loss: 24.3921 - mae: 24.3921\n",
            "Epoch 55/100\n",
            "2/2 [==============================] - 0s 6ms/step - loss: 23.5967 - mae: 23.5967\n",
            "Epoch 56/100\n",
            "2/2 [==============================] - 0s 7ms/step - loss: 10.0101 - mae: 10.0101\n",
            "Epoch 57/100\n",
            "2/2 [==============================] - 0s 4ms/step - loss: 12.4333 - mae: 12.4333\n",
            "Epoch 58/100\n",
            "2/2 [==============================] - 0s 4ms/step - loss: 9.4491 - mae: 9.4491\n",
            "Epoch 59/100\n",
            "2/2 [==============================] - 0s 5ms/step - loss: 12.6438 - mae: 12.6438\n",
            "Epoch 60/100\n",
            "2/2 [==============================] - 0s 11ms/step - loss: 12.3168 - mae: 12.3168\n",
            "Epoch 61/100\n",
            "2/2 [==============================] - 0s 4ms/step - loss: 17.1832 - mae: 17.1832\n",
            "Epoch 62/100\n",
            "2/2 [==============================] - 0s 4ms/step - loss: 10.4860 - mae: 10.4860\n",
            "Epoch 63/100\n",
            "2/2 [==============================] - 0s 5ms/step - loss: 10.8072 - mae: 10.8072\n",
            "Epoch 64/100\n",
            "2/2 [==============================] - 0s 5ms/step - loss: 25.2892 - mae: 25.2892\n",
            "Epoch 65/100\n",
            "2/2 [==============================] - 0s 4ms/step - loss: 10.7923 - mae: 10.7923\n",
            "Epoch 66/100\n",
            "2/2 [==============================] - 0s 4ms/step - loss: 22.0328 - mae: 22.0328\n",
            "Epoch 67/100\n",
            "2/2 [==============================] - 0s 8ms/step - loss: 10.6505 - mae: 10.6505\n",
            "Epoch 68/100\n",
            "2/2 [==============================] - 0s 5ms/step - loss: 10.8455 - mae: 10.8455\n",
            "Epoch 69/100\n",
            "2/2 [==============================] - 0s 4ms/step - loss: 23.0960 - mae: 23.0960\n",
            "Epoch 70/100\n",
            "2/2 [==============================] - 0s 3ms/step - loss: 8.7402 - mae: 8.7402\n",
            "Epoch 71/100\n",
            "2/2 [==============================] - 0s 5ms/step - loss: 15.8968 - mae: 15.8968\n",
            "Epoch 72/100\n",
            "2/2 [==============================] - 0s 3ms/step - loss: 6.7092 - mae: 6.7092\n",
            "Epoch 73/100\n",
            "2/2 [==============================] - 0s 4ms/step - loss: 10.6475 - mae: 10.6475\n",
            "Epoch 74/100\n",
            "2/2 [==============================] - 0s 4ms/step - loss: 24.6152 - mae: 24.6152\n",
            "Epoch 75/100\n",
            "2/2 [==============================] - 0s 5ms/step - loss: 8.7602 - mae: 8.7602\n",
            "Epoch 76/100\n",
            "2/2 [==============================] - 0s 5ms/step - loss: 11.9799 - mae: 11.9799\n",
            "Epoch 77/100\n",
            "2/2 [==============================] - 0s 6ms/step - loss: 16.6488 - mae: 16.6488\n",
            "Epoch 78/100\n",
            "2/2 [==============================] - 0s 5ms/step - loss: 9.2784 - mae: 9.2784\n",
            "Epoch 79/100\n",
            "2/2 [==============================] - 0s 4ms/step - loss: 24.4604 - mae: 24.4604\n",
            "Epoch 80/100\n",
            "2/2 [==============================] - 0s 8ms/step - loss: 27.4405 - mae: 27.4405\n",
            "Epoch 81/100\n",
            "2/2 [==============================] - 0s 4ms/step - loss: 11.7139 - mae: 11.7139\n",
            "Epoch 82/100\n",
            "2/2 [==============================] - 0s 4ms/step - loss: 11.6757 - mae: 11.6757\n",
            "Epoch 83/100\n",
            "2/2 [==============================] - 0s 5ms/step - loss: 17.9045 - mae: 17.9045\n",
            "Epoch 84/100\n",
            "2/2 [==============================] - 0s 5ms/step - loss: 7.0376 - mae: 7.0376\n",
            "Epoch 85/100\n",
            "2/2 [==============================] - 0s 4ms/step - loss: 15.1558 - mae: 15.1558\n",
            "Epoch 86/100\n",
            "2/2 [==============================] - 0s 3ms/step - loss: 15.1583 - mae: 15.1583\n",
            "Epoch 87/100\n",
            "2/2 [==============================] - 0s 5ms/step - loss: 19.8683 - mae: 19.8683\n",
            "Epoch 88/100\n",
            "2/2 [==============================] - 0s 7ms/step - loss: 30.7657 - mae: 30.7657\n",
            "Epoch 89/100\n",
            "2/2 [==============================] - 0s 6ms/step - loss: 9.7059 - mae: 9.7059\n",
            "Epoch 90/100\n",
            "2/2 [==============================] - 0s 5ms/step - loss: 21.5531 - mae: 21.5531\n",
            "Epoch 91/100\n",
            "2/2 [==============================] - 0s 5ms/step - loss: 9.5827 - mae: 9.5827\n",
            "Epoch 92/100\n",
            "2/2 [==============================] - 0s 4ms/step - loss: 18.2158 - mae: 18.2158\n",
            "Epoch 93/100\n",
            "2/2 [==============================] - 0s 16ms/step - loss: 7.1935 - mae: 7.1935\n",
            "Epoch 94/100\n",
            "2/2 [==============================] - 0s 5ms/step - loss: 17.4261 - mae: 17.4261\n",
            "Epoch 95/100\n",
            "2/2 [==============================] - 0s 11ms/step - loss: 11.1722 - mae: 11.1722\n",
            "Epoch 96/100\n",
            "2/2 [==============================] - 0s 5ms/step - loss: 18.9207 - mae: 18.9207\n",
            "Epoch 97/100\n",
            "2/2 [==============================] - 0s 4ms/step - loss: 12.2012 - mae: 12.2012\n",
            "Epoch 98/100\n",
            "2/2 [==============================] - 0s 5ms/step - loss: 11.2931 - mae: 11.2931\n",
            "Epoch 99/100\n",
            "2/2 [==============================] - 0s 4ms/step - loss: 13.4562 - mae: 13.4562\n",
            "Epoch 100/100\n",
            "2/2 [==============================] - 0s 8ms/step - loss: 20.1754 - mae: 20.1754\n"
          ],
          "name": "stdout"
        },
        {
          "output_type": "execute_result",
          "data": {
            "text/plain": [
              "<tensorflow.python.keras.callbacks.History at 0x7f5c707b5d90>"
            ]
          },
          "metadata": {
            "tags": []
          },
          "execution_count": 100
        }
      ]
    },
    {
      "cell_type": "code",
      "metadata": {
        "colab": {
          "base_uri": "https://localhost:8080/"
        },
        "id": "XH3P9CDpfYsA",
        "outputId": "e4c05487-9d33-48aa-fe2b-db4f6304e3ef"
      },
      "source": [
        "y_preds_2=model_2.predict(X_test)"
      ],
      "execution_count": null,
      "outputs": [
        {
          "output_type": "stream",
          "text": [
            "WARNING:tensorflow:7 out of the last 11 calls to <function Model.make_predict_function.<locals>.predict_function at 0x7f5c6b810950> triggered tf.function retracing. Tracing is expensive and the excessive number of tracings could be due to (1) creating @tf.function repeatedly in a loop, (2) passing tensors with different shapes, (3) passing Python objects instead of tensors. For (1), please define your @tf.function outside of the loop. For (2), @tf.function has experimental_relax_shapes=True option that relaxes argument shapes that can avoid unnecessary retracing. For (3), please refer to https://www.tensorflow.org/guide/function#controlling_retracing and https://www.tensorflow.org/api_docs/python/tf/function for  more details.\n"
          ],
          "name": "stdout"
        }
      ]
    },
    {
      "cell_type": "code",
      "metadata": {
        "colab": {
          "base_uri": "https://localhost:8080/"
        },
        "id": "K5TOl_oIf5__",
        "outputId": "5d6e4add-1e9d-4e6f-a5d6-562f76088367"
      },
      "source": [
        "y_preds_2.shape"
      ],
      "execution_count": null,
      "outputs": [
        {
          "output_type": "execute_result",
          "data": {
            "text/plain": [
              "(10, 1)"
            ]
          },
          "metadata": {
            "tags": []
          },
          "execution_count": 103
        }
      ]
    },
    {
      "cell_type": "code",
      "metadata": {
        "colab": {
          "base_uri": "https://localhost:8080/"
        },
        "id": "1ds2WQ5sf_cH",
        "outputId": "d34a16f6-e40b-4a4f-e1b7-32215fea1a0c"
      },
      "source": [
        "X_test.shape"
      ],
      "execution_count": null,
      "outputs": [
        {
          "output_type": "execute_result",
          "data": {
            "text/plain": [
              "TensorShape([10])"
            ]
          },
          "metadata": {
            "tags": []
          },
          "execution_count": 98
        }
      ]
    },
    {
      "cell_type": "code",
      "metadata": {
        "colab": {
          "base_uri": "https://localhost:8080/",
          "height": 428
        },
        "id": "g4p_GAMTfKIa",
        "outputId": "3e70a556-4a3b-49bc-ece6-932d036e224c"
      },
      "source": [
        "plot_prediction(predictions=y_preds_2)"
      ],
      "execution_count": null,
      "outputs": [
        {
          "output_type": "display_data",
          "data": {
            "image/png": "[encoded data removed]",
            "text/plain": [
              "<Figure size 720x504 with 1 Axes>"
            ]
          },
          "metadata": {
            "tags": [],
            "needs_background": "light"
          }
        }
      ]
    },
    {
      "cell_type": "code",
      "metadata": {
        "colab": {
          "base_uri": "https://localhost:8080/"
        },
        "id": "ypzYjX5vfijH",
        "outputId": "67f1892d-185a-44b3-fcb7-30d63471fbac"
      },
      "source": [
        "#Calculate model_2 evaluation metrics\n",
        "mae_2=mae(y_test,y_preds_2)\n",
        "mae_2"
      ],
      "execution_count": null,
      "outputs": [
        {
          "output_type": "execute_result",
          "data": {
            "text/plain": [
              "<tf.Tensor: shape=(), dtype=float32, numpy=3.1969407>"
            ]
          },
          "metadata": {
            "tags": []
          },
          "execution_count": 104
        }
      ]
    },
    {
      "cell_type": "code",
      "metadata": {
        "colab": {
          "base_uri": "https://localhost:8080/"
        },
        "id": "QndYEYNRhLcv",
        "outputId": "080cb4c0-e494-4853-8fb4-4ee419aa0426"
      },
      "source": [
        "mse_2=mse(y_test,y_preds_2)\n",
        "mse_2"
      ],
      "execution_count": null,
      "outputs": [
        {
          "output_type": "execute_result",
          "data": {
            "text/plain": [
              "<tf.Tensor: shape=(), dtype=float32, numpy=13.070143>"
            ]
          },
          "metadata": {
            "tags": []
          },
          "execution_count": 105
        }
      ]
    },
    {
      "cell_type": "markdown",
      "metadata": {
        "id": "50RMZ1XfhQ6-"
      },
      "source": [
        "**Build `model_3`**\n",
        "\n",
        "* 2 layers, trained for 500 epochs"
      ]
    },
    {
      "cell_type": "code",
      "metadata": {
        "colab": {
          "base_uri": "https://localhost:8080/"
        },
        "id": "VRM6VTZDhnQu",
        "outputId": "9eab11ef-fea5-4bc4-de47-4f2044a216eb"
      },
      "source": [
        "# Set the random Seed\n",
        "tf.random.set_seed(42)\n",
        "\n",
        "# 1. Create a Model_3\n",
        "model_3=tf.keras.Sequential([\n",
        "        tf.keras.layers.Dense(10,activation=None),\n",
        "        tf.keras.layers.Dense(1)                           \n",
        "])\n",
        "\n",
        "# 2. Compile the model\n",
        "model_3.compile(loss=tf.keras.losses.mae,\n",
        "                optimizer=tf.keras.optimizers.Adam(learning_rate=0.001),\n",
        "                metrics=[\"mse\"])\n",
        "\n",
        "#3. Fit the model\n",
        "model_3.fit(X_train,y_train,epochs=500)"
      ],
      "execution_count": null,
      "outputs": [
        {
          "output_type": "stream",
          "text": [
            "Epoch 1/500\n",
            "2/2 [==============================] - 0s 7ms/step - loss: 25.4067 - mse: 862.0631\n",
            "Epoch 2/500\n",
            "2/2 [==============================] - 0s 5ms/step - loss: 24.9183 - mse: 824.6820\n",
            "Epoch 3/500\n",
            "2/2 [==============================] - 0s 4ms/step - loss: 24.0963 - mse: 775.8581\n",
            "Epoch 4/500\n",
            "2/2 [==============================] - 0s 5ms/step - loss: 23.3830 - mse: 728.8749\n",
            "Epoch 5/500\n",
            "2/2 [==============================] - 0s 4ms/step - loss: 22.9531 - mse: 709.4009\n",
            "Epoch 6/500\n",
            "2/2 [==============================] - 0s 4ms/step - loss: 22.8289 - mse: 693.5894\n",
            "Epoch 7/500\n",
            "2/2 [==============================] - 0s 4ms/step - loss: 22.0927 - mse: 643.8502\n",
            "Epoch 8/500\n",
            "2/2 [==============================] - 0s 6ms/step - loss: 20.8092 - mse: 575.6016\n",
            "Epoch 9/500\n",
            "2/2 [==============================] - 0s 16ms/step - loss: 20.1429 - mse: 550.1333\n",
            "Epoch 10/500\n",
            "2/2 [==============================] - 0s 4ms/step - loss: 20.0316 - mse: 533.6907\n",
            "Epoch 11/500\n",
            "2/2 [==============================] - 0s 5ms/step - loss: 19.6887 - mse: 514.8590\n",
            "Epoch 12/500\n",
            "2/2 [==============================] - 0s 4ms/step - loss: 18.7789 - mse: 476.4095\n",
            "Epoch 13/500\n",
            "2/2 [==============================] - 0s 3ms/step - loss: 17.8970 - mse: 434.2826\n",
            "Epoch 14/500\n",
            "2/2 [==============================] - 0s 3ms/step - loss: 17.6956 - mse: 416.3768\n",
            "Epoch 15/500\n",
            "2/2 [==============================] - 0s 4ms/step - loss: 17.2513 - mse: 399.6500\n",
            "Epoch 16/500\n",
            "2/2 [==============================] - 0s 3ms/step - loss: 16.8063 - mse: 378.1696\n",
            "Epoch 17/500\n",
            "2/2 [==============================] - 0s 6ms/step - loss: 15.7025 - mse: 330.0251\n",
            "Epoch 18/500\n",
            "2/2 [==============================] - 0s 4ms/step - loss: 15.9396 - mse: 335.4790\n",
            "Epoch 19/500\n",
            "2/2 [==============================] - 0s 4ms/step - loss: 15.4251 - mse: 313.5858\n",
            "Epoch 20/500\n",
            "2/2 [==============================] - 0s 4ms/step - loss: 14.3820 - mse: 280.2889\n",
            "Epoch 21/500\n",
            "2/2 [==============================] - 0s 4ms/step - loss: 13.8746 - mse: 261.5418\n",
            "Epoch 22/500\n",
            "2/2 [==============================] - 0s 3ms/step - loss: 13.4177 - mse: 242.0257\n",
            "Epoch 23/500\n",
            "2/2 [==============================] - 0s 4ms/step - loss: 13.3383 - mse: 239.1064\n",
            "Epoch 24/500\n",
            "2/2 [==============================] - 0s 5ms/step - loss: 12.2495 - mse: 205.7427\n",
            "Epoch 25/500\n",
            "2/2 [==============================] - 0s 4ms/step - loss: 12.1135 - mse: 198.8389\n",
            "Epoch 26/500\n",
            "2/2 [==============================] - 0s 4ms/step - loss: 11.4241 - mse: 181.1423\n",
            "Epoch 27/500\n",
            "2/2 [==============================] - 0s 15ms/step - loss: 11.0462 - mse: 168.0637\n",
            "Epoch 28/500\n",
            "2/2 [==============================] - 0s 11ms/step - loss: 10.7189 - mse: 157.7940\n",
            "Epoch 29/500\n",
            "2/2 [==============================] - 0s 9ms/step - loss: 10.2808 - mse: 147.5016\n",
            "Epoch 30/500\n",
            "2/2 [==============================] - 0s 7ms/step - loss: 9.7064 - mse: 134.8840\n",
            "Epoch 31/500\n",
            "2/2 [==============================] - 0s 5ms/step - loss: 9.4037 - mse: 125.1595\n",
            "Epoch 32/500\n",
            "2/2 [==============================] - 0s 5ms/step - loss: 9.0580 - mse: 119.0606\n",
            "Epoch 33/500\n",
            "2/2 [==============================] - 0s 3ms/step - loss: 8.5382 - mse: 107.9377\n",
            "Epoch 34/500\n",
            "2/2 [==============================] - 0s 4ms/step - loss: 8.2434 - mse: 100.4969\n",
            "Epoch 35/500\n",
            "2/2 [==============================] - 0s 4ms/step - loss: 8.3559 - mse: 101.8102\n",
            "Epoch 36/500\n",
            "2/2 [==============================] - 0s 5ms/step - loss: 7.7379 - mse: 90.6285\n",
            "Epoch 37/500\n",
            "2/2 [==============================] - 0s 4ms/step - loss: 7.7069 - mse: 87.8033\n",
            "Epoch 38/500\n",
            "2/2 [==============================] - 0s 4ms/step - loss: 7.7208 - mse: 88.8126\n",
            "Epoch 39/500\n",
            "2/2 [==============================] - 0s 6ms/step - loss: 7.7107 - mse: 87.0630\n",
            "Epoch 40/500\n",
            "2/2 [==============================] - 0s 4ms/step - loss: 7.6255 - mse: 84.5344\n",
            "Epoch 41/500\n",
            "2/2 [==============================] - 0s 5ms/step - loss: 7.3799 - mse: 78.6999\n",
            "Epoch 42/500\n",
            "2/2 [==============================] - 0s 6ms/step - loss: 7.5886 - mse: 82.2244\n",
            "Epoch 43/500\n",
            "2/2 [==============================] - 0s 4ms/step - loss: 7.8088 - mse: 84.2586\n",
            "Epoch 44/500\n",
            "2/2 [==============================] - 0s 10ms/step - loss: 7.6566 - mse: 82.6340\n",
            "Epoch 45/500\n",
            "2/2 [==============================] - 0s 8ms/step - loss: 7.5423 - mse: 80.8399\n",
            "Epoch 46/500\n",
            "2/2 [==============================] - 0s 4ms/step - loss: 7.4685 - mse: 81.3299\n",
            "Epoch 47/500\n",
            "2/2 [==============================] - 0s 3ms/step - loss: 7.4687 - mse: 80.9344\n",
            "Epoch 48/500\n",
            "2/2 [==============================] - 0s 4ms/step - loss: 7.3317 - mse: 79.4619\n",
            "Epoch 49/500\n",
            "2/2 [==============================] - 0s 4ms/step - loss: 7.5584 - mse: 83.9450\n",
            "Epoch 50/500\n",
            "2/2 [==============================] - 0s 12ms/step - loss: 7.2872 - mse: 79.4191\n",
            "Epoch 51/500\n",
            "2/2 [==============================] - 0s 4ms/step - loss: 7.5340 - mse: 82.7891\n",
            "Epoch 52/500\n",
            "2/2 [==============================] - 0s 4ms/step - loss: 7.6758 - mse: 86.5496\n",
            "Epoch 53/500\n",
            "2/2 [==============================] - 0s 4ms/step - loss: 7.8203 - mse: 87.5701\n",
            "Epoch 54/500\n",
            "2/2 [==============================] - 0s 3ms/step - loss: 7.6780 - mse: 85.6798\n",
            "Epoch 55/500\n",
            "2/2 [==============================] - 0s 3ms/step - loss: 7.4538 - mse: 82.8777\n",
            "Epoch 56/500\n",
            "2/2 [==============================] - 0s 5ms/step - loss: 7.2777 - mse: 79.6788\n",
            "Epoch 57/500\n",
            "2/2 [==============================] - 0s 5ms/step - loss: 7.2355 - mse: 79.1803\n",
            "Epoch 58/500\n",
            "2/2 [==============================] - 0s 3ms/step - loss: 7.4870 - mse: 83.3380\n",
            "Epoch 59/500\n",
            "2/2 [==============================] - 0s 4ms/step - loss: 7.3035 - mse: 79.5909\n",
            "Epoch 60/500\n",
            "2/2 [==============================] - 0s 4ms/step - loss: 7.4047 - mse: 80.5720\n",
            "Epoch 61/500\n",
            "2/2 [==============================] - 0s 4ms/step - loss: 7.3484 - mse: 78.6439\n",
            "Epoch 62/500\n",
            "2/2 [==============================] - 0s 4ms/step - loss: 7.3380 - mse: 78.8070\n",
            "Epoch 63/500\n",
            "2/2 [==============================] - 0s 5ms/step - loss: 7.5213 - mse: 81.5687\n",
            "Epoch 64/500\n",
            "2/2 [==============================] - 0s 11ms/step - loss: 7.3069 - mse: 78.0469\n",
            "Epoch 65/500\n",
            "2/2 [==============================] - 0s 8ms/step - loss: 7.4382 - mse: 80.3981\n",
            "Epoch 66/500\n",
            "2/2 [==============================] - 0s 9ms/step - loss: 7.2861 - mse: 77.4135\n",
            "Epoch 67/500\n",
            "2/2 [==============================] - 0s 18ms/step - loss: 7.3518 - mse: 78.7692\n",
            "Epoch 68/500\n",
            "2/2 [==============================] - 0s 4ms/step - loss: 7.4439 - mse: 80.1535\n",
            "Epoch 69/500\n",
            "2/2 [==============================] - 0s 3ms/step - loss: 7.2497 - mse: 77.2448\n",
            "Epoch 70/500\n",
            "2/2 [==============================] - 0s 11ms/step - loss: 7.1475 - mse: 74.7420\n",
            "Epoch 71/500\n",
            "2/2 [==============================] - 0s 20ms/step - loss: 7.1312 - mse: 74.7578\n",
            "Epoch 72/500\n",
            "2/2 [==============================] - 0s 7ms/step - loss: 7.2148 - mse: 76.0127\n",
            "Epoch 73/500\n",
            "2/2 [==============================] - 0s 5ms/step - loss: 7.1885 - mse: 73.9942\n",
            "Epoch 74/500\n",
            "2/2 [==============================] - 0s 4ms/step - loss: 7.1445 - mse: 74.4713\n",
            "Epoch 75/500\n",
            "2/2 [==============================] - 0s 5ms/step - loss: 7.1698 - mse: 74.0418\n",
            "Epoch 76/500\n",
            "2/2 [==============================] - 0s 8ms/step - loss: 7.1557 - mse: 73.4188\n",
            "Epoch 77/500\n",
            "2/2 [==============================] - 0s 6ms/step - loss: 7.1895 - mse: 74.8549\n",
            "Epoch 78/500\n",
            "2/2 [==============================] - 0s 3ms/step - loss: 7.4599 - mse: 79.0197\n",
            "Epoch 79/500\n",
            "2/2 [==============================] - 0s 4ms/step - loss: 7.3384 - mse: 77.1545\n",
            "Epoch 80/500\n",
            "2/2 [==============================] - 0s 5ms/step - loss: 7.1169 - mse: 74.1080\n",
            "Epoch 81/500\n",
            "2/2 [==============================] - 0s 4ms/step - loss: 6.9721 - mse: 73.6187\n",
            "Epoch 82/500\n",
            "2/2 [==============================] - 0s 4ms/step - loss: 7.0510 - mse: 73.8551\n",
            "Epoch 83/500\n",
            "2/2 [==============================] - 0s 4ms/step - loss: 7.1116 - mse: 75.9898\n",
            "Epoch 84/500\n",
            "2/2 [==============================] - 0s 5ms/step - loss: 7.1190 - mse: 74.4354\n",
            "Epoch 85/500\n",
            "2/2 [==============================] - 0s 4ms/step - loss: 7.2215 - mse: 75.9985\n",
            "Epoch 86/500\n",
            "2/2 [==============================] - 0s 4ms/step - loss: 7.2948 - mse: 77.5960\n",
            "Epoch 87/500\n",
            "2/2 [==============================] - 0s 4ms/step - loss: 7.0948 - mse: 74.1798\n",
            "Epoch 88/500\n",
            "2/2 [==============================] - 0s 3ms/step - loss: 7.0963 - mse: 74.3558\n",
            "Epoch 89/500\n",
            "2/2 [==============================] - 0s 6ms/step - loss: 7.1516 - mse: 74.0672\n",
            "Epoch 90/500\n",
            "2/2 [==============================] - 0s 4ms/step - loss: 7.0846 - mse: 72.5911\n",
            "Epoch 91/500\n",
            "2/2 [==============================] - 0s 5ms/step - loss: 7.0308 - mse: 70.7430\n",
            "Epoch 92/500\n",
            "2/2 [==============================] - 0s 7ms/step - loss: 7.0655 - mse: 71.9461\n",
            "Epoch 93/500\n",
            "2/2 [==============================] - 0s 5ms/step - loss: 7.1572 - mse: 73.1760\n",
            "Epoch 94/500\n",
            "2/2 [==============================] - 0s 6ms/step - loss: 7.0965 - mse: 72.0589\n",
            "Epoch 95/500\n",
            "2/2 [==============================] - 0s 8ms/step - loss: 7.0384 - mse: 72.2857\n",
            "Epoch 96/500\n",
            "2/2 [==============================] - 0s 4ms/step - loss: 6.9484 - mse: 70.3221\n",
            "Epoch 97/500\n",
            "2/2 [==============================] - 0s 4ms/step - loss: 6.9490 - mse: 71.5954\n",
            "Epoch 98/500\n",
            "2/2 [==============================] - 0s 4ms/step - loss: 6.9450 - mse: 71.5386\n",
            "Epoch 99/500\n",
            "2/2 [==============================] - 0s 4ms/step - loss: 7.0891 - mse: 73.0745\n",
            "Epoch 100/500\n",
            "2/2 [==============================] - 0s 9ms/step - loss: 6.9909 - mse: 71.8706\n",
            "Epoch 101/500\n",
            "2/2 [==============================] - 0s 5ms/step - loss: 7.0143 - mse: 72.3922\n",
            "Epoch 102/500\n",
            "2/2 [==============================] - 0s 7ms/step - loss: 6.8231 - mse: 68.7864\n",
            "Epoch 103/500\n",
            "2/2 [==============================] - 0s 4ms/step - loss: 7.1337 - mse: 73.5588\n",
            "Epoch 104/500\n",
            "2/2 [==============================] - 0s 5ms/step - loss: 6.9810 - mse: 70.8540\n",
            "Epoch 105/500\n",
            "2/2 [==============================] - 0s 4ms/step - loss: 6.9946 - mse: 71.3372\n",
            "Epoch 106/500\n",
            "2/2 [==============================] - 0s 4ms/step - loss: 7.0739 - mse: 71.5125\n",
            "Epoch 107/500\n",
            "2/2 [==============================] - 0s 4ms/step - loss: 7.0172 - mse: 71.2985\n",
            "Epoch 108/500\n",
            "2/2 [==============================] - 0s 3ms/step - loss: 7.0458 - mse: 71.3539\n",
            "Epoch 109/500\n",
            "2/2 [==============================] - 0s 5ms/step - loss: 6.8604 - mse: 68.6816\n",
            "Epoch 110/500\n",
            "2/2 [==============================] - 0s 4ms/step - loss: 6.8612 - mse: 68.3826\n",
            "Epoch 111/500\n",
            "2/2 [==============================] - 0s 4ms/step - loss: 6.7476 - mse: 66.4650\n",
            "Epoch 112/500\n",
            "2/2 [==============================] - 0s 3ms/step - loss: 7.0257 - mse: 71.3838\n",
            "Epoch 113/500\n",
            "2/2 [==============================] - 0s 5ms/step - loss: 7.0923 - mse: 71.4117\n",
            "Epoch 114/500\n",
            "2/2 [==============================] - 0s 4ms/step - loss: 6.9284 - mse: 69.3029\n",
            "Epoch 115/500\n",
            "2/2 [==============================] - 0s 6ms/step - loss: 6.9024 - mse: 68.8535\n",
            "Epoch 116/500\n",
            "2/2 [==============================] - 0s 4ms/step - loss: 6.7542 - mse: 67.1500\n",
            "Epoch 117/500\n",
            "2/2 [==============================] - 0s 4ms/step - loss: 6.7794 - mse: 67.5716\n",
            "Epoch 118/500\n",
            "2/2 [==============================] - 0s 5ms/step - loss: 6.7461 - mse: 67.4939\n",
            "Epoch 119/500\n",
            "2/2 [==============================] - 0s 4ms/step - loss: 7.1533 - mse: 72.9258\n",
            "Epoch 120/500\n",
            "2/2 [==============================] - 0s 4ms/step - loss: 6.7840 - mse: 68.1577\n",
            "Epoch 121/500\n",
            "2/2 [==============================] - 0s 3ms/step - loss: 7.1140 - mse: 72.5076\n",
            "Epoch 122/500\n",
            "2/2 [==============================] - 0s 3ms/step - loss: 6.9950 - mse: 70.5763\n",
            "Epoch 123/500\n",
            "2/2 [==============================] - 0s 4ms/step - loss: 6.8952 - mse: 69.4153\n",
            "Epoch 124/500\n",
            "2/2 [==============================] - 0s 4ms/step - loss: 6.7530 - mse: 67.0570\n",
            "Epoch 125/500\n",
            "2/2 [==============================] - 0s 4ms/step - loss: 6.6621 - mse: 65.4004\n",
            "Epoch 126/500\n",
            "2/2 [==============================] - 0s 5ms/step - loss: 6.7792 - mse: 67.0368\n",
            "Epoch 127/500\n",
            "2/2 [==============================] - 0s 4ms/step - loss: 7.0091 - mse: 70.5289\n",
            "Epoch 128/500\n",
            "2/2 [==============================] - 0s 3ms/step - loss: 6.7564 - mse: 66.3438\n",
            "Epoch 129/500\n",
            "2/2 [==============================] - 0s 4ms/step - loss: 6.9635 - mse: 70.3312\n",
            "Epoch 130/500\n",
            "2/2 [==============================] - 0s 4ms/step - loss: 6.8054 - mse: 67.9108\n",
            "Epoch 131/500\n",
            "2/2 [==============================] - 0s 4ms/step - loss: 6.8763 - mse: 69.8702\n",
            "Epoch 132/500\n",
            "2/2 [==============================] - 0s 4ms/step - loss: 6.8151 - mse: 68.8252\n",
            "Epoch 133/500\n",
            "2/2 [==============================] - 0s 4ms/step - loss: 6.9554 - mse: 70.7255\n",
            "Epoch 134/500\n",
            "2/2 [==============================] - 0s 4ms/step - loss: 6.6797 - mse: 66.3184\n",
            "Epoch 135/500\n",
            "2/2 [==============================] - 0s 4ms/step - loss: 6.6535 - mse: 65.5862\n",
            "Epoch 136/500\n",
            "2/2 [==============================] - 0s 7ms/step - loss: 6.7486 - mse: 66.6146\n",
            "Epoch 137/500\n",
            "2/2 [==============================] - 0s 5ms/step - loss: 6.4628 - mse: 62.3211\n",
            "Epoch 138/500\n",
            "2/2 [==============================] - 0s 10ms/step - loss: 6.4918 - mse: 62.5230\n",
            "Epoch 139/500\n",
            "2/2 [==============================] - 0s 7ms/step - loss: 6.6664 - mse: 63.8341\n",
            "Epoch 140/500\n",
            "2/2 [==============================] - 0s 11ms/step - loss: 6.6393 - mse: 63.3267\n",
            "Epoch 141/500\n",
            "2/2 [==============================] - 0s 5ms/step - loss: 6.9472 - mse: 67.0012\n",
            "Epoch 142/500\n",
            "2/2 [==============================] - 0s 11ms/step - loss: 6.8088 - mse: 65.1930\n",
            "Epoch 143/500\n",
            "2/2 [==============================] - 0s 6ms/step - loss: 6.5035 - mse: 61.1678\n",
            "Epoch 144/500\n",
            "2/2 [==============================] - 0s 12ms/step - loss: 6.7998 - mse: 66.0483\n",
            "Epoch 145/500\n",
            "2/2 [==============================] - 0s 3ms/step - loss: 6.6473 - mse: 64.7267\n",
            "Epoch 146/500\n",
            "2/2 [==============================] - 0s 7ms/step - loss: 6.3992 - mse: 62.0343\n",
            "Epoch 147/500\n",
            "2/2 [==============================] - 0s 4ms/step - loss: 6.8101 - mse: 68.1824\n",
            "Epoch 148/500\n",
            "2/2 [==============================] - 0s 4ms/step - loss: 6.4634 - mse: 62.8814\n",
            "Epoch 149/500\n",
            "2/2 [==============================] - 0s 3ms/step - loss: 6.5291 - mse: 63.9468\n",
            "Epoch 150/500\n",
            "2/2 [==============================] - 0s 5ms/step - loss: 6.8393 - mse: 68.5572\n",
            "Epoch 151/500\n",
            "2/2 [==============================] - 0s 10ms/step - loss: 6.5802 - mse: 64.4525\n",
            "Epoch 152/500\n",
            "2/2 [==============================] - 0s 13ms/step - loss: 6.6518 - mse: 64.3855\n",
            "Epoch 153/500\n",
            "2/2 [==============================] - 0s 6ms/step - loss: 6.3943 - mse: 61.9725\n",
            "Epoch 154/500\n",
            "2/2 [==============================] - 0s 6ms/step - loss: 6.5649 - mse: 63.9767\n",
            "Epoch 155/500\n",
            "2/2 [==============================] - 0s 6ms/step - loss: 6.5900 - mse: 63.4875\n",
            "Epoch 156/500\n",
            "2/2 [==============================] - 0s 4ms/step - loss: 6.6906 - mse: 64.4467\n",
            "Epoch 157/500\n",
            "2/2 [==============================] - 0s 4ms/step - loss: 6.6661 - mse: 63.9256\n",
            "Epoch 158/500\n",
            "2/2 [==============================] - 0s 10ms/step - loss: 6.3909 - mse: 59.7887\n",
            "Epoch 159/500\n",
            "2/2 [==============================] - 0s 4ms/step - loss: 6.6061 - mse: 62.2620\n",
            "Epoch 160/500\n",
            "2/2 [==============================] - 0s 6ms/step - loss: 6.5559 - mse: 61.2528\n",
            "Epoch 161/500\n",
            "2/2 [==============================] - 0s 5ms/step - loss: 6.5536 - mse: 61.1984\n",
            "Epoch 162/500\n",
            "2/2 [==============================] - 0s 8ms/step - loss: 6.6125 - mse: 62.2104\n",
            "Epoch 163/500\n",
            "2/2 [==============================] - 0s 9ms/step - loss: 6.4487 - mse: 60.0178\n",
            "Epoch 164/500\n",
            "2/2 [==============================] - 0s 10ms/step - loss: 6.3639 - mse: 60.0718\n",
            "Epoch 165/500\n",
            "2/2 [==============================] - 0s 5ms/step - loss: 6.4094 - mse: 59.7830\n",
            "Epoch 166/500\n",
            "2/2 [==============================] - 0s 5ms/step - loss: 6.6274 - mse: 63.0381\n",
            "Epoch 167/500\n",
            "2/2 [==============================] - 0s 6ms/step - loss: 6.3842 - mse: 59.7248\n",
            "Epoch 168/500\n",
            "2/2 [==============================] - 0s 9ms/step - loss: 6.4764 - mse: 60.3034\n",
            "Epoch 169/500\n",
            "2/2 [==============================] - 0s 6ms/step - loss: 6.4458 - mse: 60.8303\n",
            "Epoch 170/500\n",
            "2/2 [==============================] - 0s 10ms/step - loss: 6.4874 - mse: 60.9080\n",
            "Epoch 171/500\n",
            "2/2 [==============================] - 0s 13ms/step - loss: 6.3693 - mse: 58.6546\n",
            "Epoch 172/500\n",
            "2/2 [==============================] - 0s 8ms/step - loss: 6.5447 - mse: 62.1347\n",
            "Epoch 173/500\n",
            "2/2 [==============================] - 0s 3ms/step - loss: 6.3818 - mse: 59.8202\n",
            "Epoch 174/500\n",
            "2/2 [==============================] - 0s 8ms/step - loss: 6.4969 - mse: 60.2262\n",
            "Epoch 175/500\n",
            "2/2 [==============================] - 0s 7ms/step - loss: 6.4466 - mse: 60.7275\n",
            "Epoch 176/500\n",
            "2/2 [==============================] - 0s 10ms/step - loss: 6.3433 - mse: 60.0015\n",
            "Epoch 177/500\n",
            "2/2 [==============================] - 0s 10ms/step - loss: 6.3930 - mse: 60.2547\n",
            "Epoch 178/500\n",
            "2/2 [==============================] - 0s 13ms/step - loss: 6.3003 - mse: 59.4923\n",
            "Epoch 179/500\n",
            "2/2 [==============================] - 0s 16ms/step - loss: 6.1108 - mse: 57.1133\n",
            "Epoch 180/500\n",
            "2/2 [==============================] - 0s 13ms/step - loss: 6.4375 - mse: 61.0563\n",
            "Epoch 181/500\n",
            "2/2 [==============================] - 0s 11ms/step - loss: 6.4228 - mse: 60.5384\n",
            "Epoch 182/500\n",
            "2/2 [==============================] - 0s 7ms/step - loss: 6.1643 - mse: 56.4991\n",
            "Epoch 183/500\n",
            "2/2 [==============================] - 0s 13ms/step - loss: 6.5918 - mse: 61.3888\n",
            "Epoch 184/500\n",
            "2/2 [==============================] - 0s 7ms/step - loss: 6.3024 - mse: 57.8595\n",
            "Epoch 185/500\n",
            "2/2 [==============================] - 0s 4ms/step - loss: 6.3886 - mse: 58.5217\n",
            "Epoch 186/500\n",
            "2/2 [==============================] - 0s 9ms/step - loss: 6.1793 - mse: 55.1933\n",
            "Epoch 187/500\n",
            "2/2 [==============================] - 0s 10ms/step - loss: 6.4396 - mse: 58.2096\n",
            "Epoch 188/500\n",
            "2/2 [==============================] - 0s 7ms/step - loss: 6.1480 - mse: 54.8178\n",
            "Epoch 189/500\n",
            "2/2 [==============================] - 0s 11ms/step - loss: 6.2971 - mse: 56.6289\n",
            "Epoch 190/500\n",
            "2/2 [==============================] - 0s 5ms/step - loss: 6.2564 - mse: 56.3959\n",
            "Epoch 191/500\n",
            "2/2 [==============================] - 0s 12ms/step - loss: 6.1576 - mse: 55.3943\n",
            "Epoch 192/500\n",
            "2/2 [==============================] - 0s 5ms/step - loss: 6.4263 - mse: 58.6125\n",
            "Epoch 193/500\n",
            "2/2 [==============================] - 0s 4ms/step - loss: 6.1505 - mse: 55.6975\n",
            "Epoch 194/500\n",
            "2/2 [==============================] - 0s 4ms/step - loss: 6.1645 - mse: 56.6843\n",
            "Epoch 195/500\n",
            "2/2 [==============================] - 0s 4ms/step - loss: 6.2984 - mse: 57.6899\n",
            "Epoch 196/500\n",
            "2/2 [==============================] - 0s 5ms/step - loss: 5.9441 - mse: 53.3580\n",
            "Epoch 197/500\n",
            "2/2 [==============================] - 0s 4ms/step - loss: 6.1704 - mse: 56.6792\n",
            "Epoch 198/500\n",
            "2/2 [==============================] - 0s 8ms/step - loss: 6.3872 - mse: 59.7296\n",
            "Epoch 199/500\n",
            "2/2 [==============================] - 0s 4ms/step - loss: 6.2343 - mse: 57.1008\n",
            "Epoch 200/500\n",
            "2/2 [==============================] - 0s 4ms/step - loss: 6.2168 - mse: 57.4706\n",
            "Epoch 201/500\n",
            "2/2 [==============================] - 0s 5ms/step - loss: 6.3866 - mse: 59.7776\n",
            "Epoch 202/500\n",
            "2/2 [==============================] - 0s 4ms/step - loss: 6.1488 - mse: 56.2449\n",
            "Epoch 203/500\n",
            "2/2 [==============================] - 0s 4ms/step - loss: 6.1049 - mse: 54.8181\n",
            "Epoch 204/500\n",
            "2/2 [==============================] - 0s 3ms/step - loss: 6.1305 - mse: 55.0185\n",
            "Epoch 205/500\n",
            "2/2 [==============================] - 0s 4ms/step - loss: 6.0437 - mse: 52.7567\n",
            "Epoch 206/500\n",
            "2/2 [==============================] - 0s 5ms/step - loss: 6.1611 - mse: 53.3683\n",
            "Epoch 207/500\n",
            "2/2 [==============================] - 0s 7ms/step - loss: 6.3052 - mse: 55.1064\n",
            "Epoch 208/500\n",
            "2/2 [==============================] - 0s 5ms/step - loss: 6.0893 - mse: 52.1027\n",
            "Epoch 209/500\n",
            "2/2 [==============================] - 0s 4ms/step - loss: 6.3378 - mse: 56.3867\n",
            "Epoch 210/500\n",
            "2/2 [==============================] - 0s 5ms/step - loss: 6.1154 - mse: 54.4558\n",
            "Epoch 211/500\n",
            "2/2 [==============================] - 0s 16ms/step - loss: 6.0241 - mse: 52.8440\n",
            "Epoch 212/500\n",
            "2/2 [==============================] - 0s 10ms/step - loss: 6.0669 - mse: 55.0164\n",
            "Epoch 213/500\n",
            "2/2 [==============================] - 0s 14ms/step - loss: 6.1576 - mse: 55.6030\n",
            "Epoch 214/500\n",
            "2/2 [==============================] - 0s 5ms/step - loss: 6.1287 - mse: 54.6076\n",
            "Epoch 215/500\n",
            "2/2 [==============================] - 0s 5ms/step - loss: 6.0050 - mse: 53.8689\n",
            "Epoch 216/500\n",
            "2/2 [==============================] - 0s 8ms/step - loss: 6.1331 - mse: 55.4019\n",
            "Epoch 217/500\n",
            "2/2 [==============================] - 0s 6ms/step - loss: 5.8288 - mse: 51.8610\n",
            "Epoch 218/500\n",
            "2/2 [==============================] - 0s 11ms/step - loss: 5.9170 - mse: 52.9733\n",
            "Epoch 219/500\n",
            "2/2 [==============================] - 0s 12ms/step - loss: 6.0543 - mse: 54.5037\n",
            "Epoch 220/500\n",
            "2/2 [==============================] - 0s 7ms/step - loss: 6.3090 - mse: 56.4269\n",
            "Epoch 221/500\n",
            "2/2 [==============================] - 0s 5ms/step - loss: 6.0488 - mse: 53.0407\n",
            "Epoch 222/500\n",
            "2/2 [==============================] - 0s 5ms/step - loss: 5.9009 - mse: 52.2064\n",
            "Epoch 223/500\n",
            "2/2 [==============================] - 0s 4ms/step - loss: 5.7758 - mse: 49.6688\n",
            "Epoch 224/500\n",
            "2/2 [==============================] - 0s 8ms/step - loss: 5.9652 - mse: 51.7485\n",
            "Epoch 225/500\n",
            "2/2 [==============================] - 0s 4ms/step - loss: 6.0724 - mse: 54.3384\n",
            "Epoch 226/500\n",
            "2/2 [==============================] - 0s 7ms/step - loss: 6.0362 - mse: 52.8601\n",
            "Epoch 227/500\n",
            "2/2 [==============================] - 0s 3ms/step - loss: 5.8845 - mse: 51.1967\n",
            "Epoch 228/500\n",
            "2/2 [==============================] - 0s 8ms/step - loss: 5.8050 - mse: 49.4236\n",
            "Epoch 229/500\n",
            "2/2 [==============================] - 0s 7ms/step - loss: 5.9421 - mse: 51.4663\n",
            "Epoch 230/500\n",
            "2/2 [==============================] - 0s 5ms/step - loss: 6.0915 - mse: 53.4604\n",
            "Epoch 231/500\n",
            "2/2 [==============================] - 0s 3ms/step - loss: 5.9275 - mse: 50.6803\n",
            "Epoch 232/500\n",
            "2/2 [==============================] - 0s 3ms/step - loss: 5.9847 - mse: 51.3037\n",
            "Epoch 233/500\n",
            "2/2 [==============================] - 0s 3ms/step - loss: 5.9669 - mse: 51.2413\n",
            "Epoch 234/500\n",
            "2/2 [==============================] - 0s 4ms/step - loss: 6.0062 - mse: 52.3196\n",
            "Epoch 235/500\n",
            "2/2 [==============================] - 0s 9ms/step - loss: 5.7912 - mse: 49.2574\n",
            "Epoch 236/500\n",
            "2/2 [==============================] - 0s 9ms/step - loss: 5.9110 - mse: 51.4954\n",
            "Epoch 237/500\n",
            "2/2 [==============================] - 0s 8ms/step - loss: 5.7145 - mse: 48.9094\n",
            "Epoch 238/500\n",
            "2/2 [==============================] - 0s 4ms/step - loss: 5.9554 - mse: 51.8065\n",
            "Epoch 239/500\n",
            "2/2 [==============================] - 0s 5ms/step - loss: 5.8854 - mse: 51.2182\n",
            "Epoch 240/500\n",
            "2/2 [==============================] - 0s 9ms/step - loss: 5.7826 - mse: 49.8673\n",
            "Epoch 241/500\n",
            "2/2 [==============================] - 0s 4ms/step - loss: 5.7499 - mse: 49.5376\n",
            "Epoch 242/500\n",
            "2/2 [==============================] - 0s 4ms/step - loss: 5.8747 - mse: 50.5465\n",
            "Epoch 243/500\n",
            "2/2 [==============================] - 0s 4ms/step - loss: 5.6747 - mse: 48.2544\n",
            "Epoch 244/500\n",
            "2/2 [==============================] - 0s 5ms/step - loss: 5.8506 - mse: 49.9711\n",
            "Epoch 245/500\n",
            "2/2 [==============================] - 0s 4ms/step - loss: 5.7121 - mse: 47.7085\n",
            "Epoch 246/500\n",
            "2/2 [==============================] - 0s 5ms/step - loss: 5.8484 - mse: 49.1421\n",
            "Epoch 247/500\n",
            "2/2 [==============================] - 0s 4ms/step - loss: 5.7953 - mse: 49.6581\n",
            "Epoch 248/500\n",
            "2/2 [==============================] - 0s 4ms/step - loss: 5.7862 - mse: 49.6115\n",
            "Epoch 249/500\n",
            "2/2 [==============================] - 0s 10ms/step - loss: 5.8983 - mse: 50.5839\n",
            "Epoch 250/500\n",
            "2/2 [==============================] - 0s 9ms/step - loss: 5.8485 - mse: 51.4237\n",
            "Epoch 251/500\n",
            "2/2 [==============================] - 0s 5ms/step - loss: 5.9947 - mse: 52.5305\n",
            "Epoch 252/500\n",
            "2/2 [==============================] - 0s 3ms/step - loss: 5.8453 - mse: 50.4804\n",
            "Epoch 253/500\n",
            "2/2 [==============================] - 0s 5ms/step - loss: 5.7173 - mse: 49.2230\n",
            "Epoch 254/500\n",
            "2/2 [==============================] - 0s 5ms/step - loss: 5.8891 - mse: 50.7087\n",
            "Epoch 255/500\n",
            "2/2 [==============================] - 0s 5ms/step - loss: 5.6772 - mse: 47.4302\n",
            "Epoch 256/500\n",
            "2/2 [==============================] - 0s 4ms/step - loss: 5.5930 - mse: 45.8558\n",
            "Epoch 257/500\n",
            "2/2 [==============================] - 0s 5ms/step - loss: 5.6205 - mse: 46.5210\n",
            "Epoch 258/500\n",
            "2/2 [==============================] - 0s 5ms/step - loss: 5.7788 - mse: 47.7854\n",
            "Epoch 259/500\n",
            "2/2 [==============================] - 0s 4ms/step - loss: 5.8119 - mse: 47.5134\n",
            "Epoch 260/500\n",
            "2/2 [==============================] - 0s 4ms/step - loss: 5.8012 - mse: 48.5379\n",
            "Epoch 261/500\n",
            "2/2 [==============================] - 0s 4ms/step - loss: 5.4418 - mse: 43.8730\n",
            "Epoch 262/500\n",
            "2/2 [==============================] - 0s 4ms/step - loss: 5.5002 - mse: 44.8131\n",
            "Epoch 263/500\n",
            "2/2 [==============================] - 0s 4ms/step - loss: 5.6714 - mse: 46.7528\n",
            "Epoch 264/500\n",
            "2/2 [==============================] - 0s 5ms/step - loss: 5.4328 - mse: 44.5047\n",
            "Epoch 265/500\n",
            "2/2 [==============================] - 0s 6ms/step - loss: 5.5035 - mse: 45.4027\n",
            "Epoch 266/500\n",
            "2/2 [==============================] - 0s 5ms/step - loss: 5.5551 - mse: 46.8340\n",
            "Epoch 267/500\n",
            "2/2 [==============================] - 0s 3ms/step - loss: 5.6672 - mse: 46.8277\n",
            "Epoch 268/500\n",
            "2/2 [==============================] - 0s 3ms/step - loss: 5.7388 - mse: 47.1401\n",
            "Epoch 269/500\n",
            "2/2 [==============================] - 0s 5ms/step - loss: 5.6400 - mse: 46.7584\n",
            "Epoch 270/500\n",
            "2/2 [==============================] - 0s 4ms/step - loss: 5.4280 - mse: 44.1120\n",
            "Epoch 271/500\n",
            "2/2 [==============================] - 0s 4ms/step - loss: 5.6893 - mse: 46.6960\n",
            "Epoch 272/500\n",
            "2/2 [==============================] - 0s 3ms/step - loss: 5.5256 - mse: 44.4888\n",
            "Epoch 273/500\n",
            "2/2 [==============================] - 0s 4ms/step - loss: 5.5023 - mse: 44.1153\n",
            "Epoch 274/500\n",
            "2/2 [==============================] - 0s 4ms/step - loss: 5.8153 - mse: 46.9412\n",
            "Epoch 275/500\n",
            "2/2 [==============================] - 0s 4ms/step - loss: 5.5441 - mse: 44.1505\n",
            "Epoch 276/500\n",
            "2/2 [==============================] - 0s 4ms/step - loss: 5.6133 - mse: 44.1598\n",
            "Epoch 277/500\n",
            "2/2 [==============================] - 0s 4ms/step - loss: 5.3904 - mse: 42.8921\n",
            "Epoch 278/500\n",
            "2/2 [==============================] - 0s 4ms/step - loss: 5.5515 - mse: 45.1862\n",
            "Epoch 279/500\n",
            "2/2 [==============================] - 0s 4ms/step - loss: 5.6152 - mse: 45.6464\n",
            "Epoch 280/500\n",
            "2/2 [==============================] - 0s 4ms/step - loss: 5.4781 - mse: 44.6634\n",
            "Epoch 281/500\n",
            "2/2 [==============================] - 0s 4ms/step - loss: 5.5110 - mse: 45.1589\n",
            "Epoch 282/500\n",
            "2/2 [==============================] - 0s 13ms/step - loss: 5.4470 - mse: 44.3485\n",
            "Epoch 283/500\n",
            "2/2 [==============================] - 0s 5ms/step - loss: 5.5626 - mse: 45.1512\n",
            "Epoch 284/500\n",
            "2/2 [==============================] - 0s 5ms/step - loss: 5.5271 - mse: 44.7703\n",
            "Epoch 285/500\n",
            "2/2 [==============================] - 0s 4ms/step - loss: 5.5171 - mse: 44.5752\n",
            "Epoch 286/500\n",
            "2/2 [==============================] - 0s 4ms/step - loss: 5.5489 - mse: 44.6408\n",
            "Epoch 287/500\n",
            "2/2 [==============================] - 0s 5ms/step - loss: 5.4261 - mse: 42.8100\n",
            "Epoch 288/500\n",
            "2/2 [==============================] - 0s 4ms/step - loss: 5.4330 - mse: 43.4874\n",
            "Epoch 289/500\n",
            "2/2 [==============================] - 0s 9ms/step - loss: 5.3712 - mse: 42.6531\n",
            "Epoch 290/500\n",
            "2/2 [==============================] - 0s 4ms/step - loss: 5.4507 - mse: 43.7745\n",
            "Epoch 291/500\n",
            "2/2 [==============================] - 0s 4ms/step - loss: 5.3415 - mse: 42.4131\n",
            "Epoch 292/500\n",
            "2/2 [==============================] - 0s 4ms/step - loss: 5.5364 - mse: 45.2249\n",
            "Epoch 293/500\n",
            "2/2 [==============================] - 0s 4ms/step - loss: 5.5468 - mse: 44.9338\n",
            "Epoch 294/500\n",
            "2/2 [==============================] - 0s 4ms/step - loss: 5.3889 - mse: 43.3172\n",
            "Epoch 295/500\n",
            "2/2 [==============================] - 0s 3ms/step - loss: 5.4002 - mse: 43.2081\n",
            "Epoch 296/500\n",
            "2/2 [==============================] - 0s 3ms/step - loss: 5.3120 - mse: 42.8937\n",
            "Epoch 297/500\n",
            "2/2 [==============================] - 0s 4ms/step - loss: 5.4400 - mse: 43.4003\n",
            "Epoch 298/500\n",
            "2/2 [==============================] - 0s 4ms/step - loss: 5.4522 - mse: 43.6677\n",
            "Epoch 299/500\n",
            "2/2 [==============================] - 0s 10ms/step - loss: 5.4845 - mse: 44.1112\n",
            "Epoch 300/500\n",
            "2/2 [==============================] - 0s 10ms/step - loss: 5.4922 - mse: 43.9826\n",
            "Epoch 301/500\n",
            "2/2 [==============================] - 0s 9ms/step - loss: 5.1838 - mse: 39.6538\n",
            "Epoch 302/500\n",
            "2/2 [==============================] - 0s 10ms/step - loss: 5.3468 - mse: 41.9522\n",
            "Epoch 303/500\n",
            "2/2 [==============================] - 0s 5ms/step - loss: 5.2756 - mse: 40.9079\n",
            "Epoch 304/500\n",
            "2/2 [==============================] - 0s 4ms/step - loss: 5.0887 - mse: 38.8336\n",
            "Epoch 305/500\n",
            "2/2 [==============================] - 0s 11ms/step - loss: 5.3016 - mse: 41.6122\n",
            "Epoch 306/500\n",
            "2/2 [==============================] - 0s 14ms/step - loss: 5.2171 - mse: 40.1966\n",
            "Epoch 307/500\n",
            "2/2 [==============================] - 0s 18ms/step - loss: 5.1832 - mse: 38.9106\n",
            "Epoch 308/500\n",
            "2/2 [==============================] - 0s 5ms/step - loss: 5.2355 - mse: 39.3713\n",
            "Epoch 309/500\n",
            "2/2 [==============================] - 0s 4ms/step - loss: 5.2969 - mse: 39.5112\n",
            "Epoch 310/500\n",
            "2/2 [==============================] - 0s 6ms/step - loss: 5.1994 - mse: 38.8262\n",
            "Epoch 311/500\n",
            "2/2 [==============================] - 0s 20ms/step - loss: 5.4315 - mse: 41.2959\n",
            "Epoch 312/500\n",
            "2/2 [==============================] - 0s 4ms/step - loss: 5.2870 - mse: 40.2142\n",
            "Epoch 313/500\n",
            "2/2 [==============================] - 0s 3ms/step - loss: 5.0086 - mse: 37.7935\n",
            "Epoch 314/500\n",
            "2/2 [==============================] - 0s 4ms/step - loss: 5.2622 - mse: 40.6556\n",
            "Epoch 315/500\n",
            "2/2 [==============================] - 0s 20ms/step - loss: 5.1694 - mse: 39.8934\n",
            "Epoch 316/500\n",
            "2/2 [==============================] - 0s 8ms/step - loss: 5.3708 - mse: 41.6090\n",
            "Epoch 317/500\n",
            "2/2 [==============================] - 0s 9ms/step - loss: 5.1128 - mse: 38.7059\n",
            "Epoch 318/500\n",
            "2/2 [==============================] - 0s 4ms/step - loss: 5.1966 - mse: 39.5276\n",
            "Epoch 319/500\n",
            "2/2 [==============================] - 0s 6ms/step - loss: 5.1157 - mse: 37.7506\n",
            "Epoch 320/500\n",
            "2/2 [==============================] - 0s 6ms/step - loss: 5.1358 - mse: 38.0529\n",
            "Epoch 321/500\n",
            "2/2 [==============================] - 0s 7ms/step - loss: 4.9935 - mse: 36.1258\n",
            "Epoch 322/500\n",
            "2/2 [==============================] - 0s 6ms/step - loss: 5.1417 - mse: 37.5926\n",
            "Epoch 323/500\n",
            "2/2 [==============================] - 0s 5ms/step - loss: 5.1252 - mse: 37.6621\n",
            "Epoch 324/500\n",
            "2/2 [==============================] - 0s 5ms/step - loss: 5.1745 - mse: 38.7770\n",
            "Epoch 325/500\n",
            "2/2 [==============================] - 0s 4ms/step - loss: 5.0311 - mse: 37.0723\n",
            "Epoch 326/500\n",
            "2/2 [==============================] - 0s 10ms/step - loss: 5.1344 - mse: 38.7291\n",
            "Epoch 327/500\n",
            "2/2 [==============================] - 0s 11ms/step - loss: 4.9813 - mse: 37.5127\n",
            "Epoch 328/500\n",
            "2/2 [==============================] - 0s 5ms/step - loss: 4.9981 - mse: 37.5530\n",
            "Epoch 329/500\n",
            "2/2 [==============================] - 0s 4ms/step - loss: 4.9775 - mse: 37.1008\n",
            "Epoch 330/500\n",
            "2/2 [==============================] - 0s 4ms/step - loss: 5.0989 - mse: 38.1597\n",
            "Epoch 331/500\n",
            "2/2 [==============================] - 0s 3ms/step - loss: 5.1435 - mse: 38.4977\n",
            "Epoch 332/500\n",
            "2/2 [==============================] - 0s 3ms/step - loss: 5.0189 - mse: 36.2452\n",
            "Epoch 333/500\n",
            "2/2 [==============================] - 0s 4ms/step - loss: 4.9691 - mse: 36.2681\n",
            "Epoch 334/500\n",
            "2/2 [==============================] - 0s 4ms/step - loss: 4.9029 - mse: 35.8231\n",
            "Epoch 335/500\n",
            "2/2 [==============================] - 0s 5ms/step - loss: 5.2118 - mse: 38.6590\n",
            "Epoch 336/500\n",
            "2/2 [==============================] - 0s 7ms/step - loss: 5.0346 - mse: 36.5011\n",
            "Epoch 337/500\n",
            "2/2 [==============================] - 0s 8ms/step - loss: 4.8247 - mse: 33.9937\n",
            "Epoch 338/500\n",
            "2/2 [==============================] - 0s 4ms/step - loss: 4.8776 - mse: 34.3244\n",
            "Epoch 339/500\n",
            "2/2 [==============================] - 0s 6ms/step - loss: 4.8804 - mse: 34.4690\n",
            "Epoch 340/500\n",
            "2/2 [==============================] - 0s 4ms/step - loss: 4.9605 - mse: 34.9329\n",
            "Epoch 341/500\n",
            "2/2 [==============================] - 0s 4ms/step - loss: 4.9004 - mse: 34.7707\n",
            "Epoch 342/500\n",
            "2/2 [==============================] - 0s 12ms/step - loss: 4.7691 - mse: 33.4535\n",
            "Epoch 343/500\n",
            "2/2 [==============================] - 0s 7ms/step - loss: 4.7716 - mse: 33.7888\n",
            "Epoch 344/500\n",
            "2/2 [==============================] - 0s 11ms/step - loss: 5.1355 - mse: 37.5633\n",
            "Epoch 345/500\n",
            "2/2 [==============================] - 0s 8ms/step - loss: 4.8789 - mse: 34.9574\n",
            "Epoch 346/500\n",
            "2/2 [==============================] - 0s 5ms/step - loss: 4.9271 - mse: 35.5625\n",
            "Epoch 347/500\n",
            "2/2 [==============================] - 0s 9ms/step - loss: 4.8809 - mse: 35.4603\n",
            "Epoch 348/500\n",
            "2/2 [==============================] - 0s 3ms/step - loss: 4.8522 - mse: 35.0842\n",
            "Epoch 349/500\n",
            "2/2 [==============================] - 0s 4ms/step - loss: 4.8873 - mse: 35.3759\n",
            "Epoch 350/500\n",
            "2/2 [==============================] - 0s 4ms/step - loss: 5.0529 - mse: 36.7812\n",
            "Epoch 351/500\n",
            "2/2 [==============================] - 0s 4ms/step - loss: 4.9056 - mse: 35.3926\n",
            "Epoch 352/500\n",
            "2/2 [==============================] - 0s 4ms/step - loss: 4.8231 - mse: 34.0595\n",
            "Epoch 353/500\n",
            "2/2 [==============================] - 0s 5ms/step - loss: 4.7774 - mse: 33.2239\n",
            "Epoch 354/500\n",
            "2/2 [==============================] - 0s 5ms/step - loss: 4.7622 - mse: 32.5870\n",
            "Epoch 355/500\n",
            "2/2 [==============================] - 0s 4ms/step - loss: 4.7256 - mse: 32.5984\n",
            "Epoch 356/500\n",
            "2/2 [==============================] - 0s 5ms/step - loss: 4.8958 - mse: 34.3997\n",
            "Epoch 357/500\n",
            "2/2 [==============================] - 0s 5ms/step - loss: 4.9299 - mse: 34.5997\n",
            "Epoch 358/500\n",
            "2/2 [==============================] - 0s 6ms/step - loss: 4.7685 - mse: 33.5779\n",
            "Epoch 359/500\n",
            "2/2 [==============================] - 0s 4ms/step - loss: 4.9177 - mse: 34.6205\n",
            "Epoch 360/500\n",
            "2/2 [==============================] - 0s 4ms/step - loss: 4.6886 - mse: 32.5709\n",
            "Epoch 361/500\n",
            "2/2 [==============================] - 0s 7ms/step - loss: 4.7898 - mse: 33.8012\n",
            "Epoch 362/500\n",
            "2/2 [==============================] - 0s 6ms/step - loss: 4.8264 - mse: 33.6674\n",
            "Epoch 363/500\n",
            "2/2 [==============================] - 0s 13ms/step - loss: 4.8690 - mse: 33.6848\n",
            "Epoch 364/500\n",
            "2/2 [==============================] - 0s 6ms/step - loss: 4.6792 - mse: 31.8601\n",
            "Epoch 365/500\n",
            "2/2 [==============================] - 0s 16ms/step - loss: 4.5811 - mse: 30.7358\n",
            "Epoch 366/500\n",
            "2/2 [==============================] - 0s 8ms/step - loss: 4.8912 - mse: 33.4150\n",
            "Epoch 367/500\n",
            "2/2 [==============================] - 0s 4ms/step - loss: 4.7601 - mse: 32.6424\n",
            "Epoch 368/500\n",
            "2/2 [==============================] - 0s 9ms/step - loss: 4.6077 - mse: 30.9553\n",
            "Epoch 369/500\n",
            "2/2 [==============================] - 0s 6ms/step - loss: 4.6671 - mse: 31.7177\n",
            "Epoch 370/500\n",
            "2/2 [==============================] - 0s 5ms/step - loss: 4.6492 - mse: 31.5606\n",
            "Epoch 371/500\n",
            "2/2 [==============================] - 0s 4ms/step - loss: 4.5548 - mse: 31.1221\n",
            "Epoch 372/500\n",
            "2/2 [==============================] - 0s 4ms/step - loss: 4.7207 - mse: 32.5158\n",
            "Epoch 373/500\n",
            "2/2 [==============================] - 0s 5ms/step - loss: 4.6464 - mse: 31.8979\n",
            "Epoch 374/500\n",
            "2/2 [==============================] - 0s 15ms/step - loss: 4.5393 - mse: 30.5701\n",
            "Epoch 375/500\n",
            "2/2 [==============================] - 0s 9ms/step - loss: 4.5521 - mse: 30.7291\n",
            "Epoch 376/500\n",
            "2/2 [==============================] - 0s 3ms/step - loss: 4.4751 - mse: 30.0757\n",
            "Epoch 377/500\n",
            "2/2 [==============================] - 0s 4ms/step - loss: 4.6974 - mse: 32.5632\n",
            "Epoch 378/500\n",
            "2/2 [==============================] - 0s 4ms/step - loss: 4.6633 - mse: 31.7021\n",
            "Epoch 379/500\n",
            "2/2 [==============================] - 0s 8ms/step - loss: 4.6361 - mse: 31.2757\n",
            "Epoch 380/500\n",
            "2/2 [==============================] - 0s 4ms/step - loss: 4.5286 - mse: 30.0852\n",
            "Epoch 381/500\n",
            "2/2 [==============================] - 0s 11ms/step - loss: 4.5094 - mse: 29.2867\n",
            "Epoch 382/500\n",
            "2/2 [==============================] - 0s 3ms/step - loss: 4.6076 - mse: 30.1294\n",
            "Epoch 383/500\n",
            "2/2 [==============================] - 0s 7ms/step - loss: 4.4409 - mse: 28.8923\n",
            "Epoch 384/500\n",
            "2/2 [==============================] - 0s 4ms/step - loss: 4.3746 - mse: 28.5389\n",
            "Epoch 385/500\n",
            "2/2 [==============================] - 0s 13ms/step - loss: 4.5200 - mse: 29.6787\n",
            "Epoch 386/500\n",
            "2/2 [==============================] - 0s 3ms/step - loss: 4.4955 - mse: 29.7989\n",
            "Epoch 387/500\n",
            "2/2 [==============================] - 0s 4ms/step - loss: 4.5338 - mse: 30.4207\n",
            "Epoch 388/500\n",
            "2/2 [==============================] - 0s 3ms/step - loss: 4.4739 - mse: 30.0639\n",
            "Epoch 389/500\n",
            "2/2 [==============================] - 0s 5ms/step - loss: 4.6716 - mse: 31.9629\n",
            "Epoch 390/500\n",
            "2/2 [==============================] - 0s 10ms/step - loss: 4.5036 - mse: 30.1986\n",
            "Epoch 391/500\n",
            "2/2 [==============================] - 0s 10ms/step - loss: 4.5284 - mse: 30.7799\n",
            "Epoch 392/500\n",
            "2/2 [==============================] - 0s 5ms/step - loss: 4.4009 - mse: 29.1379\n",
            "Epoch 393/500\n",
            "2/2 [==============================] - 0s 4ms/step - loss: 4.4822 - mse: 29.9357\n",
            "Epoch 394/500\n",
            "2/2 [==============================] - 0s 4ms/step - loss: 4.5176 - mse: 29.6478\n",
            "Epoch 395/500\n",
            "2/2 [==============================] - 0s 13ms/step - loss: 4.4170 - mse: 28.3582\n",
            "Epoch 396/500\n",
            "2/2 [==============================] - 0s 21ms/step - loss: 4.3003 - mse: 27.1139\n",
            "Epoch 397/500\n",
            "2/2 [==============================] - 0s 8ms/step - loss: 4.4622 - mse: 28.3085\n",
            "Epoch 398/500\n",
            "2/2 [==============================] - 0s 7ms/step - loss: 4.3860 - mse: 27.3705\n",
            "Epoch 399/500\n",
            "2/2 [==============================] - 0s 11ms/step - loss: 4.4504 - mse: 28.0359\n",
            "Epoch 400/500\n",
            "2/2 [==============================] - 0s 20ms/step - loss: 4.3449 - mse: 27.4422\n",
            "Epoch 401/500\n",
            "2/2 [==============================] - 0s 7ms/step - loss: 4.5118 - mse: 29.1142\n",
            "Epoch 402/500\n",
            "2/2 [==============================] - 0s 6ms/step - loss: 4.2366 - mse: 26.8543\n",
            "Epoch 403/500\n",
            "2/2 [==============================] - 0s 3ms/step - loss: 4.5119 - mse: 29.7195\n",
            "Epoch 404/500\n",
            "2/2 [==============================] - 0s 4ms/step - loss: 4.3593 - mse: 28.3350\n",
            "Epoch 405/500\n",
            "2/2 [==============================] - 0s 8ms/step - loss: 4.3772 - mse: 28.3328\n",
            "Epoch 406/500\n",
            "2/2 [==============================] - 0s 5ms/step - loss: 4.2839 - mse: 27.0685\n",
            "Epoch 407/500\n",
            "2/2 [==============================] - 0s 7ms/step - loss: 4.3206 - mse: 26.7634\n",
            "Epoch 408/500\n",
            "2/2 [==============================] - 0s 6ms/step - loss: 4.4405 - mse: 27.8981\n",
            "Epoch 409/500\n",
            "2/2 [==============================] - 0s 7ms/step - loss: 4.3107 - mse: 27.1112\n",
            "Epoch 410/500\n",
            "2/2 [==============================] - 0s 6ms/step - loss: 4.3174 - mse: 27.2265\n",
            "Epoch 411/500\n",
            "2/2 [==============================] - 0s 6ms/step - loss: 4.3040 - mse: 27.4559\n",
            "Epoch 412/500\n",
            "2/2 [==============================] - 0s 5ms/step - loss: 4.3084 - mse: 27.8986\n",
            "Epoch 413/500\n",
            "2/2 [==============================] - 0s 3ms/step - loss: 4.3082 - mse: 27.5209\n",
            "Epoch 414/500\n",
            "2/2 [==============================] - 0s 7ms/step - loss: 4.2616 - mse: 27.3832\n",
            "Epoch 415/500\n",
            "2/2 [==============================] - 0s 8ms/step - loss: 4.1896 - mse: 26.1377\n",
            "Epoch 416/500\n",
            "2/2 [==============================] - 0s 3ms/step - loss: 4.2182 - mse: 26.1979\n",
            "Epoch 417/500\n",
            "2/2 [==============================] - 0s 7ms/step - loss: 4.2172 - mse: 26.0715\n",
            "Epoch 418/500\n",
            "2/2 [==============================] - 0s 6ms/step - loss: 4.1921 - mse: 24.7937\n",
            "Epoch 419/500\n",
            "2/2 [==============================] - 0s 8ms/step - loss: 4.3274 - mse: 25.4050\n",
            "Epoch 420/500\n",
            "2/2 [==============================] - 0s 7ms/step - loss: 4.1829 - mse: 24.1533\n",
            "Epoch 421/500\n",
            "2/2 [==============================] - 0s 4ms/step - loss: 4.1105 - mse: 23.8290\n",
            "Epoch 422/500\n",
            "2/2 [==============================] - 0s 7ms/step - loss: 4.2322 - mse: 25.1442\n",
            "Epoch 423/500\n",
            "2/2 [==============================] - 0s 9ms/step - loss: 4.1509 - mse: 24.6759\n",
            "Epoch 424/500\n",
            "2/2 [==============================] - 0s 7ms/step - loss: 4.1945 - mse: 25.0433\n",
            "Epoch 425/500\n",
            "2/2 [==============================] - 0s 6ms/step - loss: 4.1180 - mse: 24.2924\n",
            "Epoch 426/500\n",
            "2/2 [==============================] - 0s 4ms/step - loss: 4.0028 - mse: 23.2341\n",
            "Epoch 427/500\n",
            "2/2 [==============================] - 0s 8ms/step - loss: 4.0569 - mse: 23.8616\n",
            "Epoch 428/500\n",
            "2/2 [==============================] - 0s 5ms/step - loss: 4.1438 - mse: 24.6430\n",
            "Epoch 429/500\n",
            "2/2 [==============================] - 0s 6ms/step - loss: 4.1924 - mse: 25.0973\n",
            "Epoch 430/500\n",
            "2/2 [==============================] - 0s 7ms/step - loss: 4.1369 - mse: 24.5914\n",
            "Epoch 431/500\n",
            "2/2 [==============================] - 0s 5ms/step - loss: 4.1101 - mse: 24.6500\n",
            "Epoch 432/500\n",
            "2/2 [==============================] - 0s 9ms/step - loss: 3.9949 - mse: 23.6363\n",
            "Epoch 433/500\n",
            "2/2 [==============================] - 0s 4ms/step - loss: 4.1448 - mse: 24.5355\n",
            "Epoch 434/500\n",
            "2/2 [==============================] - 0s 3ms/step - loss: 3.9998 - mse: 23.1913\n",
            "Epoch 435/500\n",
            "2/2 [==============================] - 0s 4ms/step - loss: 4.1635 - mse: 24.4665\n",
            "Epoch 436/500\n",
            "2/2 [==============================] - 0s 7ms/step - loss: 3.9717 - mse: 23.4243\n",
            "Epoch 437/500\n",
            "2/2 [==============================] - 0s 5ms/step - loss: 3.9739 - mse: 23.3674\n",
            "Epoch 438/500\n",
            "2/2 [==============================] - 0s 6ms/step - loss: 4.1516 - mse: 24.7600\n",
            "Epoch 439/500\n",
            "2/2 [==============================] - 0s 5ms/step - loss: 4.0779 - mse: 24.5894\n",
            "Epoch 440/500\n",
            "2/2 [==============================] - 0s 3ms/step - loss: 4.0304 - mse: 24.1942\n",
            "Epoch 441/500\n",
            "2/2 [==============================] - 0s 3ms/step - loss: 4.0449 - mse: 23.7900\n",
            "Epoch 442/500\n",
            "2/2 [==============================] - 0s 6ms/step - loss: 3.8956 - mse: 22.4008\n",
            "Epoch 443/500\n",
            "2/2 [==============================] - 0s 13ms/step - loss: 3.9411 - mse: 22.6564\n",
            "Epoch 444/500\n",
            "2/2 [==============================] - 0s 9ms/step - loss: 3.8146 - mse: 21.7615\n",
            "Epoch 445/500\n",
            "2/2 [==============================] - 0s 9ms/step - loss: 3.9275 - mse: 22.5961\n",
            "Epoch 446/500\n",
            "2/2 [==============================] - 0s 9ms/step - loss: 3.7803 - mse: 21.1387\n",
            "Epoch 447/500\n",
            "2/2 [==============================] - 0s 5ms/step - loss: 3.7775 - mse: 21.6279\n",
            "Epoch 448/500\n",
            "2/2 [==============================] - 0s 9ms/step - loss: 3.8507 - mse: 22.1651\n",
            "Epoch 449/500\n",
            "2/2 [==============================] - 0s 15ms/step - loss: 3.8879 - mse: 22.3352\n",
            "Epoch 450/500\n",
            "2/2 [==============================] - 0s 7ms/step - loss: 3.8732 - mse: 21.8444\n",
            "Epoch 451/500\n",
            "2/2 [==============================] - 0s 12ms/step - loss: 4.0068 - mse: 22.7131\n",
            "Epoch 452/500\n",
            "2/2 [==============================] - 0s 6ms/step - loss: 3.8850 - mse: 22.0280\n",
            "Epoch 453/500\n",
            "2/2 [==============================] - 0s 16ms/step - loss: 3.8681 - mse: 21.8481\n",
            "Epoch 454/500\n",
            "2/2 [==============================] - 0s 13ms/step - loss: 3.8758 - mse: 22.2363\n",
            "Epoch 455/500\n",
            "2/2 [==============================] - 0s 16ms/step - loss: 3.7974 - mse: 21.7590\n",
            "Epoch 456/500\n",
            "2/2 [==============================] - 0s 5ms/step - loss: 3.8465 - mse: 21.8506\n",
            "Epoch 457/500\n",
            "2/2 [==============================] - 0s 7ms/step - loss: 3.7045 - mse: 20.4687\n",
            "Epoch 458/500\n",
            "2/2 [==============================] - 0s 7ms/step - loss: 3.8575 - mse: 21.3070\n",
            "Epoch 459/500\n",
            "2/2 [==============================] - 0s 8ms/step - loss: 3.7028 - mse: 19.7212\n",
            "Epoch 460/500\n",
            "2/2 [==============================] - 0s 13ms/step - loss: 3.7286 - mse: 19.9631\n",
            "Epoch 461/500\n",
            "2/2 [==============================] - 0s 12ms/step - loss: 3.7601 - mse: 20.1506\n",
            "Epoch 462/500\n",
            "2/2 [==============================] - 0s 13ms/step - loss: 3.7441 - mse: 19.7441\n",
            "Epoch 463/500\n",
            "2/2 [==============================] - 0s 6ms/step - loss: 3.6619 - mse: 19.4218\n",
            "Epoch 464/500\n",
            "2/2 [==============================] - 0s 7ms/step - loss: 3.6343 - mse: 18.7345\n",
            "Epoch 465/500\n",
            "2/2 [==============================] - 0s 9ms/step - loss: 3.6126 - mse: 18.6441\n",
            "Epoch 466/500\n",
            "2/2 [==============================] - 0s 14ms/step - loss: 3.6996 - mse: 19.4719\n",
            "Epoch 467/500\n",
            "2/2 [==============================] - 0s 14ms/step - loss: 3.6389 - mse: 19.3476\n",
            "Epoch 468/500\n",
            "2/2 [==============================] - 0s 12ms/step - loss: 3.6888 - mse: 19.7103\n",
            "Epoch 469/500\n",
            "2/2 [==============================] - 0s 13ms/step - loss: 3.6374 - mse: 19.4140\n",
            "Epoch 470/500\n",
            "2/2 [==============================] - 0s 13ms/step - loss: 3.6095 - mse: 18.7949\n",
            "Epoch 471/500\n",
            "2/2 [==============================] - 0s 11ms/step - loss: 3.5892 - mse: 19.0769\n",
            "Epoch 472/500\n",
            "2/2 [==============================] - 0s 12ms/step - loss: 3.5609 - mse: 18.4677\n",
            "Epoch 473/500\n",
            "2/2 [==============================] - 0s 11ms/step - loss: 3.6237 - mse: 18.6744\n",
            "Epoch 474/500\n",
            "2/2 [==============================] - 0s 5ms/step - loss: 3.6150 - mse: 18.8473\n",
            "Epoch 475/500\n",
            "2/2 [==============================] - 0s 4ms/step - loss: 3.4624 - mse: 17.6777\n",
            "Epoch 476/500\n",
            "2/2 [==============================] - 0s 8ms/step - loss: 3.6131 - mse: 18.5560\n",
            "Epoch 477/500\n",
            "2/2 [==============================] - 0s 5ms/step - loss: 3.5698 - mse: 18.6114\n",
            "Epoch 478/500\n",
            "2/2 [==============================] - 0s 8ms/step - loss: 3.4380 - mse: 17.8211\n",
            "Epoch 479/500\n",
            "2/2 [==============================] - 0s 3ms/step - loss: 3.5766 - mse: 18.8101\n",
            "Epoch 480/500\n",
            "2/2 [==============================] - 0s 6ms/step - loss: 3.5412 - mse: 18.7103\n",
            "Epoch 481/500\n",
            "2/2 [==============================] - 0s 5ms/step - loss: 3.5235 - mse: 18.3931\n",
            "Epoch 482/500\n",
            "2/2 [==============================] - 0s 4ms/step - loss: 3.4238 - mse: 17.5091\n",
            "Epoch 483/500\n",
            "2/2 [==============================] - 0s 4ms/step - loss: 3.5727 - mse: 18.4167\n",
            "Epoch 484/500\n",
            "2/2 [==============================] - 0s 8ms/step - loss: 3.3275 - mse: 16.3720\n",
            "Epoch 485/500\n",
            "2/2 [==============================] - 0s 8ms/step - loss: 3.4814 - mse: 17.7143\n",
            "Epoch 486/500\n",
            "2/2 [==============================] - 0s 8ms/step - loss: 3.3073 - mse: 16.4213\n",
            "Epoch 487/500\n",
            "2/2 [==============================] - 0s 5ms/step - loss: 3.4704 - mse: 17.1683\n",
            "Epoch 488/500\n",
            "2/2 [==============================] - 0s 4ms/step - loss: 3.2788 - mse: 16.0702\n",
            "Epoch 489/500\n",
            "2/2 [==============================] - 0s 10ms/step - loss: 3.3164 - mse: 16.3398\n",
            "Epoch 490/500\n",
            "2/2 [==============================] - 0s 5ms/step - loss: 3.3614 - mse: 16.4899\n",
            "Epoch 491/500\n",
            "2/2 [==============================] - 0s 4ms/step - loss: 3.3769 - mse: 16.4054\n",
            "Epoch 492/500\n",
            "2/2 [==============================] - 0s 5ms/step - loss: 3.3465 - mse: 15.8885\n",
            "Epoch 493/500\n",
            "2/2 [==============================] - 0s 8ms/step - loss: 3.3748 - mse: 16.4512\n",
            "Epoch 494/500\n",
            "2/2 [==============================] - 0s 6ms/step - loss: 3.2306 - mse: 15.5402\n",
            "Epoch 495/500\n",
            "2/2 [==============================] - 0s 3ms/step - loss: 3.2517 - mse: 15.9725\n",
            "Epoch 496/500\n",
            "2/2 [==============================] - 0s 5ms/step - loss: 3.2713 - mse: 15.9177\n",
            "Epoch 497/500\n",
            "2/2 [==============================] - 0s 8ms/step - loss: 3.3997 - mse: 16.8387\n",
            "Epoch 498/500\n",
            "2/2 [==============================] - 0s 5ms/step - loss: 3.2793 - mse: 15.8414\n",
            "Epoch 499/500\n",
            "2/2 [==============================] - 0s 4ms/step - loss: 3.2946 - mse: 16.4011\n",
            "Epoch 500/500\n",
            "2/2 [==============================] - 0s 10ms/step - loss: 3.3893 - mse: 16.8790\n"
          ],
          "name": "stdout"
        },
        {
          "output_type": "execute_result",
          "data": {
            "text/plain": [
              "<tensorflow.python.keras.callbacks.History at 0x7f5c6fd06050>"
            ]
          },
          "metadata": {
            "tags": []
          },
          "execution_count": 110
        }
      ]
    },
    {
      "cell_type": "code",
      "metadata": {
        "colab": {
          "base_uri": "https://localhost:8080/",
          "height": 466
        },
        "id": "aL-KjWWdie_T",
        "outputId": "7b5e99dd-88a5-4daf-beff-9d398357dace"
      },
      "source": [
        "y_preds_3=model_3.predict(X_test)\n",
        "plot_prediction(predictions=y_preds_3)"
      ],
      "execution_count": null,
      "outputs": [
        {
          "output_type": "stream",
          "text": [
            "WARNING:tensorflow:7 out of the last 11 calls to <function Model.make_predict_function.<locals>.predict_function at 0x7f5c708f6440> triggered tf.function retracing. Tracing is expensive and the excessive number of tracings could be due to (1) creating @tf.function repeatedly in a loop, (2) passing tensors with different shapes, (3) passing Python objects instead of tensors. For (1), please define your @tf.function outside of the loop. For (2), @tf.function has experimental_relax_shapes=True option that relaxes argument shapes that can avoid unnecessary retracing. For (3), please refer to https://www.tensorflow.org/guide/function#controlling_retracing and https://www.tensorflow.org/api_docs/python/tf/function for  more details.\n"
          ],
          "name": "stdout"
        },
        {
          "output_type": "display_data",
          "data": {
            "image/png": "[encoded data removed]",
            "text/plain": [
              "<Figure size 720x504 with 1 Axes>"
            ]
          },
          "metadata": {
            "tags": [],
            "needs_background": "light"
          }
        }
      ]
    },
    {
      "cell_type": "code",
      "metadata": {
        "colab": {
          "base_uri": "https://localhost:8080/"
        },
        "id": "kTjpL-X6iw05",
        "outputId": "b3c4d0ec-e920-44a5-a3f3-7e42fc40412f"
      },
      "source": [
        "mae_3=mae(y_test,y_preds_3)\n",
        "mse_3=mse(y_test,y_preds_3)\n",
        "mae_3,mse_3"
      ],
      "execution_count": null,
      "outputs": [
        {
          "output_type": "execute_result",
          "data": {
            "text/plain": [
              "(<tf.Tensor: shape=(), dtype=float32, numpy=8.695226>,\n",
              " <tf.Tensor: shape=(), dtype=float32, numpy=76.03696>)"
            ]
          },
          "metadata": {
            "tags": []
          },
          "execution_count": 112
        }
      ]
    },
    {
      "cell_type": "markdown",
      "metadata": {
        "id": "xOw-dDC6j7dP"
      },
      "source": [
        "**Note:** You want to start with small experiments (small models) and make sure they work and then increase their scale."
      ]
    },
    {
      "cell_type": "markdown",
      "metadata": {
        "id": "dq3bT9x0i-Ol"
      },
      "source": [
        "### Comparing our experiments.\n",
        "\n",
        "We've run a few experiments, lets compare the results.\n"
      ]
    },
    {
      "cell_type": "code",
      "metadata": {
        "colab": {
          "base_uri": "https://localhost:8080/",
          "height": 136
        },
        "id": "Pk_uEOZyjmrk",
        "outputId": "f2b04656-1923-4051-dafb-fb53a1d07646"
      },
      "source": [
        "# Let's compare our model's result using a pandas Dataframe\n",
        "import pandas as pd\n",
        "\n",
        "model_results=[[\"model_1\",mae_1.numpy(),mse_1.numpy()],\n",
        "               [\"model_2\",mae_2.numpy(),mse_2.numpy()],\n",
        "               [\"model_3\",mae_3.numpy(),mse_3.numpy()]]\n",
        "\n",
        "all_results=pd.DataFrame(model_results, columns=[\"model\",\"mae\",\"mse\"])\n",
        "all_results   \n"
      ],
      "execution_count": null,
      "outputs": [
        {
          "output_type": "execute_result",
          "data": {
            "text/html": [
              "<div>\n",
              "<style scoped>\n",
              "    .dataframe tbody tr th:only-of-type {\n",
              "        vertical-align: middle;\n",
              "    }\n",
              "\n",
              "    .dataframe tbody tr th {\n",
              "        vertical-align: top;\n",
              "    }\n",
              "\n",
              "    .dataframe thead th {\n",
              "        text-align: right;\n",
              "    }\n",
              "</style>\n",
              "<table border=\"1\" class=\"dataframe\">\n",
              "  <thead>\n",
              "    <tr style=\"text-align: right;\">\n",
              "      <th></th>\n",
              "      <th>model</th>\n",
              "      <th>mae</th>\n",
              "      <th>mse</th>\n",
              "    </tr>\n",
              "  </thead>\n",
              "  <tbody>\n",
              "    <tr>\n",
              "      <th>0</th>\n",
              "      <td>model_1</td>\n",
              "      <td>18.745327</td>\n",
              "      <td>353.573364</td>\n",
              "    </tr>\n",
              "    <tr>\n",
              "      <th>1</th>\n",
              "      <td>model_2</td>\n",
              "      <td>3.196941</td>\n",
              "      <td>13.070143</td>\n",
              "    </tr>\n",
              "    <tr>\n",
              "      <th>2</th>\n",
              "      <td>model_3</td>\n",
              "      <td>8.695226</td>\n",
              "      <td>76.036957</td>\n",
              "    </tr>\n",
              "  </tbody>\n",
              "</table>\n",
              "</div>"
            ],
            "text/plain": [
              "     model        mae         mse\n",
              "0  model_1  18.745327  353.573364\n",
              "1  model_2   3.196941   13.070143\n",
              "2  model_3   8.695226   76.036957"
            ]
          },
          "metadata": {
            "tags": []
          },
          "execution_count": 116
        }
      ]
    },
    {
      "cell_type": "markdown",
      "metadata": {
        "id": "hgjlqY3rlwOU"
      },
      "source": [
        "Looks like `model_3` performed the best...."
      ]
    },
    {
      "cell_type": "code",
      "metadata": {
        "colab": {
          "base_uri": "https://localhost:8080/"
        },
        "id": "B8U5Pl2Vksrw",
        "outputId": "ac5034c1-509b-4f31-c661-7cf217d6d7f2"
      },
      "source": [
        "model_3.summary()"
      ],
      "execution_count": null,
      "outputs": [
        {
          "output_type": "stream",
          "text": [
            "Model: \"sequential_12\"\n",
            "_________________________________________________________________\n",
            "Layer (type)                 Output Shape              Param #   \n",
            "=================================================================\n",
            "dense_23 (Dense)             (None, 10)                20        \n",
            "_________________________________________________________________\n",
            "dense_24 (Dense)             (None, 1)                 11        \n",
            "=================================================================\n",
            "Total params: 31\n",
            "Trainable params: 31\n",
            "Non-trainable params: 0\n",
            "_________________________________________________________________\n"
          ],
          "name": "stdout"
        }
      ]
    },
    {
      "cell_type": "markdown",
      "metadata": {
        "id": "cYEJtE7sljaH"
      },
      "source": [
        "**Note:** One of  your main goals should be to minimize the time between your experiments. The more experiments you do, the more things you'll figure out which don't work and in turn, get closer to figure out what does work. Remember the machine learning practioner's motto:\"Experiment,experiment and experiment\"."
      ]
    },
    {
      "cell_type": "markdown",
      "metadata": {
        "id": "C5IXyUpSmvl_"
      },
      "source": [
        "## Tracking your experiments\n",
        "\n",
        "One really good habit in machine learning modelling is to track the results of your experiments.\n",
        "\n",
        "And when doing so, it can be tedious if you are running lots of experiments.\n",
        "\n",
        "Luckily, there are tools to help us.\n",
        "\n",
        "**Resource:** As you build more models, you will want to look into using.\n",
        "\n",
        "* TensorBoard - a component of the TensorFlow library to help track modeling experiments ( we will see this later on.)\n",
        "* Weights & Biases- a tool for tracking all of kinds of machine learning experiments ( plugs straight into TensorBoard)."
      ]
    },
    {
      "cell_type": "markdown",
      "metadata": {
        "id": "VDa2SIu9nwjX"
      },
      "source": [
        "### Saving our models\n",
        "\n",
        "Savinng our models allows us to use them outside of google Colab ( or wherever they were trained) such as in a web application or a mobile app.\n",
        "\n",
        "There are two main formats we can save our model's too:\n",
        "\n",
        "1. The SavedModel Format\n",
        "2. The HDF5 form"
      ]
    },
    {
      "cell_type": "code",
      "metadata": {
        "colab": {
          "base_uri": "https://localhost:8080/"
        },
        "id": "dWRPgvT-oUVq",
        "outputId": "4bba49f4-2b30-4fab-e46e-dec7599f241d"
      },
      "source": [
        "# Save model using SaveModel Format\n",
        "model_3.save(\"Best_model_SavedModel_Format\")"
      ],
      "execution_count": null,
      "outputs": [
        {
          "output_type": "stream",
          "text": [
            "INFO:tensorflow:Assets written to: Best_model_SavedModel_Format/assets\n"
          ],
          "name": "stdout"
        }
      ]
    },
    {
      "cell_type": "code",
      "metadata": {
        "id": "1IzoRDqypHCI"
      },
      "source": [
        "# Save model using the HDF5 format\n",
        "model_3.save(\"best_model_HDF5_format.h5\")"
      ],
      "execution_count": null,
      "outputs": []
    },
    {
      "cell_type": "markdown",
      "metadata": {
        "id": "8F9VN2QDp_b6"
      },
      "source": [
        "### Loading in a saved model"
      ]
    },
    {
      "cell_type": "code",
      "metadata": {
        "colab": {
          "base_uri": "https://localhost:8080/"
        },
        "id": "PRCBOMyLqkbS",
        "outputId": "789e4676-1426-4189-820f-ad3e51193473"
      },
      "source": [
        "# Load in the SaveModel format model\n",
        "loaded_SavedModel_format=tf.keras.models.load_model(\"Best_model_SavedModel_Format\")\n",
        "loaded_SavedModel_format.summary()"
      ],
      "execution_count": null,
      "outputs": [
        {
          "output_type": "stream",
          "text": [
            "Model: \"sequential_12\"\n",
            "_________________________________________________________________\n",
            "Layer (type)                 Output Shape              Param #   \n",
            "=================================================================\n",
            "dense_23 (Dense)             (None, 10)                20        \n",
            "_________________________________________________________________\n",
            "dense_24 (Dense)             (None, 1)                 11        \n",
            "=================================================================\n",
            "Total params: 31\n",
            "Trainable params: 31\n",
            "Non-trainable params: 0\n",
            "_________________________________________________________________\n"
          ],
          "name": "stdout"
        }
      ]
    },
    {
      "cell_type": "code",
      "metadata": {
        "colab": {
          "base_uri": "https://localhost:8080/"
        },
        "id": "gh4xEv5Xq9Ik",
        "outputId": "555fe3d5-c3cc-43e4-b681-d96f3e6a403f"
      },
      "source": [
        "model_3.summary()"
      ],
      "execution_count": null,
      "outputs": [
        {
          "output_type": "stream",
          "text": [
            "Model: \"sequential_12\"\n",
            "_________________________________________________________________\n",
            "Layer (type)                 Output Shape              Param #   \n",
            "=================================================================\n",
            "dense_23 (Dense)             (None, 10)                20        \n",
            "_________________________________________________________________\n",
            "dense_24 (Dense)             (None, 1)                 11        \n",
            "=================================================================\n",
            "Total params: 31\n",
            "Trainable params: 31\n",
            "Non-trainable params: 0\n",
            "_________________________________________________________________\n"
          ],
          "name": "stdout"
        }
      ]
    },
    {
      "cell_type": "code",
      "metadata": {
        "colab": {
          "base_uri": "https://localhost:8080/"
        },
        "id": "tloCRBoxrBPg",
        "outputId": "b4e78540-c6df-4917-fbcc-1f9c55e9493d"
      },
      "source": [
        "# Load in a model using a .h5 format\n",
        "loaded_h5_model=tf.keras.models.load_model(\"best_model_HDF5_format.h5\")\n",
        "loaded_h5_model.summary()"
      ],
      "execution_count": null,
      "outputs": [
        {
          "output_type": "stream",
          "text": [
            "Model: \"sequential_12\"\n",
            "_________________________________________________________________\n",
            "Layer (type)                 Output Shape              Param #   \n",
            "=================================================================\n",
            "dense_23 (Dense)             (None, 10)                20        \n",
            "_________________________________________________________________\n",
            "dense_24 (Dense)             (None, 1)                 11        \n",
            "=================================================================\n",
            "Total params: 31\n",
            "Trainable params: 31\n",
            "Non-trainable params: 0\n",
            "_________________________________________________________________\n"
          ],
          "name": "stdout"
        }
      ]
    },
    {
      "cell_type": "markdown",
      "metadata": {
        "id": "Pwe_kpw01UA_"
      },
      "source": [
        "### Download a model ( or any file) from Google Colab\n",
        "\n",
        "If you want to download your files from Google Colab:\n",
        "\n",
        "1. You can go to the \"files\" tab and right click on the file you're after and click \"download\".\n",
        "2. Use code ( see the cell below).\n",
        "3. Save it to Google drive by connecting Google Drive and Copying it there ( see end cell for detalils)"
      ]
    },
    {
      "cell_type": "code",
      "metadata": {
        "colab": {
          "base_uri": "https://localhost:8080/",
          "height": 17
        },
        "id": "t4G9ROV42FML",
        "outputId": "48e32222-c243-4b87-ae6e-751a77fc81f8"
      },
      "source": [
        "#Download a file from Google Colab\n",
        "from google.colab import files\n",
        "files.download(\"/content/best_model_HDF5_format.h5\")"
      ],
      "execution_count": null,
      "outputs": [
        {
          "output_type": "display_data",
          "data": {
            "application/javascript": [
              "\n",
              "    async function download(id, filename, size) {\n",
              "      if (!google.colab.kernel.accessAllowed) {\n",
              "        return;\n",
              "      }\n",
              "      const div = document.createElement('div');\n",
              "      const label = document.createElement('label');\n",
              "      label.textContent = `Downloading \"${filename}\": `;\n",
              "      div.appendChild(label);\n",
              "      const progress = document.createElement('progress');\n",
              "      progress.max = size;\n",
              "      div.appendChild(progress);\n",
              "      document.body.appendChild(div);\n",
              "\n",
              "      const buffers = [];\n",
              "      let downloaded = 0;\n",
              "\n",
              "      const channel = await google.colab.kernel.comms.open(id);\n",
              "      // Send a message to notify the kernel that we're ready.\n",
              "      channel.send({})\n",
              "\n",
              "      for await (const message of channel.messages) {\n",
              "        // Send a message to notify the kernel that we're ready.\n",
              "        channel.send({})\n",
              "        if (message.buffers) {\n",
              "          for (const buffer of message.buffers) {\n",
              "            buffers.push(buffer);\n",
              "            downloaded += buffer.byteLength;\n",
              "            progress.value = downloaded;\n",
              "          }\n",
              "        }\n",
              "      }\n",
              "      const blob = new Blob(buffers, {type: 'application/binary'});\n",
              "      const a = document.createElement('a');\n",
              "      a.href = window.URL.createObjectURL(blob);\n",
              "      a.download = filename;\n",
              "      div.appendChild(a);\n",
              "      a.click();\n",
              "      div.remove();\n",
              "    }\n",
              "  "
            ],
            "text/plain": [
              "<IPython.core.display.Javascript object>"
            ]
          },
          "metadata": {
            "tags": []
          }
        },
        {
          "output_type": "display_data",
          "data": {
            "application/javascript": [
              "download(\"download_7f991a11-db98-4303-ba22-01d6f2c37818\", \"best_model_HDF5_format.h5\", 25536)"
            ],
            "text/plain": [
              "<IPython.core.display.Javascript object>"
            ]
          },
          "metadata": {
            "tags": []
          }
        }
      ]
    },
    {
      "cell_type": "code",
      "metadata": {
        "id": "oRwQ567I2QYc"
      },
      "source": [
        "#Save a file from Google Colab to Google Drive (requires mounting Google Drive)\n",
        "#cp means copy method your model and the destination folder\n",
        "!cp /content/best_model_HDF5_format.h5 /content/drive/MyDrive/TensorFlow_Tutorials"
      ],
      "execution_count": null,
      "outputs": []
    },
    {
      "cell_type": "code",
      "metadata": {
        "colab": {
          "base_uri": "https://localhost:8080/"
        },
        "id": "a5-stw7w4atk",
        "outputId": "45874d56-4b67-4305-fdac-7663e92ac81e"
      },
      "source": [
        "#ls means to list out the files that it has inside the folder\n",
        "!ls /content/drive/MyDrive/TensorFlow_Tutorials"
      ],
      "execution_count": null,
      "outputs": [
        {
          "output_type": "stream",
          "text": [
            "best_model_HDF5_format.h5\n"
          ],
          "name": "stdout"
        }
      ]
    },
    {
      "cell_type": "markdown",
      "metadata": {
        "id": "89313iDf4qYq"
      },
      "source": [
        "### A larger Example\n",
        "\n"
      ]
    },
    {
      "cell_type": "code",
      "metadata": {
        "id": "dZi1yFJC5Vq8"
      },
      "source": [
        "#Import required libraries\n",
        "import tensorflow as tf\n",
        "import pandas as pd\n",
        "import matplotlib.pyplot\n"
      ],
      "execution_count": null,
      "outputs": []
    },
    {
      "cell_type": "code",
      "metadata": {
        "colab": {
          "base_uri": "https://localhost:8080/",
          "height": 404
        },
        "id": "jNSrJ7qX5rG6",
        "outputId": "32a4515f-2b6c-484a-ca44-e32eb5889835"
      },
      "source": [
        "#Read in the insurance dataset from Kaggle: Medical cost dataset -> Goto github, Goto files -> Goto Raw Files ->Copy the link\n",
        "insurance=pd.read_csv(\"https://raw.githubusercontent.com/stedy/Machine-Learning-with-R-datasets/master/insurance.csv\")\n",
        "insurance"
      ],
      "execution_count": null,
      "outputs": [
        {
          "output_type": "execute_result",
          "data": {
            "text/html": [
              "<div>\n",
              "<style scoped>\n",
              "    .dataframe tbody tr th:only-of-type {\n",
              "        vertical-align: middle;\n",
              "    }\n",
              "\n",
              "    .dataframe tbody tr th {\n",
              "        vertical-align: top;\n",
              "    }\n",
              "\n",
              "    .dataframe thead th {\n",
              "        text-align: right;\n",
              "    }\n",
              "</style>\n",
              "<table border=\"1\" class=\"dataframe\">\n",
              "  <thead>\n",
              "    <tr style=\"text-align: right;\">\n",
              "      <th></th>\n",
              "      <th>age</th>\n",
              "      <th>sex</th>\n",
              "      <th>bmi</th>\n",
              "      <th>children</th>\n",
              "      <th>smoker</th>\n",
              "      <th>region</th>\n",
              "      <th>charges</th>\n",
              "    </tr>\n",
              "  </thead>\n",
              "  <tbody>\n",
              "    <tr>\n",
              "      <th>0</th>\n",
              "      <td>19</td>\n",
              "      <td>female</td>\n",
              "      <td>27.900</td>\n",
              "      <td>0</td>\n",
              "      <td>yes</td>\n",
              "      <td>southwest</td>\n",
              "      <td>16884.92400</td>\n",
              "    </tr>\n",
              "    <tr>\n",
              "      <th>1</th>\n",
              "      <td>18</td>\n",
              "      <td>male</td>\n",
              "      <td>33.770</td>\n",
              "      <td>1</td>\n",
              "      <td>no</td>\n",
              "      <td>southeast</td>\n",
              "      <td>1725.55230</td>\n",
              "    </tr>\n",
              "    <tr>\n",
              "      <th>2</th>\n",
              "      <td>28</td>\n",
              "      <td>male</td>\n",
              "      <td>33.000</td>\n",
              "      <td>3</td>\n",
              "      <td>no</td>\n",
              "      <td>southeast</td>\n",
              "      <td>4449.46200</td>\n",
              "    </tr>\n",
              "    <tr>\n",
              "      <th>3</th>\n",
              "      <td>33</td>\n",
              "      <td>male</td>\n",
              "      <td>22.705</td>\n",
              "      <td>0</td>\n",
              "      <td>no</td>\n",
              "      <td>northwest</td>\n",
              "      <td>21984.47061</td>\n",
              "    </tr>\n",
              "    <tr>\n",
              "      <th>4</th>\n",
              "      <td>32</td>\n",
              "      <td>male</td>\n",
              "      <td>28.880</td>\n",
              "      <td>0</td>\n",
              "      <td>no</td>\n",
              "      <td>northwest</td>\n",
              "      <td>3866.85520</td>\n",
              "    </tr>\n",
              "    <tr>\n",
              "      <th>...</th>\n",
              "      <td>...</td>\n",
              "      <td>...</td>\n",
              "      <td>...</td>\n",
              "      <td>...</td>\n",
              "      <td>...</td>\n",
              "      <td>...</td>\n",
              "      <td>...</td>\n",
              "    </tr>\n",
              "    <tr>\n",
              "      <th>1333</th>\n",
              "      <td>50</td>\n",
              "      <td>male</td>\n",
              "      <td>30.970</td>\n",
              "      <td>3</td>\n",
              "      <td>no</td>\n",
              "      <td>northwest</td>\n",
              "      <td>10600.54830</td>\n",
              "    </tr>\n",
              "    <tr>\n",
              "      <th>1334</th>\n",
              "      <td>18</td>\n",
              "      <td>female</td>\n",
              "      <td>31.920</td>\n",
              "      <td>0</td>\n",
              "      <td>no</td>\n",
              "      <td>northeast</td>\n",
              "      <td>2205.98080</td>\n",
              "    </tr>\n",
              "    <tr>\n",
              "      <th>1335</th>\n",
              "      <td>18</td>\n",
              "      <td>female</td>\n",
              "      <td>36.850</td>\n",
              "      <td>0</td>\n",
              "      <td>no</td>\n",
              "      <td>southeast</td>\n",
              "      <td>1629.83350</td>\n",
              "    </tr>\n",
              "    <tr>\n",
              "      <th>1336</th>\n",
              "      <td>21</td>\n",
              "      <td>female</td>\n",
              "      <td>25.800</td>\n",
              "      <td>0</td>\n",
              "      <td>no</td>\n",
              "      <td>southwest</td>\n",
              "      <td>2007.94500</td>\n",
              "    </tr>\n",
              "    <tr>\n",
              "      <th>1337</th>\n",
              "      <td>61</td>\n",
              "      <td>female</td>\n",
              "      <td>29.070</td>\n",
              "      <td>0</td>\n",
              "      <td>yes</td>\n",
              "      <td>northwest</td>\n",
              "      <td>29141.36030</td>\n",
              "    </tr>\n",
              "  </tbody>\n",
              "</table>\n",
              "<p>1338 rows × 7 columns</p>\n",
              "</div>"
            ],
            "text/plain": [
              "      age     sex     bmi  children smoker     region      charges\n",
              "0      19  female  27.900         0    yes  southwest  16884.92400\n",
              "1      18    male  33.770         1     no  southeast   1725.55230\n",
              "2      28    male  33.000         3     no  southeast   4449.46200\n",
              "3      33    male  22.705         0     no  northwest  21984.47061\n",
              "4      32    male  28.880         0     no  northwest   3866.85520\n",
              "...   ...     ...     ...       ...    ...        ...          ...\n",
              "1333   50    male  30.970         3     no  northwest  10600.54830\n",
              "1334   18  female  31.920         0     no  northeast   2205.98080\n",
              "1335   18  female  36.850         0     no  southeast   1629.83350\n",
              "1336   21  female  25.800         0     no  southwest   2007.94500\n",
              "1337   61  female  29.070         0    yes  northwest  29141.36030\n",
              "\n",
              "[1338 rows x 7 columns]"
            ]
          },
          "metadata": {
            "tags": []
          },
          "execution_count": 16
        }
      ]
    },
    {
      "cell_type": "code",
      "metadata": {
        "colab": {
          "base_uri": "https://localhost:8080/",
          "height": 345
        },
        "id": "ekWWFhfm7igx",
        "outputId": "f0c176cb-d318-4b7c-ff84-c033280f50f4"
      },
      "source": [
        "insurance.head(10)"
      ],
      "execution_count": null,
      "outputs": [
        {
          "output_type": "execute_result",
          "data": {
            "text/html": [
              "<div>\n",
              "<style scoped>\n",
              "    .dataframe tbody tr th:only-of-type {\n",
              "        vertical-align: middle;\n",
              "    }\n",
              "\n",
              "    .dataframe tbody tr th {\n",
              "        vertical-align: top;\n",
              "    }\n",
              "\n",
              "    .dataframe thead th {\n",
              "        text-align: right;\n",
              "    }\n",
              "</style>\n",
              "<table border=\"1\" class=\"dataframe\">\n",
              "  <thead>\n",
              "    <tr style=\"text-align: right;\">\n",
              "      <th></th>\n",
              "      <th>age</th>\n",
              "      <th>sex</th>\n",
              "      <th>bmi</th>\n",
              "      <th>children</th>\n",
              "      <th>smoker</th>\n",
              "      <th>region</th>\n",
              "      <th>charges</th>\n",
              "    </tr>\n",
              "  </thead>\n",
              "  <tbody>\n",
              "    <tr>\n",
              "      <th>0</th>\n",
              "      <td>19</td>\n",
              "      <td>female</td>\n",
              "      <td>27.900</td>\n",
              "      <td>0</td>\n",
              "      <td>yes</td>\n",
              "      <td>southwest</td>\n",
              "      <td>16884.92400</td>\n",
              "    </tr>\n",
              "    <tr>\n",
              "      <th>1</th>\n",
              "      <td>18</td>\n",
              "      <td>male</td>\n",
              "      <td>33.770</td>\n",
              "      <td>1</td>\n",
              "      <td>no</td>\n",
              "      <td>southeast</td>\n",
              "      <td>1725.55230</td>\n",
              "    </tr>\n",
              "    <tr>\n",
              "      <th>2</th>\n",
              "      <td>28</td>\n",
              "      <td>male</td>\n",
              "      <td>33.000</td>\n",
              "      <td>3</td>\n",
              "      <td>no</td>\n",
              "      <td>southeast</td>\n",
              "      <td>4449.46200</td>\n",
              "    </tr>\n",
              "    <tr>\n",
              "      <th>3</th>\n",
              "      <td>33</td>\n",
              "      <td>male</td>\n",
              "      <td>22.705</td>\n",
              "      <td>0</td>\n",
              "      <td>no</td>\n",
              "      <td>northwest</td>\n",
              "      <td>21984.47061</td>\n",
              "    </tr>\n",
              "    <tr>\n",
              "      <th>4</th>\n",
              "      <td>32</td>\n",
              "      <td>male</td>\n",
              "      <td>28.880</td>\n",
              "      <td>0</td>\n",
              "      <td>no</td>\n",
              "      <td>northwest</td>\n",
              "      <td>3866.85520</td>\n",
              "    </tr>\n",
              "    <tr>\n",
              "      <th>5</th>\n",
              "      <td>31</td>\n",
              "      <td>female</td>\n",
              "      <td>25.740</td>\n",
              "      <td>0</td>\n",
              "      <td>no</td>\n",
              "      <td>southeast</td>\n",
              "      <td>3756.62160</td>\n",
              "    </tr>\n",
              "    <tr>\n",
              "      <th>6</th>\n",
              "      <td>46</td>\n",
              "      <td>female</td>\n",
              "      <td>33.440</td>\n",
              "      <td>1</td>\n",
              "      <td>no</td>\n",
              "      <td>southeast</td>\n",
              "      <td>8240.58960</td>\n",
              "    </tr>\n",
              "    <tr>\n",
              "      <th>7</th>\n",
              "      <td>37</td>\n",
              "      <td>female</td>\n",
              "      <td>27.740</td>\n",
              "      <td>3</td>\n",
              "      <td>no</td>\n",
              "      <td>northwest</td>\n",
              "      <td>7281.50560</td>\n",
              "    </tr>\n",
              "    <tr>\n",
              "      <th>8</th>\n",
              "      <td>37</td>\n",
              "      <td>male</td>\n",
              "      <td>29.830</td>\n",
              "      <td>2</td>\n",
              "      <td>no</td>\n",
              "      <td>northeast</td>\n",
              "      <td>6406.41070</td>\n",
              "    </tr>\n",
              "    <tr>\n",
              "      <th>9</th>\n",
              "      <td>60</td>\n",
              "      <td>female</td>\n",
              "      <td>25.840</td>\n",
              "      <td>0</td>\n",
              "      <td>no</td>\n",
              "      <td>northwest</td>\n",
              "      <td>28923.13692</td>\n",
              "    </tr>\n",
              "  </tbody>\n",
              "</table>\n",
              "</div>"
            ],
            "text/plain": [
              "   age     sex     bmi  children smoker     region      charges\n",
              "0   19  female  27.900         0    yes  southwest  16884.92400\n",
              "1   18    male  33.770         1     no  southeast   1725.55230\n",
              "2   28    male  33.000         3     no  southeast   4449.46200\n",
              "3   33    male  22.705         0     no  northwest  21984.47061\n",
              "4   32    male  28.880         0     no  northwest   3866.85520\n",
              "5   31  female  25.740         0     no  southeast   3756.62160\n",
              "6   46  female  33.440         1     no  southeast   8240.58960\n",
              "7   37  female  27.740         3     no  northwest   7281.50560\n",
              "8   37    male  29.830         2     no  northeast   6406.41070\n",
              "9   60  female  25.840         0     no  northwest  28923.13692"
            ]
          },
          "metadata": {
            "tags": []
          },
          "execution_count": 17
        }
      ]
    },
    {
      "cell_type": "code",
      "metadata": {
        "colab": {
          "base_uri": "https://localhost:8080/",
          "height": 196
        },
        "id": "5-s1kcTq8pjH",
        "outputId": "f57365b8-e7c1-4b79-cc04-6ba3865c70dd"
      },
      "source": [
        "#Let's try one-hot encode out Dataframe so it's all numbers\n",
        "insurance_one_hot=pd.get_dummies(insurance)\n",
        "insurance_one_hot.head()"
      ],
      "execution_count": null,
      "outputs": [
        {
          "output_type": "execute_result",
          "data": {
            "text/html": [
              "<div>\n",
              "<style scoped>\n",
              "    .dataframe tbody tr th:only-of-type {\n",
              "        vertical-align: middle;\n",
              "    }\n",
              "\n",
              "    .dataframe tbody tr th {\n",
              "        vertical-align: top;\n",
              "    }\n",
              "\n",
              "    .dataframe thead th {\n",
              "        text-align: right;\n",
              "    }\n",
              "</style>\n",
              "<table border=\"1\" class=\"dataframe\">\n",
              "  <thead>\n",
              "    <tr style=\"text-align: right;\">\n",
              "      <th></th>\n",
              "      <th>age</th>\n",
              "      <th>bmi</th>\n",
              "      <th>children</th>\n",
              "      <th>charges</th>\n",
              "      <th>sex_female</th>\n",
              "      <th>sex_male</th>\n",
              "      <th>smoker_no</th>\n",
              "      <th>smoker_yes</th>\n",
              "      <th>region_northeast</th>\n",
              "      <th>region_northwest</th>\n",
              "      <th>region_southeast</th>\n",
              "      <th>region_southwest</th>\n",
              "    </tr>\n",
              "  </thead>\n",
              "  <tbody>\n",
              "    <tr>\n",
              "      <th>0</th>\n",
              "      <td>19</td>\n",
              "      <td>27.900</td>\n",
              "      <td>0</td>\n",
              "      <td>16884.92400</td>\n",
              "      <td>1</td>\n",
              "      <td>0</td>\n",
              "      <td>0</td>\n",
              "      <td>1</td>\n",
              "      <td>0</td>\n",
              "      <td>0</td>\n",
              "      <td>0</td>\n",
              "      <td>1</td>\n",
              "    </tr>\n",
              "    <tr>\n",
              "      <th>1</th>\n",
              "      <td>18</td>\n",
              "      <td>33.770</td>\n",
              "      <td>1</td>\n",
              "      <td>1725.55230</td>\n",
              "      <td>0</td>\n",
              "      <td>1</td>\n",
              "      <td>1</td>\n",
              "      <td>0</td>\n",
              "      <td>0</td>\n",
              "      <td>0</td>\n",
              "      <td>1</td>\n",
              "      <td>0</td>\n",
              "    </tr>\n",
              "    <tr>\n",
              "      <th>2</th>\n",
              "      <td>28</td>\n",
              "      <td>33.000</td>\n",
              "      <td>3</td>\n",
              "      <td>4449.46200</td>\n",
              "      <td>0</td>\n",
              "      <td>1</td>\n",
              "      <td>1</td>\n",
              "      <td>0</td>\n",
              "      <td>0</td>\n",
              "      <td>0</td>\n",
              "      <td>1</td>\n",
              "      <td>0</td>\n",
              "    </tr>\n",
              "    <tr>\n",
              "      <th>3</th>\n",
              "      <td>33</td>\n",
              "      <td>22.705</td>\n",
              "      <td>0</td>\n",
              "      <td>21984.47061</td>\n",
              "      <td>0</td>\n",
              "      <td>1</td>\n",
              "      <td>1</td>\n",
              "      <td>0</td>\n",
              "      <td>0</td>\n",
              "      <td>1</td>\n",
              "      <td>0</td>\n",
              "      <td>0</td>\n",
              "    </tr>\n",
              "    <tr>\n",
              "      <th>4</th>\n",
              "      <td>32</td>\n",
              "      <td>28.880</td>\n",
              "      <td>0</td>\n",
              "      <td>3866.85520</td>\n",
              "      <td>0</td>\n",
              "      <td>1</td>\n",
              "      <td>1</td>\n",
              "      <td>0</td>\n",
              "      <td>0</td>\n",
              "      <td>1</td>\n",
              "      <td>0</td>\n",
              "      <td>0</td>\n",
              "    </tr>\n",
              "  </tbody>\n",
              "</table>\n",
              "</div>"
            ],
            "text/plain": [
              "   age     bmi  children  ...  region_northwest  region_southeast  region_southwest\n",
              "0   19  27.900         0  ...                 0                 0                 1\n",
              "1   18  33.770         1  ...                 0                 1                 0\n",
              "2   28  33.000         3  ...                 0                 1                 0\n",
              "3   33  22.705         0  ...                 1                 0                 0\n",
              "4   32  28.880         0  ...                 1                 0                 0\n",
              "\n",
              "[5 rows x 12 columns]"
            ]
          },
          "metadata": {
            "tags": []
          },
          "execution_count": 18
        }
      ]
    },
    {
      "cell_type": "code",
      "metadata": {
        "id": "oohgE5Me-VKW"
      },
      "source": [
        "# Create X & y values (Features and labels)\n",
        "X=insurance_one_hot.drop(\"charges\",axis=1)\n",
        "y=insurance_one_hot[\"charges\"]\n",
        "\n"
      ],
      "execution_count": null,
      "outputs": []
    },
    {
      "cell_type": "code",
      "metadata": {
        "colab": {
          "base_uri": "https://localhost:8080/",
          "height": 195
        },
        "id": "BFKqdEe7-qJb",
        "outputId": "6c1751a1-5215-49a4-c206-9bf9ae1f43e0"
      },
      "source": [
        "# View X\n",
        "X.head()"
      ],
      "execution_count": null,
      "outputs": [
        {
          "output_type": "execute_result",
          "data": {
            "text/html": [
              "<div>\n",
              "<style scoped>\n",
              "    .dataframe tbody tr th:only-of-type {\n",
              "        vertical-align: middle;\n",
              "    }\n",
              "\n",
              "    .dataframe tbody tr th {\n",
              "        vertical-align: top;\n",
              "    }\n",
              "\n",
              "    .dataframe thead th {\n",
              "        text-align: right;\n",
              "    }\n",
              "</style>\n",
              "<table border=\"1\" class=\"dataframe\">\n",
              "  <thead>\n",
              "    <tr style=\"text-align: right;\">\n",
              "      <th></th>\n",
              "      <th>age</th>\n",
              "      <th>bmi</th>\n",
              "      <th>children</th>\n",
              "      <th>sex_female</th>\n",
              "      <th>sex_male</th>\n",
              "      <th>smoker_no</th>\n",
              "      <th>smoker_yes</th>\n",
              "      <th>region_northeast</th>\n",
              "      <th>region_northwest</th>\n",
              "      <th>region_southeast</th>\n",
              "      <th>region_southwest</th>\n",
              "    </tr>\n",
              "  </thead>\n",
              "  <tbody>\n",
              "    <tr>\n",
              "      <th>0</th>\n",
              "      <td>19</td>\n",
              "      <td>27.900</td>\n",
              "      <td>0</td>\n",
              "      <td>1</td>\n",
              "      <td>0</td>\n",
              "      <td>0</td>\n",
              "      <td>1</td>\n",
              "      <td>0</td>\n",
              "      <td>0</td>\n",
              "      <td>0</td>\n",
              "      <td>1</td>\n",
              "    </tr>\n",
              "    <tr>\n",
              "      <th>1</th>\n",
              "      <td>18</td>\n",
              "      <td>33.770</td>\n",
              "      <td>1</td>\n",
              "      <td>0</td>\n",
              "      <td>1</td>\n",
              "      <td>1</td>\n",
              "      <td>0</td>\n",
              "      <td>0</td>\n",
              "      <td>0</td>\n",
              "      <td>1</td>\n",
              "      <td>0</td>\n",
              "    </tr>\n",
              "    <tr>\n",
              "      <th>2</th>\n",
              "      <td>28</td>\n",
              "      <td>33.000</td>\n",
              "      <td>3</td>\n",
              "      <td>0</td>\n",
              "      <td>1</td>\n",
              "      <td>1</td>\n",
              "      <td>0</td>\n",
              "      <td>0</td>\n",
              "      <td>0</td>\n",
              "      <td>1</td>\n",
              "      <td>0</td>\n",
              "    </tr>\n",
              "    <tr>\n",
              "      <th>3</th>\n",
              "      <td>33</td>\n",
              "      <td>22.705</td>\n",
              "      <td>0</td>\n",
              "      <td>0</td>\n",
              "      <td>1</td>\n",
              "      <td>1</td>\n",
              "      <td>0</td>\n",
              "      <td>0</td>\n",
              "      <td>1</td>\n",
              "      <td>0</td>\n",
              "      <td>0</td>\n",
              "    </tr>\n",
              "    <tr>\n",
              "      <th>4</th>\n",
              "      <td>32</td>\n",
              "      <td>28.880</td>\n",
              "      <td>0</td>\n",
              "      <td>0</td>\n",
              "      <td>1</td>\n",
              "      <td>1</td>\n",
              "      <td>0</td>\n",
              "      <td>0</td>\n",
              "      <td>1</td>\n",
              "      <td>0</td>\n",
              "      <td>0</td>\n",
              "    </tr>\n",
              "  </tbody>\n",
              "</table>\n",
              "</div>"
            ],
            "text/plain": [
              "   age     bmi  children  ...  region_northwest  region_southeast  region_southwest\n",
              "0   19  27.900         0  ...                 0                 0                 1\n",
              "1   18  33.770         1  ...                 0                 1                 0\n",
              "2   28  33.000         3  ...                 0                 1                 0\n",
              "3   33  22.705         0  ...                 1                 0                 0\n",
              "4   32  28.880         0  ...                 1                 0                 0\n",
              "\n",
              "[5 rows x 11 columns]"
            ]
          },
          "metadata": {
            "tags": []
          },
          "execution_count": 6
        }
      ]
    },
    {
      "cell_type": "code",
      "metadata": {
        "colab": {
          "base_uri": "https://localhost:8080/"
        },
        "id": "XQvOgLpf-6LN",
        "outputId": "4f29717a-cf9c-47f4-ef0d-68eb7384a772"
      },
      "source": [
        "# View y\n",
        "y.head()"
      ],
      "execution_count": null,
      "outputs": [
        {
          "output_type": "execute_result",
          "data": {
            "text/plain": [
              "0    16884.92400\n",
              "1     1725.55230\n",
              "2     4449.46200\n",
              "3    21984.47061\n",
              "4     3866.85520\n",
              "Name: charges, dtype: float64"
            ]
          },
          "metadata": {
            "tags": []
          },
          "execution_count": 7
        }
      ]
    },
    {
      "cell_type": "code",
      "metadata": {
        "colab": {
          "base_uri": "https://localhost:8080/"
        },
        "id": "iZmclW79_AJF",
        "outputId": "9de78a6a-b1ff-4ef9-a3ec-9fd24d2e7618"
      },
      "source": [
        "# Create training and test sets\n",
        "from sklearn.model_selection import train_test_split\n",
        "X_train,X_test,y_train,y_test=train_test_split(X,y,test_size=0.2, random_state=42)\n",
        "len(X),len(X_train),len(X_test)"
      ],
      "execution_count": null,
      "outputs": [
        {
          "output_type": "execute_result",
          "data": {
            "text/plain": [
              "(1338, 1070, 268)"
            ]
          },
          "metadata": {
            "tags": []
          },
          "execution_count": 20
        }
      ]
    },
    {
      "cell_type": "code",
      "metadata": {
        "colab": {
          "base_uri": "https://localhost:8080/"
        },
        "id": "_eZQNdC3_h5V",
        "outputId": "28a0a58d-e637-4093-e996-136a83597d60"
      },
      "source": [
        "#Build a neural network (Sort of like model_3 above)\n",
        "\n",
        "#Create a random seed\n",
        "tf.random.set_seed(42)\n",
        "\n",
        "#1. Create a model\n",
        "insurance_model=tf.keras.Sequential([\n",
        "                tf.keras.layers.Dense(10),\n",
        "                tf.keras.layers.Dense(1)\n",
        "])\n",
        "\n",
        "#2. Compile a model\n",
        "insurance_model.compile(loss=tf.keras.losses.mae,\n",
        "                        optimizer=tf.keras.optimizers.SGD(),\n",
        "                        metrics=[\"mae\"])\n",
        "\n",
        "#3. Fit the model\n",
        "insurance_model.fit(X_train,y_train,epochs=100)\n"
      ],
      "execution_count": null,
      "outputs": [
        {
          "output_type": "stream",
          "text": [
            "Epoch 1/100\n",
            "34/34 [==============================] - 0s 978us/step - loss: 10200.7270 - mae: 10200.7270\n",
            "Epoch 2/100\n",
            "34/34 [==============================] - 0s 1ms/step - loss: 7718.1918 - mae: 7718.1918\n",
            "Epoch 3/100\n",
            "34/34 [==============================] - 0s 988us/step - loss: 6983.7825 - mae: 6983.7825\n",
            "Epoch 4/100\n",
            "34/34 [==============================] - 0s 1ms/step - loss: 8083.4823 - mae: 8083.4823\n",
            "Epoch 5/100\n",
            "34/34 [==============================] - 0s 954us/step - loss: 7793.8446 - mae: 7793.8446\n",
            "Epoch 6/100\n",
            "34/34 [==============================] - 0s 1ms/step - loss: 7618.4114 - mae: 7618.4114\n",
            "Epoch 7/100\n",
            "34/34 [==============================] - 0s 1ms/step - loss: 7678.4982 - mae: 7678.4982\n",
            "Epoch 8/100\n",
            "34/34 [==============================] - 0s 998us/step - loss: 7780.4293 - mae: 7780.4293\n",
            "Epoch 9/100\n",
            "34/34 [==============================] - 0s 923us/step - loss: 7588.8131 - mae: 7588.8131\n",
            "Epoch 10/100\n",
            "34/34 [==============================] - 0s 952us/step - loss: 7520.6834 - mae: 7520.6834\n",
            "Epoch 11/100\n",
            "34/34 [==============================] - 0s 934us/step - loss: 8309.7824 - mae: 8309.7824\n",
            "Epoch 12/100\n",
            "34/34 [==============================] - 0s 1ms/step - loss: 7748.0188 - mae: 7748.0188\n",
            "Epoch 13/100\n",
            "34/34 [==============================] - 0s 917us/step - loss: 7888.3570 - mae: 7888.3570\n",
            "Epoch 14/100\n",
            "34/34 [==============================] - 0s 911us/step - loss: 7731.1156 - mae: 7731.1156\n",
            "Epoch 15/100\n",
            "34/34 [==============================] - 0s 959us/step - loss: 7786.1046 - mae: 7786.1046\n",
            "Epoch 16/100\n",
            "34/34 [==============================] - 0s 954us/step - loss: 8343.8844 - mae: 8343.8844\n",
            "Epoch 17/100\n",
            "34/34 [==============================] - 0s 920us/step - loss: 7142.3614 - mae: 7142.3614\n",
            "Epoch 18/100\n",
            "34/34 [==============================] - 0s 1ms/step - loss: 8070.0514 - mae: 8070.0514\n",
            "Epoch 19/100\n",
            "34/34 [==============================] - 0s 1ms/step - loss: 7604.8299 - mae: 7604.8299\n",
            "Epoch 20/100\n",
            "34/34 [==============================] - 0s 1ms/step - loss: 7945.1275 - mae: 7945.1275\n",
            "Epoch 21/100\n",
            "34/34 [==============================] - 0s 1ms/step - loss: 6864.6826 - mae: 6864.6826\n",
            "Epoch 22/100\n",
            "34/34 [==============================] - 0s 922us/step - loss: 7505.7917 - mae: 7505.7917\n",
            "Epoch 23/100\n",
            "34/34 [==============================] - 0s 1ms/step - loss: 7621.7373 - mae: 7621.7373\n",
            "Epoch 24/100\n",
            "34/34 [==============================] - 0s 900us/step - loss: 7262.7541 - mae: 7262.7541\n",
            "Epoch 25/100\n",
            "34/34 [==============================] - 0s 995us/step - loss: 8156.1950 - mae: 8156.1950\n",
            "Epoch 26/100\n",
            "34/34 [==============================] - 0s 931us/step - loss: 7246.2713 - mae: 7246.2713\n",
            "Epoch 27/100\n",
            "34/34 [==============================] - 0s 980us/step - loss: 7562.7819 - mae: 7562.7819\n",
            "Epoch 28/100\n",
            "34/34 [==============================] - 0s 946us/step - loss: 7842.6208 - mae: 7842.6208\n",
            "Epoch 29/100\n",
            "34/34 [==============================] - 0s 1ms/step - loss: 7153.8771 - mae: 7153.8771\n",
            "Epoch 30/100\n",
            "34/34 [==============================] - 0s 1ms/step - loss: 7723.4958 - mae: 7723.4958\n",
            "Epoch 31/100\n",
            "34/34 [==============================] - 0s 1ms/step - loss: 8310.0626 - mae: 8310.0626\n",
            "Epoch 32/100\n",
            "34/34 [==============================] - 0s 1ms/step - loss: 7734.9659 - mae: 7734.9659\n",
            "Epoch 33/100\n",
            "34/34 [==============================] - 0s 1ms/step - loss: 7403.4657 - mae: 7403.4657\n",
            "Epoch 34/100\n",
            "34/34 [==============================] - 0s 935us/step - loss: 7482.6286 - mae: 7482.6286\n",
            "Epoch 35/100\n",
            "34/34 [==============================] - 0s 932us/step - loss: 7198.8918 - mae: 7198.8918\n",
            "Epoch 36/100\n",
            "34/34 [==============================] - 0s 920us/step - loss: 7484.1018 - mae: 7484.1018\n",
            "Epoch 37/100\n",
            "34/34 [==============================] - 0s 940us/step - loss: 7701.6282 - mae: 7701.6282\n",
            "Epoch 38/100\n",
            "34/34 [==============================] - 0s 890us/step - loss: 6923.6147 - mae: 6923.6147\n",
            "Epoch 39/100\n",
            "34/34 [==============================] - 0s 952us/step - loss: 7673.7908 - mae: 7673.7908\n",
            "Epoch 40/100\n",
            "34/34 [==============================] - 0s 991us/step - loss: 7670.9196 - mae: 7670.9196\n",
            "Epoch 41/100\n",
            "34/34 [==============================] - 0s 946us/step - loss: 7774.5879 - mae: 7774.5879\n",
            "Epoch 42/100\n",
            "34/34 [==============================] - 0s 955us/step - loss: 7413.0881 - mae: 7413.0881\n",
            "Epoch 43/100\n",
            "34/34 [==============================] - 0s 903us/step - loss: 7793.8666 - mae: 7793.8666\n",
            "Epoch 44/100\n",
            "34/34 [==============================] - 0s 1ms/step - loss: 7239.3580 - mae: 7239.3580\n",
            "Epoch 45/100\n",
            "34/34 [==============================] - 0s 911us/step - loss: 7402.6568 - mae: 7402.6568\n",
            "Epoch 46/100\n",
            "34/34 [==============================] - 0s 917us/step - loss: 7167.7288 - mae: 7167.7288\n",
            "Epoch 47/100\n",
            "34/34 [==============================] - 0s 902us/step - loss: 7716.9021 - mae: 7716.9021\n",
            "Epoch 48/100\n",
            "34/34 [==============================] - 0s 931us/step - loss: 7509.9137 - mae: 7509.9137\n",
            "Epoch 49/100\n",
            "34/34 [==============================] - 0s 965us/step - loss: 7216.6765 - mae: 7216.6765\n",
            "Epoch 50/100\n",
            "34/34 [==============================] - 0s 906us/step - loss: 7354.2574 - mae: 7354.2574\n",
            "Epoch 51/100\n",
            "34/34 [==============================] - 0s 1ms/step - loss: 7587.3343 - mae: 7587.3343\n",
            "Epoch 52/100\n",
            "34/34 [==============================] - 0s 1ms/step - loss: 7697.7624 - mae: 7697.7624\n",
            "Epoch 53/100\n",
            "34/34 [==============================] - 0s 986us/step - loss: 7084.7633 - mae: 7084.7633\n",
            "Epoch 54/100\n",
            "34/34 [==============================] - 0s 1ms/step - loss: 7366.1161 - mae: 7366.1161\n",
            "Epoch 55/100\n",
            "34/34 [==============================] - 0s 942us/step - loss: 7354.5008 - mae: 7354.5008\n",
            "Epoch 56/100\n",
            "34/34 [==============================] - 0s 936us/step - loss: 7201.4707 - mae: 7201.4707\n",
            "Epoch 57/100\n",
            "34/34 [==============================] - 0s 963us/step - loss: 7612.1702 - mae: 7612.1702\n",
            "Epoch 58/100\n",
            "34/34 [==============================] - 0s 971us/step - loss: 7684.3348 - mae: 7684.3348\n",
            "Epoch 59/100\n",
            "34/34 [==============================] - 0s 1ms/step - loss: 7315.3648 - mae: 7315.3648\n",
            "Epoch 60/100\n",
            "34/34 [==============================] - 0s 1ms/step - loss: 7381.6660 - mae: 7381.6660\n",
            "Epoch 61/100\n",
            "34/34 [==============================] - 0s 978us/step - loss: 7842.5246 - mae: 7842.5246\n",
            "Epoch 62/100\n",
            "34/34 [==============================] - 0s 996us/step - loss: 7346.2639 - mae: 7346.2639\n",
            "Epoch 63/100\n",
            "34/34 [==============================] - 0s 949us/step - loss: 7634.5373 - mae: 7634.5373\n",
            "Epoch 64/100\n",
            "34/34 [==============================] - 0s 892us/step - loss: 6976.2137 - mae: 6976.2137\n",
            "Epoch 65/100\n",
            "34/34 [==============================] - 0s 1ms/step - loss: 7608.7969 - mae: 7608.7969\n",
            "Epoch 66/100\n",
            "34/34 [==============================] - 0s 1ms/step - loss: 7275.7901 - mae: 7275.7901\n",
            "Epoch 67/100\n",
            "34/34 [==============================] - 0s 946us/step - loss: 7244.1644 - mae: 7244.1644\n",
            "Epoch 68/100\n",
            "34/34 [==============================] - 0s 962us/step - loss: 7553.0944 - mae: 7553.0944\n",
            "Epoch 69/100\n",
            "34/34 [==============================] - 0s 1ms/step - loss: 8028.1965 - mae: 8028.1965\n",
            "Epoch 70/100\n",
            "34/34 [==============================] - 0s 987us/step - loss: 7150.7140 - mae: 7150.7140\n",
            "Epoch 71/100\n",
            "34/34 [==============================] - 0s 895us/step - loss: 7137.5194 - mae: 7137.5194\n",
            "Epoch 72/100\n",
            "34/34 [==============================] - 0s 1ms/step - loss: 6708.9289 - mae: 6708.9289\n",
            "Epoch 73/100\n",
            "34/34 [==============================] - 0s 1ms/step - loss: 7554.2732 - mae: 7554.2732\n",
            "Epoch 74/100\n",
            "34/34 [==============================] - 0s 1ms/step - loss: 7060.4082 - mae: 7060.4082\n",
            "Epoch 75/100\n",
            "34/34 [==============================] - 0s 1ms/step - loss: 7564.8154 - mae: 7564.8154\n",
            "Epoch 76/100\n",
            "34/34 [==============================] - 0s 1ms/step - loss: 7016.7824 - mae: 7016.7824\n",
            "Epoch 77/100\n",
            "34/34 [==============================] - 0s 1ms/step - loss: 7936.9771 - mae: 7936.9771\n",
            "Epoch 78/100\n",
            "34/34 [==============================] - 0s 1ms/step - loss: 6828.1385 - mae: 6828.1385\n",
            "Epoch 79/100\n",
            "34/34 [==============================] - 0s 956us/step - loss: 6875.0803 - mae: 6875.0803\n",
            "Epoch 80/100\n",
            "34/34 [==============================] - 0s 950us/step - loss: 6770.6309 - mae: 6770.6309\n",
            "Epoch 81/100\n",
            "34/34 [==============================] - 0s 1ms/step - loss: 7216.2089 - mae: 7216.2089\n",
            "Epoch 82/100\n",
            "34/34 [==============================] - 0s 983us/step - loss: 7774.2737 - mae: 7774.2737\n",
            "Epoch 83/100\n",
            "34/34 [==============================] - 0s 1ms/step - loss: 7156.2561 - mae: 7156.2561\n",
            "Epoch 84/100\n",
            "34/34 [==============================] - 0s 985us/step - loss: 7436.0038 - mae: 7436.0038\n",
            "Epoch 85/100\n",
            "34/34 [==============================] - 0s 994us/step - loss: 6855.7935 - mae: 6855.7935\n",
            "Epoch 86/100\n",
            "34/34 [==============================] - 0s 1ms/step - loss: 7768.8272 - mae: 7768.8272\n",
            "Epoch 87/100\n",
            "34/34 [==============================] - 0s 1ms/step - loss: 7014.5803 - mae: 7014.5803\n",
            "Epoch 88/100\n",
            "34/34 [==============================] - 0s 1ms/step - loss: 7525.7779 - mae: 7525.7779\n",
            "Epoch 89/100\n",
            "34/34 [==============================] - 0s 1ms/step - loss: 6994.6074 - mae: 6994.6074\n",
            "Epoch 90/100\n",
            "34/34 [==============================] - 0s 921us/step - loss: 7677.9609 - mae: 7677.9609\n",
            "Epoch 91/100\n",
            "34/34 [==============================] - 0s 1ms/step - loss: 7210.0508 - mae: 7210.0508\n",
            "Epoch 92/100\n",
            "34/34 [==============================] - 0s 1ms/step - loss: 7335.2229 - mae: 7335.2229\n",
            "Epoch 93/100\n",
            "34/34 [==============================] - 0s 1ms/step - loss: 7235.0912 - mae: 7235.0912\n",
            "Epoch 94/100\n",
            "34/34 [==============================] - 0s 1ms/step - loss: 6728.8875 - mae: 6728.8875\n",
            "Epoch 95/100\n",
            "34/34 [==============================] - 0s 1ms/step - loss: 7811.5180 - mae: 7811.5180\n",
            "Epoch 96/100\n",
            "34/34 [==============================] - 0s 1ms/step - loss: 7430.2757 - mae: 7430.2757\n",
            "Epoch 97/100\n",
            "34/34 [==============================] - 0s 1ms/step - loss: 6876.5980 - mae: 6876.5980\n",
            "Epoch 98/100\n",
            "34/34 [==============================] - 0s 1ms/step - loss: 7070.8702 - mae: 7070.8702\n",
            "Epoch 99/100\n",
            "34/34 [==============================] - 0s 928us/step - loss: 7118.6878 - mae: 7118.6878\n",
            "Epoch 100/100\n",
            "34/34 [==============================] - 0s 971us/step - loss: 6880.6746 - mae: 6880.6746\n"
          ],
          "name": "stdout"
        },
        {
          "output_type": "execute_result",
          "data": {
            "text/plain": [
              "<tensorflow.python.keras.callbacks.History at 0x7f3b01184f10>"
            ]
          },
          "metadata": {
            "tags": []
          },
          "execution_count": 9
        }
      ]
    },
    {
      "cell_type": "code",
      "metadata": {
        "colab": {
          "base_uri": "https://localhost:8080/"
        },
        "id": "MSrL0XdRBXj6",
        "outputId": "c987f5e3-4da7-4c1a-d39c-fe11e3a38b0e"
      },
      "source": [
        "# Check the results of the insurance model on the test data\n",
        "insurance_model.evaluate(X_test,y_test)"
      ],
      "execution_count": null,
      "outputs": [
        {
          "output_type": "stream",
          "text": [
            "9/9 [==============================] - 0s 1ms/step - loss: 7023.3296 - mae: 7023.3296\n"
          ],
          "name": "stdout"
        },
        {
          "output_type": "execute_result",
          "data": {
            "text/plain": [
              "[7023.32958984375, 7023.32958984375]"
            ]
          },
          "metadata": {
            "tags": []
          },
          "execution_count": 10
        }
      ]
    },
    {
      "cell_type": "code",
      "metadata": {
        "colab": {
          "base_uri": "https://localhost:8080/"
        },
        "id": "SpzfZrPDCIKr",
        "outputId": "9b02da3a-6eb0-48f3-a675-2be4bd415690"
      },
      "source": [
        " y_train.median(),y_train.mean()"
      ],
      "execution_count": null,
      "outputs": [
        {
          "output_type": "execute_result",
          "data": {
            "text/plain": [
              "(9575.4421, 13346.089736364489)"
            ]
          },
          "metadata": {
            "tags": []
          },
          "execution_count": 11
        }
      ]
    },
    {
      "cell_type": "markdown",
      "metadata": {
        "id": "GNCBx081Cdes"
      },
      "source": [
        "Right now it looks like our model is not performing too well, let's try and improve it.\n",
        "\n",
        "To(try) improve our model, we will run 2 experiments:\n",
        "1. Add an extra layer with more hidden units.\n",
        "2. Train for longer\n",
        "3. (insert your own experiment here)"
      ]
    },
    {
      "cell_type": "code",
      "metadata": {
        "colab": {
          "base_uri": "https://localhost:8080/"
        },
        "id": "CYZ-Reu2C3sj",
        "outputId": "b28ef11a-7ae8-453d-9133-6b376c1ee664"
      },
      "source": [
        "# Set random seed\n",
        "tf.random.set_seed(42)\n",
        "\n",
        "#1. Create a model\n",
        "insurance_model_2=tf.keras.Sequential([\n",
        "                  tf.keras.layers.Dense(100),\n",
        "                  tf.keras.layers.Dense(10),\n",
        "                  tf.keras.layers.Dense(1)\n",
        "])\n",
        "\n",
        "#2. Compile a model\n",
        "insurance_model_2.compile(loss=tf.keras.losses.mae,\n",
        "                          optimizer=tf.keras.optimizers.SGD(),\n",
        "                          metrics=[\"mae\"])\n",
        "\n",
        "#3. Fit a model\n",
        "insurance_model_2.fit(X_train,y_train,epochs=100,verbose=1)"
      ],
      "execution_count": null,
      "outputs": [
        {
          "output_type": "stream",
          "text": [
            "Epoch 1/100\n",
            "34/34 [==============================] - 0s 1ms/step - loss: nan - mae: nan          \n",
            "Epoch 2/100\n",
            "34/34 [==============================] - 0s 1ms/step - loss: nan - mae: nan\n",
            "Epoch 3/100\n",
            "34/34 [==============================] - 0s 1ms/step - loss: nan - mae: nan\n",
            "Epoch 4/100\n",
            "34/34 [==============================] - 0s 1ms/step - loss: nan - mae: nan\n",
            "Epoch 5/100\n",
            "34/34 [==============================] - 0s 1ms/step - loss: nan - mae: nan\n",
            "Epoch 6/100\n",
            "34/34 [==============================] - 0s 933us/step - loss: nan - mae: nan\n",
            "Epoch 7/100\n",
            "34/34 [==============================] - 0s 996us/step - loss: nan - mae: nan\n",
            "Epoch 8/100\n",
            "34/34 [==============================] - 0s 980us/step - loss: nan - mae: nan\n",
            "Epoch 9/100\n",
            "34/34 [==============================] - 0s 1ms/step - loss: nan - mae: nan\n",
            "Epoch 10/100\n",
            "34/34 [==============================] - 0s 942us/step - loss: nan - mae: nan\n",
            "Epoch 11/100\n",
            "34/34 [==============================] - 0s 1ms/step - loss: nan - mae: nan\n",
            "Epoch 12/100\n",
            "34/34 [==============================] - 0s 977us/step - loss: nan - mae: nan\n",
            "Epoch 13/100\n",
            "34/34 [==============================] - 0s 991us/step - loss: nan - mae: nan\n",
            "Epoch 14/100\n",
            "34/34 [==============================] - 0s 1ms/step - loss: nan - mae: nan\n",
            "Epoch 15/100\n",
            "34/34 [==============================] - 0s 1ms/step - loss: nan - mae: nan\n",
            "Epoch 16/100\n",
            "34/34 [==============================] - 0s 1ms/step - loss: nan - mae: nan\n",
            "Epoch 17/100\n",
            "34/34 [==============================] - 0s 1ms/step - loss: nan - mae: nan\n",
            "Epoch 18/100\n",
            "34/34 [==============================] - 0s 1ms/step - loss: nan - mae: nan\n",
            "Epoch 19/100\n",
            "34/34 [==============================] - 0s 1ms/step - loss: nan - mae: nan\n",
            "Epoch 20/100\n",
            "34/34 [==============================] - 0s 1ms/step - loss: nan - mae: nan\n",
            "Epoch 21/100\n",
            "34/34 [==============================] - 0s 1ms/step - loss: nan - mae: nan\n",
            "Epoch 22/100\n",
            "34/34 [==============================] - 0s 983us/step - loss: nan - mae: nan\n",
            "Epoch 23/100\n",
            "34/34 [==============================] - 0s 2ms/step - loss: nan - mae: nan\n",
            "Epoch 24/100\n",
            "34/34 [==============================] - 0s 1ms/step - loss: nan - mae: nan\n",
            "Epoch 25/100\n",
            "34/34 [==============================] - 0s 1ms/step - loss: nan - mae: nan\n",
            "Epoch 26/100\n",
            "34/34 [==============================] - 0s 1ms/step - loss: nan - mae: nan\n",
            "Epoch 27/100\n",
            "34/34 [==============================] - 0s 1ms/step - loss: nan - mae: nan\n",
            "Epoch 28/100\n",
            "34/34 [==============================] - 0s 1ms/step - loss: nan - mae: nan\n",
            "Epoch 29/100\n",
            "34/34 [==============================] - 0s 1ms/step - loss: nan - mae: nan\n",
            "Epoch 30/100\n",
            "34/34 [==============================] - 0s 1ms/step - loss: nan - mae: nan\n",
            "Epoch 31/100\n",
            "34/34 [==============================] - 0s 1ms/step - loss: nan - mae: nan\n",
            "Epoch 32/100\n",
            "34/34 [==============================] - 0s 994us/step - loss: nan - mae: nan\n",
            "Epoch 33/100\n",
            "34/34 [==============================] - 0s 988us/step - loss: nan - mae: nan\n",
            "Epoch 34/100\n",
            "34/34 [==============================] - 0s 1ms/step - loss: nan - mae: nan\n",
            "Epoch 35/100\n",
            "34/34 [==============================] - 0s 1ms/step - loss: nan - mae: nan\n",
            "Epoch 36/100\n",
            "34/34 [==============================] - 0s 1ms/step - loss: nan - mae: nan\n",
            "Epoch 37/100\n",
            "34/34 [==============================] - 0s 1ms/step - loss: nan - mae: nan\n",
            "Epoch 38/100\n",
            "34/34 [==============================] - 0s 1ms/step - loss: nan - mae: nan\n",
            "Epoch 39/100\n",
            "34/34 [==============================] - 0s 1ms/step - loss: nan - mae: nan\n",
            "Epoch 40/100\n",
            "34/34 [==============================] - 0s 997us/step - loss: nan - mae: nan\n",
            "Epoch 41/100\n",
            "34/34 [==============================] - 0s 1ms/step - loss: nan - mae: nan\n",
            "Epoch 42/100\n",
            "34/34 [==============================] - 0s 1ms/step - loss: nan - mae: nan\n",
            "Epoch 43/100\n",
            "34/34 [==============================] - 0s 1ms/step - loss: nan - mae: nan\n",
            "Epoch 44/100\n",
            "34/34 [==============================] - 0s 1ms/step - loss: nan - mae: nan\n",
            "Epoch 45/100\n",
            "34/34 [==============================] - 0s 992us/step - loss: nan - mae: nan\n",
            "Epoch 46/100\n",
            "34/34 [==============================] - 0s 1ms/step - loss: nan - mae: nan\n",
            "Epoch 47/100\n",
            "34/34 [==============================] - 0s 1ms/step - loss: nan - mae: nan\n",
            "Epoch 48/100\n",
            "34/34 [==============================] - 0s 1ms/step - loss: nan - mae: nan\n",
            "Epoch 49/100\n",
            "34/34 [==============================] - 0s 1ms/step - loss: nan - mae: nan\n",
            "Epoch 50/100\n",
            "34/34 [==============================] - 0s 1ms/step - loss: nan - mae: nan\n",
            "Epoch 51/100\n",
            "34/34 [==============================] - 0s 1ms/step - loss: nan - mae: nan\n",
            "Epoch 52/100\n",
            "34/34 [==============================] - 0s 1ms/step - loss: nan - mae: nan\n",
            "Epoch 53/100\n",
            "34/34 [==============================] - 0s 1000us/step - loss: nan - mae: nan\n",
            "Epoch 54/100\n",
            "34/34 [==============================] - 0s 988us/step - loss: nan - mae: nan\n",
            "Epoch 55/100\n",
            "34/34 [==============================] - 0s 1ms/step - loss: nan - mae: nan\n",
            "Epoch 56/100\n",
            "34/34 [==============================] - 0s 1ms/step - loss: nan - mae: nan\n",
            "Epoch 57/100\n",
            "34/34 [==============================] - 0s 976us/step - loss: nan - mae: nan\n",
            "Epoch 58/100\n",
            "34/34 [==============================] - 0s 1ms/step - loss: nan - mae: nan\n",
            "Epoch 59/100\n",
            "34/34 [==============================] - 0s 1ms/step - loss: nan - mae: nan\n",
            "Epoch 60/100\n",
            "34/34 [==============================] - 0s 932us/step - loss: nan - mae: nan\n",
            "Epoch 61/100\n",
            "34/34 [==============================] - 0s 1ms/step - loss: nan - mae: nan\n",
            "Epoch 62/100\n",
            "34/34 [==============================] - 0s 991us/step - loss: nan - mae: nan\n",
            "Epoch 63/100\n",
            "34/34 [==============================] - 0s 1ms/step - loss: nan - mae: nan\n",
            "Epoch 64/100\n",
            "34/34 [==============================] - 0s 960us/step - loss: nan - mae: nan\n",
            "Epoch 65/100\n",
            "34/34 [==============================] - 0s 1ms/step - loss: nan - mae: nan\n",
            "Epoch 66/100\n",
            "34/34 [==============================] - 0s 1ms/step - loss: nan - mae: nan\n",
            "Epoch 67/100\n",
            "34/34 [==============================] - 0s 1ms/step - loss: nan - mae: nan\n",
            "Epoch 68/100\n",
            "34/34 [==============================] - 0s 1ms/step - loss: nan - mae: nan\n",
            "Epoch 69/100\n",
            "34/34 [==============================] - 0s 1ms/step - loss: nan - mae: nan\n",
            "Epoch 70/100\n",
            "34/34 [==============================] - 0s 1ms/step - loss: nan - mae: nan\n",
            "Epoch 71/100\n",
            "34/34 [==============================] - 0s 1ms/step - loss: nan - mae: nan\n",
            "Epoch 72/100\n",
            "34/34 [==============================] - 0s 1ms/step - loss: nan - mae: nan\n",
            "Epoch 73/100\n",
            "34/34 [==============================] - 0s 1ms/step - loss: nan - mae: nan\n",
            "Epoch 74/100\n",
            "34/34 [==============================] - 0s 1ms/step - loss: nan - mae: nan\n",
            "Epoch 75/100\n",
            "34/34 [==============================] - 0s 978us/step - loss: nan - mae: nan\n",
            "Epoch 76/100\n",
            "34/34 [==============================] - 0s 1ms/step - loss: nan - mae: nan\n",
            "Epoch 77/100\n",
            "34/34 [==============================] - 0s 1ms/step - loss: nan - mae: nan\n",
            "Epoch 78/100\n",
            "34/34 [==============================] - 0s 1ms/step - loss: nan - mae: nan\n",
            "Epoch 79/100\n",
            "34/34 [==============================] - 0s 1ms/step - loss: nan - mae: nan\n",
            "Epoch 80/100\n",
            "34/34 [==============================] - 0s 1ms/step - loss: nan - mae: nan\n",
            "Epoch 81/100\n",
            "34/34 [==============================] - 0s 1ms/step - loss: nan - mae: nan\n",
            "Epoch 82/100\n",
            "34/34 [==============================] - 0s 983us/step - loss: nan - mae: nan\n",
            "Epoch 83/100\n",
            "34/34 [==============================] - 0s 986us/step - loss: nan - mae: nan\n",
            "Epoch 84/100\n",
            "34/34 [==============================] - 0s 1ms/step - loss: nan - mae: nan\n",
            "Epoch 85/100\n",
            "34/34 [==============================] - 0s 1ms/step - loss: nan - mae: nan\n",
            "Epoch 86/100\n",
            "34/34 [==============================] - 0s 1ms/step - loss: nan - mae: nan\n",
            "Epoch 87/100\n",
            "34/34 [==============================] - 0s 1ms/step - loss: nan - mae: nan\n",
            "Epoch 88/100\n",
            "34/34 [==============================] - 0s 991us/step - loss: nan - mae: nan\n",
            "Epoch 89/100\n",
            "34/34 [==============================] - 0s 1ms/step - loss: nan - mae: nan\n",
            "Epoch 90/100\n",
            "34/34 [==============================] - 0s 1ms/step - loss: nan - mae: nan\n",
            "Epoch 91/100\n",
            "34/34 [==============================] - 0s 972us/step - loss: nan - mae: nan\n",
            "Epoch 92/100\n",
            "34/34 [==============================] - 0s 1ms/step - loss: nan - mae: nan\n",
            "Epoch 93/100\n",
            "34/34 [==============================] - 0s 1ms/step - loss: nan - mae: nan\n",
            "Epoch 94/100\n",
            "34/34 [==============================] - 0s 1ms/step - loss: nan - mae: nan\n",
            "Epoch 95/100\n",
            "34/34 [==============================] - 0s 1ms/step - loss: nan - mae: nan\n",
            "Epoch 96/100\n",
            "34/34 [==============================] - 0s 1ms/step - loss: nan - mae: nan\n",
            "Epoch 97/100\n",
            "34/34 [==============================] - 0s 1ms/step - loss: nan - mae: nan\n",
            "Epoch 98/100\n",
            "34/34 [==============================] - 0s 1ms/step - loss: nan - mae: nan\n",
            "Epoch 99/100\n",
            "34/34 [==============================] - 0s 1ms/step - loss: nan - mae: nan\n",
            "Epoch 100/100\n",
            "34/34 [==============================] - 0s 1ms/step - loss: nan - mae: nan\n"
          ],
          "name": "stdout"
        },
        {
          "output_type": "execute_result",
          "data": {
            "text/plain": [
              "<tensorflow.python.keras.callbacks.History at 0x7f3afea6e510>"
            ]
          },
          "metadata": {
            "tags": []
          },
          "execution_count": 12
        }
      ]
    },
    {
      "cell_type": "code",
      "metadata": {
        "colab": {
          "base_uri": "https://localhost:8080/"
        },
        "id": "39_zWJ-0EC9C",
        "outputId": "645ee281-56a6-4c5b-86c4-7c7fb4a57ace"
      },
      "source": [
        "#Evaluate the larger model\n",
        "insurance_model_2.evaluate(X_test,y_test)"
      ],
      "execution_count": null,
      "outputs": [
        {
          "output_type": "stream",
          "text": [
            "9/9 [==============================] - 0s 1ms/step - loss: nan - mae: nan\n"
          ],
          "name": "stdout"
        },
        {
          "output_type": "execute_result",
          "data": {
            "text/plain": [
              "[nan, nan]"
            ]
          },
          "metadata": {
            "tags": []
          },
          "execution_count": 13
        }
      ]
    },
    {
      "cell_type": "code",
      "metadata": {
        "colab": {
          "base_uri": "https://localhost:8080/"
        },
        "id": "zyZ1K9OXEX1U",
        "outputId": "62bd7d25-d4aa-4077-b039-4c8e29c24ba9"
      },
      "source": [
        "#the error that occured is due to model problem so, we can update our model testing the different number of hyperparameter..\n",
        " # Set random seed\n",
        "tf.random.set_seed(42)\n",
        "\n",
        "#1. Create a model\n",
        "insurance_model_2=tf.keras.Sequential([\n",
        "                  tf.keras.layers.Dense(100),\n",
        "                  tf.keras.layers.Dense(10),\n",
        "                  tf.keras.layers.Dense(1)\n",
        "])\n",
        "\n",
        "#2. Compile a model\n",
        "insurance_model_2.compile(loss=tf.keras.losses.mae,\n",
        "                          optimizer=tf.keras.optimizers.Adam(),\n",
        "                          metrics=[\"mae\"])\n",
        "\n",
        "#3. Fit a model\n",
        "insurance_model_2.fit(X_train,y_train,epochs=100,verbose=1)"
      ],
      "execution_count": null,
      "outputs": [
        {
          "output_type": "stream",
          "text": [
            "Epoch 1/100\n",
            "34/34 [==============================] - 0s 1ms/step - loss: 13251.7400 - mae: 13251.7400\n",
            "Epoch 2/100\n",
            "34/34 [==============================] - 0s 1ms/step - loss: 12768.7726 - mae: 12768.7726\n",
            "Epoch 3/100\n",
            "34/34 [==============================] - 0s 1ms/step - loss: 12248.2855 - mae: 12248.2855\n",
            "Epoch 4/100\n",
            "34/34 [==============================] - 0s 2ms/step - loss: 12353.0241 - mae: 12353.0241\n",
            "Epoch 5/100\n",
            "34/34 [==============================] - 0s 1ms/step - loss: 11243.3972 - mae: 11243.3972\n",
            "Epoch 6/100\n",
            "34/34 [==============================] - 0s 1ms/step - loss: 9718.5257 - mae: 9718.5257\n",
            "Epoch 7/100\n",
            "34/34 [==============================] - 0s 1ms/step - loss: 8354.8474 - mae: 8354.8474\n",
            "Epoch 8/100\n",
            "34/34 [==============================] - 0s 2ms/step - loss: 7732.2963 - mae: 7732.2963\n",
            "Epoch 9/100\n",
            "34/34 [==============================] - 0s 1ms/step - loss: 7537.6737 - mae: 7537.6737\n",
            "Epoch 10/100\n",
            "34/34 [==============================] - 0s 1ms/step - loss: 7652.7184 - mae: 7652.7184\n",
            "Epoch 11/100\n",
            "34/34 [==============================] - 0s 1ms/step - loss: 7802.4481 - mae: 7802.4481\n",
            "Epoch 12/100\n",
            "34/34 [==============================] - 0s 1ms/step - loss: 7370.3458 - mae: 7370.3458\n",
            "Epoch 13/100\n",
            "34/34 [==============================] - 0s 2ms/step - loss: 7651.9583 - mae: 7651.9583\n",
            "Epoch 14/100\n",
            "34/34 [==============================] - 0s 1ms/step - loss: 7404.5587 - mae: 7404.5587\n",
            "Epoch 15/100\n",
            "34/34 [==============================] - 0s 1ms/step - loss: 7639.0614 - mae: 7639.0614\n",
            "Epoch 16/100\n",
            "34/34 [==============================] - 0s 1ms/step - loss: 7569.4714 - mae: 7569.4714\n",
            "Epoch 17/100\n",
            "34/34 [==============================] - 0s 1ms/step - loss: 6946.3939 - mae: 6946.3939\n",
            "Epoch 18/100\n",
            "34/34 [==============================] - 0s 1ms/step - loss: 7137.7239 - mae: 7137.7239\n",
            "Epoch 19/100\n",
            "34/34 [==============================] - 0s 1ms/step - loss: 7165.3120 - mae: 7165.3120\n",
            "Epoch 20/100\n",
            "34/34 [==============================] - 0s 1ms/step - loss: 7063.6223 - mae: 7063.6223\n",
            "Epoch 21/100\n",
            "34/34 [==============================] - 0s 1ms/step - loss: 6472.3188 - mae: 6472.3188\n",
            "Epoch 22/100\n",
            "34/34 [==============================] - 0s 1ms/step - loss: 6674.0546 - mae: 6674.0546\n",
            "Epoch 23/100\n",
            "34/34 [==============================] - 0s 1ms/step - loss: 7112.2982 - mae: 7112.2982\n",
            "Epoch 24/100\n",
            "34/34 [==============================] - 0s 2ms/step - loss: 6838.1523 - mae: 6838.1523\n",
            "Epoch 25/100\n",
            "34/34 [==============================] - 0s 1ms/step - loss: 7496.9559 - mae: 7496.9559\n",
            "Epoch 26/100\n",
            "34/34 [==============================] - 0s 1ms/step - loss: 6718.1681 - mae: 6718.1681\n",
            "Epoch 27/100\n",
            "34/34 [==============================] - 0s 1ms/step - loss: 7107.2972 - mae: 7107.2972\n",
            "Epoch 28/100\n",
            "34/34 [==============================] - 0s 1ms/step - loss: 7357.2015 - mae: 7357.2015\n",
            "Epoch 29/100\n",
            "34/34 [==============================] - 0s 1ms/step - loss: 6668.5721 - mae: 6668.5721\n",
            "Epoch 30/100\n",
            "34/34 [==============================] - 0s 1ms/step - loss: 7119.4991 - mae: 7119.4991\n",
            "Epoch 31/100\n",
            "34/34 [==============================] - 0s 1ms/step - loss: 7360.1232 - mae: 7360.1232\n",
            "Epoch 32/100\n",
            "34/34 [==============================] - 0s 1ms/step - loss: 6817.2565 - mae: 6817.2565\n",
            "Epoch 33/100\n",
            "34/34 [==============================] - 0s 1ms/step - loss: 6991.0289 - mae: 6991.0289\n",
            "Epoch 34/100\n",
            "34/34 [==============================] - 0s 1ms/step - loss: 6829.4910 - mae: 6829.4910\n",
            "Epoch 35/100\n",
            "34/34 [==============================] - 0s 1ms/step - loss: 6895.2913 - mae: 6895.2913\n",
            "Epoch 36/100\n",
            "34/34 [==============================] - 0s 1ms/step - loss: 6762.5128 - mae: 6762.5128\n",
            "Epoch 37/100\n",
            "34/34 [==============================] - 0s 1ms/step - loss: 6910.4815 - mae: 6910.4815\n",
            "Epoch 38/100\n",
            "34/34 [==============================] - 0s 1ms/step - loss: 6405.0325 - mae: 6405.0325\n",
            "Epoch 39/100\n",
            "34/34 [==============================] - 0s 1ms/step - loss: 6799.7919 - mae: 6799.7919\n",
            "Epoch 40/100\n",
            "34/34 [==============================] - 0s 1ms/step - loss: 6696.0554 - mae: 6696.0554\n",
            "Epoch 41/100\n",
            "34/34 [==============================] - 0s 1ms/step - loss: 6632.0476 - mae: 6632.0476\n",
            "Epoch 42/100\n",
            "34/34 [==============================] - 0s 1ms/step - loss: 6501.1589 - mae: 6501.1589\n",
            "Epoch 43/100\n",
            "34/34 [==============================] - 0s 1ms/step - loss: 6518.8876 - mae: 6518.8876\n",
            "Epoch 44/100\n",
            "34/34 [==============================] - 0s 1ms/step - loss: 6287.3747 - mae: 6287.3747\n",
            "Epoch 45/100\n",
            "34/34 [==============================] - 0s 1ms/step - loss: 6331.2562 - mae: 6331.2562\n",
            "Epoch 46/100\n",
            "34/34 [==============================] - 0s 1ms/step - loss: 6080.3168 - mae: 6080.3168\n",
            "Epoch 47/100\n",
            "34/34 [==============================] - 0s 1ms/step - loss: 6665.8195 - mae: 6665.8195\n",
            "Epoch 48/100\n",
            "34/34 [==============================] - 0s 1ms/step - loss: 6424.2358 - mae: 6424.2358\n",
            "Epoch 49/100\n",
            "34/34 [==============================] - 0s 1ms/step - loss: 6154.8287 - mae: 6154.8287\n",
            "Epoch 50/100\n",
            "34/34 [==============================] - 0s 1ms/step - loss: 6426.9841 - mae: 6426.9841\n",
            "Epoch 51/100\n",
            "34/34 [==============================] - 0s 1ms/step - loss: 6338.3257 - mae: 6338.3257\n",
            "Epoch 52/100\n",
            "34/34 [==============================] - 0s 1ms/step - loss: 6335.6011 - mae: 6335.6011\n",
            "Epoch 53/100\n",
            "34/34 [==============================] - 0s 1ms/step - loss: 5995.7961 - mae: 5995.7961\n",
            "Epoch 54/100\n",
            "34/34 [==============================] - 0s 1ms/step - loss: 6431.7964 - mae: 6431.7964\n",
            "Epoch 55/100\n",
            "34/34 [==============================] - 0s 1ms/step - loss: 6224.0661 - mae: 6224.0661\n",
            "Epoch 56/100\n",
            "34/34 [==============================] - 0s 1ms/step - loss: 6289.4113 - mae: 6289.4113\n",
            "Epoch 57/100\n",
            "34/34 [==============================] - 0s 1ms/step - loss: 6578.3135 - mae: 6578.3135\n",
            "Epoch 58/100\n",
            "34/34 [==============================] - 0s 1ms/step - loss: 6365.6008 - mae: 6365.6008\n",
            "Epoch 59/100\n",
            "34/34 [==============================] - 0s 1ms/step - loss: 5914.7983 - mae: 5914.7983\n",
            "Epoch 60/100\n",
            "34/34 [==============================] - 0s 1ms/step - loss: 6239.8720 - mae: 6239.8720\n",
            "Epoch 61/100\n",
            "34/34 [==============================] - 0s 1ms/step - loss: 6751.6415 - mae: 6751.6415\n",
            "Epoch 62/100\n",
            "34/34 [==============================] - 0s 1ms/step - loss: 6350.5861 - mae: 6350.5861\n",
            "Epoch 63/100\n",
            "34/34 [==============================] - 0s 1ms/step - loss: 6374.7378 - mae: 6374.7378\n",
            "Epoch 64/100\n",
            "34/34 [==============================] - 0s 1ms/step - loss: 5877.7617 - mae: 5877.7617\n",
            "Epoch 65/100\n",
            "34/34 [==============================] - 0s 1ms/step - loss: 6260.5317 - mae: 6260.5317\n",
            "Epoch 66/100\n",
            "34/34 [==============================] - 0s 1ms/step - loss: 6007.1749 - mae: 6007.1749\n",
            "Epoch 67/100\n",
            "34/34 [==============================] - 0s 1ms/step - loss: 6106.7941 - mae: 6106.7941\n",
            "Epoch 68/100\n",
            "34/34 [==============================] - 0s 1ms/step - loss: 6035.6668 - mae: 6035.6668\n",
            "Epoch 69/100\n",
            "34/34 [==============================] - 0s 1ms/step - loss: 6523.5435 - mae: 6523.5435\n",
            "Epoch 70/100\n",
            "34/34 [==============================] - 0s 1ms/step - loss: 5708.9527 - mae: 5708.9527\n",
            "Epoch 71/100\n",
            "34/34 [==============================] - 0s 1ms/step - loss: 6110.2172 - mae: 6110.2172\n",
            "Epoch 72/100\n",
            "34/34 [==============================] - 0s 1ms/step - loss: 5773.3150 - mae: 5773.3150\n",
            "Epoch 73/100\n",
            "34/34 [==============================] - 0s 1ms/step - loss: 6297.5183 - mae: 6297.5183\n",
            "Epoch 74/100\n",
            "34/34 [==============================] - 0s 1ms/step - loss: 6112.9394 - mae: 6112.9394\n",
            "Epoch 75/100\n",
            "34/34 [==============================] - 0s 1ms/step - loss: 6449.7250 - mae: 6449.7250\n",
            "Epoch 76/100\n",
            "34/34 [==============================] - 0s 1ms/step - loss: 5688.1442 - mae: 5688.1442\n",
            "Epoch 77/100\n",
            "34/34 [==============================] - 0s 1ms/step - loss: 6402.3397 - mae: 6402.3397\n",
            "Epoch 78/100\n",
            "34/34 [==============================] - 0s 1ms/step - loss: 5499.5554 - mae: 5499.5554\n",
            "Epoch 79/100\n",
            "34/34 [==============================] - 0s 1ms/step - loss: 5108.3478 - mae: 5108.3478\n",
            "Epoch 80/100\n",
            "34/34 [==============================] - 0s 1ms/step - loss: 5226.6398 - mae: 5226.6398\n",
            "Epoch 81/100\n",
            "34/34 [==============================] - 0s 1ms/step - loss: 5817.3262 - mae: 5817.3262\n",
            "Epoch 82/100\n",
            "34/34 [==============================] - 0s 1ms/step - loss: 6548.7323 - mae: 6548.7323\n",
            "Epoch 83/100\n",
            "34/34 [==============================] - 0s 1ms/step - loss: 5722.6892 - mae: 5722.6892\n",
            "Epoch 84/100\n",
            "34/34 [==============================] - 0s 1ms/step - loss: 5570.2336 - mae: 5570.2336\n",
            "Epoch 85/100\n",
            "34/34 [==============================] - 0s 1ms/step - loss: 5121.8587 - mae: 5121.8587\n",
            "Epoch 86/100\n",
            "34/34 [==============================] - 0s 1ms/step - loss: 5889.9363 - mae: 5889.9363\n",
            "Epoch 87/100\n",
            "34/34 [==============================] - 0s 1ms/step - loss: 5472.2751 - mae: 5472.2751\n",
            "Epoch 88/100\n",
            "34/34 [==============================] - 0s 1ms/step - loss: 5770.0215 - mae: 5770.0215\n",
            "Epoch 89/100\n",
            "34/34 [==============================] - 0s 1ms/step - loss: 5392.7423 - mae: 5392.7423\n",
            "Epoch 90/100\n",
            "34/34 [==============================] - 0s 1ms/step - loss: 5951.3923 - mae: 5951.3923\n",
            "Epoch 91/100\n",
            "34/34 [==============================] - 0s 1ms/step - loss: 5577.1110 - mae: 5577.1110\n",
            "Epoch 92/100\n",
            "34/34 [==============================] - 0s 1ms/step - loss: 5633.8429 - mae: 5633.8429\n",
            "Epoch 93/100\n",
            "34/34 [==============================] - 0s 1ms/step - loss: 5209.0318 - mae: 5209.0318\n",
            "Epoch 94/100\n",
            "34/34 [==============================] - 0s 1ms/step - loss: 5018.4430 - mae: 5018.4430\n",
            "Epoch 95/100\n",
            "34/34 [==============================] - 0s 2ms/step - loss: 5419.2087 - mae: 5419.2087\n",
            "Epoch 96/100\n",
            "34/34 [==============================] - 0s 1ms/step - loss: 5547.8981 - mae: 5547.8981\n",
            "Epoch 97/100\n",
            "34/34 [==============================] - 0s 1ms/step - loss: 4931.7088 - mae: 4931.7088\n",
            "Epoch 98/100\n",
            "34/34 [==============================] - 0s 1ms/step - loss: 4912.5428 - mae: 4912.5428\n",
            "Epoch 99/100\n",
            "34/34 [==============================] - 0s 1ms/step - loss: 4650.0256 - mae: 4650.0256\n",
            "Epoch 100/100\n",
            "34/34 [==============================] - 0s 1ms/step - loss: 4770.1080 - mae: 4770.1080\n"
          ],
          "name": "stdout"
        },
        {
          "output_type": "execute_result",
          "data": {
            "text/plain": [
              "<tensorflow.python.keras.callbacks.History at 0x7f3affe9a490>"
            ]
          },
          "metadata": {
            "tags": []
          },
          "execution_count": 14
        }
      ]
    },
    {
      "cell_type": "code",
      "metadata": {
        "colab": {
          "base_uri": "https://localhost:8080/"
        },
        "id": "klnHSjxOGK91",
        "outputId": "eefb6449-011f-4949-d7da-64ebece1de0f"
      },
      "source": [
        "#Evaluate the larger model\n",
        "insurance_model_2.evaluate(X_test,y_test)"
      ],
      "execution_count": null,
      "outputs": [
        {
          "output_type": "stream",
          "text": [
            "9/9 [==============================] - 0s 2ms/step - loss: 4924.3477 - mae: 4924.3477\n"
          ],
          "name": "stdout"
        },
        {
          "output_type": "execute_result",
          "data": {
            "text/plain": [
              "[4924.34765625, 4924.34765625]"
            ]
          },
          "metadata": {
            "tags": []
          },
          "execution_count": 164
        }
      ]
    },
    {
      "cell_type": "code",
      "metadata": {
        "id": "ebbUx2uEgHEu",
        "colab": {
          "base_uri": "https://localhost:8080/"
        },
        "outputId": "fd47ff9e-c83a-4c08-ca66-a7da6f0d8846"
      },
      "source": [
        "#Let's create a model with more optimize parameter\n",
        "#Create a random seed\n",
        "tf.random.set_seed(42)\n",
        "\n",
        "# 1. Create a model\n",
        "insurance_model_test=tf.keras.Sequential([\n",
        "                  tf.keras.layers.Dense(100,activation=\"relu\"),\n",
        "                  tf.keras.layers.Dense(10,activation=\"relu\"),\n",
        "                  tf.keras.layers.Dense(1,activation=\"relu\")\n",
        "                  ])\n",
        "\n",
        "# 2. Compile the model\n",
        "insurance_model_test.compile(loss=tf.keras.losses.mae,\n",
        "                          optimizer=tf.keras.optimizers.Adam(learning_rate=0.01),\n",
        "                          metrics=[\"mae\"])\n",
        "\n",
        "# 3. Fit the model\n",
        "insurance_model_test.fit(X_train,y_train,epochs=100, verbose=1)"
      ],
      "execution_count": null,
      "outputs": [
        {
          "output_type": "stream",
          "text": [
            "Epoch 1/100\n",
            "34/34 [==============================] - 0s 1ms/step - loss: 13298.6101 - mae: 13298.6101\n",
            "Epoch 2/100\n",
            "34/34 [==============================] - 0s 1ms/step - loss: 12958.0778 - mae: 12958.0778\n",
            "Epoch 3/100\n",
            "34/34 [==============================] - 0s 1ms/step - loss: 12732.4872 - mae: 12732.4872\n",
            "Epoch 4/100\n",
            "34/34 [==============================] - 0s 1ms/step - loss: 13434.8449 - mae: 13434.8449\n",
            "Epoch 5/100\n",
            "34/34 [==============================] - 0s 1ms/step - loss: 13364.7817 - mae: 13364.7817\n",
            "Epoch 6/100\n",
            "34/34 [==============================] - 0s 1ms/step - loss: 13241.2042 - mae: 13241.2042\n",
            "Epoch 7/100\n",
            "34/34 [==============================] - 0s 1ms/step - loss: 13287.0566 - mae: 13287.0566\n",
            "Epoch 8/100\n",
            "34/34 [==============================] - 0s 1ms/step - loss: 13644.6420 - mae: 13644.6420\n",
            "Epoch 9/100\n",
            "34/34 [==============================] - 0s 1ms/step - loss: 13446.3819 - mae: 13446.3819\n",
            "Epoch 10/100\n",
            "34/34 [==============================] - 0s 1ms/step - loss: 13627.7779 - mae: 13627.7779\n",
            "Epoch 11/100\n",
            "34/34 [==============================] - 0s 1ms/step - loss: 13979.5140 - mae: 13979.5140\n",
            "Epoch 12/100\n",
            "34/34 [==============================] - 0s 1ms/step - loss: 13219.0455 - mae: 13219.0455\n",
            "Epoch 13/100\n",
            "34/34 [==============================] - 0s 1ms/step - loss: 13829.5137 - mae: 13829.5137\n",
            "Epoch 14/100\n",
            "34/34 [==============================] - 0s 1ms/step - loss: 13499.3077 - mae: 13499.3077\n",
            "Epoch 15/100\n",
            "34/34 [==============================] - 0s 1ms/step - loss: 13761.3892 - mae: 13761.3892\n",
            "Epoch 16/100\n",
            "34/34 [==============================] - 0s 1ms/step - loss: 13634.4227 - mae: 13634.4227\n",
            "Epoch 17/100\n",
            "34/34 [==============================] - 0s 1ms/step - loss: 13120.5869 - mae: 13120.5869\n",
            "Epoch 18/100\n",
            "34/34 [==============================] - 0s 1ms/step - loss: 13410.3644 - mae: 13410.3644\n",
            "Epoch 19/100\n",
            "34/34 [==============================] - 0s 1ms/step - loss: 13129.8069 - mae: 13129.8069\n",
            "Epoch 20/100\n",
            "34/34 [==============================] - 0s 2ms/step - loss: 13283.0211 - mae: 13283.0211\n",
            "Epoch 21/100\n",
            "34/34 [==============================] - 0s 1ms/step - loss: 12521.7736 - mae: 12521.7736\n",
            "Epoch 22/100\n",
            "34/34 [==============================] - 0s 1ms/step - loss: 12743.8052 - mae: 12743.8052\n",
            "Epoch 23/100\n",
            "34/34 [==============================] - 0s 1ms/step - loss: 13381.7346 - mae: 13381.7346\n",
            "Epoch 24/100\n",
            "34/34 [==============================] - 0s 1ms/step - loss: 13004.3095 - mae: 13004.3095\n",
            "Epoch 25/100\n",
            "34/34 [==============================] - 0s 1ms/step - loss: 14061.4696 - mae: 14061.4696\n",
            "Epoch 26/100\n",
            "34/34 [==============================] - 0s 1ms/step - loss: 12909.3965 - mae: 12909.3965\n",
            "Epoch 27/100\n",
            "34/34 [==============================] - 0s 1ms/step - loss: 13210.5337 - mae: 13210.5337\n",
            "Epoch 28/100\n",
            "34/34 [==============================] - 0s 1ms/step - loss: 13759.5846 - mae: 13759.5846\n",
            "Epoch 29/100\n",
            "34/34 [==============================] - 0s 1ms/step - loss: 12965.5240 - mae: 12965.5240\n",
            "Epoch 30/100\n",
            "34/34 [==============================] - 0s 1ms/step - loss: 13446.8124 - mae: 13446.8124\n",
            "Epoch 31/100\n",
            "34/34 [==============================] - 0s 1ms/step - loss: 13811.0463 - mae: 13811.0463\n",
            "Epoch 32/100\n",
            "34/34 [==============================] - 0s 1ms/step - loss: 13495.8130 - mae: 13495.8130\n",
            "Epoch 33/100\n",
            "34/34 [==============================] - 0s 1ms/step - loss: 13149.8724 - mae: 13149.8724\n",
            "Epoch 34/100\n",
            "34/34 [==============================] - 0s 1ms/step - loss: 13417.4333 - mae: 13417.4333\n",
            "Epoch 35/100\n",
            "34/34 [==============================] - 0s 1ms/step - loss: 13479.8470 - mae: 13479.8470\n",
            "Epoch 36/100\n",
            "34/34 [==============================] - 0s 1ms/step - loss: 13418.1753 - mae: 13418.1753\n",
            "Epoch 37/100\n",
            "34/34 [==============================] - 0s 1ms/step - loss: 13567.8479 - mae: 13567.8479\n",
            "Epoch 38/100\n",
            "34/34 [==============================] - 0s 1ms/step - loss: 13170.5623 - mae: 13170.5623\n",
            "Epoch 39/100\n",
            "34/34 [==============================] - 0s 1ms/step - loss: 13402.7909 - mae: 13402.7909\n",
            "Epoch 40/100\n",
            "34/34 [==============================] - 0s 2ms/step - loss: 13371.4924 - mae: 13371.4924\n",
            "Epoch 41/100\n",
            "34/34 [==============================] - 0s 1ms/step - loss: 13277.2321 - mae: 13277.2321\n",
            "Epoch 42/100\n",
            "34/34 [==============================] - 0s 1ms/step - loss: 13115.7638 - mae: 13115.7638\n",
            "Epoch 43/100\n",
            "34/34 [==============================] - 0s 1ms/step - loss: 13342.0835 - mae: 13342.0835\n",
            "Epoch 44/100\n",
            "34/34 [==============================] - 0s 1ms/step - loss: 12955.6642 - mae: 12955.6642\n",
            "Epoch 45/100\n",
            "34/34 [==============================] - 0s 1ms/step - loss: 13289.6102 - mae: 13289.6102\n",
            "Epoch 46/100\n",
            "34/34 [==============================] - 0s 1ms/step - loss: 12756.7789 - mae: 12756.7789\n",
            "Epoch 47/100\n",
            "34/34 [==============================] - 0s 1ms/step - loss: 13773.2304 - mae: 13773.2304\n",
            "Epoch 48/100\n",
            "34/34 [==============================] - 0s 1ms/step - loss: 13330.1380 - mae: 13330.1380\n",
            "Epoch 49/100\n",
            "34/34 [==============================] - 0s 1ms/step - loss: 13117.7242 - mae: 13117.7242\n",
            "Epoch 50/100\n",
            "34/34 [==============================] - 0s 1ms/step - loss: 13372.3250 - mae: 13372.3250\n",
            "Epoch 51/100\n",
            "34/34 [==============================] - 0s 1ms/step - loss: 13445.4724 - mae: 13445.4724\n",
            "Epoch 52/100\n",
            "34/34 [==============================] - 0s 1ms/step - loss: 13386.8619 - mae: 13386.8619\n",
            "Epoch 53/100\n",
            "34/34 [==============================] - 0s 1ms/step - loss: 13042.5599 - mae: 13042.5599\n",
            "Epoch 54/100\n",
            "34/34 [==============================] - 0s 1ms/step - loss: 13519.0479 - mae: 13519.0479\n",
            "Epoch 55/100\n",
            "34/34 [==============================] - 0s 1ms/step - loss: 13007.5088 - mae: 13007.5088\n",
            "Epoch 56/100\n",
            "34/34 [==============================] - 0s 2ms/step - loss: 13239.5418 - mae: 13239.5418\n",
            "Epoch 57/100\n",
            "34/34 [==============================] - 0s 1ms/step - loss: 13537.6416 - mae: 13537.6416\n",
            "Epoch 58/100\n",
            "34/34 [==============================] - 0s 1ms/step - loss: 13508.4254 - mae: 13508.4254\n",
            "Epoch 59/100\n",
            "34/34 [==============================] - 0s 2ms/step - loss: 12712.1330 - mae: 12712.1330\n",
            "Epoch 60/100\n",
            "34/34 [==============================] - 0s 1ms/step - loss: 13195.2448 - mae: 13195.2448\n",
            "Epoch 61/100\n",
            "34/34 [==============================] - 0s 1ms/step - loss: 13912.2499 - mae: 13912.2499\n",
            "Epoch 62/100\n",
            "34/34 [==============================] - 0s 1ms/step - loss: 13599.0602 - mae: 13599.0602\n",
            "Epoch 63/100\n",
            "34/34 [==============================] - 0s 1ms/step - loss: 13588.8908 - mae: 13588.8908\n",
            "Epoch 64/100\n",
            "34/34 [==============================] - 0s 1ms/step - loss: 12839.1648 - mae: 12839.1648\n",
            "Epoch 65/100\n",
            "34/34 [==============================] - 0s 1ms/step - loss: 13524.1589 - mae: 13524.1589\n",
            "Epoch 66/100\n",
            "34/34 [==============================] - 0s 1ms/step - loss: 13245.0054 - mae: 13245.0054\n",
            "Epoch 67/100\n",
            "34/34 [==============================] - 0s 2ms/step - loss: 13222.0071 - mae: 13222.0071\n",
            "Epoch 68/100\n",
            "34/34 [==============================] - 0s 1ms/step - loss: 13377.8449 - mae: 13377.8449\n",
            "Epoch 69/100\n",
            "34/34 [==============================] - 0s 1ms/step - loss: 13848.8720 - mae: 13848.8720\n",
            "Epoch 70/100\n",
            "34/34 [==============================] - 0s 1ms/step - loss: 12912.9901 - mae: 12912.9901\n",
            "Epoch 71/100\n",
            "34/34 [==============================] - 0s 1ms/step - loss: 13429.5954 - mae: 13429.5954\n",
            "Epoch 72/100\n",
            "34/34 [==============================] - 0s 1ms/step - loss: 13123.4014 - mae: 13123.4014\n",
            "Epoch 73/100\n",
            "34/34 [==============================] - 0s 1ms/step - loss: 13700.1868 - mae: 13700.1868\n",
            "Epoch 74/100\n",
            "34/34 [==============================] - 0s 1ms/step - loss: 13224.4836 - mae: 13224.4836\n",
            "Epoch 75/100\n",
            "34/34 [==============================] - 0s 1ms/step - loss: 13728.4324 - mae: 13728.4324\n",
            "Epoch 76/100\n",
            "34/34 [==============================] - 0s 1ms/step - loss: 12957.5634 - mae: 12957.5634\n",
            "Epoch 77/100\n",
            "34/34 [==============================] - 0s 1ms/step - loss: 13897.3120 - mae: 13897.3120\n",
            "Epoch 78/100\n",
            "34/34 [==============================] - 0s 1ms/step - loss: 12914.7349 - mae: 12914.7349\n",
            "Epoch 79/100\n",
            "34/34 [==============================] - 0s 2ms/step - loss: 12536.4176 - mae: 12536.4176\n",
            "Epoch 80/100\n",
            "34/34 [==============================] - 0s 1ms/step - loss: 12571.9798 - mae: 12571.9798\n",
            "Epoch 81/100\n",
            "34/34 [==============================] - 0s 1ms/step - loss: 13251.2539 - mae: 13251.2539\n",
            "Epoch 82/100\n",
            "34/34 [==============================] - 0s 1ms/step - loss: 14328.2241 - mae: 14328.2241\n",
            "Epoch 83/100\n",
            "34/34 [==============================] - 0s 1ms/step - loss: 13284.1651 - mae: 13284.1651\n",
            "Epoch 84/100\n",
            "34/34 [==============================] - 0s 1ms/step - loss: 13133.0277 - mae: 13133.0277\n",
            "Epoch 85/100\n",
            "34/34 [==============================] - 0s 1ms/step - loss: 12637.7901 - mae: 12637.7901\n",
            "Epoch 86/100\n",
            "34/34 [==============================] - 0s 1ms/step - loss: 13558.4294 - mae: 13558.4294\n",
            "Epoch 87/100\n",
            "34/34 [==============================] - 0s 1ms/step - loss: 13000.3002 - mae: 13000.3002\n",
            "Epoch 88/100\n",
            "34/34 [==============================] - 0s 1ms/step - loss: 13487.2097 - mae: 13487.2097\n",
            "Epoch 89/100\n",
            "34/34 [==============================] - 0s 1ms/step - loss: 13283.0587 - mae: 13283.0587\n",
            "Epoch 90/100\n",
            "34/34 [==============================] - 0s 1ms/step - loss: 13958.0284 - mae: 13958.0284\n",
            "Epoch 91/100\n",
            "34/34 [==============================] - 0s 1ms/step - loss: 13420.9605 - mae: 13420.9605\n",
            "Epoch 92/100\n",
            "34/34 [==============================] - 0s 1ms/step - loss: 13588.4155 - mae: 13588.4155\n",
            "Epoch 93/100\n",
            "34/34 [==============================] - 0s 1ms/step - loss: 13070.6824 - mae: 13070.6824\n",
            "Epoch 94/100\n",
            "34/34 [==============================] - 0s 1ms/step - loss: 12899.0844 - mae: 12899.0844\n",
            "Epoch 95/100\n",
            "34/34 [==============================] - 0s 1ms/step - loss: 13541.7039 - mae: 13541.7039\n",
            "Epoch 96/100\n",
            "34/34 [==============================] - 0s 2ms/step - loss: 13710.7073 - mae: 13710.7073\n",
            "Epoch 97/100\n",
            "34/34 [==============================] - 0s 1ms/step - loss: 12802.3963 - mae: 12802.3963\n",
            "Epoch 98/100\n",
            "34/34 [==============================] - 0s 2ms/step - loss: 13046.8373 - mae: 13046.8373\n",
            "Epoch 99/100\n",
            "34/34 [==============================] - 0s 1ms/step - loss: 12688.5443 - mae: 12688.5443\n",
            "Epoch 100/100\n",
            "34/34 [==============================] - 0s 1ms/step - loss: 12798.1608 - mae: 12798.1608\n"
          ],
          "name": "stdout"
        },
        {
          "output_type": "execute_result",
          "data": {
            "text/plain": [
              "<tensorflow.python.keras.callbacks.History at 0x7f3af9e83a50>"
            ]
          },
          "metadata": {
            "tags": []
          },
          "execution_count": 25
        }
      ]
    },
    {
      "cell_type": "code",
      "metadata": {
        "colab": {
          "base_uri": "https://localhost:8080/"
        },
        "id": "wQBJYGK9iqY6",
        "outputId": "b502b8d9-e112-42b1-c0d7-9015902c1abb"
      },
      "source": [
        "insurance_model_test.evaluate(X_test,y_test)"
      ],
      "execution_count": null,
      "outputs": [
        {
          "output_type": "stream",
          "text": [
            "9/9 [==============================] - 0s 1ms/step - loss: 12968.3174 - mae: 12968.3174\n"
          ],
          "name": "stdout"
        },
        {
          "output_type": "execute_result",
          "data": {
            "text/plain": [
              "[12968.3173828125, 12968.3173828125]"
            ]
          },
          "metadata": {
            "tags": []
          },
          "execution_count": 26
        }
      ]
    },
    {
      "cell_type": "code",
      "metadata": {
        "colab": {
          "base_uri": "https://localhost:8080/"
        },
        "id": "ndIXHv8Fi1gs",
        "outputId": "1646caf2-cb98-4729-8e94-cbea5f635960"
      },
      "source": [
        "insurance_model_2.evaluate(X_test,y_test)"
      ],
      "execution_count": null,
      "outputs": [
        {
          "output_type": "stream",
          "text": [
            "9/9 [==============================] - 0s 1ms/step - loss: 4924.4956 - mae: 4924.4956\n"
          ],
          "name": "stdout"
        },
        {
          "output_type": "execute_result",
          "data": {
            "text/plain": [
              "[4924.49560546875, 4924.49560546875]"
            ]
          },
          "metadata": {
            "tags": []
          },
          "execution_count": 24
        }
      ]
    },
    {
      "cell_type": "code",
      "metadata": {
        "colab": {
          "base_uri": "https://localhost:8080/"
        },
        "id": "ZnsdrC7li8j7",
        "outputId": "bb2c5fbb-b139-4e33-8780-5e255c7d6a38"
      },
      "source": [
        "#Let's create a next model with Adam optimizer and epochs=200\n",
        "\n",
        "#Set a random seed\n",
        "tf.random.set_seed(42)\n",
        "\n",
        "#1. Create a model\n",
        "insurance_model_3=tf.keras.Sequential([\n",
        "                  tf.keras.layers.Dense(100),\n",
        "                  tf.keras.layers.Dense(10),\n",
        "                  tf.keras.layers.Dense(1)\n",
        "                  ])\n",
        "\n",
        "#2. Compile the model\n",
        "insurance_model_3.compile(loss=tf.keras.losses.mae,\n",
        "                          optimizer=tf.keras.optimizers.Adam(),\n",
        "                          metrics=[\"mae\"])\n",
        "\n",
        "#Fit the model\n",
        "history=insurance_model_3.fit(X_train,y_train,epochs=200)"
      ],
      "execution_count": null,
      "outputs": [
        {
          "output_type": "stream",
          "text": [
            "Epoch 1/200\n",
            "34/34 [==============================] - 0s 1ms/step - loss: 13251.7400 - mae: 13251.7400\n",
            "Epoch 2/200\n",
            "34/34 [==============================] - 0s 1ms/step - loss: 12768.7726 - mae: 12768.7726\n",
            "Epoch 3/200\n",
            "34/34 [==============================] - 0s 1ms/step - loss: 12248.2855 - mae: 12248.2855\n",
            "Epoch 4/200\n",
            "34/34 [==============================] - 0s 1ms/step - loss: 12353.0241 - mae: 12353.0241\n",
            "Epoch 5/200\n",
            "34/34 [==============================] - 0s 1ms/step - loss: 11243.3972 - mae: 11243.3972\n",
            "Epoch 6/200\n",
            "34/34 [==============================] - 0s 1ms/step - loss: 9718.5257 - mae: 9718.5257\n",
            "Epoch 7/200\n",
            "34/34 [==============================] - 0s 1ms/step - loss: 8354.8474 - mae: 8354.8474\n",
            "Epoch 8/200\n",
            "34/34 [==============================] - 0s 1ms/step - loss: 7732.2963 - mae: 7732.2963\n",
            "Epoch 9/200\n",
            "34/34 [==============================] - 0s 1ms/step - loss: 7537.6737 - mae: 7537.6737\n",
            "Epoch 10/200\n",
            "34/34 [==============================] - 0s 1ms/step - loss: 7652.7184 - mae: 7652.7184\n",
            "Epoch 11/200\n",
            "34/34 [==============================] - 0s 1ms/step - loss: 7802.4481 - mae: 7802.4481\n",
            "Epoch 12/200\n",
            "34/34 [==============================] - 0s 1ms/step - loss: 7370.3458 - mae: 7370.3458\n",
            "Epoch 13/200\n",
            "34/34 [==============================] - 0s 1ms/step - loss: 7651.9583 - mae: 7651.9583\n",
            "Epoch 14/200\n",
            "34/34 [==============================] - 0s 1ms/step - loss: 7404.5587 - mae: 7404.5587\n",
            "Epoch 15/200\n",
            "34/34 [==============================] - 0s 2ms/step - loss: 7639.0614 - mae: 7639.0614\n",
            "Epoch 16/200\n",
            "34/34 [==============================] - 0s 1ms/step - loss: 7569.4714 - mae: 7569.4714\n",
            "Epoch 17/200\n",
            "34/34 [==============================] - 0s 1ms/step - loss: 6946.3939 - mae: 6946.3939\n",
            "Epoch 18/200\n",
            "34/34 [==============================] - 0s 2ms/step - loss: 7137.7239 - mae: 7137.7239\n",
            "Epoch 19/200\n",
            "34/34 [==============================] - 0s 1ms/step - loss: 7165.3120 - mae: 7165.3120\n",
            "Epoch 20/200\n",
            "34/34 [==============================] - 0s 1ms/step - loss: 7063.6223 - mae: 7063.6223\n",
            "Epoch 21/200\n",
            "34/34 [==============================] - 0s 1ms/step - loss: 6472.3188 - mae: 6472.3188\n",
            "Epoch 22/200\n",
            "34/34 [==============================] - 0s 1ms/step - loss: 6674.0546 - mae: 6674.0546\n",
            "Epoch 23/200\n",
            "34/34 [==============================] - 0s 1ms/step - loss: 7112.2982 - mae: 7112.2982\n",
            "Epoch 24/200\n",
            "34/34 [==============================] - 0s 1ms/step - loss: 6838.1523 - mae: 6838.1523\n",
            "Epoch 25/200\n",
            "34/34 [==============================] - 0s 1ms/step - loss: 7496.9559 - mae: 7496.9559\n",
            "Epoch 26/200\n",
            "34/34 [==============================] - 0s 1ms/step - loss: 6718.1681 - mae: 6718.1681\n",
            "Epoch 27/200\n",
            "34/34 [==============================] - 0s 1ms/step - loss: 7107.2972 - mae: 7107.2972\n",
            "Epoch 28/200\n",
            "34/34 [==============================] - 0s 1ms/step - loss: 7357.2015 - mae: 7357.2015\n",
            "Epoch 29/200\n",
            "34/34 [==============================] - 0s 1ms/step - loss: 6668.5721 - mae: 6668.5721\n",
            "Epoch 30/200\n",
            "34/34 [==============================] - 0s 1ms/step - loss: 7119.4991 - mae: 7119.4991\n",
            "Epoch 31/200\n",
            "34/34 [==============================] - 0s 1ms/step - loss: 7360.1232 - mae: 7360.1232\n",
            "Epoch 32/200\n",
            "34/34 [==============================] - 0s 1ms/step - loss: 6817.2565 - mae: 6817.2565\n",
            "Epoch 33/200\n",
            "34/34 [==============================] - 0s 2ms/step - loss: 6991.0289 - mae: 6991.0289\n",
            "Epoch 34/200\n",
            "34/34 [==============================] - 0s 1ms/step - loss: 6829.4910 - mae: 6829.4910\n",
            "Epoch 35/200\n",
            "34/34 [==============================] - 0s 1ms/step - loss: 6895.2913 - mae: 6895.2913\n",
            "Epoch 36/200\n",
            "34/34 [==============================] - 0s 1ms/step - loss: 6762.5128 - mae: 6762.5128\n",
            "Epoch 37/200\n",
            "34/34 [==============================] - 0s 1ms/step - loss: 6910.4815 - mae: 6910.4815\n",
            "Epoch 38/200\n",
            "34/34 [==============================] - 0s 1ms/step - loss: 6405.0325 - mae: 6405.0325\n",
            "Epoch 39/200\n",
            "34/34 [==============================] - 0s 1ms/step - loss: 6799.7919 - mae: 6799.7919\n",
            "Epoch 40/200\n",
            "34/34 [==============================] - 0s 1ms/step - loss: 6696.0554 - mae: 6696.0554\n",
            "Epoch 41/200\n",
            "34/34 [==============================] - 0s 1ms/step - loss: 6632.0476 - mae: 6632.0476\n",
            "Epoch 42/200\n",
            "34/34 [==============================] - 0s 1ms/step - loss: 6501.1589 - mae: 6501.1589\n",
            "Epoch 43/200\n",
            "34/34 [==============================] - 0s 1ms/step - loss: 6518.8876 - mae: 6518.8876\n",
            "Epoch 44/200\n",
            "34/34 [==============================] - 0s 1ms/step - loss: 6287.3747 - mae: 6287.3747\n",
            "Epoch 45/200\n",
            "34/34 [==============================] - 0s 1ms/step - loss: 6331.2562 - mae: 6331.2562\n",
            "Epoch 46/200\n",
            "34/34 [==============================] - 0s 1ms/step - loss: 6080.3168 - mae: 6080.3168\n",
            "Epoch 47/200\n",
            "34/34 [==============================] - 0s 1ms/step - loss: 6665.8195 - mae: 6665.8195\n",
            "Epoch 48/200\n",
            "34/34 [==============================] - 0s 1ms/step - loss: 6424.2358 - mae: 6424.2358\n",
            "Epoch 49/200\n",
            "34/34 [==============================] - 0s 1ms/step - loss: 6154.8287 - mae: 6154.8287\n",
            "Epoch 50/200\n",
            "34/34 [==============================] - 0s 1ms/step - loss: 6426.9841 - mae: 6426.9841\n",
            "Epoch 51/200\n",
            "34/34 [==============================] - 0s 1ms/step - loss: 6338.3257 - mae: 6338.3257\n",
            "Epoch 52/200\n",
            "34/34 [==============================] - 0s 1ms/step - loss: 6335.6011 - mae: 6335.6011\n",
            "Epoch 53/200\n",
            "34/34 [==============================] - 0s 2ms/step - loss: 5995.7961 - mae: 5995.7961\n",
            "Epoch 54/200\n",
            "34/34 [==============================] - 0s 1ms/step - loss: 6431.7964 - mae: 6431.7964\n",
            "Epoch 55/200\n",
            "34/34 [==============================] - 0s 1ms/step - loss: 6224.0661 - mae: 6224.0661\n",
            "Epoch 56/200\n",
            "34/34 [==============================] - 0s 1ms/step - loss: 6289.4113 - mae: 6289.4113\n",
            "Epoch 57/200\n",
            "34/34 [==============================] - 0s 1ms/step - loss: 6578.3135 - mae: 6578.3135\n",
            "Epoch 58/200\n",
            "34/34 [==============================] - 0s 1ms/step - loss: 6365.6008 - mae: 6365.6008\n",
            "Epoch 59/200\n",
            "34/34 [==============================] - 0s 1ms/step - loss: 5914.7983 - mae: 5914.7983\n",
            "Epoch 60/200\n",
            "34/34 [==============================] - 0s 1ms/step - loss: 6239.8720 - mae: 6239.8720\n",
            "Epoch 61/200\n",
            "34/34 [==============================] - 0s 1ms/step - loss: 6751.6415 - mae: 6751.6415\n",
            "Epoch 62/200\n",
            "34/34 [==============================] - 0s 1ms/step - loss: 6350.5861 - mae: 6350.5861\n",
            "Epoch 63/200\n",
            "34/34 [==============================] - 0s 1ms/step - loss: 6374.7378 - mae: 6374.7378\n",
            "Epoch 64/200\n",
            "34/34 [==============================] - 0s 1ms/step - loss: 5877.7617 - mae: 5877.7617\n",
            "Epoch 65/200\n",
            "34/34 [==============================] - 0s 1ms/step - loss: 6260.5317 - mae: 6260.5317\n",
            "Epoch 66/200\n",
            "34/34 [==============================] - 0s 1ms/step - loss: 6007.1749 - mae: 6007.1749\n",
            "Epoch 67/200\n",
            "34/34 [==============================] - 0s 1ms/step - loss: 6106.7941 - mae: 6106.7941\n",
            "Epoch 68/200\n",
            "34/34 [==============================] - 0s 1ms/step - loss: 6035.6668 - mae: 6035.6668\n",
            "Epoch 69/200\n",
            "34/34 [==============================] - 0s 1ms/step - loss: 6523.5435 - mae: 6523.5435\n",
            "Epoch 70/200\n",
            "34/34 [==============================] - 0s 1ms/step - loss: 5708.9527 - mae: 5708.9527\n",
            "Epoch 71/200\n",
            "34/34 [==============================] - 0s 1ms/step - loss: 6110.2172 - mae: 6110.2172\n",
            "Epoch 72/200\n",
            "34/34 [==============================] - 0s 1ms/step - loss: 5773.3150 - mae: 5773.3150\n",
            "Epoch 73/200\n",
            "34/34 [==============================] - 0s 2ms/step - loss: 6297.5183 - mae: 6297.5183\n",
            "Epoch 74/200\n",
            "34/34 [==============================] - 0s 1ms/step - loss: 6112.9394 - mae: 6112.9394\n",
            "Epoch 75/200\n",
            "34/34 [==============================] - 0s 1ms/step - loss: 6449.7250 - mae: 6449.7250\n",
            "Epoch 76/200\n",
            "34/34 [==============================] - 0s 1ms/step - loss: 5688.1442 - mae: 5688.1442\n",
            "Epoch 77/200\n",
            "34/34 [==============================] - 0s 1ms/step - loss: 6402.3397 - mae: 6402.3397\n",
            "Epoch 78/200\n",
            "34/34 [==============================] - 0s 1ms/step - loss: 5499.5554 - mae: 5499.5554\n",
            "Epoch 79/200\n",
            "34/34 [==============================] - 0s 1ms/step - loss: 5108.3478 - mae: 5108.3478\n",
            "Epoch 80/200\n",
            "34/34 [==============================] - 0s 1ms/step - loss: 5226.6398 - mae: 5226.6398\n",
            "Epoch 81/200\n",
            "34/34 [==============================] - 0s 1ms/step - loss: 5817.3262 - mae: 5817.3262\n",
            "Epoch 82/200\n",
            "34/34 [==============================] - 0s 1ms/step - loss: 6548.7323 - mae: 6548.7323\n",
            "Epoch 83/200\n",
            "34/34 [==============================] - 0s 1ms/step - loss: 5722.6892 - mae: 5722.6892\n",
            "Epoch 84/200\n",
            "34/34 [==============================] - 0s 1ms/step - loss: 5570.2336 - mae: 5570.2336\n",
            "Epoch 85/200\n",
            "34/34 [==============================] - 0s 1ms/step - loss: 5121.8587 - mae: 5121.8587\n",
            "Epoch 86/200\n",
            "34/34 [==============================] - 0s 2ms/step - loss: 5889.9363 - mae: 5889.9363\n",
            "Epoch 87/200\n",
            "34/34 [==============================] - 0s 1ms/step - loss: 5472.2751 - mae: 5472.2751\n",
            "Epoch 88/200\n",
            "34/34 [==============================] - 0s 1ms/step - loss: 5770.0215 - mae: 5770.0215\n",
            "Epoch 89/200\n",
            "34/34 [==============================] - 0s 1ms/step - loss: 5392.7423 - mae: 5392.7423\n",
            "Epoch 90/200\n",
            "34/34 [==============================] - 0s 1ms/step - loss: 5951.3923 - mae: 5951.3923\n",
            "Epoch 91/200\n",
            "34/34 [==============================] - 0s 1ms/step - loss: 5577.1110 - mae: 5577.1110\n",
            "Epoch 92/200\n",
            "34/34 [==============================] - 0s 2ms/step - loss: 5633.8429 - mae: 5633.8429\n",
            "Epoch 93/200\n",
            "34/34 [==============================] - 0s 1ms/step - loss: 5209.0318 - mae: 5209.0318\n",
            "Epoch 94/200\n",
            "34/34 [==============================] - 0s 1ms/step - loss: 5018.4430 - mae: 5018.4430\n",
            "Epoch 95/200\n",
            "34/34 [==============================] - 0s 1ms/step - loss: 5419.2087 - mae: 5419.2087\n",
            "Epoch 96/200\n",
            "34/34 [==============================] - 0s 1ms/step - loss: 5547.8981 - mae: 5547.8981\n",
            "Epoch 97/200\n",
            "34/34 [==============================] - 0s 1ms/step - loss: 4931.7088 - mae: 4931.7088\n",
            "Epoch 98/200\n",
            "34/34 [==============================] - 0s 1ms/step - loss: 4912.5428 - mae: 4912.5428\n",
            "Epoch 99/200\n",
            "34/34 [==============================] - 0s 1ms/step - loss: 4650.0256 - mae: 4650.0256\n",
            "Epoch 100/200\n",
            "34/34 [==============================] - 0s 1ms/step - loss: 4770.1080 - mae: 4770.1080\n",
            "Epoch 101/200\n",
            "34/34 [==============================] - 0s 1ms/step - loss: 4909.4022 - mae: 4909.4022\n",
            "Epoch 102/200\n",
            "34/34 [==============================] - 0s 2ms/step - loss: 4673.1832 - mae: 4673.1832\n",
            "Epoch 103/200\n",
            "34/34 [==============================] - 0s 1ms/step - loss: 4396.6370 - mae: 4396.6370\n",
            "Epoch 104/200\n",
            "34/34 [==============================] - 0s 1ms/step - loss: 4917.2483 - mae: 4917.2483\n",
            "Epoch 105/200\n",
            "34/34 [==============================] - 0s 1ms/step - loss: 4314.7068 - mae: 4314.7068\n",
            "Epoch 106/200\n",
            "34/34 [==============================] - 0s 1ms/step - loss: 4740.0049 - mae: 4740.0049\n",
            "Epoch 107/200\n",
            "34/34 [==============================] - 0s 1ms/step - loss: 4745.8710 - mae: 4745.8710\n",
            "Epoch 108/200\n",
            "34/34 [==============================] - 0s 1ms/step - loss: 4517.0621 - mae: 4517.0621\n",
            "Epoch 109/200\n",
            "34/34 [==============================] - 0s 1ms/step - loss: 4801.7184 - mae: 4801.7184\n",
            "Epoch 110/200\n",
            "34/34 [==============================] - 0s 1ms/step - loss: 4703.4161 - mae: 4703.4161\n",
            "Epoch 111/200\n",
            "34/34 [==============================] - 0s 1ms/step - loss: 4289.2303 - mae: 4289.2303\n",
            "Epoch 112/200\n",
            "34/34 [==============================] - 0s 1ms/step - loss: 4062.2468 - mae: 4062.2468\n",
            "Epoch 113/200\n",
            "34/34 [==============================] - 0s 1ms/step - loss: 3977.3070 - mae: 3977.3070\n",
            "Epoch 114/200\n",
            "34/34 [==============================] - 0s 1ms/step - loss: 4154.2934 - mae: 4154.2934\n",
            "Epoch 115/200\n",
            "34/34 [==============================] - 0s 1ms/step - loss: 4006.4258 - mae: 4006.4258\n",
            "Epoch 116/200\n",
            "34/34 [==============================] - 0s 1ms/step - loss: 4287.0862 - mae: 4287.0862\n",
            "Epoch 117/200\n",
            "34/34 [==============================] - 0s 1ms/step - loss: 3863.7708 - mae: 3863.7708\n",
            "Epoch 118/200\n",
            "34/34 [==============================] - 0s 1ms/step - loss: 3867.4441 - mae: 3867.4441\n",
            "Epoch 119/200\n",
            "34/34 [==============================] - 0s 1ms/step - loss: 3956.8748 - mae: 3956.8748\n",
            "Epoch 120/200\n",
            "34/34 [==============================] - 0s 1ms/step - loss: 4056.2708 - mae: 4056.2708\n",
            "Epoch 121/200\n",
            "34/34 [==============================] - 0s 1ms/step - loss: 4138.5816 - mae: 4138.5816\n",
            "Epoch 122/200\n",
            "34/34 [==============================] - 0s 1ms/step - loss: 3807.1297 - mae: 3807.1297\n",
            "Epoch 123/200\n",
            "34/34 [==============================] - 0s 1ms/step - loss: 3729.3961 - mae: 3729.3961\n",
            "Epoch 124/200\n",
            "34/34 [==============================] - 0s 1ms/step - loss: 3654.5895 - mae: 3654.5895\n",
            "Epoch 125/200\n",
            "34/34 [==============================] - 0s 1ms/step - loss: 4047.5810 - mae: 4047.5810\n",
            "Epoch 126/200\n",
            "34/34 [==============================] - 0s 1ms/step - loss: 3760.0189 - mae: 3760.0189\n",
            "Epoch 127/200\n",
            "34/34 [==============================] - 0s 2ms/step - loss: 3898.9773 - mae: 3898.9773\n",
            "Epoch 128/200\n",
            "34/34 [==============================] - 0s 2ms/step - loss: 3730.5283 - mae: 3730.5283\n",
            "Epoch 129/200\n",
            "34/34 [==============================] - 0s 1ms/step - loss: 4053.7942 - mae: 4053.7942\n",
            "Epoch 130/200\n",
            "34/34 [==============================] - 0s 2ms/step - loss: 3816.5713 - mae: 3816.5713\n",
            "Epoch 131/200\n",
            "34/34 [==============================] - 0s 1ms/step - loss: 3842.2270 - mae: 3842.2270\n",
            "Epoch 132/200\n",
            "34/34 [==============================] - 0s 1ms/step - loss: 4002.9710 - mae: 4002.9710\n",
            "Epoch 133/200\n",
            "34/34 [==============================] - 0s 1ms/step - loss: 4039.3410 - mae: 4039.3410\n",
            "Epoch 134/200\n",
            "34/34 [==============================] - 0s 1ms/step - loss: 3876.1981 - mae: 3876.1981\n",
            "Epoch 135/200\n",
            "34/34 [==============================] - 0s 1ms/step - loss: 3853.5075 - mae: 3853.5075\n",
            "Epoch 136/200\n",
            "34/34 [==============================] - 0s 1ms/step - loss: 3717.2626 - mae: 3717.2626\n",
            "Epoch 137/200\n",
            "34/34 [==============================] - 0s 1ms/step - loss: 3773.6438 - mae: 3773.6438\n",
            "Epoch 138/200\n",
            "34/34 [==============================] - 0s 1ms/step - loss: 4017.7876 - mae: 4017.7876\n",
            "Epoch 139/200\n",
            "34/34 [==============================] - 0s 1ms/step - loss: 3715.0605 - mae: 3715.0605\n",
            "Epoch 140/200\n",
            "34/34 [==============================] - 0s 1ms/step - loss: 3733.6008 - mae: 3733.6008\n",
            "Epoch 141/200\n",
            "34/34 [==============================] - 0s 1ms/step - loss: 3857.4200 - mae: 3857.4200\n",
            "Epoch 142/200\n",
            "34/34 [==============================] - 0s 1ms/step - loss: 3626.7239 - mae: 3626.7239\n",
            "Epoch 143/200\n",
            "34/34 [==============================] - 0s 1ms/step - loss: 3835.3856 - mae: 3835.3856\n",
            "Epoch 144/200\n",
            "34/34 [==============================] - 0s 1ms/step - loss: 3868.5909 - mae: 3868.5909\n",
            "Epoch 145/200\n",
            "34/34 [==============================] - 0s 2ms/step - loss: 4045.0617 - mae: 4045.0617\n",
            "Epoch 146/200\n",
            "34/34 [==============================] - 0s 2ms/step - loss: 3947.5989 - mae: 3947.5989\n",
            "Epoch 147/200\n",
            "34/34 [==============================] - 0s 2ms/step - loss: 3697.7624 - mae: 3697.7624\n",
            "Epoch 148/200\n",
            "34/34 [==============================] - 0s 2ms/step - loss: 3495.4071 - mae: 3495.4071\n",
            "Epoch 149/200\n",
            "34/34 [==============================] - 0s 2ms/step - loss: 3636.6808 - mae: 3636.6808\n",
            "Epoch 150/200\n",
            "34/34 [==============================] - 0s 2ms/step - loss: 3824.7629 - mae: 3824.7629\n",
            "Epoch 151/200\n",
            "34/34 [==============================] - 0s 1ms/step - loss: 3806.7232 - mae: 3806.7232\n",
            "Epoch 152/200\n",
            "34/34 [==============================] - 0s 1ms/step - loss: 3755.5285 - mae: 3755.5285\n",
            "Epoch 153/200\n",
            "34/34 [==============================] - 0s 1ms/step - loss: 3713.7236 - mae: 3713.7236\n",
            "Epoch 154/200\n",
            "34/34 [==============================] - 0s 2ms/step - loss: 3894.6997 - mae: 3894.6997\n",
            "Epoch 155/200\n",
            "34/34 [==============================] - 0s 1ms/step - loss: 3651.7698 - mae: 3651.7698\n",
            "Epoch 156/200\n",
            "34/34 [==============================] - 0s 1ms/step - loss: 3541.6651 - mae: 3541.6651\n",
            "Epoch 157/200\n",
            "34/34 [==============================] - 0s 1ms/step - loss: 3542.1334 - mae: 3542.1334\n",
            "Epoch 158/200\n",
            "34/34 [==============================] - 0s 1ms/step - loss: 3921.3846 - mae: 3921.3846\n",
            "Epoch 159/200\n",
            "34/34 [==============================] - 0s 1ms/step - loss: 3774.7317 - mae: 3774.7317\n",
            "Epoch 160/200\n",
            "34/34 [==============================] - 0s 1ms/step - loss: 3836.3787 - mae: 3836.3787\n",
            "Epoch 161/200\n",
            "34/34 [==============================] - 0s 1ms/step - loss: 3695.4663 - mae: 3695.4663\n",
            "Epoch 162/200\n",
            "34/34 [==============================] - 0s 1ms/step - loss: 3844.5049 - mae: 3844.5049\n",
            "Epoch 163/200\n",
            "34/34 [==============================] - 0s 1ms/step - loss: 3434.5002 - mae: 3434.5002\n",
            "Epoch 164/200\n",
            "34/34 [==============================] - 0s 2ms/step - loss: 3657.7765 - mae: 3657.7765\n",
            "Epoch 165/200\n",
            "34/34 [==============================] - 0s 1ms/step - loss: 3725.6673 - mae: 3725.6673\n",
            "Epoch 166/200\n",
            "34/34 [==============================] - 0s 2ms/step - loss: 3876.2256 - mae: 3876.2256\n",
            "Epoch 167/200\n",
            "34/34 [==============================] - 0s 1ms/step - loss: 4018.4553 - mae: 4018.4553\n",
            "Epoch 168/200\n",
            "34/34 [==============================] - 0s 1ms/step - loss: 3753.0694 - mae: 3753.0694\n",
            "Epoch 169/200\n",
            "34/34 [==============================] - 0s 1ms/step - loss: 3595.9371 - mae: 3595.9371\n",
            "Epoch 170/200\n",
            "34/34 [==============================] - 0s 2ms/step - loss: 3880.9855 - mae: 3880.9855\n",
            "Epoch 171/200\n",
            "34/34 [==============================] - 0s 1ms/step - loss: 3589.4530 - mae: 3589.4530\n",
            "Epoch 172/200\n",
            "34/34 [==============================] - 0s 1ms/step - loss: 3789.1782 - mae: 3789.1782\n",
            "Epoch 173/200\n",
            "34/34 [==============================] - 0s 1ms/step - loss: 3821.4176 - mae: 3821.4176\n",
            "Epoch 174/200\n",
            "34/34 [==============================] - 0s 1ms/step - loss: 3759.3669 - mae: 3759.3669\n",
            "Epoch 175/200\n",
            "34/34 [==============================] - 0s 1ms/step - loss: 3876.6620 - mae: 3876.6620\n",
            "Epoch 176/200\n",
            "34/34 [==============================] - 0s 1ms/step - loss: 3795.9221 - mae: 3795.9221\n",
            "Epoch 177/200\n",
            "34/34 [==============================] - 0s 1ms/step - loss: 3769.8004 - mae: 3769.8004\n",
            "Epoch 178/200\n",
            "34/34 [==============================] - 0s 1ms/step - loss: 3564.1352 - mae: 3564.1352\n",
            "Epoch 179/200\n",
            "34/34 [==============================] - 0s 1ms/step - loss: 3469.2083 - mae: 3469.2083\n",
            "Epoch 180/200\n",
            "34/34 [==============================] - 0s 1ms/step - loss: 4112.5286 - mae: 4112.5286\n",
            "Epoch 181/200\n",
            "34/34 [==============================] - 0s 1ms/step - loss: 3853.0810 - mae: 3853.0810\n",
            "Epoch 182/200\n",
            "34/34 [==============================] - 0s 1ms/step - loss: 3778.7847 - mae: 3778.7847\n",
            "Epoch 183/200\n",
            "34/34 [==============================] - 0s 1ms/step - loss: 3475.8323 - mae: 3475.8323\n",
            "Epoch 184/200\n",
            "34/34 [==============================] - 0s 1ms/step - loss: 3624.6772 - mae: 3624.6772\n",
            "Epoch 185/200\n",
            "34/34 [==============================] - 0s 2ms/step - loss: 3491.7384 - mae: 3491.7384\n",
            "Epoch 186/200\n",
            "34/34 [==============================] - 0s 1ms/step - loss: 3825.6738 - mae: 3825.6738\n",
            "Epoch 187/200\n",
            "34/34 [==============================] - 0s 1ms/step - loss: 3890.7275 - mae: 3890.7275\n",
            "Epoch 188/200\n",
            "34/34 [==============================] - 0s 1ms/step - loss: 3917.8414 - mae: 3917.8414\n",
            "Epoch 189/200\n",
            "34/34 [==============================] - 0s 1ms/step - loss: 3450.1743 - mae: 3450.1743\n",
            "Epoch 190/200\n",
            "34/34 [==============================] - 0s 1ms/step - loss: 3790.2072 - mae: 3790.2072\n",
            "Epoch 191/200\n",
            "34/34 [==============================] - 0s 1ms/step - loss: 3901.4243 - mae: 3901.4243\n",
            "Epoch 192/200\n",
            "34/34 [==============================] - 0s 1ms/step - loss: 3675.6297 - mae: 3675.6297\n",
            "Epoch 193/200\n",
            "34/34 [==============================] - 0s 2ms/step - loss: 3766.1259 - mae: 3766.1259\n",
            "Epoch 194/200\n",
            "34/34 [==============================] - 0s 1ms/step - loss: 3870.9854 - mae: 3870.9854\n",
            "Epoch 195/200\n",
            "34/34 [==============================] - 0s 1ms/step - loss: 3423.5101 - mae: 3423.5101\n",
            "Epoch 196/200\n",
            "34/34 [==============================] - 0s 1ms/step - loss: 3567.1774 - mae: 3567.1774\n",
            "Epoch 197/200\n",
            "34/34 [==============================] - 0s 1ms/step - loss: 3951.1267 - mae: 3951.1267\n",
            "Epoch 198/200\n",
            "34/34 [==============================] - 0s 1ms/step - loss: 3620.5315 - mae: 3620.5315\n",
            "Epoch 199/200\n",
            "34/34 [==============================] - 0s 1ms/step - loss: 3630.1026 - mae: 3630.1026\n",
            "Epoch 200/200\n",
            "34/34 [==============================] - 0s 1ms/step - loss: 3812.3689 - mae: 3812.3689\n"
          ],
          "name": "stdout"
        }
      ]
    },
    {
      "cell_type": "code",
      "metadata": {
        "colab": {
          "base_uri": "https://localhost:8080/"
        },
        "id": "1dN7YtZElJYZ",
        "outputId": "1ea77026-530c-4b19-f7cb-e38512498e04"
      },
      "source": [
        "#Evcaluate our 3rd model\n",
        "insurance_model_3.evaluate(X_test,y_test)"
      ],
      "execution_count": null,
      "outputs": [
        {
          "output_type": "stream",
          "text": [
            "9/9 [==============================] - 0s 1ms/step - loss: 3488.7854 - mae: 3488.7856\n"
          ],
          "name": "stdout"
        },
        {
          "output_type": "execute_result",
          "data": {
            "text/plain": [
              "[3488.785400390625, 3488.78564453125]"
            ]
          },
          "metadata": {
            "tags": []
          },
          "execution_count": 28
        }
      ]
    },
    {
      "cell_type": "code",
      "metadata": {
        "colab": {
          "base_uri": "https://localhost:8080/",
          "height": 296
        },
        "id": "UA0ds8Zzlcip",
        "outputId": "c89cb927-a093-4414-bf12-a0fca4e3811f"
      },
      "source": [
        "#Plot history (also known as a loss curve or a training curve)\n",
        "pd.DataFrame(history.history).plot()\n",
        "plt.xlabel(\"eppochs\")\n",
        "plt.ylabel(\"loss\")"
      ],
      "execution_count": null,
      "outputs": [
        {
          "output_type": "execute_result",
          "data": {
            "text/plain": [
              "Text(0, 0.5, 'loss')"
            ]
          },
          "metadata": {
            "tags": []
          },
          "execution_count": 32
        },
        {
          "output_type": "display_data",
          "data": {
            "image/png": "[encoded data removed]",
            "text/plain": [
              "<Figure size 432x288 with 1 Axes>"
            ]
          },
          "metadata": {
            "tags": [],
            "needs_background": "light"
          }
        }
      ]
    },
    {
      "cell_type": "markdown",
      "metadata": {
        "id": "s4nnb41GlkzS"
      },
      "source": [
        "**Question:** How long should you train for?\n",
        "\n",
        "It depends on the problem you are working on. Tensorflow has a solution! It's called the EarlyStopping Callback."
      ]
    },
    {
      "cell_type": "markdown",
      "metadata": {
        "id": "4Be8zvKIm-5p"
      },
      "source": [
        "### Preprocessing Data (normalization and standardization)\n",
        "\n",
        "In terms of scaling values, neural network tend to prefer normalization."
      ]
    },
    {
      "cell_type": "code",
      "metadata": {
        "colab": {
          "base_uri": "https://localhost:8080/",
          "height": 404
        },
        "id": "h6IYnDj-qR0b",
        "outputId": "53f156d3-0566-4ecb-a7e6-f6389ff03ce9"
      },
      "source": [
        "import pandas as pd\n",
        "import matplotlib.pyplot as plt\n",
        "import tensorflow as tf\n",
        "\n",
        "# Read the insurance dataframe\n",
        "insurance=pd.read_csv(\"https://raw.githubusercontent.com/stedy/Machine-Learning-with-R-datasets/master/insurance.csv\")\n",
        "insurance"
      ],
      "execution_count": null,
      "outputs": [
        {
          "output_type": "execute_result",
          "data": {
            "text/html": [
              "<div>\n",
              "<style scoped>\n",
              "    .dataframe tbody tr th:only-of-type {\n",
              "        vertical-align: middle;\n",
              "    }\n",
              "\n",
              "    .dataframe tbody tr th {\n",
              "        vertical-align: top;\n",
              "    }\n",
              "\n",
              "    .dataframe thead th {\n",
              "        text-align: right;\n",
              "    }\n",
              "</style>\n",
              "<table border=\"1\" class=\"dataframe\">\n",
              "  <thead>\n",
              "    <tr style=\"text-align: right;\">\n",
              "      <th></th>\n",
              "      <th>age</th>\n",
              "      <th>sex</th>\n",
              "      <th>bmi</th>\n",
              "      <th>children</th>\n",
              "      <th>smoker</th>\n",
              "      <th>region</th>\n",
              "      <th>charges</th>\n",
              "    </tr>\n",
              "  </thead>\n",
              "  <tbody>\n",
              "    <tr>\n",
              "      <th>0</th>\n",
              "      <td>19</td>\n",
              "      <td>female</td>\n",
              "      <td>27.900</td>\n",
              "      <td>0</td>\n",
              "      <td>yes</td>\n",
              "      <td>southwest</td>\n",
              "      <td>16884.92400</td>\n",
              "    </tr>\n",
              "    <tr>\n",
              "      <th>1</th>\n",
              "      <td>18</td>\n",
              "      <td>male</td>\n",
              "      <td>33.770</td>\n",
              "      <td>1</td>\n",
              "      <td>no</td>\n",
              "      <td>southeast</td>\n",
              "      <td>1725.55230</td>\n",
              "    </tr>\n",
              "    <tr>\n",
              "      <th>2</th>\n",
              "      <td>28</td>\n",
              "      <td>male</td>\n",
              "      <td>33.000</td>\n",
              "      <td>3</td>\n",
              "      <td>no</td>\n",
              "      <td>southeast</td>\n",
              "      <td>4449.46200</td>\n",
              "    </tr>\n",
              "    <tr>\n",
              "      <th>3</th>\n",
              "      <td>33</td>\n",
              "      <td>male</td>\n",
              "      <td>22.705</td>\n",
              "      <td>0</td>\n",
              "      <td>no</td>\n",
              "      <td>northwest</td>\n",
              "      <td>21984.47061</td>\n",
              "    </tr>\n",
              "    <tr>\n",
              "      <th>4</th>\n",
              "      <td>32</td>\n",
              "      <td>male</td>\n",
              "      <td>28.880</td>\n",
              "      <td>0</td>\n",
              "      <td>no</td>\n",
              "      <td>northwest</td>\n",
              "      <td>3866.85520</td>\n",
              "    </tr>\n",
              "    <tr>\n",
              "      <th>...</th>\n",
              "      <td>...</td>\n",
              "      <td>...</td>\n",
              "      <td>...</td>\n",
              "      <td>...</td>\n",
              "      <td>...</td>\n",
              "      <td>...</td>\n",
              "      <td>...</td>\n",
              "    </tr>\n",
              "    <tr>\n",
              "      <th>1333</th>\n",
              "      <td>50</td>\n",
              "      <td>male</td>\n",
              "      <td>30.970</td>\n",
              "      <td>3</td>\n",
              "      <td>no</td>\n",
              "      <td>northwest</td>\n",
              "      <td>10600.54830</td>\n",
              "    </tr>\n",
              "    <tr>\n",
              "      <th>1334</th>\n",
              "      <td>18</td>\n",
              "      <td>female</td>\n",
              "      <td>31.920</td>\n",
              "      <td>0</td>\n",
              "      <td>no</td>\n",
              "      <td>northeast</td>\n",
              "      <td>2205.98080</td>\n",
              "    </tr>\n",
              "    <tr>\n",
              "      <th>1335</th>\n",
              "      <td>18</td>\n",
              "      <td>female</td>\n",
              "      <td>36.850</td>\n",
              "      <td>0</td>\n",
              "      <td>no</td>\n",
              "      <td>southeast</td>\n",
              "      <td>1629.83350</td>\n",
              "    </tr>\n",
              "    <tr>\n",
              "      <th>1336</th>\n",
              "      <td>21</td>\n",
              "      <td>female</td>\n",
              "      <td>25.800</td>\n",
              "      <td>0</td>\n",
              "      <td>no</td>\n",
              "      <td>southwest</td>\n",
              "      <td>2007.94500</td>\n",
              "    </tr>\n",
              "    <tr>\n",
              "      <th>1337</th>\n",
              "      <td>61</td>\n",
              "      <td>female</td>\n",
              "      <td>29.070</td>\n",
              "      <td>0</td>\n",
              "      <td>yes</td>\n",
              "      <td>northwest</td>\n",
              "      <td>29141.36030</td>\n",
              "    </tr>\n",
              "  </tbody>\n",
              "</table>\n",
              "<p>1338 rows × 7 columns</p>\n",
              "</div>"
            ],
            "text/plain": [
              "      age     sex     bmi  children smoker     region      charges\n",
              "0      19  female  27.900         0    yes  southwest  16884.92400\n",
              "1      18    male  33.770         1     no  southeast   1725.55230\n",
              "2      28    male  33.000         3     no  southeast   4449.46200\n",
              "3      33    male  22.705         0     no  northwest  21984.47061\n",
              "4      32    male  28.880         0     no  northwest   3866.85520\n",
              "...   ...     ...     ...       ...    ...        ...          ...\n",
              "1333   50    male  30.970         3     no  northwest  10600.54830\n",
              "1334   18  female  31.920         0     no  northeast   2205.98080\n",
              "1335   18  female  36.850         0     no  southeast   1629.83350\n",
              "1336   21  female  25.800         0     no  southwest   2007.94500\n",
              "1337   61  female  29.070         0    yes  northwest  29141.36030\n",
              "\n",
              "[1338 rows x 7 columns]"
            ]
          },
          "metadata": {
            "tags": []
          },
          "execution_count": 46
        }
      ]
    },
    {
      "cell_type": "code",
      "metadata": {
        "colab": {
          "base_uri": "https://localhost:8080/",
          "height": 404
        },
        "id": "2FIgXLlkwoD7",
        "outputId": "5c82413c-dfa7-418f-b914-ad0d73634b95"
      },
      "source": [
        "X"
      ],
      "execution_count": null,
      "outputs": [
        {
          "output_type": "execute_result",
          "data": {
            "text/html": [
              "<div>\n",
              "<style scoped>\n",
              "    .dataframe tbody tr th:only-of-type {\n",
              "        vertical-align: middle;\n",
              "    }\n",
              "\n",
              "    .dataframe tbody tr th {\n",
              "        vertical-align: top;\n",
              "    }\n",
              "\n",
              "    .dataframe thead th {\n",
              "        text-align: right;\n",
              "    }\n",
              "</style>\n",
              "<table border=\"1\" class=\"dataframe\">\n",
              "  <thead>\n",
              "    <tr style=\"text-align: right;\">\n",
              "      <th></th>\n",
              "      <th>age</th>\n",
              "      <th>sex</th>\n",
              "      <th>bmi</th>\n",
              "      <th>children</th>\n",
              "      <th>smoker</th>\n",
              "      <th>region</th>\n",
              "    </tr>\n",
              "  </thead>\n",
              "  <tbody>\n",
              "    <tr>\n",
              "      <th>0</th>\n",
              "      <td>19</td>\n",
              "      <td>female</td>\n",
              "      <td>27.900</td>\n",
              "      <td>0</td>\n",
              "      <td>yes</td>\n",
              "      <td>southwest</td>\n",
              "    </tr>\n",
              "    <tr>\n",
              "      <th>1</th>\n",
              "      <td>18</td>\n",
              "      <td>male</td>\n",
              "      <td>33.770</td>\n",
              "      <td>1</td>\n",
              "      <td>no</td>\n",
              "      <td>southeast</td>\n",
              "    </tr>\n",
              "    <tr>\n",
              "      <th>2</th>\n",
              "      <td>28</td>\n",
              "      <td>male</td>\n",
              "      <td>33.000</td>\n",
              "      <td>3</td>\n",
              "      <td>no</td>\n",
              "      <td>southeast</td>\n",
              "    </tr>\n",
              "    <tr>\n",
              "      <th>3</th>\n",
              "      <td>33</td>\n",
              "      <td>male</td>\n",
              "      <td>22.705</td>\n",
              "      <td>0</td>\n",
              "      <td>no</td>\n",
              "      <td>northwest</td>\n",
              "    </tr>\n",
              "    <tr>\n",
              "      <th>4</th>\n",
              "      <td>32</td>\n",
              "      <td>male</td>\n",
              "      <td>28.880</td>\n",
              "      <td>0</td>\n",
              "      <td>no</td>\n",
              "      <td>northwest</td>\n",
              "    </tr>\n",
              "    <tr>\n",
              "      <th>...</th>\n",
              "      <td>...</td>\n",
              "      <td>...</td>\n",
              "      <td>...</td>\n",
              "      <td>...</td>\n",
              "      <td>...</td>\n",
              "      <td>...</td>\n",
              "    </tr>\n",
              "    <tr>\n",
              "      <th>1333</th>\n",
              "      <td>50</td>\n",
              "      <td>male</td>\n",
              "      <td>30.970</td>\n",
              "      <td>3</td>\n",
              "      <td>no</td>\n",
              "      <td>northwest</td>\n",
              "    </tr>\n",
              "    <tr>\n",
              "      <th>1334</th>\n",
              "      <td>18</td>\n",
              "      <td>female</td>\n",
              "      <td>31.920</td>\n",
              "      <td>0</td>\n",
              "      <td>no</td>\n",
              "      <td>northeast</td>\n",
              "    </tr>\n",
              "    <tr>\n",
              "      <th>1335</th>\n",
              "      <td>18</td>\n",
              "      <td>female</td>\n",
              "      <td>36.850</td>\n",
              "      <td>0</td>\n",
              "      <td>no</td>\n",
              "      <td>southeast</td>\n",
              "    </tr>\n",
              "    <tr>\n",
              "      <th>1336</th>\n",
              "      <td>21</td>\n",
              "      <td>female</td>\n",
              "      <td>25.800</td>\n",
              "      <td>0</td>\n",
              "      <td>no</td>\n",
              "      <td>southwest</td>\n",
              "    </tr>\n",
              "    <tr>\n",
              "      <th>1337</th>\n",
              "      <td>61</td>\n",
              "      <td>female</td>\n",
              "      <td>29.070</td>\n",
              "      <td>0</td>\n",
              "      <td>yes</td>\n",
              "      <td>northwest</td>\n",
              "    </tr>\n",
              "  </tbody>\n",
              "</table>\n",
              "<p>1338 rows × 6 columns</p>\n",
              "</div>"
            ],
            "text/plain": [
              "      age     sex     bmi  children smoker     region\n",
              "0      19  female  27.900         0    yes  southwest\n",
              "1      18    male  33.770         1     no  southeast\n",
              "2      28    male  33.000         3     no  southeast\n",
              "3      33    male  22.705         0     no  northwest\n",
              "4      32    male  28.880         0     no  northwest\n",
              "...   ...     ...     ...       ...    ...        ...\n",
              "1333   50    male  30.970         3     no  northwest\n",
              "1334   18  female  31.920         0     no  northeast\n",
              "1335   18  female  36.850         0     no  southeast\n",
              "1336   21  female  25.800         0     no  southwest\n",
              "1337   61  female  29.070         0    yes  northwest\n",
              "\n",
              "[1338 rows x 6 columns]"
            ]
          },
          "metadata": {
            "tags": []
          },
          "execution_count": 50
        }
      ]
    },
    {
      "cell_type": "markdown",
      "metadata": {
        "id": "4SOgAN7Hq8t0"
      },
      "source": [
        "To prepare our data, we borrow some classes from Scikit-Learn"
      ]
    },
    {
      "cell_type": "code",
      "metadata": {
        "id": "SqAtwP1tncsC"
      },
      "source": [
        "from sklearn.compose import make_column_transformer\n",
        "from sklearn.preprocessing import MinMaxScaler, OneHotEncoder\n",
        "\n",
        "# Create a column transformer\n",
        "ct=make_column_transformer(\n",
        "    (MinMaxScaler(),[\"age\",\"bmi\",\"children\"]), # turn all values in these column between 0 and 1\n",
        "    (OneHotEncoder(handle_unknown=\"ignore\"),[\"sex\",\"smoker\",\"region\"])\n",
        ")\n",
        "\n",
        "# Creae X & y\n",
        "X=insurance.drop(\"charges\",axis=1)\n",
        "y=insurance[\"charges\"]\n",
        "\n",
        "#Build our test and train sets\n",
        "from sklearn.model_selection import train_test_split\n",
        "X_train,X_test,y_train,y_test=train_test_split(X,y,test_size=0.2,random_state=42)\n",
        "\n",
        "#Fit the column transformer to our training data\n",
        "ct.fit(X_train)\n",
        "\n",
        "# Transform training and test data with Normalization ( MinmaxScaler) and OneHotEncoder\n",
        "X_train_normal = ct.transform(X_train)\n",
        "X_test_normal=ct.transform(X_test)"
      ],
      "execution_count": null,
      "outputs": []
    },
    {
      "cell_type": "code",
      "metadata": {
        "colab": {
          "base_uri": "https://localhost:8080/"
        },
        "id": "PcBxHWYM1KKc",
        "outputId": "335357d5-3e0b-4bc0-f0d5-eac926d2c832"
      },
      "source": [
        "#What does our data look like\n",
        "X_train.loc[0]"
      ],
      "execution_count": null,
      "outputs": [
        {
          "output_type": "execute_result",
          "data": {
            "text/plain": [
              "age                19\n",
              "sex            female\n",
              "bmi              27.9\n",
              "children            0\n",
              "smoker            yes\n",
              "region      southwest\n",
              "Name: 0, dtype: object"
            ]
          },
          "metadata": {
            "tags": []
          },
          "execution_count": 54
        }
      ]
    },
    {
      "cell_type": "code",
      "metadata": {
        "colab": {
          "base_uri": "https://localhost:8080/"
        },
        "id": "dmMNI3V-1foZ",
        "outputId": "f3c48543-3eae-466e-9db7-1d8b64c092db"
      },
      "source": [
        "X_train_normal[0]"
      ],
      "execution_count": null,
      "outputs": [
        {
          "output_type": "execute_result",
          "data": {
            "text/plain": [
              "array([0.60869565, 0.10734463, 0.4       , 1.        , 0.        ,\n",
              "       1.        , 0.        , 0.        , 1.        , 0.        ,\n",
              "       0.        ])"
            ]
          },
          "metadata": {
            "tags": []
          },
          "execution_count": 58
        }
      ]
    },
    {
      "cell_type": "code",
      "metadata": {
        "colab": {
          "base_uri": "https://localhost:8080/"
        },
        "id": "wokWNv4C14Rx",
        "outputId": "e5c73199-90c4-4317-fccd-94021a96c938"
      },
      "source": [
        "X_train_normal"
      ],
      "execution_count": null,
      "outputs": [
        {
          "output_type": "execute_result",
          "data": {
            "text/plain": [
              "array([[0.60869565, 0.10734463, 0.4       , ..., 1.        , 0.        ,\n",
              "        0.        ],\n",
              "       [0.63043478, 0.22491256, 0.        , ..., 0.        , 0.        ,\n",
              "        0.        ],\n",
              "       [0.73913043, 0.23944041, 0.        , ..., 0.        , 1.        ,\n",
              "        0.        ],\n",
              "       ...,\n",
              "       [0.86956522, 0.24791499, 0.        , ..., 0.        , 0.        ,\n",
              "        0.        ],\n",
              "       [0.41304348, 0.85122411, 0.4       , ..., 0.        , 0.        ,\n",
              "        1.        ],\n",
              "       [0.80434783, 0.37503363, 0.        , ..., 0.        , 0.        ,\n",
              "        1.        ]])"
            ]
          },
          "metadata": {
            "tags": []
          },
          "execution_count": 59
        }
      ]
    },
    {
      "cell_type": "code",
      "metadata": {
        "colab": {
          "base_uri": "https://localhost:8080/"
        },
        "id": "Prv5D1Nb17Ql",
        "outputId": "1cf14037-9477-4aa0-a959-2a1261689aa8"
      },
      "source": [
        "X_train.shape,X_train_normal.shape"
      ],
      "execution_count": null,
      "outputs": [
        {
          "output_type": "execute_result",
          "data": {
            "text/plain": [
              "((1070, 6), (1070, 11))"
            ]
          },
          "metadata": {
            "tags": []
          },
          "execution_count": 61
        }
      ]
    },
    {
      "cell_type": "markdown",
      "metadata": {
        "id": "45Tc6Fzm2QUu"
      },
      "source": [
        "Our data hase been normalized and one hot encoded. Now lets build a neural network."
      ]
    },
    {
      "cell_type": "code",
      "metadata": {
        "colab": {
          "base_uri": "https://localhost:8080/"
        },
        "id": "Soh-2pAr2cJv",
        "outputId": "1e237426-c2e7-4016-d068-1e2c2b7ef9a3"
      },
      "source": [
        "#Build a neural netowrk to fit our normalized model\n",
        "tf.random.set_seed(42)\n",
        "\n",
        "#1. Create a model\n",
        "insurance_model_4=tf.keras.Sequential([\n",
        "   tf.keras.layers.Dense(100),\n",
        "   tf.keras.layers.Dense(10),\n",
        "   tf.keras.layers.Dense(1)\n",
        "])\n",
        "\n",
        "#2. Compile the model\n",
        "insurance_model_4.compile(loss=tf.keras.losses.mae,\n",
        "                          optimizer=tf.keras.optimizers.Adam(),\n",
        "                          metrics=[\"mae\"])\n",
        "\n",
        "#3. Fit the model\n",
        "insurance_model_4.fit(X_train_normal,y_train,epochs=100)"
      ],
      "execution_count": null,
      "outputs": [
        {
          "output_type": "stream",
          "text": [
            "Epoch 1/100\n",
            "34/34 [==============================] - 0s 1ms/step - loss: 13296.4671 - mae: 13296.4671\n",
            "Epoch 2/100\n",
            "34/34 [==============================] - 0s 1ms/step - loss: 12948.4245 - mae: 12948.4245\n",
            "Epoch 3/100\n",
            "34/34 [==============================] - 0s 1ms/step - loss: 12705.2201 - mae: 12705.2201\n",
            "Epoch 4/100\n",
            "34/34 [==============================] - 0s 1ms/step - loss: 13369.7395 - mae: 13369.7395\n",
            "Epoch 5/100\n",
            "34/34 [==============================] - 0s 1ms/step - loss: 13230.8567 - mae: 13230.8567\n",
            "Epoch 6/100\n",
            "34/34 [==============================] - 0s 1ms/step - loss: 12995.1999 - mae: 12995.1999\n",
            "Epoch 7/100\n",
            "34/34 [==============================] - 0s 1ms/step - loss: 12876.1059 - mae: 12876.1059\n",
            "Epoch 8/100\n",
            "34/34 [==============================] - 0s 1ms/step - loss: 13004.0395 - mae: 13004.0395\n",
            "Epoch 9/100\n",
            "34/34 [==============================] - 0s 1ms/step - loss: 12508.0465 - mae: 12508.0465\n",
            "Epoch 10/100\n",
            "34/34 [==============================] - 0s 1ms/step - loss: 12304.9941 - mae: 12304.9941\n",
            "Epoch 11/100\n",
            "34/34 [==============================] - 0s 2ms/step - loss: 12190.6080 - mae: 12190.6080\n",
            "Epoch 12/100\n",
            "34/34 [==============================] - 0s 1ms/step - loss: 10948.1234 - mae: 10948.1234\n",
            "Epoch 13/100\n",
            "34/34 [==============================] - 0s 1ms/step - loss: 11033.2710 - mae: 11033.2710\n",
            "Epoch 14/100\n",
            "34/34 [==============================] - 0s 1ms/step - loss: 10209.3786 - mae: 10209.3786\n",
            "Epoch 15/100\n",
            "34/34 [==============================] - 0s 1ms/step - loss: 9943.5373 - mae: 9943.5373\n",
            "Epoch 16/100\n",
            "34/34 [==============================] - 0s 1ms/step - loss: 9393.3773 - mae: 9393.3773\n",
            "Epoch 17/100\n",
            "34/34 [==============================] - 0s 1ms/step - loss: 8554.0272 - mae: 8554.0272\n",
            "Epoch 18/100\n",
            "34/34 [==============================] - 0s 1ms/step - loss: 8463.0882 - mae: 8463.0882\n",
            "Epoch 19/100\n",
            "34/34 [==============================] - 0s 1ms/step - loss: 8238.9920 - mae: 8238.9920\n",
            "Epoch 20/100\n",
            "34/34 [==============================] - 0s 1ms/step - loss: 7992.1423 - mae: 7992.1423\n",
            "Epoch 21/100\n",
            "34/34 [==============================] - 0s 1ms/step - loss: 7246.4886 - mae: 7246.4886\n",
            "Epoch 22/100\n",
            "34/34 [==============================] - 0s 1ms/step - loss: 7520.6745 - mae: 7520.6745\n",
            "Epoch 23/100\n",
            "34/34 [==============================] - 0s 1ms/step - loss: 7862.2003 - mae: 7862.2003\n",
            "Epoch 24/100\n",
            "34/34 [==============================] - 0s 1ms/step - loss: 7617.0075 - mae: 7617.0075\n",
            "Epoch 25/100\n",
            "34/34 [==============================] - 0s 1ms/step - loss: 8118.1866 - mae: 8118.1866\n",
            "Epoch 26/100\n",
            "34/34 [==============================] - 0s 1ms/step - loss: 7381.5776 - mae: 7381.5776\n",
            "Epoch 27/100\n",
            "34/34 [==============================] - 0s 1ms/step - loss: 7759.2990 - mae: 7759.2990\n",
            "Epoch 28/100\n",
            "34/34 [==============================] - 0s 1ms/step - loss: 7961.3147 - mae: 7961.3147\n",
            "Epoch 29/100\n",
            "34/34 [==============================] - 0s 1ms/step - loss: 7357.1594 - mae: 7357.1594\n",
            "Epoch 30/100\n",
            "34/34 [==============================] - 0s 1ms/step - loss: 7670.5822 - mae: 7670.5822\n",
            "Epoch 31/100\n",
            "34/34 [==============================] - 0s 2ms/step - loss: 7833.2163 - mae: 7833.2163\n",
            "Epoch 32/100\n",
            "34/34 [==============================] - 0s 1ms/step - loss: 7408.4352 - mae: 7408.4352\n",
            "Epoch 33/100\n",
            "34/34 [==============================] - 0s 1ms/step - loss: 7603.6621 - mae: 7603.6621\n",
            "Epoch 34/100\n",
            "34/34 [==============================] - 0s 1ms/step - loss: 7385.2735 - mae: 7385.2735\n",
            "Epoch 35/100\n",
            "34/34 [==============================] - 0s 1ms/step - loss: 7340.4551 - mae: 7340.4551\n",
            "Epoch 36/100\n",
            "34/34 [==============================] - 0s 1ms/step - loss: 7276.7011 - mae: 7276.7011\n",
            "Epoch 37/100\n",
            "34/34 [==============================] - 0s 1ms/step - loss: 7342.1807 - mae: 7342.1807\n",
            "Epoch 38/100\n",
            "34/34 [==============================] - 0s 1ms/step - loss: 6918.2723 - mae: 6918.2723\n",
            "Epoch 39/100\n",
            "34/34 [==============================] - 0s 1ms/step - loss: 7252.1239 - mae: 7252.1239\n",
            "Epoch 40/100\n",
            "34/34 [==============================] - 0s 1ms/step - loss: 7029.9498 - mae: 7029.9498\n",
            "Epoch 41/100\n",
            "34/34 [==============================] - 0s 1ms/step - loss: 6984.8117 - mae: 6984.8117\n",
            "Epoch 42/100\n",
            "34/34 [==============================] - 0s 1ms/step - loss: 6884.6927 - mae: 6884.6927\n",
            "Epoch 43/100\n",
            "34/34 [==============================] - 0s 1ms/step - loss: 6755.5831 - mae: 6755.5831\n",
            "Epoch 44/100\n",
            "34/34 [==============================] - 0s 1ms/step - loss: 6608.4541 - mae: 6608.4541\n",
            "Epoch 45/100\n",
            "34/34 [==============================] - 0s 1ms/step - loss: 6537.6250 - mae: 6537.6250\n",
            "Epoch 46/100\n",
            "34/34 [==============================] - 0s 1ms/step - loss: 6454.2749 - mae: 6454.2749\n",
            "Epoch 47/100\n",
            "34/34 [==============================] - 0s 1ms/step - loss: 6729.0266 - mae: 6729.0266\n",
            "Epoch 48/100\n",
            "34/34 [==============================] - 0s 1ms/step - loss: 6517.0466 - mae: 6517.0466\n",
            "Epoch 49/100\n",
            "34/34 [==============================] - 0s 1ms/step - loss: 6209.9379 - mae: 6209.9379\n",
            "Epoch 50/100\n",
            "34/34 [==============================] - 0s 1ms/step - loss: 6433.2527 - mae: 6433.2527\n",
            "Epoch 51/100\n",
            "34/34 [==============================] - 0s 1ms/step - loss: 6253.4749 - mae: 6253.4749\n",
            "Epoch 52/100\n",
            "34/34 [==============================] - 0s 2ms/step - loss: 6122.7598 - mae: 6122.7598\n",
            "Epoch 53/100\n",
            "34/34 [==============================] - 0s 1ms/step - loss: 5797.8438 - mae: 5797.8438\n",
            "Epoch 54/100\n",
            "34/34 [==============================] - 0s 1ms/step - loss: 6036.6884 - mae: 6036.6884\n",
            "Epoch 55/100\n",
            "34/34 [==============================] - 0s 1ms/step - loss: 5688.6432 - mae: 5688.6432\n",
            "Epoch 56/100\n",
            "34/34 [==============================] - 0s 1ms/step - loss: 5664.2595 - mae: 5664.2595\n",
            "Epoch 57/100\n",
            "34/34 [==============================] - 0s 1ms/step - loss: 5857.4062 - mae: 5857.4062\n",
            "Epoch 58/100\n",
            "34/34 [==============================] - 0s 1ms/step - loss: 5509.3850 - mae: 5509.3850\n",
            "Epoch 59/100\n",
            "34/34 [==============================] - 0s 1ms/step - loss: 5316.6016 - mae: 5316.6016\n",
            "Epoch 60/100\n",
            "34/34 [==============================] - 0s 1ms/step - loss: 5322.8675 - mae: 5322.8675\n",
            "Epoch 61/100\n",
            "34/34 [==============================] - 0s 1ms/step - loss: 5458.1975 - mae: 5458.1975\n",
            "Epoch 62/100\n",
            "34/34 [==============================] - 0s 1ms/step - loss: 5230.6233 - mae: 5230.6233\n",
            "Epoch 63/100\n",
            "34/34 [==============================] - 0s 1ms/step - loss: 5084.5995 - mae: 5084.5995\n",
            "Epoch 64/100\n",
            "34/34 [==============================] - 0s 1ms/step - loss: 4677.8217 - mae: 4677.8217\n",
            "Epoch 65/100\n",
            "34/34 [==============================] - 0s 1ms/step - loss: 4707.1107 - mae: 4707.1107\n",
            "Epoch 66/100\n",
            "34/34 [==============================] - 0s 1ms/step - loss: 4361.7456 - mae: 4361.7456\n",
            "Epoch 67/100\n",
            "34/34 [==============================] - 0s 1ms/step - loss: 4333.7880 - mae: 4333.7880\n",
            "Epoch 68/100\n",
            "34/34 [==============================] - 0s 1ms/step - loss: 4294.6888 - mae: 4294.6888\n",
            "Epoch 69/100\n",
            "34/34 [==============================] - 0s 1ms/step - loss: 4365.7154 - mae: 4365.7154\n",
            "Epoch 70/100\n",
            "34/34 [==============================] - 0s 1ms/step - loss: 3931.4922 - mae: 3931.4922\n",
            "Epoch 71/100\n",
            "34/34 [==============================] - 0s 1ms/step - loss: 4040.8877 - mae: 4040.8877\n",
            "Epoch 72/100\n",
            "34/34 [==============================] - 0s 1ms/step - loss: 3725.7780 - mae: 3725.7780\n",
            "Epoch 73/100\n",
            "34/34 [==============================] - 0s 2ms/step - loss: 4041.0183 - mae: 4041.0183\n",
            "Epoch 74/100\n",
            "34/34 [==============================] - 0s 1ms/step - loss: 3849.4077 - mae: 3849.4077\n",
            "Epoch 75/100\n",
            "34/34 [==============================] - 0s 1ms/step - loss: 4063.8180 - mae: 4063.8180\n",
            "Epoch 76/100\n",
            "34/34 [==============================] - 0s 1ms/step - loss: 3594.6085 - mae: 3594.6085\n",
            "Epoch 77/100\n",
            "34/34 [==============================] - 0s 1ms/step - loss: 3877.1157 - mae: 3877.1157\n",
            "Epoch 78/100\n",
            "34/34 [==============================] - 0s 1ms/step - loss: 3571.6357 - mae: 3571.6357\n",
            "Epoch 79/100\n",
            "34/34 [==============================] - 0s 1ms/step - loss: 3272.2002 - mae: 3272.2002\n",
            "Epoch 80/100\n",
            "34/34 [==============================] - 0s 1ms/step - loss: 3333.3793 - mae: 3333.3793\n",
            "Epoch 81/100\n",
            "34/34 [==============================] - 0s 1ms/step - loss: 3560.1417 - mae: 3560.1417\n",
            "Epoch 82/100\n",
            "34/34 [==============================] - 0s 1ms/step - loss: 4082.1635 - mae: 4082.1635\n",
            "Epoch 83/100\n",
            "34/34 [==============================] - 0s 1ms/step - loss: 3690.6047 - mae: 3690.6047\n",
            "Epoch 84/100\n",
            "34/34 [==============================] - 0s 1ms/step - loss: 3491.1416 - mae: 3491.1416\n",
            "Epoch 85/100\n",
            "34/34 [==============================] - 0s 1ms/step - loss: 3196.7646 - mae: 3196.7646\n",
            "Epoch 86/100\n",
            "34/34 [==============================] - 0s 2ms/step - loss: 3696.4113 - mae: 3696.4113\n",
            "Epoch 87/100\n",
            "34/34 [==============================] - 0s 1ms/step - loss: 3584.8876 - mae: 3584.8876\n",
            "Epoch 88/100\n",
            "34/34 [==============================] - 0s 1ms/step - loss: 3717.8066 - mae: 3717.8066\n",
            "Epoch 89/100\n",
            "34/34 [==============================] - 0s 1ms/step - loss: 3437.4365 - mae: 3437.4365\n",
            "Epoch 90/100\n",
            "34/34 [==============================] - 0s 1ms/step - loss: 3799.4694 - mae: 3799.4694\n",
            "Epoch 91/100\n",
            "34/34 [==============================] - 0s 1ms/step - loss: 3660.1355 - mae: 3660.1355\n",
            "Epoch 92/100\n",
            "34/34 [==============================] - 0s 1ms/step - loss: 3743.4219 - mae: 3743.4219\n",
            "Epoch 93/100\n",
            "34/34 [==============================] - 0s 1ms/step - loss: 3536.3569 - mae: 3536.3569\n",
            "Epoch 94/100\n",
            "34/34 [==============================] - 0s 1ms/step - loss: 3439.5847 - mae: 3439.5847\n",
            "Epoch 95/100\n",
            "34/34 [==============================] - 0s 1ms/step - loss: 3570.7318 - mae: 3570.7318\n",
            "Epoch 96/100\n",
            "34/34 [==============================] - 0s 1ms/step - loss: 3734.5115 - mae: 3734.5115\n",
            "Epoch 97/100\n",
            "34/34 [==============================] - 0s 1ms/step - loss: 3444.5728 - mae: 3444.5728\n",
            "Epoch 98/100\n",
            "34/34 [==============================] - 0s 1ms/step - loss: 3465.0855 - mae: 3465.0855\n",
            "Epoch 99/100\n",
            "34/34 [==============================] - 0s 1ms/step - loss: 3225.0304 - mae: 3225.0304\n",
            "Epoch 100/100\n",
            "34/34 [==============================] - 0s 1ms/step - loss: 3421.0636 - mae: 3421.0636\n"
          ],
          "name": "stdout"
        },
        {
          "output_type": "execute_result",
          "data": {
            "text/plain": [
              "<tensorflow.python.keras.callbacks.History at 0x7f3af7b83590>"
            ]
          },
          "metadata": {
            "tags": []
          },
          "execution_count": 62
        }
      ]
    },
    {
      "cell_type": "code",
      "metadata": {
        "colab": {
          "base_uri": "https://localhost:8080/"
        },
        "id": "8Lnj5d9A4GBB",
        "outputId": "7d82cca6-e97b-4dd4-f8a8-889cac5e9a21"
      },
      "source": [
        "# Evaluate our insurance model trained on normalized data\n",
        "insurance_model_4.evaluate(X_test_normal,y_test)"
      ],
      "execution_count": null,
      "outputs": [
        {
          "output_type": "stream",
          "text": [
            "9/9 [==============================] - 0s 1ms/step - loss: 3438.7844 - mae: 3438.7844\n"
          ],
          "name": "stdout"
        },
        {
          "output_type": "execute_result",
          "data": {
            "text/plain": [
              "[3438.784423828125, 3438.784423828125]"
            ]
          },
          "metadata": {
            "tags": []
          },
          "execution_count": 63
        }
      ]
    },
    {
      "cell_type": "code",
      "metadata": {
        "id": "W-HoTpXm4ZQo"
      },
      "source": [
        ""
      ],
      "execution_count": null,
      "outputs": []
    },
    {
      "cell_type": "code",
      "metadata": {
        "colab": {
          "base_uri": "https://localhost:8080/",
          "height": 281
        },
        "id": "auImpg8UpQeg",
        "outputId": "078b81b1-8681-4698-aab1-3c0b792aef47"
      },
      "source": [
        "X[\"age\"].plot(kind=\"hist\")"
      ],
      "execution_count": null,
      "outputs": [
        {
          "output_type": "execute_result",
          "data": {
            "text/plain": [
              "<matplotlib.axes._subplots.AxesSubplot at 0x7f3af84306d0>"
            ]
          },
          "metadata": {
            "tags": []
          },
          "execution_count": 34
        },
        {
          "output_type": "display_data",
          "data": {
            "image/png": "[encoded data removed]",
            "text/plain": [
              "<Figure size 432x288 with 1 Axes>"
            ]
          },
          "metadata": {
            "tags": [],
            "needs_background": "light"
          }
        }
      ]
    },
    {
      "cell_type": "code",
      "metadata": {
        "id": "DxA6GURr4EJn"
      },
      "source": [
        ""
      ],
      "execution_count": null,
      "outputs": []
    },
    {
      "cell_type": "code",
      "metadata": {
        "id": "4sOUJUn82bG1"
      },
      "source": [
        ""
      ],
      "execution_count": null,
      "outputs": []
    },
    {
      "cell_type": "code",
      "metadata": {
        "colab": {
          "base_uri": "https://localhost:8080/"
        },
        "id": "jEGH6rgKpWbH",
        "outputId": "04da9723-4428-4339-f1d9-55171897257d"
      },
      "source": [
        "X.info()"
      ],
      "execution_count": null,
      "outputs": [
        {
          "output_type": "stream",
          "text": [
            "<class 'pandas.core.frame.DataFrame'>\n",
            "RangeIndex: 1338 entries, 0 to 1337\n",
            "Data columns (total 11 columns):\n",
            " #   Column            Non-Null Count  Dtype  \n",
            "---  ------            --------------  -----  \n",
            " 0   age               1338 non-null   int64  \n",
            " 1   bmi               1338 non-null   float64\n",
            " 2   children          1338 non-null   int64  \n",
            " 3   sex_female        1338 non-null   uint8  \n",
            " 4   sex_male          1338 non-null   uint8  \n",
            " 5   smoker_no         1338 non-null   uint8  \n",
            " 6   smoker_yes        1338 non-null   uint8  \n",
            " 7   region_northeast  1338 non-null   uint8  \n",
            " 8   region_northwest  1338 non-null   uint8  \n",
            " 9   region_southeast  1338 non-null   uint8  \n",
            " 10  region_southwest  1338 non-null   uint8  \n",
            "dtypes: float64(1), int64(2), uint8(8)\n",
            "memory usage: 41.9 KB\n"
          ],
          "name": "stdout"
        }
      ]
    },
    {
      "cell_type": "code",
      "metadata": {
        "colab": {
          "base_uri": "https://localhost:8080/",
          "height": 281
        },
        "id": "z-dSogMXpZR3",
        "outputId": "e1d68aa5-41fc-454d-89ce-ff99c39be4fc"
      },
      "source": [
        "X[\"bmi\"].plot(kind=\"hist\")"
      ],
      "execution_count": null,
      "outputs": [
        {
          "output_type": "execute_result",
          "data": {
            "text/plain": [
              "<matplotlib.axes._subplots.AxesSubplot at 0x7f3af8253a90>"
            ]
          },
          "metadata": {
            "tags": []
          },
          "execution_count": 37
        },
        {
          "output_type": "display_data",
          "data": {
            "image/png": "[encoded data removed]",
            "text/plain": [
              "<Figure size 432x288 with 1 Axes>"
            ]
          },
          "metadata": {
            "tags": [],
            "needs_background": "light"
          }
        }
      ]
    },
    {
      "cell_type": "code",
      "metadata": {
        "id": "ruIT8R5HpswX"
      },
      "source": [
        ""
      ],
      "execution_count": null,
      "outputs": []
    }
  ]
}