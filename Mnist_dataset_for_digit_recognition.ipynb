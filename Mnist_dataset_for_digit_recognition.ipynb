{
  "nbformat": 4,
  "nbformat_minor": 0,
  "metadata": {
    "colab": {
      "name": "Mnist dataset for digit recognition.ipynb",
      "provenance": [],
      "collapsed_sections": [],
      "authorship_tag": "ABX9TyM5V1JQgVTQJuAUicQhIjrG",
      "include_colab_link": true
    },
    "kernelspec": {
      "name": "python3",
      "display_name": "Python 3"
    },
    "language_info": {
      "name": "python"
    }
  },
  "cells": [
    {
      "cell_type": "markdown",
      "metadata": {
        "id": "view-in-github",
        "colab_type": "text"
      },
      "source": [
        "<a href=\"https://colab.research.google.com/github/reban87/ML-Projects/blob/main/Mnist_dataset_for_digit_recognition.ipynb\" target=\"_parent\"><img src=\"https://colab.research.google.com/assets/colab-badge.svg\" alt=\"Open In Colab\"/></a>"
      ]
    },
    {
      "cell_type": "markdown",
      "metadata": {
        "id": "dQy7FqplWRzO"
      },
      "source": [
        "#### MNIST Digit dataset Classification **Multiclass Classification** using Tensorflow and optimizing the performance using Convolution Neural Network"
      ]
    },
    {
      "cell_type": "code",
      "metadata": {
        "id": "KYLh4sRSKFr2"
      },
      "source": [
        "# import the library\n",
        "import tensorflow as tf\n",
        "import numpy as np\n",
        "import matplotlib.pyplot as plt\n",
        "\n",
        "\n"
      ],
      "execution_count": null,
      "outputs": []
    },
    {
      "cell_type": "code",
      "metadata": {
        "colab": {
          "base_uri": "https://localhost:8080/",
          "height": 35
        },
        "id": "DpxZ0s3cKQD8",
        "outputId": "5f6fd338-08cd-4fee-b52f-3209c4c294e8"
      },
      "source": [
        "# Check the version of tensorflow\n",
        "tf.__version__"
      ],
      "execution_count": null,
      "outputs": [
        {
          "output_type": "execute_result",
          "data": {
            "application/vnd.google.colaboratory.intrinsic+json": {
              "type": "string"
            },
            "text/plain": [
              "'2.5.0'"
            ]
          },
          "metadata": {
            "tags": []
          },
          "execution_count": 2
        }
      ]
    },
    {
      "cell_type": "code",
      "metadata": {
        "id": "0PUaZnfiKYDf"
      },
      "source": [
        "# Download the datasets from keras library\n",
        "\n",
        "from keras.datasets import mnist\n",
        "(train_data,train_labels),(test_data,test_labels)=mnist.load_data()"
      ],
      "execution_count": null,
      "outputs": []
    },
    {
      "cell_type": "code",
      "metadata": {
        "colab": {
          "base_uri": "https://localhost:8080/"
        },
        "id": "_4Lqhb2tKlQP",
        "outputId": "e6d0b610-9007-4a70-9846-37b5953efc2a"
      },
      "source": [
        "#Let's visualize some of the data\n",
        "print(f\"Training Data:\\n {train_data[0]}\\n\")\n",
        "print(f\"Training labels:\\n{train_labels[0]}\\n\")"
      ],
      "execution_count": null,
      "outputs": [
        {
          "output_type": "stream",
          "text": [
            "Training Data:\n",
            " [[  0   0   0   0   0   0   0   0   0   0   0   0   0   0   0   0   0   0\n",
            "    0   0   0   0   0   0   0   0   0   0]\n",
            " [  0   0   0   0   0   0   0   0   0   0   0   0   0   0   0   0   0   0\n",
            "    0   0   0   0   0   0   0   0   0   0]\n",
            " [  0   0   0   0   0   0   0   0   0   0   0   0   0   0   0   0   0   0\n",
            "    0   0   0   0   0   0   0   0   0   0]\n",
            " [  0   0   0   0   0   0   0   0   0   0   0   0   0   0   0   0   0   0\n",
            "    0   0   0   0   0   0   0   0   0   0]\n",
            " [  0   0   0   0   0   0   0   0   0   0   0   0   0   0   0   0   0   0\n",
            "    0   0   0   0   0   0   0   0   0   0]\n",
            " [  0   0   0   0   0   0   0   0   0   0   0   0   3  18  18  18 126 136\n",
            "  175  26 166 255 247 127   0   0   0   0]\n",
            " [  0   0   0   0   0   0   0   0  30  36  94 154 170 253 253 253 253 253\n",
            "  225 172 253 242 195  64   0   0   0   0]\n",
            " [  0   0   0   0   0   0   0  49 238 253 253 253 253 253 253 253 253 251\n",
            "   93  82  82  56  39   0   0   0   0   0]\n",
            " [  0   0   0   0   0   0   0  18 219 253 253 253 253 253 198 182 247 241\n",
            "    0   0   0   0   0   0   0   0   0   0]\n",
            " [  0   0   0   0   0   0   0   0  80 156 107 253 253 205  11   0  43 154\n",
            "    0   0   0   0   0   0   0   0   0   0]\n",
            " [  0   0   0   0   0   0   0   0   0  14   1 154 253  90   0   0   0   0\n",
            "    0   0   0   0   0   0   0   0   0   0]\n",
            " [  0   0   0   0   0   0   0   0   0   0   0 139 253 190   2   0   0   0\n",
            "    0   0   0   0   0   0   0   0   0   0]\n",
            " [  0   0   0   0   0   0   0   0   0   0   0  11 190 253  70   0   0   0\n",
            "    0   0   0   0   0   0   0   0   0   0]\n",
            " [  0   0   0   0   0   0   0   0   0   0   0   0  35 241 225 160 108   1\n",
            "    0   0   0   0   0   0   0   0   0   0]\n",
            " [  0   0   0   0   0   0   0   0   0   0   0   0   0  81 240 253 253 119\n",
            "   25   0   0   0   0   0   0   0   0   0]\n",
            " [  0   0   0   0   0   0   0   0   0   0   0   0   0   0  45 186 253 253\n",
            "  150  27   0   0   0   0   0   0   0   0]\n",
            " [  0   0   0   0   0   0   0   0   0   0   0   0   0   0   0  16  93 252\n",
            "  253 187   0   0   0   0   0   0   0   0]\n",
            " [  0   0   0   0   0   0   0   0   0   0   0   0   0   0   0   0   0 249\n",
            "  253 249  64   0   0   0   0   0   0   0]\n",
            " [  0   0   0   0   0   0   0   0   0   0   0   0   0   0  46 130 183 253\n",
            "  253 207   2   0   0   0   0   0   0   0]\n",
            " [  0   0   0   0   0   0   0   0   0   0   0   0  39 148 229 253 253 253\n",
            "  250 182   0   0   0   0   0   0   0   0]\n",
            " [  0   0   0   0   0   0   0   0   0   0  24 114 221 253 253 253 253 201\n",
            "   78   0   0   0   0   0   0   0   0   0]\n",
            " [  0   0   0   0   0   0   0   0  23  66 213 253 253 253 253 198  81   2\n",
            "    0   0   0   0   0   0   0   0   0   0]\n",
            " [  0   0   0   0   0   0  18 171 219 253 253 253 253 195  80   9   0   0\n",
            "    0   0   0   0   0   0   0   0   0   0]\n",
            " [  0   0   0   0  55 172 226 253 253 253 253 244 133  11   0   0   0   0\n",
            "    0   0   0   0   0   0   0   0   0   0]\n",
            " [  0   0   0   0 136 253 253 253 212 135 132  16   0   0   0   0   0   0\n",
            "    0   0   0   0   0   0   0   0   0   0]\n",
            " [  0   0   0   0   0   0   0   0   0   0   0   0   0   0   0   0   0   0\n",
            "    0   0   0   0   0   0   0   0   0   0]\n",
            " [  0   0   0   0   0   0   0   0   0   0   0   0   0   0   0   0   0   0\n",
            "    0   0   0   0   0   0   0   0   0   0]\n",
            " [  0   0   0   0   0   0   0   0   0   0   0   0   0   0   0   0   0   0\n",
            "    0   0   0   0   0   0   0   0   0   0]]\n",
            "\n",
            "Training labels:\n",
            "5\n",
            "\n"
          ],
          "name": "stdout"
        }
      ]
    },
    {
      "cell_type": "code",
      "metadata": {
        "colab": {
          "base_uri": "https://localhost:8080/",
          "height": 297
        },
        "id": "EVVQE-iULBCv",
        "outputId": "9d12709b-40bc-4ad5-a8cb-88a32763bf2c"
      },
      "source": [
        "# Lets visualize it using plot function\n",
        "import matplotlib.pyplot as plt\n",
        "index=27\n",
        "plt.imshow(train_data[index])\n",
        "plt.title(train_labels[index])\n"
      ],
      "execution_count": null,
      "outputs": [
        {
          "output_type": "execute_result",
          "data": {
            "text/plain": [
              "Text(0.5, 1.0, '3')"
            ]
          },
          "metadata": {
            "tags": []
          },
          "execution_count": 9
        },
        {
          "output_type": "display_data",
          "data": {
            "image/png": "[encoded data removed]",
            "text/plain": [
              "<Figure size 432x288 with 1 Axes>"
            ]
          },
          "metadata": {
            "tags": [],
            "needs_background": "light"
          }
        }
      ]
    },
    {
      "cell_type": "code",
      "metadata": {
        "id": "gzmfU8AIL7-H"
      },
      "source": [
        "import random"
      ],
      "execution_count": null,
      "outputs": []
    },
    {
      "cell_type": "code",
      "metadata": {
        "colab": {
          "base_uri": "https://localhost:8080/"
        },
        "id": "zKipN2KdMte4",
        "outputId": "fb0ebef2-f2bd-40f1-87a2-042f64b16b45"
      },
      "source": [
        "class_names=['0','1','2','3','4','5','6','7','8','9']\n",
        "class_names"
      ],
      "execution_count": null,
      "outputs": [
        {
          "output_type": "execute_result",
          "data": {
            "text/plain": [
              "['0', '1', '2', '3', '4', '5', '6', '7', '8', '9']"
            ]
          },
          "metadata": {
            "tags": []
          },
          "execution_count": 18
        }
      ]
    },
    {
      "cell_type": "code",
      "metadata": {
        "colab": {
          "base_uri": "https://localhost:8080/",
          "height": 590
        },
        "id": "Jrd0q0oOLa_3",
        "outputId": "af35d913-0e8a-4bde-b3ce-1a32973e7d65"
      },
      "source": [
        "# Let's visualize some of the traning images using subplots\n",
        "import random\n",
        "plt.figure(figsize=(10,10))\n",
        "\n",
        "for i in range(4):\n",
        "  plt.subplot(2,2,i+1)\n",
        "  rand_index=random.choice(range(len(train_data)))\n",
        "  plt.imshow(train_data[rand_index],cmap=None)\n",
        "  plt.title(class_names[train_labels[rand_index]])\n",
        "  plt.axis(False)\n",
        "\n"
      ],
      "execution_count": null,
      "outputs": [
        {
          "output_type": "display_data",
          "data": {
            "image/png": "[encoded data removed]",
            "text/plain": [
              "<Figure size 720x720 with 4 Axes>"
            ]
          },
          "metadata": {
            "tags": [],
            "needs_background": "light"
          }
        }
      ]
    },
    {
      "cell_type": "markdown",
      "metadata": {
        "id": "U4CdsqmTLxHO"
      },
      "source": [
        "Lets make the model to classify the images into respective images...\n",
        "we need to know the shapes of the images"
      ]
    },
    {
      "cell_type": "code",
      "metadata": {
        "colab": {
          "base_uri": "https://localhost:8080/"
        },
        "id": "wAbjle9rOp_i",
        "outputId": "2981468e-e78c-4415-883e-4c35fb1ac922"
      },
      "source": [
        "train_data[0].shape"
      ],
      "execution_count": null,
      "outputs": [
        {
          "output_type": "execute_result",
          "data": {
            "text/plain": [
              "(28, 28)"
            ]
          },
          "metadata": {
            "tags": []
          },
          "execution_count": 27
        }
      ]
    },
    {
      "cell_type": "code",
      "metadata": {
        "colab": {
          "base_uri": "https://localhost:8080/"
        },
        "id": "E8LQ6uN6Ou7P",
        "outputId": "afae80d0-6e8b-4649-fc60-e4d3a3fd9f01"
      },
      "source": [
        "#Lets build our first ANN model using tensorflow\n",
        "# Set random seed \n",
        "\n",
        "tf.random.set_seed(42)\n",
        "\n",
        "# 1. Create a model\n",
        "model_1=tf.keras.Sequential([\n",
        "        tf.keras.layers.Flatten(input_shape=(28,28)),\n",
        "        tf.keras.layers.Dense(4,activation=\"relu\"),\n",
        "        tf.keras.layers.Dense(4,activation=\"relu\"),\n",
        "        tf.keras.layers.Dense(10,activation=tf.keras.activations.softmax)\n",
        "])\n",
        "\n",
        "# 2.Compile the model\n",
        "model_1.compile(loss=tf.keras.losses.SparseCategoricalCrossentropy(),\n",
        "                optimizer=tf.keras.optimizers.Adam(),\n",
        "                metrics=[\"accuracy\"])\n",
        "\n",
        "# 3.Fit the model\n",
        "history_1=model_1.fit(train_data,\n",
        "            train_labels,\n",
        "            epochs=20,\n",
        "            validation_data=(test_data,test_labels))"
      ],
      "execution_count": null,
      "outputs": [
        {
          "output_type": "stream",
          "text": [
            "Epoch 1/20\n",
            "1875/1875 [==============================] - 4s 2ms/step - loss: 2.4993 - accuracy: 0.1116 - val_loss: 2.3002 - val_accuracy: 0.1141\n",
            "Epoch 2/20\n",
            "1875/1875 [==============================] - 3s 2ms/step - loss: 1.9961 - accuracy: 0.2120 - val_loss: 1.8645 - val_accuracy: 0.2302\n",
            "Epoch 3/20\n",
            "1875/1875 [==============================] - 3s 2ms/step - loss: 1.8145 - accuracy: 0.2559 - val_loss: 1.7891 - val_accuracy: 0.2805\n",
            "Epoch 4/20\n",
            "1875/1875 [==============================] - 3s 2ms/step - loss: 1.7783 - accuracy: 0.2692 - val_loss: 1.7779 - val_accuracy: 0.2855\n",
            "Epoch 5/20\n",
            "1875/1875 [==============================] - 3s 2ms/step - loss: 1.7456 - accuracy: 0.2859 - val_loss: 1.7218 - val_accuracy: 0.3233\n",
            "Epoch 6/20\n",
            "1875/1875 [==============================] - 3s 2ms/step - loss: 1.7096 - accuracy: 0.3090 - val_loss: 1.6834 - val_accuracy: 0.3064\n",
            "Epoch 7/20\n",
            "1875/1875 [==============================] - 3s 2ms/step - loss: 1.6440 - accuracy: 0.3339 - val_loss: 1.6045 - val_accuracy: 0.3440\n",
            "Epoch 8/20\n",
            "1875/1875 [==============================] - 3s 2ms/step - loss: 1.5435 - accuracy: 0.3791 - val_loss: 1.4513 - val_accuracy: 0.4056\n",
            "Epoch 9/20\n",
            "1875/1875 [==============================] - 3s 2ms/step - loss: 1.4216 - accuracy: 0.4181 - val_loss: 1.3794 - val_accuracy: 0.4169\n",
            "Epoch 10/20\n",
            "1875/1875 [==============================] - 3s 2ms/step - loss: 1.3319 - accuracy: 0.4747 - val_loss: 1.2813 - val_accuracy: 0.5086\n",
            "Epoch 11/20\n",
            "1875/1875 [==============================] - 3s 2ms/step - loss: 1.2368 - accuracy: 0.5300 - val_loss: 1.1854 - val_accuracy: 0.5494\n",
            "Epoch 12/20\n",
            "1875/1875 [==============================] - 3s 2ms/step - loss: 1.2006 - accuracy: 0.5440 - val_loss: 1.1621 - val_accuracy: 0.5576\n",
            "Epoch 13/20\n",
            "1875/1875 [==============================] - 3s 2ms/step - loss: 1.1844 - accuracy: 0.5458 - val_loss: 1.1459 - val_accuracy: 0.5608\n",
            "Epoch 14/20\n",
            "1875/1875 [==============================] - 3s 2ms/step - loss: 1.1734 - accuracy: 0.5519 - val_loss: 1.1584 - val_accuracy: 0.5545\n",
            "Epoch 15/20\n",
            "1875/1875 [==============================] - 3s 2ms/step - loss: 1.1670 - accuracy: 0.5538 - val_loss: 1.1546 - val_accuracy: 0.5707\n",
            "Epoch 16/20\n",
            "1875/1875 [==============================] - 3s 2ms/step - loss: 1.1625 - accuracy: 0.5573 - val_loss: 1.1445 - val_accuracy: 0.5733\n",
            "Epoch 17/20\n",
            "1875/1875 [==============================] - 3s 2ms/step - loss: 1.1599 - accuracy: 0.5580 - val_loss: 1.1349 - val_accuracy: 0.5710\n",
            "Epoch 18/20\n",
            "1875/1875 [==============================] - 3s 2ms/step - loss: 1.1577 - accuracy: 0.5558 - val_loss: 1.1441 - val_accuracy: 0.5601\n",
            "Epoch 19/20\n",
            "1875/1875 [==============================] - 3s 2ms/step - loss: 1.1542 - accuracy: 0.5557 - val_loss: 1.1278 - val_accuracy: 0.5733\n",
            "Epoch 20/20\n",
            "1875/1875 [==============================] - 3s 2ms/step - loss: 1.1540 - accuracy: 0.5570 - val_loss: 1.1514 - val_accuracy: 0.5667\n"
          ],
          "name": "stdout"
        }
      ]
    },
    {
      "cell_type": "code",
      "metadata": {
        "colab": {
          "base_uri": "https://localhost:8080/"
        },
        "id": "wMqrZM2yQVSw",
        "outputId": "0319e921-e24f-48d6-d8f7-dc84714655c3"
      },
      "source": [
        "#The accuracy doesn't seem to be good..lets try to normalize the training data\n",
        "train_data.min(), train_data.max()"
      ],
      "execution_count": null,
      "outputs": [
        {
          "output_type": "execute_result",
          "data": {
            "text/plain": [
              "(0, 255)"
            ]
          },
          "metadata": {
            "tags": []
          },
          "execution_count": 34
        }
      ]
    },
    {
      "cell_type": "code",
      "metadata": {
        "id": "Ejo4X8Z3R1yR"
      },
      "source": [
        "#let's try to normalize the training data by dividing 255 for all\n",
        "norm_train_data=train_data/255.0\n",
        "norm_test_data=test_data/255.0\n"
      ],
      "execution_count": null,
      "outputs": []
    },
    {
      "cell_type": "code",
      "metadata": {
        "colab": {
          "base_uri": "https://localhost:8080/"
        },
        "id": "cKu7hWwsSMRv",
        "outputId": "eb2a0337-3c30-4b5d-eb0c-b13d82bf9aaf"
      },
      "source": [
        "norm_train_data.min(), norm_test_data.max()"
      ],
      "execution_count": null,
      "outputs": [
        {
          "output_type": "execute_result",
          "data": {
            "text/plain": [
              "(0.0, 1.0)"
            ]
          },
          "metadata": {
            "tags": []
          },
          "execution_count": 36
        }
      ]
    },
    {
      "cell_type": "code",
      "metadata": {
        "colab": {
          "base_uri": "https://localhost:8080/"
        },
        "id": "WsyLJNooSRZP",
        "outputId": "3eae68a3-3d95-4c76-9dcf-e57415a8d954"
      },
      "source": [
        "#Now lets build the ANN model wheather it increases the accuracy\n",
        "\n",
        "# Create a random seed\n",
        "tf.random.set_seed(42)\n",
        "\n",
        "# 1.Create a model\n",
        "model_2=tf.keras.Sequential([\n",
        "        tf.keras.layers.Flatten(input_shape=(28,28)),\n",
        "        tf.keras.layers.Dense(4,activation=\"relu\"),\n",
        "        tf.keras.layers.Dense(4,activation=\"relu\"),\n",
        "        tf.keras.layers.Dense(10,activation=tf.keras.activations.softmax)\n",
        "])\n",
        "\n",
        "# 2.Compile the model\n",
        "model_2.compile(loss=tf.keras.losses.SparseCategoricalCrossentropy(),\n",
        "                optimizer=tf.keras.optimizers.Adam(),\n",
        "                metrics=[\"accuracy\"])\n",
        "\n",
        "#3. Fit the model\n",
        "history_2=model_2.fit(norm_train_data,\n",
        "                      train_labels,\n",
        "                      epochs=20,\n",
        "                      validation_data=(norm_test_data,test_labels))"
      ],
      "execution_count": null,
      "outputs": [
        {
          "output_type": "stream",
          "text": [
            "Epoch 1/20\n",
            "1875/1875 [==============================] - 3s 2ms/step - loss: 1.0472 - accuracy: 0.6442 - val_loss: 0.7344 - val_accuracy: 0.7569\n",
            "Epoch 2/20\n",
            "1875/1875 [==============================] - 3s 2ms/step - loss: 0.6970 - accuracy: 0.7717 - val_loss: 0.6814 - val_accuracy: 0.7860\n",
            "Epoch 3/20\n",
            "1875/1875 [==============================] - 3s 2ms/step - loss: 0.6434 - accuracy: 0.8000 - val_loss: 0.6276 - val_accuracy: 0.8119\n",
            "Epoch 4/20\n",
            "1875/1875 [==============================] - 3s 2ms/step - loss: 0.6126 - accuracy: 0.8127 - val_loss: 0.6022 - val_accuracy: 0.8223\n",
            "Epoch 5/20\n",
            "1875/1875 [==============================] - 3s 2ms/step - loss: 0.5921 - accuracy: 0.8207 - val_loss: 0.5926 - val_accuracy: 0.8231\n",
            "Epoch 6/20\n",
            "1875/1875 [==============================] - 3s 2ms/step - loss: 0.5752 - accuracy: 0.8272 - val_loss: 0.5817 - val_accuracy: 0.8277\n",
            "Epoch 7/20\n",
            "1875/1875 [==============================] - 3s 2ms/step - loss: 0.5625 - accuracy: 0.8316 - val_loss: 0.5828 - val_accuracy: 0.8275\n",
            "Epoch 8/20\n",
            "1875/1875 [==============================] - 3s 2ms/step - loss: 0.5533 - accuracy: 0.8358 - val_loss: 0.5635 - val_accuracy: 0.8369\n",
            "Epoch 9/20\n",
            "1875/1875 [==============================] - 3s 2ms/step - loss: 0.5450 - accuracy: 0.8379 - val_loss: 0.5597 - val_accuracy: 0.8398\n",
            "Epoch 10/20\n",
            "1875/1875 [==============================] - 3s 2ms/step - loss: 0.5385 - accuracy: 0.8392 - val_loss: 0.5536 - val_accuracy: 0.8397\n",
            "Epoch 11/20\n",
            "1875/1875 [==============================] - 3s 2ms/step - loss: 0.5320 - accuracy: 0.8415 - val_loss: 0.5538 - val_accuracy: 0.8394\n",
            "Epoch 12/20\n",
            "1875/1875 [==============================] - 3s 2ms/step - loss: 0.5269 - accuracy: 0.8433 - val_loss: 0.5486 - val_accuracy: 0.8399\n",
            "Epoch 13/20\n",
            "1875/1875 [==============================] - 3s 2ms/step - loss: 0.5223 - accuracy: 0.8461 - val_loss: 0.5426 - val_accuracy: 0.8450\n",
            "Epoch 14/20\n",
            "1875/1875 [==============================] - 3s 2ms/step - loss: 0.5181 - accuracy: 0.8469 - val_loss: 0.5441 - val_accuracy: 0.8456\n",
            "Epoch 15/20\n",
            "1875/1875 [==============================] - 3s 2ms/step - loss: 0.5142 - accuracy: 0.8483 - val_loss: 0.5391 - val_accuracy: 0.8457\n",
            "Epoch 16/20\n",
            "1875/1875 [==============================] - 3s 2ms/step - loss: 0.5100 - accuracy: 0.8504 - val_loss: 0.5424 - val_accuracy: 0.8455\n",
            "Epoch 17/20\n",
            "1875/1875 [==============================] - 3s 2ms/step - loss: 0.5074 - accuracy: 0.8495 - val_loss: 0.5354 - val_accuracy: 0.8488\n",
            "Epoch 18/20\n",
            "1875/1875 [==============================] - 3s 2ms/step - loss: 0.5041 - accuracy: 0.8513 - val_loss: 0.5336 - val_accuracy: 0.8481\n",
            "Epoch 19/20\n",
            "1875/1875 [==============================] - 3s 2ms/step - loss: 0.5010 - accuracy: 0.8524 - val_loss: 0.5260 - val_accuracy: 0.8531\n",
            "Epoch 20/20\n",
            "1875/1875 [==============================] - 3s 2ms/step - loss: 0.4991 - accuracy: 0.8538 - val_loss: 0.5230 - val_accuracy: 0.8520\n"
          ],
          "name": "stdout"
        }
      ]
    },
    {
      "cell_type": "code",
      "metadata": {
        "colab": {
          "base_uri": "https://localhost:8080/",
          "height": 561
        },
        "id": "AfkjhT8oTi50",
        "outputId": "c630640a-94d2-4e52-ce66-9e09f80120db"
      },
      "source": [
        "# Lets compare the normalized VS non normalized model\n",
        "\n",
        "import pandas as pd\n",
        "pd.DataFrame(history_1.history).plot(title=\"Non Normalized Data\")\n",
        "pd.DataFrame(history_2.history).plot(title=\"Normalized Data\")"
      ],
      "execution_count": null,
      "outputs": [
        {
          "output_type": "execute_result",
          "data": {
            "text/plain": [
              "<matplotlib.axes._subplots.AxesSubplot at 0x7fd038edff10>"
            ]
          },
          "metadata": {
            "tags": []
          },
          "execution_count": 40
        },
        {
          "output_type": "display_data",
          "data": {
            "image/png": "[encoded data removed]",
            "text/plain": [
              "<Figure size 432x288 with 1 Axes>"
            ]
          },
          "metadata": {
            "tags": [],
            "needs_background": "light"
          }
        },
        {
          "output_type": "display_data",
          "data": {
            "image/png": "[encoded data removed]",
            "text/plain": [
              "<Figure size 432x288 with 1 Axes>"
            ]
          },
          "metadata": {
            "tags": [],
            "needs_background": "light"
          }
        }
      ]
    },
    {
      "cell_type": "markdown",
      "metadata": {
        "id": "DpqMiupcUwL8"
      },
      "source": [
        " Since we are using Adam optimizer, we can set the learning rate... First let's determine the ideal learning rate for our model....\n",
        " To do so, lets use callbacks function while building our model\n"
      ]
    },
    {
      "cell_type": "code",
      "metadata": {
        "colab": {
          "base_uri": "https://localhost:8080/"
        },
        "id": "CiWL79OTVUj_",
        "outputId": "01e027eb-6a7d-47d8-ef3a-339d6637a8aa"
      },
      "source": [
        "# Set random seed\n",
        "tf.random.set_seed(42)\n",
        "\n",
        "# 1.Create the model\n",
        "model_3=tf.keras.Sequential([\n",
        "        tf.keras.layers.Flatten(input_shape=(28,28)),\n",
        "        tf.keras.layers.Dense(4,activation=\"relu\"),\n",
        "        tf.keras.layers.Dense(4,activation=\"relu\"),\n",
        "        tf.keras.layers.Dense(10,activation=tf.keras.activations.softmax)\n",
        "])\n",
        "\n",
        "# 2. Compile the model\n",
        "model_3.compile(loss=tf.keras.losses.SparseCategoricalCrossentropy(),\n",
        "                optimizer=tf.keras.optimizers.Adam(),\n",
        "                metrics=[\"accuracy\"])\n",
        "\n",
        "# 3. Create a callback function to determine the ideal learning rate\n",
        "lr_schedular=tf.keras.callbacks.LearningRateScheduler(lambda epochs:1e-3*10**(epochs/20))\n",
        "\n",
        "# 4.Fit the model\n",
        "history_3=model_3.fit(norm_train_data,\n",
        "                      train_labels,\n",
        "                      epochs=40,\n",
        "                      \n",
        "                      \n",
        "                      \n",
        "                      \n",
        "                      \n",
        "                      \n",
        "                      \n",
        "                      \n",
        "                      edular,\n",
        "                      validation_data=(norm_test_data,\n",
        "                                       test_labels))\n"
      ],
      "execution_count": null,
      "outputs": [
        {
          "output_type": "stream",
          "text": [
            "Epoch 1/40\n",
            "1875/1875 [==============================] - 4s 2ms/step - loss: 1.0472 - accuracy: 0.6442 - val_loss: 0.7344 - val_accuracy: 0.7569\n",
            "Epoch 2/40\n",
            "1875/1875 [==============================] - 3s 2ms/step - loss: 0.6951 - accuracy: 0.7727 - val_loss: 0.6813 - val_accuracy: 0.7868\n",
            "Epoch 3/40\n",
            "1875/1875 [==============================] - 3s 2ms/step - loss: 0.6390 - accuracy: 0.8026 - val_loss: 0.6174 - val_accuracy: 0.8157\n",
            "Epoch 4/40\n",
            "1875/1875 [==============================] - 3s 2ms/step - loss: 0.6063 - accuracy: 0.8159 - val_loss: 0.5949 - val_accuracy: 0.8214\n",
            "Epoch 5/40\n",
            "1875/1875 [==============================] - 3s 2ms/step - loss: 0.5842 - accuracy: 0.8243 - val_loss: 0.5835 - val_accuracy: 0.8259\n",
            "Epoch 6/40\n",
            "1875/1875 [==============================] - 3s 2ms/step - loss: 0.5671 - accuracy: 0.8300 - val_loss: 0.5744 - val_accuracy: 0.8309\n",
            "Epoch 7/40\n",
            "1875/1875 [==============================] - 3s 2ms/step - loss: 0.5531 - accuracy: 0.8341 - val_loss: 0.5719 - val_accuracy: 0.8313\n",
            "Epoch 8/40\n",
            "1875/1875 [==============================] - 3s 2ms/step - loss: 0.5435 - accuracy: 0.8385 - val_loss: 0.5602 - val_accuracy: 0.8395\n",
            "Epoch 9/40\n",
            "1875/1875 [==============================] - 3s 2ms/step - loss: 0.5355 - accuracy: 0.8405 - val_loss: 0.5455 - val_accuracy: 0.8395\n",
            "Epoch 10/40\n",
            "1875/1875 [==============================] - 3s 2ms/step - loss: 0.5317 - accuracy: 0.8413 - val_loss: 0.5590 - val_accuracy: 0.8392\n",
            "Epoch 11/40\n",
            "1875/1875 [==============================] - 3s 2ms/step - loss: 0.5261 - accuracy: 0.8436 - val_loss: 0.5354 - val_accuracy: 0.8462\n",
            "Epoch 12/40\n",
            "1875/1875 [==============================] - 3s 2ms/step - loss: 0.5247 - accuracy: 0.8444 - val_loss: 0.5571 - val_accuracy: 0.8423\n",
            "Epoch 13/40\n",
            "1875/1875 [==============================] - 3s 2ms/step - loss: 0.5224 - accuracy: 0.8461 - val_loss: 0.5379 - val_accuracy: 0.8499\n",
            "Epoch 14/40\n",
            "1875/1875 [==============================] - 3s 2ms/step - loss: 0.5240 - accuracy: 0.8471 - val_loss: 0.5396 - val_accuracy: 0.8441\n",
            "Epoch 15/40\n",
            "1875/1875 [==============================] - 3s 2ms/step - loss: 0.5256 - accuracy: 0.8453 - val_loss: 0.5417 - val_accuracy: 0.8510\n",
            "Epoch 16/40\n",
            "1875/1875 [==============================] - 3s 2ms/step - loss: 0.5241 - accuracy: 0.8454 - val_loss: 0.5510 - val_accuracy: 0.8461\n",
            "Epoch 17/40\n",
            "1875/1875 [==============================] - 3s 2ms/step - loss: 0.5299 - accuracy: 0.8425 - val_loss: 0.5355 - val_accuracy: 0.8496\n",
            "Epoch 18/40\n",
            "1875/1875 [==============================] - 3s 2ms/step - loss: 0.5292 - accuracy: 0.8437 - val_loss: 0.5414 - val_accuracy: 0.8436\n",
            "Epoch 19/40\n",
            "1875/1875 [==============================] - 3s 2ms/step - loss: 0.5310 - accuracy: 0.8407 - val_loss: 0.5488 - val_accuracy: 0.8423\n",
            "Epoch 20/40\n",
            "1875/1875 [==============================] - 3s 2ms/step - loss: 0.5335 - accuracy: 0.8402 - val_loss: 0.5370 - val_accuracy: 0.8426\n",
            "Epoch 21/40\n",
            "1875/1875 [==============================] - 3s 2ms/step - loss: 0.5388 - accuracy: 0.8386 - val_loss: 0.6122 - val_accuracy: 0.8207\n",
            "Epoch 22/40\n",
            "1875/1875 [==============================] - 3s 2ms/step - loss: 0.5339 - accuracy: 0.8408 - val_loss: 0.6003 - val_accuracy: 0.8263\n",
            "Epoch 23/40\n",
            "1875/1875 [==============================] - 3s 2ms/step - loss: 0.5456 - accuracy: 0.8371 - val_loss: 0.5203 - val_accuracy: 0.8539\n",
            "Epoch 24/40\n",
            "1875/1875 [==============================] - 3s 2ms/step - loss: 0.5451 - accuracy: 0.8389 - val_loss: 0.5279 - val_accuracy: 0.8460\n",
            "Epoch 25/40\n",
            "1875/1875 [==============================] - 3s 2ms/step - loss: 0.5497 - accuracy: 0.8365 - val_loss: 0.5886 - val_accuracy: 0.8241\n",
            "Epoch 26/40\n",
            "1875/1875 [==============================] - 3s 2ms/step - loss: 0.5515 - accuracy: 0.8392 - val_loss: 0.5359 - val_accuracy: 0.8477\n",
            "Epoch 27/40\n",
            "1875/1875 [==============================] - 3s 2ms/step - loss: 0.5581 - accuracy: 0.8379 - val_loss: 0.5732 - val_accuracy: 0.8418\n",
            "Epoch 28/40\n",
            "1875/1875 [==============================] - 3s 2ms/step - loss: 0.5737 - accuracy: 0.8340 - val_loss: 0.5642 - val_accuracy: 0.8450\n",
            "Epoch 29/40\n",
            "1875/1875 [==============================] - 3s 2ms/step - loss: 0.5874 - accuracy: 0.8286 - val_loss: 0.5955 - val_accuracy: 0.8226\n",
            "Epoch 30/40\n",
            "1875/1875 [==============================] - 3s 2ms/step - loss: 0.6060 - accuracy: 0.8245 - val_loss: 0.6254 - val_accuracy: 0.8256\n",
            "Epoch 31/40\n",
            "1875/1875 [==============================] - 3s 2ms/step - loss: 0.6113 - accuracy: 0.8247 - val_loss: 0.6189 - val_accuracy: 0.8357\n",
            "Epoch 32/40\n",
            "1875/1875 [==============================] - 3s 2ms/step - loss: 0.6377 - accuracy: 0.8176 - val_loss: 0.6107 - val_accuracy: 0.8338\n",
            "Epoch 33/40\n",
            "1875/1875 [==============================] - 3s 2ms/step - loss: 0.6687 - accuracy: 0.8087 - val_loss: 0.6188 - val_accuracy: 0.8358\n",
            "Epoch 34/40\n",
            "1875/1875 [==============================] - 3s 2ms/step - loss: 0.7046 - accuracy: 0.8010 - val_loss: 0.7464 - val_accuracy: 0.7944\n",
            "Epoch 35/40\n",
            "1875/1875 [==============================] - 3s 2ms/step - loss: 0.7518 - accuracy: 0.7866 - val_loss: 0.8610 - val_accuracy: 0.7698\n",
            "Epoch 36/40\n",
            "1875/1875 [==============================] - 3s 2ms/step - loss: 0.7966 - accuracy: 0.7747 - val_loss: 0.6720 - val_accuracy: 0.8304\n",
            "Epoch 37/40\n",
            "1875/1875 [==============================] - 3s 2ms/step - loss: 0.8553 - accuracy: 0.7567 - val_loss: 0.9565 - val_accuracy: 0.7748\n",
            "Epoch 38/40\n",
            "1875/1875 [==============================] - 3s 2ms/step - loss: 0.9454 - accuracy: 0.7269 - val_loss: 1.0409 - val_accuracy: 0.7420\n",
            "Epoch 39/40\n",
            "1875/1875 [==============================] - 3s 2ms/step - loss: 1.1568 - accuracy: 0.6354 - val_loss: 1.2120 - val_accuracy: 0.5264\n",
            "Epoch 40/40\n",
            "1875/1875 [==============================] - 3s 2ms/step - loss: 1.3093 - accuracy: 0.5568 - val_loss: 1.3729 - val_accuracy: 0.4821\n"
          ],
          "name": "stdout"
        }
      ]
    },
    {
      "cell_type": "code",
      "metadata": {
        "colab": {
          "base_uri": "https://localhost:8080/",
          "height": 316
        },
        "id": "vDClTeZGXCV8",
        "outputId": "4c996754-324c-48d9-999c-d2bf3ba2f9dd"
      },
      "source": [
        "# Lets see the ideal learning rate using the graph\n",
        "\n",
        "lrs=1e-3 * (10**(tf.range(40)/20))\n",
        "plt.semilogx(lrs,history_3.history[\"loss\"])\n",
        "plt.ylabel(\"Loss\")\n",
        "plt.xlabel(\"Learning Rate\")\n",
        "plt.title(\"Findint the learning rate\") "
      ],
      "execution_count": null,
      "outputs": [
        {
          "output_type": "execute_result",
          "data": {
            "text/plain": [
              "Text(0.5, 1.0, 'Findint the learning rate')"
            ]
          },
          "metadata": {
            "tags": []
          },
          "execution_count": 47
        },
        {
          "output_type": "display_data",
          "data": {
            "image/png": "[encoded data removed]",
            "text/plain": [
              "<Figure size 432x288 with 1 Axes>"
            ]
          },
          "metadata": {
            "tags": [],
            "needs_background": "light"
          }
        }
      ]
    },
    {
      "cell_type": "code",
      "metadata": {
        "colab": {
          "base_uri": "https://localhost:8080/"
        },
        "id": "ORU0e1D6YTOF",
        "outputId": "77186fd5-14d4-457c-c2e4-4ec56090521b"
      },
      "source": [
        "# It seems we have 0.001 is the ideal rate for our model\n",
        "\n",
        "# Set random seed\n",
        "tf.random.set_seed(42)\n",
        "\n",
        "# 1.Create a model\n",
        "model_4=tf.keras.Sequential([\n",
        "        tf.keras.layers.Flatten(input_shape=(28,28)),\n",
        "        tf.keras.layers.Dense(4,activation=\"relu\"),\n",
        "        tf.keras.layers.Dense(4,activation=\"relu\"),\n",
        "        tf.keras.layers.Dense(10,activation=tf.keras.activations.softmax)\n",
        "])\n",
        "\n",
        "# 2.Compile the model\n",
        "model_4.compile(loss=tf.keras.losses.SparseCategoricalCrossentropy(),\n",
        "                optimizer=tf.keras.optimizers.Adam(0.001),\n",
        "                metrics=[\"accuracy\"])\n",
        "\n",
        "# 3.Fit the model\n",
        "history_4=model_4.fit(norm_train_data,\n",
        "                      train_labels,\n",
        "                      epochs=40,\n",
        "                      validation_data=(norm_test_data,\n",
        "                                       test_labels))"
      ],
      "execution_count": null,
      "outputs": [
        {
          "output_type": "stream",
          "text": [
            "Epoch 1/40\n",
            "1875/1875 [==============================] - 4s 2ms/step - loss: 1.0472 - accuracy: 0.6442 - val_loss: 0.7344 - val_accuracy: 0.7569\n",
            "Epoch 2/40\n",
            "1875/1875 [==============================] - 3s 2ms/step - loss: 0.6970 - accuracy: 0.7717 - val_loss: 0.6814 - val_accuracy: 0.7860\n",
            "Epoch 3/40\n",
            "1875/1875 [==============================] - 3s 2ms/step - loss: 0.6434 - accuracy: 0.8000 - val_loss: 0.6276 - val_accuracy: 0.8119\n",
            "Epoch 4/40\n",
            "1875/1875 [==============================] - 3s 2ms/step - loss: 0.6126 - accuracy: 0.8127 - val_loss: 0.6022 - val_accuracy: 0.8223\n",
            "Epoch 5/40\n",
            "1875/1875 [==============================] - 3s 2ms/step - loss: 0.5921 - accuracy: 0.8207 - val_loss: 0.5926 - val_accuracy: 0.8231\n",
            "Epoch 6/40\n",
            "1875/1875 [==============================] - 3s 2ms/step - loss: 0.5752 - accuracy: 0.8272 - val_loss: 0.5817 - val_accuracy: 0.8277\n",
            "Epoch 7/40\n",
            "1875/1875 [==============================] - 3s 2ms/step - loss: 0.5625 - accuracy: 0.8316 - val_loss: 0.5828 - val_accuracy: 0.8275\n",
            "Epoch 8/40\n",
            "1875/1875 [==============================] - 3s 2ms/step - loss: 0.5533 - accuracy: 0.8358 - val_loss: 0.5635 - val_accuracy: 0.8369\n",
            "Epoch 9/40\n",
            "1875/1875 [==============================] - 3s 2ms/step - loss: 0.5450 - accuracy: 0.8379 - val_loss: 0.5597 - val_accuracy: 0.8398\n",
            "Epoch 10/40\n",
            "1875/1875 [==============================] - 3s 2ms/step - loss: 0.5385 - accuracy: 0.8392 - val_loss: 0.5536 - val_accuracy: 0.8397\n",
            "Epoch 11/40\n",
            "1875/1875 [==============================] - 3s 2ms/step - loss: 0.5320 - accuracy: 0.8415 - val_loss: 0.5538 - val_accuracy: 0.8394\n",
            "Epoch 12/40\n",
            "1875/1875 [==============================] - 3s 2ms/step - loss: 0.5269 - accuracy: 0.8433 - val_loss: 0.5486 - val_accuracy: 0.8399\n",
            "Epoch 13/40\n",
            "1875/1875 [==============================] - 3s 2ms/step - loss: 0.5223 - accuracy: 0.8461 - val_loss: 0.5426 - val_accuracy: 0.8450\n",
            "Epoch 14/40\n",
            "1875/1875 [==============================] - 3s 2ms/step - loss: 0.5181 - accuracy: 0.8469 - val_loss: 0.5441 - val_accuracy: 0.8456\n",
            "Epoch 15/40\n",
            "1875/1875 [==============================] - 3s 2ms/step - loss: 0.5142 - accuracy: 0.8483 - val_loss: 0.5391 - val_accuracy: 0.8457\n",
            "Epoch 16/40\n",
            "1875/1875 [==============================] - 3s 2ms/step - loss: 0.5100 - accuracy: 0.8504 - val_loss: 0.5424 - val_accuracy: 0.8455\n",
            "Epoch 17/40\n",
            "1875/1875 [==============================] - 3s 2ms/step - loss: 0.5074 - accuracy: 0.8495 - val_loss: 0.5354 - val_accuracy: 0.8488\n",
            "Epoch 18/40\n",
            "1875/1875 [==============================] - 3s 2ms/step - loss: 0.5041 - accuracy: 0.8513 - val_loss: 0.5336 - val_accuracy: 0.8481\n",
            "Epoch 19/40\n",
            "1875/1875 [==============================] - 3s 2ms/step - loss: 0.5010 - accuracy: 0.8524 - val_loss: 0.5260 - val_accuracy: 0.8531\n",
            "Epoch 20/40\n",
            "1875/1875 [==============================] - 3s 2ms/step - loss: 0.4991 - accuracy: 0.8538 - val_loss: 0.5230 - val_accuracy: 0.8520\n",
            "Epoch 21/40\n",
            "1875/1875 [==============================] - 3s 2ms/step - loss: 0.4971 - accuracy: 0.8552 - val_loss: 0.5281 - val_accuracy: 0.8515\n",
            "Epoch 22/40\n",
            "1875/1875 [==============================] - 3s 2ms/step - loss: 0.4944 - accuracy: 0.8570 - val_loss: 0.5255 - val_accuracy: 0.8527\n",
            "Epoch 23/40\n",
            "1875/1875 [==============================] - 3s 2ms/step - loss: 0.4927 - accuracy: 0.8570 - val_loss: 0.5250 - val_accuracy: 0.8551\n",
            "Epoch 24/40\n",
            "1875/1875 [==============================] - 3s 2ms/step - loss: 0.4900 - accuracy: 0.8587 - val_loss: 0.5272 - val_accuracy: 0.8533\n",
            "Epoch 25/40\n",
            "1875/1875 [==============================] - 4s 2ms/step - loss: 0.4889 - accuracy: 0.8591 - val_loss: 0.5261 - val_accuracy: 0.8557\n",
            "Epoch 26/40\n",
            "1875/1875 [==============================] - 4s 2ms/step - loss: 0.4873 - accuracy: 0.8599 - val_loss: 0.5226 - val_accuracy: 0.8556\n",
            "Epoch 27/40\n",
            "1875/1875 [==============================] - 3s 2ms/step - loss: 0.4873 - accuracy: 0.8592 - val_loss: 0.5201 - val_accuracy: 0.8563\n",
            "Epoch 28/40\n",
            "1875/1875 [==============================] - 4s 2ms/step - loss: 0.4854 - accuracy: 0.8603 - val_loss: 0.5243 - val_accuracy: 0.8553\n",
            "Epoch 29/40\n",
            "1875/1875 [==============================] - 4s 2ms/step - loss: 0.4852 - accuracy: 0.8601 - val_loss: 0.5192 - val_accuracy: 0.8588\n",
            "Epoch 30/40\n",
            "1875/1875 [==============================] - 3s 2ms/step - loss: 0.4841 - accuracy: 0.8606 - val_loss: 0.5252 - val_accuracy: 0.8540\n",
            "Epoch 31/40\n",
            "1875/1875 [==============================] - 3s 2ms/step - loss: 0.4825 - accuracy: 0.8604 - val_loss: 0.5295 - val_accuracy: 0.8547\n",
            "Epoch 32/40\n",
            "1875/1875 [==============================] - 3s 2ms/step - loss: 0.4820 - accuracy: 0.8608 - val_loss: 0.5167 - val_accuracy: 0.8594\n",
            "Epoch 33/40\n",
            "1875/1875 [==============================] - 3s 2ms/step - loss: 0.4817 - accuracy: 0.8613 - val_loss: 0.5187 - val_accuracy: 0.8565\n",
            "Epoch 34/40\n",
            "1875/1875 [==============================] - 3s 2ms/step - loss: 0.4805 - accuracy: 0.8612 - val_loss: 0.5270 - val_accuracy: 0.8554\n",
            "Epoch 35/40\n",
            "1875/1875 [==============================] - 3s 2ms/step - loss: 0.4800 - accuracy: 0.8622 - val_loss: 0.5170 - val_accuracy: 0.8576\n",
            "Epoch 36/40\n",
            "1875/1875 [==============================] - 3s 2ms/step - loss: 0.4804 - accuracy: 0.8622 - val_loss: 0.5230 - val_accuracy: 0.8608\n",
            "Epoch 37/40\n",
            "1875/1875 [==============================] - 3s 2ms/step - loss: 0.4795 - accuracy: 0.8622 - val_loss: 0.5181 - val_accuracy: 0.8545\n",
            "Epoch 38/40\n",
            "1875/1875 [==============================] - 3s 2ms/step - loss: 0.4786 - accuracy: 0.8622 - val_loss: 0.5258 - val_accuracy: 0.8577\n",
            "Epoch 39/40\n",
            "1875/1875 [==============================] - 3s 2ms/step - loss: 0.4777 - accuracy: 0.8623 - val_loss: 0.5149 - val_accuracy: 0.8599\n",
            "Epoch 40/40\n",
            "1875/1875 [==============================] - 4s 2ms/step - loss: 0.4771 - accuracy: 0.8633 - val_loss: 0.5157 - val_accuracy: 0.8592\n"
          ],
          "name": "stdout"
        }
      ]
    },
    {
      "cell_type": "code",
      "metadata": {
        "id": "7GVT7gtWbasm"
      },
      "source": [
        "# Let's draw the confusion matrix\n",
        "\n",
        "from sklearn.metrics import confusion_matrix"
      ],
      "execution_count": null,
      "outputs": []
    },
    {
      "cell_type": "code",
      "metadata": {
        "id": "yQwBS_uzcKeE"
      },
      "source": [
        "# Crete a Confusion matrix\n",
        "import itertools\n",
        "from sklearn.metrics import confusion_matrix\n",
        "\n",
        "def make_confusion_matrix(y_true, y_pred, classes=None, figsize=(10,10),text_size=15):\n",
        "\n",
        "  #Create the confusion matrix\n",
        "  cm=confusion_matrix(y_true,tf.round(y_pred))\n",
        "  cm_norm=cm.astype(\"float\")/cm.sum(axis=1)[:,np.newaxis] #normalize our confusion matrix\n",
        "  n_classes=cm.shape[0]\n",
        "\n",
        "  #Let's prettify it\n",
        "  fig, ax=plt.subplots(figsize=figsize)\n",
        "  #Create a matrix plot\n",
        "  cax=ax.matshow(cm,cmap=plt.cm.Reds)\n",
        "  fig.colorbar(cax)\n",
        "\n",
        "  # Set labels to be classes\n",
        "\n",
        "  if classes:\n",
        "    labels=classes\n",
        "  else:\n",
        "    labels=np.arange(cm.shape[0])\n",
        "\n",
        "  #label the axes\n",
        "  ax.set(title=\"confusion matrix\",\n",
        "        xlabel=\"Predicted label\",\n",
        "        ylabel=\"True label\",\n",
        "        xticks=np.arange(n_classes),\n",
        "        yticks=np.arange(n_classes),\n",
        "        xticklabels=labels,\n",
        "        yticklabels=labels)\n",
        "\n",
        "  #set x-axis label to the  buttom\n",
        "  ax.xaxis.set_label_position(\"bottom\")\n",
        "  ax.xaxis.tick_bottom()\n",
        "\n",
        "  #adjust the label size\n",
        "  ax.yaxis.label.set_size(text_size)\n",
        "  ax.xaxis.label.set_size(text_size)\n",
        "  ax.title.set_size(text_size)\n",
        "\n",
        "  # Set threshold for different color\n",
        "  threshold = (cm.max() + cm.min()) / 2.\n",
        "\n",
        "  #Plot the text on each cell\n",
        "  for i,j in itertools.product(range(cm.shape[0]),range(cm.shape[1])):\n",
        "    plt.text(j,i,f\"{cm[i,j]} ({cm_norm[i,j]*100:.1f}%)\",\n",
        "            horizontalalignment=\"center\",\n",
        "            color=\"white\" if cm[i,j]>threshold else \"black\",\n",
        "            size = text_size)\n"
      ],
      "execution_count": null,
      "outputs": []
    },
    {
      "cell_type": "code",
      "metadata": {
        "colab": {
          "base_uri": "https://localhost:8080/"
        },
        "id": "mwrU5kGWcdyB",
        "outputId": "e6c2697e-caf2-44f2-fe59-2c632c9569eb"
      },
      "source": [
        "class_names"
      ],
      "execution_count": null,
      "outputs": [
        {
          "output_type": "execute_result",
          "data": {
            "text/plain": [
              "['0', '1', '2', '3', '4', '5', '6', '7', '8', '9']"
            ]
          },
          "metadata": {
            "tags": []
          },
          "execution_count": 58
        }
      ]
    },
    {
      "cell_type": "code",
      "metadata": {
        "colab": {
          "base_uri": "https://localhost:8080/"
        },
        "id": "Tptt8vanecH6",
        "outputId": "ba8ea424-663b-47c8-f3d1-27ac8f68f65a"
      },
      "source": [
        "#Let's make some prediction with our model\n",
        "y_probs=model_4.predict(norm_test_data)\n",
        "y_probs[:5]"
      ],
      "execution_count": null,
      "outputs": [
        {
          "output_type": "execute_result",
          "data": {
            "text/plain": [
              "array([[5.9871390e-08, 1.1417653e-05, 1.6812494e-11, 2.3070452e-05,\n",
              "        1.3858075e-07, 8.8577258e-07, 3.4313396e-14, 9.9535513e-01,\n",
              "        2.4996389e-06, 4.6068509e-03],\n",
              "       [9.8337083e-10, 7.4943948e-08, 9.8273969e-01, 1.0375444e-04,\n",
              "        6.2479221e-13, 1.2394993e-04, 1.6749902e-02, 1.8878351e-26,\n",
              "        2.8269165e-04, 2.0121769e-13],\n",
              "       [6.2600034e-03, 8.6466146e-01, 8.8668220e-02, 1.4063592e-02,\n",
              "        9.7801225e-05, 9.7239349e-04, 2.3693789e-04, 6.1924588e-03,\n",
              "        9.0960553e-03, 9.7510843e-03],\n",
              "       [9.1036379e-01, 2.6576564e-04, 1.0228601e-03, 5.6978802e-06,\n",
              "        2.1298014e-05, 2.0807404e-03, 1.0392581e-02, 1.8951688e-08,\n",
              "        7.5051315e-02, 7.9596555e-04],\n",
              "       [9.1036875e-04, 1.5609628e-05, 3.0157997e-04, 5.8261900e-05,\n",
              "        9.5376313e-01, 3.0145948e-03, 5.8411560e-03, 7.2116440e-04,\n",
              "        1.4864594e-04, 3.5225462e-02]], dtype=float32)"
            ]
          },
          "metadata": {
            "tags": []
          },
          "execution_count": 60
        }
      ]
    },
    {
      "cell_type": "code",
      "metadata": {
        "colab": {
          "base_uri": "https://localhost:8080/"
        },
        "id": "2mGhC6Ggeohx",
        "outputId": "aaa64fc5-fea8-482f-e518-2c35b47381af"
      },
      "source": [
        "y_probs[0]"
      ],
      "execution_count": null,
      "outputs": [
        {
          "output_type": "execute_result",
          "data": {
            "text/plain": [
              "array([5.9871390e-08, 1.1417653e-05, 1.6812494e-11, 2.3070452e-05,\n",
              "       1.3858075e-07, 8.8577258e-07, 3.4313396e-14, 9.9535513e-01,\n",
              "       2.4996389e-06, 4.6068509e-03], dtype=float32)"
            ]
          },
          "metadata": {
            "tags": []
          },
          "execution_count": 61
        }
      ]
    },
    {
      "cell_type": "code",
      "metadata": {
        "colab": {
          "base_uri": "https://localhost:8080/"
        },
        "id": "FaOJhp25e0RI",
        "outputId": "cabb4f82-03b4-48db-dd20-c3809c270047"
      },
      "source": [
        "y_probs[0], tf.argmax(y_probs[0]), class_names[tf.argmax(y_probs[0])]"
      ],
      "execution_count": null,
      "outputs": [
        {
          "output_type": "execute_result",
          "data": {
            "text/plain": [
              "(array([5.9871390e-08, 1.1417653e-05, 1.6812494e-11, 2.3070452e-05,\n",
              "        1.3858075e-07, 8.8577258e-07, 3.4313396e-14, 9.9535513e-01,\n",
              "        2.4996389e-06, 4.6068509e-03], dtype=float32),\n",
              " <tf.Tensor: shape=(), dtype=int64, numpy=7>,\n",
              " '7')"
            ]
          },
          "metadata": {
            "tags": []
          },
          "execution_count": 62
        }
      ]
    },
    {
      "cell_type": "code",
      "metadata": {
        "colab": {
          "base_uri": "https://localhost:8080/"
        },
        "id": "fYIIY_EefHwi",
        "outputId": "00dc30de-c04a-493f-c253-397ee0b07c60"
      },
      "source": [
        "#Let's convert all the prediction probabilities into integer\n",
        "y_preds=y_probs.argmax(axis=1)\n",
        "\n",
        "y_preds[:10]"
      ],
      "execution_count": null,
      "outputs": [
        {
          "output_type": "execute_result",
          "data": {
            "text/plain": [
              "array([7, 2, 1, 0, 4, 1, 4, 9, 6, 7])"
            ]
          },
          "metadata": {
            "tags": []
          },
          "execution_count": 63
        }
      ]
    },
    {
      "cell_type": "code",
      "metadata": {
        "colab": {
          "base_uri": "https://localhost:8080/"
        },
        "id": "ZYhgkkjmfYt5",
        "outputId": "ac0b7fa4-95a4-45c9-a9e0-eb25d6d303f6"
      },
      "source": [
        "test_labels[:10]"
      ],
      "execution_count": null,
      "outputs": [
        {
          "output_type": "execute_result",
          "data": {
            "text/plain": [
              "array([7, 2, 1, 0, 4, 1, 4, 9, 5, 9], dtype=uint8)"
            ]
          },
          "metadata": {
            "tags": []
          },
          "execution_count": 65
        }
      ]
    },
    {
      "cell_type": "code",
      "metadata": {
        "colab": {
          "base_uri": "https://localhost:8080/"
        },
        "id": "eawDEsotfjJh",
        "outputId": "cc3fe59a-4f37-4d42-9c2f-ba938b5dce70"
      },
      "source": [
        "#let's draw the simple confusion matrix to visualize it\n",
        "confusion_matrix(y_preds,test_labels)"
      ],
      "execution_count": null,
      "outputs": [
        {
          "output_type": "execute_result",
          "data": {
            "text/plain": [
              "array([[ 892,    1,   12,    0,   13,   15,   20,    1,   76,   19],\n",
              "       [   4, 1079,   28,   12,    0,    1,    1,   28,   25,    4],\n",
              "       [   2,   20,  919,   39,    6,   10,   23,   15,   14,    1],\n",
              "       [   0,   10,   10,  847,    1,   60,    0,    8,   20,    8],\n",
              "       [  10,    1,   12,    3,  864,   23,   14,    9,    7,   46],\n",
              "       [   1,    2,    1,   42,    1,  625,    5,    0,   78,   10],\n",
              "       [  34,    1,   14,    4,   27,   12,  891,    0,   19,    3],\n",
              "       [   1,    3,    6,   12,    9,    1,    0,  904,    5,   45],\n",
              "       [  22,   16,   26,   39,    1,   92,    4,    0,  705,    7],\n",
              "       [  14,    2,    4,   12,   60,   53,    0,   63,   25,  866]])"
            ]
          },
          "metadata": {
            "tags": []
          },
          "execution_count": 66
        }
      ]
    },
    {
      "cell_type": "code",
      "metadata": {
        "colab": {
          "base_uri": "https://localhost:8080/",
          "height": 852
        },
        "id": "_lBDSpTNf41R",
        "outputId": "e5503dc2-12ba-4fd4-d2d7-b2de651fc069"
      },
      "source": [
        "# Lets make it more prettier\n",
        "import numpy as np\n",
        "make_confusion_matrix(y_true=test_labels,\n",
        "                      y_pred=y_preds,\n",
        "                      classes=class_names,\n",
        "                      figsize=(15,15),\n",
        "                      text_size=10)"
      ],
      "execution_count": null,
      "outputs": [
        {
          "output_type": "display_data",
          "data": {
            "image/png": "[encoded data removed]",
            "text/plain": [
              "<Figure size 1080x1080 with 2 Axes>"
            ]
          },
          "metadata": {
            "tags": [],
            "needs_background": "light"
          }
        }
      ]
    },
    {
      "cell_type": "code",
      "metadata": {
        "id": "CYFarbEsgQih"
      },
      "source": [
        "# Lets try to plot the random image with predictions\n",
        "\n",
        "import random\n",
        "\n",
        "def plot_random_image(model, images, true_labels, classes):\n",
        "  \"\"\" pick a random image, plot it and labels it with a predicted and truth label.\n",
        "\n",
        "  Args:\n",
        "    model: a trained model (trained on data similar to what's in images).\n",
        "    images: a set of random images ( in tensor form)\n",
        "    true_labels: array of ground truth labels for images.\n",
        "    classes: array of class names for images\n",
        "  \n",
        "  Returns:\n",
        "  A plot pf a random image from `images` with a predicted class label from ` model`\n",
        "  as well as the truth class label from `true_labels`.\n",
        "  \"\"\" \n",
        "\n",
        "  # Setup random integers\n",
        "  i= random.randint(0,len(images))\n",
        "\n",
        "  #Create prediction and targets\n",
        "  target_image=images[i]\n",
        "  pred_probs=model.predict(target_image.reshape(1,28,28)) # have to reshape to get into right size for model\n",
        "  pred_label=classes[pred_probs.argmax()]\n",
        "  true_label=classes[true_labels[i]]\n",
        "\n",
        "  #Plot the target image\n",
        "  plt.imshow(target_image,cmap=plt.cm.binary)\n",
        "\n",
        "  #Change the color of the titles depending upon the prediction is right or wrong\n",
        "  if pred_label==true_label:\n",
        "    color=\"green\"\n",
        "  else:\n",
        "    color= \"red\"\n",
        "  \n",
        "  # Add xlabel information (prediction/ true label)\n",
        "\n",
        "  plt.xlabel(\"Pred:{} {:2.0f}% (True:{})\".format(pred_label,\n",
        "                                                 100*tf.reduce_max(pred_probs),\n",
        "                                                 true_label),\n",
        "             color=color) # set the color to red or green"
      ],
      "execution_count": null,
      "outputs": []
    },
    {
      "cell_type": "code",
      "metadata": {
        "colab": {
          "base_uri": "https://localhost:8080/",
          "height": 279
        },
        "id": "Oh8-ztRgkJYl",
        "outputId": "1bc2313e-2fdb-471d-b05b-58b7f1110ab9"
      },
      "source": [
        "#Check out the random image as well as its prediction\n",
        "plot_random_image(model=model_4,\n",
        "                  images=test_data,\n",
        "                  true_labels=test_labels,\n",
        "                  classes=class_names)"
      ],
      "execution_count": null,
      "outputs": [
        {
          "output_type": "display_data",
          "data": {
            "image/png": "[encoded data removed]",
            "text/plain": [
              "<Figure size 432x288 with 1 Axes>"
            ]
          },
          "metadata": {
            "tags": [],
            "needs_background": "light"
          }
        }
      ]
    },
    {
      "cell_type": "markdown",
      "metadata": {
        "id": "wt9Hi3adkbs7"
      },
      "source": [
        ""
      ]
    }
  ]
}